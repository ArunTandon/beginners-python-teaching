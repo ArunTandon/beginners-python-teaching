{
 "cells": [
  {
   "cell_type": "markdown",
   "metadata": {},
   "source": [
    "<a href=\"https://colab.research.google.com/github/warwickdatascience/beginners-python/blob/master/session_seven/session_seven_solutions.ipynb\" target=\"_parent\"><img src=\"https://colab.research.google.com/assets/colab-badge.svg\" alt=\"Open In Colab\"/></a>"
   ]
  },
  {
   "cell_type": "markdown",
   "metadata": {},
   "source": [
    "<center>Spotted a mistake? Report it <a href=\"https://github.com/warwickdatascience/beginners-python/issues/new\">here</a></center>"
   ]
  },
  {
   "cell_type": "markdown",
   "metadata": {},
   "source": [
    "# Beginner's Python—Session Seven Homework Solutions"
   ]
  },
  {
   "cell_type": "markdown",
   "metadata": {},
   "source": [
    "_As we are moving deeper into the world of Python, the tasks we can complete with our skills can become more and more complicated. For that reason, there are fewer exercises to complete this week but of a slightly harder standard. Don't be put off; these are meant to challenge you._"
   ]
  },
  {
   "cell_type": "markdown",
   "metadata": {},
   "source": [
    "## Dictionaries"
   ]
  },
  {
   "cell_type": "markdown",
   "metadata": {},
   "source": [
    "Create a dictionary with two keys, `x` and `y` the value of each being a numeric list of length 5. Notice, that this is essentially a dataframe/table with two variables."
   ]
  },
  {
   "cell_type": "code",
   "execution_count": 2,
   "metadata": {},
   "outputs": [],
   "source": [
    "dataframe = {\n",
    "    'x': [1, 3, 5],\n",
    "    'y': [2, 5, 4]\n",
    "}"
   ]
  },
  {
   "cell_type": "markdown",
   "metadata": {},
   "source": [
    "Ask the user for their name, age, and whether they own a dog. Assign the responses to variables `name`, `age`, and `has_dog`. Remember to convert the inputted age to an integer. The response for the last question should be either `yes` or `no` which should then be converted to `True` or `False` respectively. You can use the example from near the end of the session three presentation as a basis for this."
   ]
  },
  {
   "cell_type": "code",
   "execution_count": 5,
   "metadata": {},
   "outputs": [
    {
     "name": "stdout",
     "output_type": "stream",
     "text": [
      "What is your name? Tim\n",
      "What is your age? 21\n",
      "Do you have a dog? no\n"
     ]
    }
   ],
   "source": [
    "name = input(\"What is your name? \")\n",
    "age = int(input(\"What is your age? \"))\n",
    "has_dog = ''\n",
    "while not has_dog in ('yes', 'no'):\n",
    "    has_dog = input(\"Do you have a dog? \")\n",
    "has_dog = has_dog == 'yes'"
   ]
  },
  {
   "cell_type": "markdown",
   "metadata": {},
   "source": [
    "Create a dictionary containing the users information using the three variables defined above. Print out these values in a meaningful sentence using this dictionary."
   ]
  },
  {
   "cell_type": "code",
   "execution_count": 8,
   "metadata": {},
   "outputs": [
    {
     "name": "stdout",
     "output_type": "stream",
     "text": [
      "Hi, I'm Tim. I am 21 and I do not have a dog.\n"
     ]
    }
   ],
   "source": [
    "user = {\n",
    "    'name': name,\n",
    "    'age': age,\n",
    "    'has_dog': has_dog\n",
    "}\n",
    "\n",
    "if user['has_dog']:\n",
    "    dog_text = \"do\"\n",
    "else:\n",
    "    dog_text = \"do not\"\n",
    "print(\"Hi, I'm\", user['name'] + \".\",\n",
    "      \"I am\", user['age'], \"and I\",\n",
    "      dog_text, \"have a dog.\")"
   ]
  },
  {
   "cell_type": "markdown",
   "metadata": {},
   "source": [
    "Dictionary keys are not limited to strings although there are limits. Try to create dictionaries with keys of type integer, float, Boolean, list, tuple, and dictionary, respectively. Which are allowed and what error do you recieve when a key's type is invalid?"
   ]
  },
  {
   "cell_type": "code",
   "execution_count": 9,
   "metadata": {},
   "outputs": [],
   "source": [
    "int_dict = {1: 1}"
   ]
  },
  {
   "cell_type": "code",
   "execution_count": 10,
   "metadata": {},
   "outputs": [],
   "source": [
    "float_dict = {1.0: 1}"
   ]
  },
  {
   "cell_type": "code",
   "execution_count": 11,
   "metadata": {},
   "outputs": [],
   "source": [
    "bool_dict = {True: 1}"
   ]
  },
  {
   "cell_type": "code",
   "execution_count": 12,
   "metadata": {},
   "outputs": [],
   "source": [
    "tuple_dict = {(1, 1): 1}"
   ]
  },
  {
   "cell_type": "code",
   "execution_count": 13,
   "metadata": {},
   "outputs": [
    {
     "ename": "TypeError",
     "evalue": "unhashable type: 'list'",
     "output_type": "error",
     "traceback": [
      "\u001b[1;31m---------------------------------------------------------------------------\u001b[0m",
      "\u001b[1;31mTypeError\u001b[0m                                 Traceback (most recent call last)",
      "\u001b[1;32m<ipython-input-13-f578658d29f0>\u001b[0m in \u001b[0;36m<module>\u001b[1;34m\u001b[0m\n\u001b[1;32m----> 1\u001b[1;33m \u001b[0mlist_dict\u001b[0m \u001b[1;33m=\u001b[0m \u001b[1;33m{\u001b[0m\u001b[1;33m[\u001b[0m\u001b[1;36m1\u001b[0m\u001b[1;33m,\u001b[0m \u001b[1;36m1\u001b[0m\u001b[1;33m]\u001b[0m\u001b[1;33m:\u001b[0m \u001b[1;36m1\u001b[0m\u001b[1;33m}\u001b[0m\u001b[1;33m\u001b[0m\u001b[1;33m\u001b[0m\u001b[0m\n\u001b[0m",
      "\u001b[1;31mTypeError\u001b[0m: unhashable type: 'list'"
     ]
    }
   ],
   "source": [
    "list_dict = {[1, 1]: 1}"
   ]
  },
  {
   "cell_type": "code",
   "execution_count": 14,
   "metadata": {},
   "outputs": [
    {
     "ename": "TypeError",
     "evalue": "unhashable type: 'dict'",
     "output_type": "error",
     "traceback": [
      "\u001b[1;31m---------------------------------------------------------------------------\u001b[0m",
      "\u001b[1;31mTypeError\u001b[0m                                 Traceback (most recent call last)",
      "\u001b[1;32m<ipython-input-14-ea5605405f74>\u001b[0m in \u001b[0;36m<module>\u001b[1;34m\u001b[0m\n\u001b[1;32m----> 1\u001b[1;33m \u001b[0mdict_dict\u001b[0m \u001b[1;33m=\u001b[0m \u001b[1;33m{\u001b[0m\u001b[1;33m{\u001b[0m\u001b[1;36m1\u001b[0m\u001b[1;33m:\u001b[0m \u001b[1;36m1\u001b[0m\u001b[1;33m}\u001b[0m\u001b[1;33m:\u001b[0m \u001b[1;36m1\u001b[0m\u001b[1;33m}\u001b[0m\u001b[1;33m\u001b[0m\u001b[1;33m\u001b[0m\u001b[0m\n\u001b[0m",
      "\u001b[1;31mTypeError\u001b[0m: unhashable type: 'dict'"
     ]
    }
   ],
   "source": [
    "dict_dict = {{1: 1}: 1}"
   ]
  },
  {
   "cell_type": "markdown",
   "metadata": {},
   "source": [
    "Integers, floats, Booleans, and tuples are allowed as keys but lists and dictionaries are not. This is because they are not _hashable_ objects and so we get an error reporting this. The fact that lists/dictionaries are not hashable comes down to the fact that their contents can change."
   ]
  },
  {
   "cell_type": "markdown",
   "metadata": {},
   "source": [
    "Dictionaries are also advantagous over lists when storing _sparse_ data (data with lots of missing or default values).\n",
    "\n",
    "Suppose there is a race with one thousand participants. We know that the first place was awarded to 'Ann' and last place to 'Bob'. Create an 1000 element list (by starting from an empty list and appending) to store this information using the string 'Unknown' for any race position for which we don't know the winner."
   ]
  },
  {
   "cell_type": "code",
   "execution_count": 15,
   "metadata": {},
   "outputs": [],
   "source": [
    "place_names = []\n",
    "for i in range(1000):\n",
    "    if i == 0:\n",
    "        place_names.append('Ann')\n",
    "    elif i == 999:\n",
    "        place_names.append('Bob')\n",
    "    else:\n",
    "        place_names.append('Unknown')"
   ]
  },
  {
   "cell_type": "markdown",
   "metadata": {},
   "source": [
    "Store this information in a two item dictionary and create a function `get_name(i)` to access the name of the person in the ith place. Remember, you can use `in` to check for the existance of a key in a dictionary."
   ]
  },
  {
   "cell_type": "code",
   "execution_count": 18,
   "metadata": {},
   "outputs": [
    {
     "name": "stdout",
     "output_type": "stream",
     "text": [
      "Ann\n",
      "Unknown\n"
     ]
    }
   ],
   "source": [
    "place_dict = {1: 'Ann', 1000: 'Bob'}\n",
    "\n",
    "def get_name(i):\n",
    "    if i in place_dict:\n",
    "        return place_dict[i]\n",
    "    else:\n",
    "        return 'Unknown'\n",
    "    \n",
    "print(get_name(1))\n",
    "print(get_name(2))"
   ]
  },
  {
   "cell_type": "markdown",
   "metadata": {},
   "source": [
    "Consider the amount of storage required for each solution—there should be a clear winner!"
   ]
  },
  {
   "cell_type": "markdown",
   "metadata": {},
   "source": [
    "## Manipulating Dictionaries"
   ]
  },
  {
   "cell_type": "markdown",
   "metadata": {},
   "source": [
    "The following code creates a list of the letters of the English alphabet (called `letters`)"
   ]
  },
  {
   "cell_type": "code",
   "execution_count": 21,
   "metadata": {},
   "outputs": [],
   "source": [
    "from string import ascii_uppercase\n",
    "letters = list(ascii_uppercase)"
   ]
  },
  {
   "cell_type": "markdown",
   "metadata": {},
   "source": [
    "Create an empty dictionary called `encode` and loop through the list using enumeration to add key-value pairs to the dictionary mapping each letter to its position in the alphabet (`A -> 1, B -> 2, ..., Z -> 26`)"
   ]
  },
  {
   "cell_type": "code",
   "execution_count": 24,
   "metadata": {},
   "outputs": [],
   "source": [
    "encode = {}\n",
    "for i, l in enumerate(letters):\n",
    "    encode[l] = i + 1"
   ]
  },
  {
   "cell_type": "markdown",
   "metadata": {},
   "source": [
    "Loop through the list of letters (without enumeration this time) to decrease the value of each key by one so that the new mapping is (`A -> 0, ..., Z -> 25`)"
   ]
  },
  {
   "cell_type": "code",
   "execution_count": 25,
   "metadata": {},
   "outputs": [],
   "source": [
    "for l in letters:\n",
    "    encode[l] = encode[l] - 1"
   ]
  },
  {
   "cell_type": "markdown",
   "metadata": {},
   "source": [
    "Given an uppercase string, loop through its letters and use this dictionary to encode the text into a numeric list. For example the word 'BAG' would be encoded as `[1, 0, 6]`."
   ]
  },
  {
   "cell_type": "code",
   "execution_count": 27,
   "metadata": {},
   "outputs": [
    {
     "name": "stdout",
     "output_type": "stream",
     "text": [
      "[18, 15, 0, 12]\n"
     ]
    }
   ],
   "source": [
    "text = 'SPAM'\n",
    "encoded = []\n",
    "for l in text:\n",
    "    encoded.append(encode[l])\n",
    "print(encoded)"
   ]
  },
  {
   "cell_type": "markdown",
   "metadata": {},
   "source": [
    "Create a function that when given a dictionary and a key will delete the item associated with that key only if the key exists"
   ]
  },
  {
   "cell_type": "code",
   "execution_count": 29,
   "metadata": {},
   "outputs": [
    {
     "name": "stdout",
     "output_type": "stream",
     "text": [
      "{'B': 2}\n"
     ]
    }
   ],
   "source": [
    "test_dict = {'A': 1, 'B': 2}\n",
    "\n",
    "def del_if_exists(dictionary, key):\n",
    "    if key in dictionary:\n",
    "        del dictionary[key]\n",
    "        \n",
    "del_if_exists(test_dict, 'A')\n",
    "del_if_exists(test_dict, 'C')\n",
    "print(test_dict)"
   ]
  },
  {
   "cell_type": "markdown",
   "metadata": {},
   "source": [
    "## Looping Through Dictionaries"
   ]
  },
  {
   "cell_type": "markdown",
   "metadata": {},
   "source": [
    "As promised, we will look at removing a key by value. We can do this by looping through the items of a dictionary and deleting a corresponding key if the value matches. There is a nuance however: we aren't allowed to use `.keys()`, `.values()` or `.items()` when the size of the dictionary is changing within the loop. The work around this is to convert the dictionary items to a list using `for key, value in list(dictionary.items())`. Use this to remove all instances with the value `Homer` in the following dictionary"
   ]
  },
  {
   "cell_type": "code",
   "execution_count": 39,
   "metadata": {},
   "outputs": [],
   "source": [
    "father = {\n",
    "    'Bart': 'Homer',\n",
    "    'Homer': 'Abe',\n",
    "    'Lisa': 'Homer'\n",
    "}"
   ]
  },
  {
   "cell_type": "code",
   "execution_count": 40,
   "metadata": {},
   "outputs": [
    {
     "name": "stdout",
     "output_type": "stream",
     "text": [
      "{'Homer': 'Abe'}\n"
     ]
    }
   ],
   "source": [
    "for key, value in list(father.items()):\n",
    "    if value == 'Homer':\n",
    "        del father[key]\n",
    "print(father)"
   ]
  },
  {
   "cell_type": "markdown",
   "metadata": {},
   "source": [
    "How could modify the above code to only delete the first matching instance, as is the case with `.delete()` for lists?"
   ]
  },
  {
   "cell_type": "markdown",
   "metadata": {},
   "source": [
    "We could add a `break` after the `del` statement."
   ]
  },
  {
   "cell_type": "markdown",
   "metadata": {},
   "source": [
    "Create an empty dictionary called `decode`. Take the letter mapping dictionary from above and loop through its items and using them to fill `decode` with keys and values reversed"
   ]
  },
  {
   "cell_type": "code",
   "execution_count": 41,
   "metadata": {},
   "outputs": [],
   "source": [
    "decode = {}\n",
    "for letter, number in encode.items():\n",
    "    decode[number] = letter"
   ]
  },
  {
   "cell_type": "markdown",
   "metadata": {},
   "source": [
    "Take the encoded string from above and decode it by looping through the list and using this dictionary. You will want to use `''.join(list_of_characters)` to combine the decoded letters back into one string. This is the key step in a large amount of machine learning with text data and cryptography"
   ]
  },
  {
   "cell_type": "code",
   "execution_count": 42,
   "metadata": {},
   "outputs": [
    {
     "name": "stdout",
     "output_type": "stream",
     "text": [
      "SPAM\n"
     ]
    }
   ],
   "source": [
    "decoded = []\n",
    "for number in encoded:\n",
    "    decoded.append(decode[number])\n",
    "decoded = ''.join(decoded)\n",
    "print(decoded)"
   ]
  }
 ],
 "metadata": {
  "kernelspec": {
   "display_name": "Python 3",
   "language": "python",
   "name": "python3"
  },
  "language_info": {
   "codemirror_mode": {
    "name": "ipython",
    "version": 3
   },
   "file_extension": ".py",
   "mimetype": "text/x-python",
   "name": "python",
   "nbconvert_exporter": "python",
   "pygments_lexer": "ipython3",
   "version": "3.7.3"
  }
 },
 "nbformat": 4,
 "nbformat_minor": 2
}
