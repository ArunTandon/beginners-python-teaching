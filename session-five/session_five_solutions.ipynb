{
 "cells": [
  {
   "cell_type": "markdown",
   "metadata": {},
   "source": [
    "<a href=\"https://colab.research.google.com/github/warwickdatascience/beginners-python/blob/master/session_five/session_five_solutions.ipynb\" target=\"_parent\"><img src=\"https://colab.research.google.com/assets/colab-badge.svg\" alt=\"Open In Colab\"/></a>"
   ]
  },
  {
   "cell_type": "markdown",
   "metadata": {},
   "source": [
    "<center>Spotted a mistake? Report it <a href=\"https://github.com/warwickdatascience/beginners-python/issues/new\">here</a></center>"
   ]
  },
  {
   "cell_type": "markdown",
   "metadata": {},
   "source": [
    "# Beginner's Python—Session Five Homework Solutions"
   ]
  },
  {
   "cell_type": "markdown",
   "metadata": {},
   "source": [
    "## Looping Through a Range"
   ]
  },
  {
   "cell_type": "markdown",
   "metadata": {},
   "source": [
    "Use a for loop to print the first 10 multiples of 12 (Note: you only need to use the two argument version we covered in the standard material)"
   ]
  },
  {
   "cell_type": "code",
   "execution_count": 2,
   "metadata": {},
   "outputs": [
    {
     "name": "stdout",
     "output_type": "stream",
     "text": [
      "12\n",
      "24\n",
      "36\n",
      "48\n",
      "60\n",
      "72\n",
      "84\n",
      "96\n",
      "108\n",
      "120\n"
     ]
    }
   ],
   "source": [
    "for i in range(1, 11):\n",
    "    print(i * 12)"
   ]
  },
  {
   "cell_type": "markdown",
   "metadata": {},
   "source": [
    "Convert the following while loop into a for loop"
   ]
  },
  {
   "cell_type": "code",
   "execution_count": 1,
   "metadata": {},
   "outputs": [
    {
     "name": "stdout",
     "output_type": "stream",
     "text": [
      "5\n",
      "6\n",
      "7\n",
      "8\n",
      "9\n"
     ]
    }
   ],
   "source": [
    "i = 5\n",
    "while i < 10:\n",
    "    print(i)\n",
    "    i += 1"
   ]
  },
  {
   "cell_type": "code",
   "execution_count": 3,
   "metadata": {},
   "outputs": [
    {
     "name": "stdout",
     "output_type": "stream",
     "text": [
      "5\n",
      "6\n",
      "7\n",
      "8\n",
      "9\n"
     ]
    }
   ],
   "source": [
    "for i in range(5, 10):\n",
    "    print(i)"
   ]
  },
  {
   "cell_type": "markdown",
   "metadata": {},
   "source": [
    "Loop through the first 100 integers, printing each number if and only if they are a multiple of 13 (remember use `%` for calculating a remainder—a number is divisable by $n$ whenever the remainder when dividing by $n$ is zero)"
   ]
  },
  {
   "cell_type": "code",
   "execution_count": 4,
   "metadata": {},
   "outputs": [
    {
     "name": "stdout",
     "output_type": "stream",
     "text": [
      "13\n",
      "26\n",
      "39\n",
      "52\n",
      "65\n",
      "78\n",
      "91\n"
     ]
    }
   ],
   "source": [
    "for n in range(1, 101):\n",
    "    if n % 13 == 0:\n",
    "        print(n)"
   ]
  },
  {
   "cell_type": "markdown",
   "metadata": {},
   "source": [
    "What happens when you reverse the order of the two parameters in range so that the largest comes first?"
   ]
  },
  {
   "cell_type": "code",
   "execution_count": 5,
   "metadata": {},
   "outputs": [],
   "source": [
    "for n in range(4, 2):\n",
    "    print(\"Anyone there?\")"
   ]
  },
  {
   "cell_type": "markdown",
   "metadata": {},
   "source": [
    "Nothing. The loop never even starts, though no error is thrown"
   ]
  },
  {
   "cell_type": "markdown",
   "metadata": {},
   "source": [
    "How many numbers less than 1000 are multiples of one of 3 or 5? Use a for loop along with a variable `count`, initially set to zero, to find out"
   ]
  },
  {
   "cell_type": "code",
   "execution_count": 7,
   "metadata": {},
   "outputs": [
    {
     "name": "stdout",
     "output_type": "stream",
     "text": [
      "466\n"
     ]
    }
   ],
   "source": [
    "count = 0\n",
    "for i in range(1, 1000):\n",
    "    if i % 3 == 0 or i % 5 == 0:\n",
    "        count += 1\n",
    "print(count)"
   ]
  },
  {
   "cell_type": "markdown",
   "metadata": {},
   "source": [
    "Ask the user for an integer greater than one (remember to convert this to an integer). Print whether or not it is prime using the following (admittedly inefficient) approach:\n",
    "* Create a variable `prime`, initial set to `True`\n",
    "* Loop through the numbers 2 to one less than the user's input\n",
    "* For each number, check if this divides the user's input. If so, set `prime` to `False`\n",
    "* After the loop, print whether the number is prime or not using an if statement"
   ]
  },
  {
   "cell_type": "code",
   "execution_count": 10,
   "metadata": {},
   "outputs": [
    {
     "name": "stdout",
     "output_type": "stream",
     "text": [
      "Choose a number: 53\n",
      "53 is prime\n"
     ]
    }
   ],
   "source": [
    "number = int(input(\"Choose a number: \"))\n",
    "prime = True\n",
    "for divisor in range(2, number - 1):\n",
    "    if number % divisor == 0:\n",
    "        prime = False\n",
    "if prime:\n",
    "    print(number, \"is prime\")\n",
    "else:\n",
    "    print(number, \"is not prime\")"
   ]
  },
  {
   "cell_type": "markdown",
   "metadata": {},
   "source": [
    "## Looping Through a List"
   ]
  },
  {
   "cell_type": "markdown",
   "metadata": {},
   "source": [
    "Create a list of words and loop through it. If a word is less than 6 letters, print '{word} is a short word' otherwise print '{word} is a long word', replacing '{word}' with the corresponding word"
   ]
  },
  {
   "cell_type": "code",
   "execution_count": 12,
   "metadata": {},
   "outputs": [
    {
     "name": "stdout",
     "output_type": "stream",
     "text": [
      "Apple is a short word\n",
      "Oleaginous is a long word\n",
      "Dog is a short word\n",
      "Rodomontade is a long word\n"
     ]
    }
   ],
   "source": [
    "words = ['Apple', 'Oleaginous', 'Dog', 'Rodomontade']\n",
    "for w in words:\n",
    "    if len(w) < 6:\n",
    "        print(w, \"is a short word\")\n",
    "    else:\n",
    "        print(w, \"is a long word\")"
   ]
  },
  {
   "cell_type": "markdown",
   "metadata": {},
   "source": [
    "Loop through the following list, only printing animals that begin with the letter 'a' (remember you can access the letters of a string in the same way that you'd access the elements of a list)"
   ]
  },
  {
   "cell_type": "code",
   "execution_count": 14,
   "metadata": {},
   "outputs": [],
   "source": [
    "animals = ['anteater', 'bear', 'armadillo', \n",
    "           'cougar', 'aardvark', 'dear']"
   ]
  },
  {
   "cell_type": "code",
   "execution_count": 15,
   "metadata": {},
   "outputs": [
    {
     "name": "stdout",
     "output_type": "stream",
     "text": [
      "anteater\n",
      "armadillo\n",
      "aardvark\n"
     ]
    }
   ],
   "source": [
    "for a in animals:\n",
    "    if a[0] == 'a':\n",
    "        print(a)"
   ]
  },
  {
   "cell_type": "markdown",
   "metadata": {},
   "source": [
    "Create a list of numbers. Use a for list to create a new list which only contains the even numbers of the original (hint: you can use `.append()`)"
   ]
  },
  {
   "cell_type": "code",
   "execution_count": 17,
   "metadata": {},
   "outputs": [
    {
     "data": {
      "text/plain": [
       "[6, 4, 6]"
      ]
     },
     "execution_count": 17,
     "metadata": {},
     "output_type": "execute_result"
    }
   ],
   "source": [
    "numbers = [7, 6, 4, 9, 5, 7, 6]\n",
    "even_numbers = []\n",
    "for n in numbers:\n",
    "    if n % 2 == 0:\n",
    "        even_numbers.append(n)\n",
    "even_numbers"
   ]
  },
  {
   "cell_type": "markdown",
   "metadata": {},
   "source": [
    "Without using `max()`, calculate the maximum number in a list. You can do this by using a variable `current_max` (initially set to the first value in the list) to keep track of the current largest value, updating whenever a larger value is found."
   ]
  },
  {
   "cell_type": "code",
   "execution_count": 18,
   "metadata": {},
   "outputs": [
    {
     "name": "stdout",
     "output_type": "stream",
     "text": [
      "9\n"
     ]
    }
   ],
   "source": [
    "current_max = numbers[0]\n",
    "for n in numbers:\n",
    "    if n > current_max:\n",
    "        current_max = n\n",
    "print(current_max)"
   ]
  },
  {
   "cell_type": "markdown",
   "metadata": {},
   "source": [
    "## Early-stopping"
   ]
  },
  {
   "cell_type": "markdown",
   "metadata": {},
   "source": [
    "Loop through and print the numbers 3 to 7, skipping the number 4 using a `continue` statement"
   ]
  },
  {
   "cell_type": "code",
   "execution_count": 20,
   "metadata": {},
   "outputs": [
    {
     "name": "stdout",
     "output_type": "stream",
     "text": [
      "3\n",
      "5\n",
      "6\n",
      "7\n"
     ]
    }
   ],
   "source": [
    "for i in range(3, 8):\n",
    "    if i == 4:\n",
    "        continue\n",
    "    print(i)"
   ]
  },
  {
   "cell_type": "markdown",
   "metadata": {},
   "source": [
    "Loop through the following list, converting each value to an integer and appending it to a new list called `int_list`. Before converting, test if the value is numeric using `value.isnumeric()`. If this is not true, print an error message and break. Check the value of `int_list` after to ensure that is was only converted up to the point of the error."
   ]
  },
  {
   "cell_type": "code",
   "execution_count": 23,
   "metadata": {},
   "outputs": [],
   "source": [
    "str_list = ['3', '6', '4', 'five', '2']"
   ]
  },
  {
   "cell_type": "code",
   "execution_count": 26,
   "metadata": {},
   "outputs": [
    {
     "name": "stdout",
     "output_type": "stream",
     "text": [
      "List elements must be numeric!\n",
      "[3, 6, 4]\n"
     ]
    }
   ],
   "source": [
    "int_list = []\n",
    "for s in str_list:\n",
    "    if not s.isnumeric():\n",
    "        print(\"List elements must be numeric!\")\n",
    "        break\n",
    "    int_list.append(int(s))\n",
    "print(int_list)"
   ]
  },
  {
   "cell_type": "markdown",
   "metadata": {},
   "source": [
    "Take the primality test we wrote earlier and make it more efficient by breaking whenever a divisor is found"
   ]
  },
  {
   "cell_type": "code",
   "execution_count": null,
   "metadata": {},
   "outputs": [],
   "source": []
  },
  {
   "cell_type": "markdown",
   "metadata": {},
   "source": [
    "Replace the condition in the while loop with `True` and instead use a `break` statement inside of an if statement to end the loop"
   ]
  },
  {
   "cell_type": "code",
   "execution_count": 1,
   "metadata": {},
   "outputs": [
    {
     "name": "stdout",
     "output_type": "stream",
     "text": [
      "4\n",
      "5\n",
      "6\n",
      "7\n",
      "8\n"
     ]
    }
   ],
   "source": [
    "i = 4\n",
    "while True:\n",
    "    print(i)\n",
    "    i += 1\n",
    "    if i > 8:\n",
    "        break"
   ]
  },
  {
   "cell_type": "code",
   "execution_count": 27,
   "metadata": {},
   "outputs": [
    {
     "name": "stdout",
     "output_type": "stream",
     "text": [
      "Choose a number: 53\n",
      "53 is prime\n"
     ]
    }
   ],
   "source": [
    "number = int(input(\"Choose a number: \"))\n",
    "prime = True\n",
    "for divisor in range(2, number - 1):\n",
    "    if number % divisor == 0:\n",
    "        prime = False\n",
    "        break\n",
    "if prime:\n",
    "    print(number, \"is prime\")\n",
    "else:\n",
    "    print(number, \"is not prime\")"
   ]
  },
  {
   "cell_type": "markdown",
   "metadata": {},
   "source": [
    "Note: you may be wondering how much faster this solution will be. A bit of number theory drugery shows that on average it will be $2\\log n$ times faster where $n$ is the inputted number. This is still a painfully slow solution though. Google 'Miller-Rabin' to see a faster solution"
   ]
  },
  {
   "cell_type": "markdown",
   "metadata": {},
   "source": [
    "## Enumeration"
   ]
  },
  {
   "cell_type": "markdown",
   "metadata": {},
   "source": [
    "Create a list of positive and negative numbers. Loop through the list using enumeration and replace and negative numbers with zero. (Hint: use something similar to `numbers[index] = 0`)"
   ]
  },
  {
   "cell_type": "code",
   "execution_count": 28,
   "metadata": {},
   "outputs": [
    {
     "name": "stdout",
     "output_type": "stream",
     "text": [
      "[3, 0, 2, 0, 0, 5]\n"
     ]
    }
   ],
   "source": [
    "numbers = [3, -4, 2, -5, -7, 5]\n",
    "for i, n in enumerate(numbers):\n",
    "    if n < 0:\n",
    "        numbers[i] = 0\n",
    "print(numbers)"
   ]
  },
  {
   "cell_type": "markdown",
   "metadata": {},
   "source": [
    "Create a list of numbers an print out the square of every second number"
   ]
  },
  {
   "cell_type": "code",
   "execution_count": 30,
   "metadata": {},
   "outputs": [
    {
     "name": "stdout",
     "output_type": "stream",
     "text": [
      "49\n",
      "25\n",
      "36\n"
     ]
    }
   ],
   "source": [
    "numbers = [3, 7, 9, 5, 4, 6]\n",
    "for i, n in enumerate(numbers):\n",
    "    if i % 2 == 1:\n",
    "        print(n ** 2)"
   ]
  },
  {
   "cell_type": "markdown",
   "metadata": {},
   "source": [
    "Enumerate allows for a second optional argument. What does this do? Read the docs:\n",
    "https://book.pythontips.com/en/latest/enumerate.html"
   ]
  },
  {
   "cell_type": "markdown",
   "metadata": {},
   "source": [
    "It specifies where to start the index from"
   ]
  },
  {
   "cell_type": "markdown",
   "metadata": {},
   "source": [
    "Use this second argument to rewrite the last example in the session five presentation, without using `index + 1`"
   ]
  },
  {
   "cell_type": "code",
   "execution_count": 32,
   "metadata": {},
   "outputs": [
    {
     "name": "stdout",
     "output_type": "stream",
     "text": [
      "Today's schedule\n",
      "1) meeting\n",
      "2) one-to-one\n",
      "3) lunch\n",
      "4) research\n"
     ]
    }
   ],
   "source": [
    "agendum = ['meeting', 'one-to-one', 'lunch', 'research']\n",
    "print(\"Today's schedule\")\n",
    "for index, item in enumerate(agendum, 1):\n",
    "    print(str(index) + ')', item)"
   ]
  },
  {
   "cell_type": "markdown",
   "metadata": {},
   "source": [
    "The alternating sum of the list `[a, b, c, d, ...]` is `a - b + c - d + ...`. Create a list of numbers and find its alternating sum. You will need to use a variable (say, `running_alt_sum`) to keep track of the alterating sum as you loop through the list. (Hint: `(-1) ** i` is `1` if i is even, and `-1` if i is odd—alternatively, you can use an if statement looking at whether `i` is odd)"
   ]
  },
  {
   "cell_type": "code",
   "execution_count": 34,
   "metadata": {},
   "outputs": [
    {
     "name": "stdout",
     "output_type": "stream",
     "text": [
      "4\n"
     ]
    }
   ],
   "source": [
    "running_alt_sum = 0\n",
    "numbers = [5, 8, 6, 9, 5, 4, 9]\n",
    "for i, n in enumerate(numbers):\n",
    "    running_alt_sum += (-1) ** i * n\n",
    "print(running_alt_sum)"
   ]
  },
  {
   "cell_type": "code",
   "execution_count": 35,
   "metadata": {},
   "outputs": [
    {
     "name": "stdout",
     "output_type": "stream",
     "text": [
      "4\n"
     ]
    }
   ],
   "source": [
    "# Alternative approach\n",
    "running_alt_sum = 0\n",
    "numbers = [5, 8, 6, 9, 5, 4, 9]\n",
    "for i, n in enumerate(numbers):\n",
    "    if i % 2 == 0:\n",
    "        running_alt_sum += n\n",
    "    else:\n",
    "        running_alt_sum -= n\n",
    "print(running_alt_sum)"
   ]
  }
 ],
 "metadata": {
  "kernelspec": {
   "display_name": "Python 3",
   "language": "python",
   "name": "python3"
  },
  "language_info": {
   "codemirror_mode": {
    "name": "ipython",
    "version": 3
   },
   "file_extension": ".py",
   "mimetype": "text/x-python",
   "name": "python",
   "nbconvert_exporter": "python",
   "pygments_lexer": "ipython3",
   "version": "3.8.3"
  }
 },
 "nbformat": 4,
 "nbformat_minor": 4
}
