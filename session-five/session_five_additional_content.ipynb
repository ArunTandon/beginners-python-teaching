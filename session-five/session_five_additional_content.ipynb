{
 "cells": [
  {
   "cell_type": "markdown",
   "metadata": {},
   "source": [
    "## Looping Through a String"
   ]
  },
  {
   "cell_type": "markdown",
   "metadata": {},
   "source": [
    "At this point, it shouldn't seem surprising that we can loop through a string in the same way we can a list. In this case, our looping variable we take the value of each character of the string for each iteration."
   ]
  },
  {
   "cell_type": "code",
   "execution_count": 1,
   "metadata": {},
   "outputs": [
    {
     "name": "stdout",
     "output_type": "stream",
     "text": [
      "H\n",
      "e\n",
      "l\n",
      "l\n",
      "o\n",
      ",\n",
      " \n",
      "W\n",
      "o\n",
      "r\n",
      "l\n",
      "d\n",
      "!\n"
     ]
    }
   ],
   "source": [
    "text = \"Hello, World!\"\n",
    "for char in text:\n",
    "    print(char)"
   ]
  },
  {
   "cell_type": "markdown",
   "metadata": {},
   "source": [
    "## The Else Clause"
   ]
  },
  {
   "cell_type": "markdown",
   "metadata": {},
   "source": [
    "Just as `if` statements have an optional `else` clause, so do the `for` and `while` loops. These are ran if the end of the loop is reached without explicitly breaking."
   ]
  },
  {
   "cell_type": "code",
   "execution_count": 3,
   "metadata": {},
   "outputs": [
    {
     "name": "stdout",
     "output_type": "stream",
     "text": [
      "1\n",
      "4\n",
      "Negative number found...breaking\n",
      "I always run\n"
     ]
    }
   ],
   "source": [
    "numbers = [1, 4, -3, 2]  # try [1, 4, 3, 2] to compare\n",
    "for n in numbers:\n",
    "    if n < 0:\n",
    "        print(\"Negative number found...breaking\")\n",
    "        break\n",
    "    print(n)\n",
    "else:\n",
    "    print(\"Completed loop successfully\")\n",
    "\n",
    "print(\"I always run\")"
   ]
  },
  {
   "cell_type": "markdown",
   "metadata": {},
   "source": [
    "The same method can be used for `while` loops. An alternative approach would be to use a variable to keep track of the reason for breaking. This is more flexible in the case of multiple breaks."
   ]
  },
  {
   "cell_type": "code",
   "execution_count": 4,
   "metadata": {},
   "outputs": [
    {
     "name": "stdout",
     "output_type": "stream",
     "text": [
      "1\n",
      "4\n",
      "Stopped for negative value\n"
     ]
    }
   ],
   "source": [
    "numbers = [1, 4, -3, 2, 0, 2]\n",
    "break_reason = None\n",
    "for n in numbers:\n",
    "    if n < 0:\n",
    "        break_reason = \"negative\"\n",
    "        break\n",
    "    elif n == 0:\n",
    "        break_reason = \"zero\"\n",
    "        break\n",
    "    print(n)\n",
    "\n",
    "if not break_reason:  # None is not Truthy\n",
    "    print(\"Completed loop successfully\")\n",
    "elif break_reason == \"negative\":\n",
    "    print(\"Stopped for negative value\")\n",
    "elif break_reason == \"zero\":\n",
    "    print(\"Stopped for zero\")"
   ]
  },
  {
   "cell_type": "markdown",
   "metadata": {},
   "source": [
    "## Ignoring Assignment"
   ]
  },
  {
   "cell_type": "markdown",
   "metadata": {},
   "source": [
    "In some cases, we wish to use a `for` loop to repeat a task a certain number of times. In this case, it is confusing to create a looping variable that we won't use. Instead, the convention is to use the name `__` (two underscores) which represents an ignored assignment."
   ]
  },
  {
   "cell_type": "code",
   "execution_count": 5,
   "metadata": {},
   "outputs": [
    {
     "name": "stdout",
     "output_type": "stream",
     "text": [
      "Hello\n",
      "Hello\n",
      "Hello\n",
      "Hello\n",
      "Hello\n"
     ]
    }
   ],
   "source": [
    "for __ in range(5):\n",
    "    print(\"Hello\")"
   ]
  },
  {
   "cell_type": "markdown",
   "metadata": {},
   "source": [
    "Some sources will use a single underscore, but this has other meanings in the language so is advised against. When we need multiple ignored assignments, we often use `_1`, `_2`, etc."
   ]
  },
  {
   "cell_type": "code",
   "execution_count": 10,
   "metadata": {
    "scrolled": true
   },
   "outputs": [
    {
     "name": "stdout",
     "output_type": "stream",
     "text": [
      "##########\n",
      "##########\n",
      "##########\n",
      "##########\n",
      "##########\n"
     ]
    }
   ],
   "source": [
    "for _1 in range(5):\n",
    "    for _2 in range(10):\n",
    "        print(\"#\", end = \"\")\n",
    "    print()"
   ]
  },
  {
   "cell_type": "markdown",
   "metadata": {},
   "source": [
    "We can also use this notation when unpacking tuples."
   ]
  },
  {
   "cell_type": "code",
   "execution_count": 11,
   "metadata": {},
   "outputs": [],
   "source": [
    "x, y, __ = (1, 2, 3)"
   ]
  },
  {
   "cell_type": "markdown",
   "metadata": {},
   "source": [
    "This is particularly useful when combined with the splat operator."
   ]
  },
  {
   "cell_type": "code",
   "execution_count": 12,
   "metadata": {},
   "outputs": [
    {
     "name": "stdout",
     "output_type": "stream",
     "text": [
      "1\n"
     ]
    }
   ],
   "source": [
    "first_elem, *__ = (1, 2, 3, 4)\n",
    "print(first_elem)"
   ]
  },
  {
   "cell_type": "markdown",
   "metadata": {},
   "source": [
    "## List Comprehensions"
   ]
  },
  {
   "cell_type": "markdown",
   "metadata": {},
   "source": [
    "### Standard List Comprehensions"
   ]
  },
  {
   "cell_type": "markdown",
   "metadata": {},
   "source": [
    "List comprehensions offer us a clearer way of writing for loops that generate a list."
   ]
  },
  {
   "cell_type": "code",
   "execution_count": 13,
   "metadata": {},
   "outputs": [
    {
     "name": "stdout",
     "output_type": "stream",
     "text": [
      "[1, 4, 9, 16, 25, 36, 49, 64, 81, 100]\n"
     ]
    }
   ],
   "source": [
    "# Standard approach\n",
    "squares = []\n",
    "for n in range(1, 11):\n",
    "    squares.append(n ** 2)\n",
    "print(squares)"
   ]
  },
  {
   "cell_type": "code",
   "execution_count": 14,
   "metadata": {},
   "outputs": [
    {
     "name": "stdout",
     "output_type": "stream",
     "text": [
      "[1, 4, 9, 16, 25, 36, 49, 64, 81, 100]\n"
     ]
    }
   ],
   "source": [
    "# List comprehension approach\n",
    "squares = [n ** 2 for n in range(1, 11)]\n",
    "print(squares)"
   ]
  },
  {
   "cell_type": "markdown",
   "metadata": {},
   "source": [
    "Note, when using a list comprehension, the value we are appending comes before the `for` statement. This is because, arguably, the function we are performing is more important than what we are performing it on in most cases."
   ]
  },
  {
   "cell_type": "markdown",
   "metadata": {},
   "source": [
    "Here is another example using a list rather than a range."
   ]
  },
  {
   "cell_type": "code",
   "execution_count": 16,
   "metadata": {},
   "outputs": [
    {
     "name": "stdout",
     "output_type": "stream",
     "text": [
      "[8, 14, 18, 6]\n"
     ]
    }
   ],
   "source": [
    "# Standard approach\n",
    "numbers = [4, 7, 9, 3]\n",
    "doubled = []\n",
    "for n in numbers:\n",
    "    doubled.append(n * 2)\n",
    "print(doubled)"
   ]
  },
  {
   "cell_type": "code",
   "execution_count": 17,
   "metadata": {
    "scrolled": true
   },
   "outputs": [
    {
     "name": "stdout",
     "output_type": "stream",
     "text": [
      "[8, 14, 18, 6]\n"
     ]
    }
   ],
   "source": [
    "# List comprehension approach\n",
    "numbers = [4, 7, 9, 3]\n",
    "doubled = [n * 2 for n in numbers]\n",
    "print(doubled)"
   ]
  },
  {
   "cell_type": "markdown",
   "metadata": {},
   "source": [
    "### Filtering list comprehensions"
   ]
  },
  {
   "cell_type": "markdown",
   "metadata": {},
   "source": [
    "We can optionally include a condition after the for statement to decide which elements to include in the generated list."
   ]
  },
  {
   "cell_type": "code",
   "execution_count": 20,
   "metadata": {
    "scrolled": true
   },
   "outputs": [
    {
     "name": "stdout",
     "output_type": "stream",
     "text": [
      "[4, 3, 8]\n"
     ]
    }
   ],
   "source": [
    "numbers = [4, -3, 3, 8, -2, 0]\n",
    "positive = [n for n in numbers if n > 0]\n",
    "print(positive)"
   ]
  },
  {
   "cell_type": "markdown",
   "metadata": {},
   "source": [
    "This is particularly useful when combined with enumeration."
   ]
  },
  {
   "cell_type": "code",
   "execution_count": 22,
   "metadata": {},
   "outputs": [
    {
     "name": "stdout",
     "output_type": "stream",
     "text": [
      "[4, 3, -2]\n"
     ]
    }
   ],
   "source": [
    "numbers = [4, -3, 3, 8, -2, 0]\n",
    "every_other = [n for i, n in enumerate(numbers) if i % 2 == 0]\n",
    "print(every_other)"
   ]
  },
  {
   "cell_type": "markdown",
   "metadata": {},
   "source": [
    "We can also use the index variable for the function."
   ]
  },
  {
   "cell_type": "code",
   "execution_count": 25,
   "metadata": {},
   "outputs": [
    {
     "name": "stdout",
     "output_type": "stream",
     "text": [
      "[0, 3, 4]\n"
     ]
    }
   ],
   "source": [
    "numbers = [3, 0, -4, 5, 7]\n",
    "which_positive = [i for i, n in enumerate(numbers) if n > 0]\n",
    "print(which_positive)"
   ]
  },
  {
   "cell_type": "markdown",
   "metadata": {},
   "source": [
    "### Boolean list comprehensions"
   ]
  },
  {
   "cell_type": "markdown",
   "metadata": {},
   "source": [
    "We have seen that numbers have associated truthinesses. Likewise, the Boolean values `True` and `False` have the numeric representations `1` and `0`."
   ]
  },
  {
   "cell_type": "code",
   "execution_count": 26,
   "metadata": {},
   "outputs": [
    {
     "name": "stdout",
     "output_type": "stream",
     "text": [
      "5\n",
      "4\n",
      "4\n",
      "0\n"
     ]
    }
   ],
   "source": [
    "print(4 + True)\n",
    "print(4 + False)\n",
    "print(4 * True)\n",
    "print(4 * False)"
   ]
  },
  {
   "cell_type": "markdown",
   "metadata": {},
   "source": [
    "This means that we can sum a Boolean list to count how many values are true."
   ]
  },
  {
   "cell_type": "code",
   "execution_count": 27,
   "metadata": {},
   "outputs": [
    {
     "name": "stdout",
     "output_type": "stream",
     "text": [
      "3\n"
     ]
    }
   ],
   "source": [
    "print(sum([True, True, False, True, False]))"
   ]
  },
  {
   "cell_type": "markdown",
   "metadata": {},
   "source": [
    "We can combine this with list comprehensions to count how many elements meet a condition."
   ]
  },
  {
   "cell_type": "code",
   "execution_count": 28,
   "metadata": {
    "scrolled": true
   },
   "outputs": [
    {
     "name": "stdout",
     "output_type": "stream",
     "text": [
      "3\n"
     ]
    }
   ],
   "source": [
    "numbers = [4, 7, 0, -4, 8]\n",
    "num_pos = sum([n > 0 for n in numbers])\n",
    "print(num_pos)"
   ]
  },
  {
   "cell_type": "markdown",
   "metadata": {},
   "source": [
    "Note, we can remove the square brackets in this case (actually, in doing this we've moved from a list comprehension to a generator expression but the difference is not worth worrying about)."
   ]
  },
  {
   "cell_type": "code",
   "execution_count": 29,
   "metadata": {},
   "outputs": [
    {
     "name": "stdout",
     "output_type": "stream",
     "text": [
      "3\n"
     ]
    }
   ],
   "source": [
    "numbers = [4, 7, 0, -4, 8]\n",
    "num_pos = sum(n > 0 for n in numbers)\n",
    "print(num_pos)"
   ]
  },
  {
   "cell_type": "markdown",
   "metadata": {},
   "source": [
    "### 2D list comprehensions"
   ]
  },
  {
   "cell_type": "markdown",
   "metadata": {},
   "source": [
    "We can nest list comprehensions within list comprehensions to create matrices. To print these out we can use the following approach."
   ]
  },
  {
   "cell_type": "code",
   "execution_count": 30,
   "metadata": {},
   "outputs": [
    {
     "name": "stdout",
     "output_type": "stream",
     "text": [
      "[1, 2]\n",
      "[3, 4]\n"
     ]
    }
   ],
   "source": [
    "x = [\n",
    "    [1, 2],\n",
    "    [3, 4]\n",
    "]\n",
    "print(*x, sep = '\\n')"
   ]
  },
  {
   "cell_type": "markdown",
   "metadata": {},
   "source": [
    "As a starting example we can create a matrix of zeros."
   ]
  },
  {
   "cell_type": "code",
   "execution_count": 31,
   "metadata": {
    "scrolled": true
   },
   "outputs": [
    {
     "name": "stdout",
     "output_type": "stream",
     "text": [
      "[0, 0, 0, 0]\n",
      "[0, 0, 0, 0]\n",
      "[0, 0, 0, 0]\n",
      "[0, 0, 0, 0]\n"
     ]
    }
   ],
   "source": [
    "x = [\n",
    "    [0 for col in range(4)]\n",
    "    for row in range(4)\n",
    "]\n",
    "print(*x, sep = '\\n')"
   ]
  },
  {
   "cell_type": "markdown",
   "metadata": {},
   "source": [
    "We can then use the row and column index to create an identity matrix."
   ]
  },
  {
   "cell_type": "code",
   "execution_count": 32,
   "metadata": {},
   "outputs": [
    {
     "name": "stdout",
     "output_type": "stream",
     "text": [
      "[1, 0, 0, 0]\n",
      "[0, 1, 0, 0]\n",
      "[0, 0, 1, 0]\n",
      "[0, 0, 0, 1]\n"
     ]
    }
   ],
   "source": [
    "x = [\n",
    "    [1 if row == col else 0\n",
    "     for col in range(4)]\n",
    "    for row in range(4)\n",
    "]\n",
    "print(*x, sep = '\\n')"
   ]
  },
  {
   "cell_type": "markdown",
   "metadata": {},
   "source": [
    "Or a multiplication table."
   ]
  },
  {
   "cell_type": "code",
   "execution_count": 40,
   "metadata": {},
   "outputs": [
    {
     "name": "stdout",
     "output_type": "stream",
     "text": [
      "[1, 2, 3, 4, 5, 6, 7, 8, 9, 10, 11, 12]\n",
      "[2, 4, 6, 8, 10, 12, 14, 16, 18, 20, 22, 24]\n",
      "[3, 6, 9, 12, 15, 18, 21, 24, 27, 30, 33, 36]\n",
      "[4, 8, 12, 16, 20, 24, 28, 32, 36, 40, 44, 48]\n",
      "[5, 10, 15, 20, 25, 30, 35, 40, 45, 50, 55, 60]\n",
      "[6, 12, 18, 24, 30, 36, 42, 48, 54, 60, 66, 72]\n",
      "[7, 14, 21, 28, 35, 42, 49, 56, 63, 70, 77, 84]\n",
      "[8, 16, 24, 32, 40, 48, 56, 64, 72, 80, 88, 96]\n",
      "[9, 18, 27, 36, 45, 54, 63, 72, 81, 90, 99, 108]\n",
      "[10, 20, 30, 40, 50, 60, 70, 80, 90, 100, 110, 120]\n",
      "[11, 22, 33, 44, 55, 66, 77, 88, 99, 110, 121, 132]\n",
      "[12, 24, 36, 48, 60, 72, 84, 96, 108, 120, 132, 144]\n"
     ]
    }
   ],
   "source": [
    "x = [\n",
    "    [(row + 1) * (col + 1)\n",
    "     for col in range(12)]\n",
    "    for row in range(12)\n",
    "]\n",
    "print(*x, sep = '\\n')"
   ]
  },
  {
   "cell_type": "markdown",
   "metadata": {},
   "source": [
    "Lastly, we could use the row variable to determine the number of columns."
   ]
  },
  {
   "cell_type": "code",
   "execution_count": 44,
   "metadata": {},
   "outputs": [
    {
     "name": "stdout",
     "output_type": "stream",
     "text": [
      "[1]\n",
      "[1, 2]\n",
      "[1, 2, 3]\n",
      "[1, 2, 3, 4]\n",
      "[1, 2, 3, 4, 5]\n"
     ]
    }
   ],
   "source": [
    "x = [\n",
    "    [col + 1\n",
    "     for col in range(row + 1)]\n",
    "    for row in range(5)\n",
    "]\n",
    "print(*x, sep = '\\n')"
   ]
  },
  {
   "cell_type": "markdown",
   "metadata": {},
   "source": [
    "## Zipping"
   ]
  },
  {
   "cell_type": "markdown",
   "metadata": {},
   "source": [
    "Zipping allows us to iterate through more than one list at the same time in a simple way."
   ]
  },
  {
   "cell_type": "code",
   "execution_count": 45,
   "metadata": {},
   "outputs": [
    {
     "name": "stdout",
     "output_type": "stream",
     "text": [
      "Ann is 20 and plays football\n",
      "Bob is 30 and plays tennis\n",
      "Cat is 40 and plays golf\n"
     ]
    }
   ],
   "source": [
    "names = [\"Ann\", \"Bob\", \"Cat\"]\n",
    "ages = [20, 30, 40]\n",
    "sports = [\"football\", \"tennis\", \"golf\"]\n",
    "for name, age, sport in zip(names, ages, sports):\n",
    "    print(name, \"is\", age, \"and plays\", sport)"
   ]
  },
  {
   "cell_type": "markdown",
   "metadata": {},
   "source": [
    "## List Comprehension Examples"
   ]
  },
  {
   "cell_type": "markdown",
   "metadata": {},
   "source": [
    "### Triangle numbers"
   ]
  },
  {
   "cell_type": "code",
   "execution_count": 48,
   "metadata": {},
   "outputs": [
    {
     "name": "stdout",
     "output_type": "stream",
     "text": [
      "[1, 3, 6, 10, 15, 21, 28, 36, 45, 55]\n"
     ]
    }
   ],
   "source": [
    "x = [\n",
    "    sum(col + 1 for col in range(row + 1))\n",
    "    for row in range(10)\n",
    "]\n",
    "print(x)"
   ]
  },
  {
   "cell_type": "markdown",
   "metadata": {},
   "source": [
    "### Absolute value"
   ]
  },
  {
   "cell_type": "code",
   "execution_count": 49,
   "metadata": {},
   "outputs": [
    {
     "name": "stdout",
     "output_type": "stream",
     "text": [
      "[4, 3, 0, 2, 5]\n"
     ]
    }
   ],
   "source": [
    "numbers = [4, -3, 0, 2, -5]\n",
    "numbers = [x if x > 0 else -x for x in numbers]\n",
    "print(numbers)"
   ]
  },
  {
   "cell_type": "markdown",
   "metadata": {},
   "source": [
    "### Matrix multiplication"
   ]
  },
  {
   "cell_type": "code",
   "execution_count": 50,
   "metadata": {},
   "outputs": [
    {
     "name": "stdout",
     "output_type": "stream",
     "text": [
      "[21, 24, 27]\n",
      "[47, 54, 61]\n"
     ]
    }
   ],
   "source": [
    "A = [\n",
    "    [1, 2],\n",
    "    [3, 4]\n",
    "]\n",
    "B = [\n",
    "    [5, 6, 7],\n",
    "    [8, 9, 10]\n",
    "]\n",
    "# C = A * B  ([m*p] = [mxn] * [nxp])\n",
    "m = len(A)\n",
    "n = len(B)\n",
    "p = len(B[0])\n",
    "C = [\n",
    "    [sum(A[i][k] * B[k][j] for k in range(n))\n",
    "     for j in range(p)]\n",
    "    for i in range(m)\n",
    "]\n",
    "print(*C, sep = '\\n')"
   ]
  },
  {
   "cell_type": "markdown",
   "metadata": {},
   "source": [
    "### Transposition"
   ]
  },
  {
   "cell_type": "code",
   "execution_count": 56,
   "metadata": {},
   "outputs": [
    {
     "name": "stdout",
     "output_type": "stream",
     "text": [
      "[1, 4, 7]\n",
      "[2, 5, 8]\n",
      "[3, 6, 9]\n"
     ]
    }
   ],
   "source": [
    "A = [\n",
    "    [1, 2, 3],\n",
    "    [4, 5, 6],\n",
    "    [7, 8, 9]\n",
    "]\n",
    "# B = A'\n",
    "B = [list(col) for col in zip(*A)]\n",
    "print(*B, sep = '\\n')"
   ]
  }
 ],
 "metadata": {
  "kernelspec": {
   "display_name": "Python 3",
   "language": "python",
   "name": "python3"
  },
  "language_info": {
   "codemirror_mode": {
    "name": "ipython",
    "version": 3
   },
   "file_extension": ".py",
   "mimetype": "text/x-python",
   "name": "python",
   "nbconvert_exporter": "python",
   "pygments_lexer": "ipython3",
   "version": "3.6.8"
  }
 },
 "nbformat": 4,
 "nbformat_minor": 2
}
