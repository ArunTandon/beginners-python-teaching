{
 "cells": [
  {
   "cell_type": "markdown",
   "metadata": {},
   "source": [
    "# Mathematics and Statistics"
   ]
  },
  {
   "cell_type": "markdown",
   "metadata": {},
   "source": [
    "## Gradient Descent"
   ]
  },
  {
   "cell_type": "markdown",
   "metadata": {},
   "source": [
    "Implement the Gradient Descent algorithm for finding a local minimum of a function $f(x)$, shown below:\n",
    "\n",
    "* Choose an initial point, $x_0$,\n",
    "* Choose a learning rate $\\alpha$ (the meaning of which is shown below),\n",
    "* Calculate the next point $x_n = x_{n-1} - \\alpha * f'(x_{n-1})$, ...\n",
    "* ... until a maximum number of iterations, $N$, is reached, or...\n",
    "* ... a required precision, $|x_n-x_{n-1}| < \\varepsilon$ is reached.\n",
    "\n",
    "Save each iteration of the algorithm in a dictionary with key as the iteration number, e.g. 1, 2, 3, ..."
   ]
  },
  {
   "cell_type": "markdown",
   "metadata": {},
   "source": [
    "Use the function f and its derivative df defined below"
   ]
  },
  {
   "cell_type": "code",
   "execution_count": null,
   "metadata": {},
   "outputs": [],
   "source": [
    "def f(x):\n",
    "    return x*2 + 3*x - 10"
   ]
  },
  {
   "cell_type": "code",
   "execution_count": null,
   "metadata": {},
   "outputs": [],
   "source": [
    "def df(x):\n",
    "    return 2*x+3"
   ]
  },
  {
   "cell_type": "markdown",
   "metadata": {},
   "source": [
    "Now create a function implementing this algorithm, which returns the last value in the dictionary.\n",
    "\n",
    "Hint: try and use a while loop with conditions on the precision and maximum number of iterations."
   ]
  },
  {
   "cell_type": "code",
   "execution_count": null,
   "metadata": {},
   "outputs": [],
   "source": []
  },
  {
   "cell_type": "markdown",
   "metadata": {},
   "source": [
    "Now use this function to print the output of the Gradient Descent algorithm for the previously defined function f, with and initial point x0 = 0, a learning rate of 0.001, a precision of $\\varepsilon = 1e-08$ and number of iterations N = 10000.\n",
    "\n",
    "Round this output to four decimal places using round(output, 4)"
   ]
  },
  {
   "cell_type": "code",
   "execution_count": null,
   "metadata": {},
   "outputs": [],
   "source": []
  },
  {
   "cell_type": "markdown",
   "metadata": {},
   "source": [
    "Note its easy to find the minimum of our function, and therefore easy to check your answer!"
   ]
  },
  {
   "cell_type": "markdown",
   "metadata": {},
   "source": [
    "## Bisection Method"
   ]
  },
  {
   "cell_type": "markdown",
   "metadata": {},
   "source": [
    "Implement the Bisection Method Algorithm for finding a root of a function on $f(x)=x^3-4x+4$ (defined in a function below) :\n",
    "\n",
    "The procedure is:\n",
    "\n",
    "* Choose a starting interval $[a_0,b_0]$ such that $f(a_0)f(b_0)<0$.\n",
    "* Compute $f(m_0)$ for $m_0 = \\frac{a_0+b_0}{2}$\n",
    "* Determine the next subinterval $[a_1,b_1]$:\n",
    "\n",
    "    * If $f(a_0)f(m_0) < 0$ then set $a_1 = a_0$ and $b_1 = m_0$\n",
    "    * Otherwise $a_1 = m_0$ and $b_1 = b_0$\n",
    "* Repeat the last two steps until our interval $[a_n,b_n]$ has length less than a predetermined tolerance\n",
    "* Return $m_n = \\frac{a_n+b_n}{2}$\n"
   ]
  },
  {
   "cell_type": "code",
   "execution_count": null,
   "metadata": {},
   "outputs": [],
   "source": [
    "def f(x):\n",
    "    return x**3 + x**2 - 120*x"
   ]
  },
  {
   "cell_type": "markdown",
   "metadata": {},
   "source": [
    "Now create a function which implements this algorithm, which raises an error if $f(a_0)f(b_0)>=0$ and if $a_0 \\geq b_0$.\n",
    "Set the default tolerance value to $1e-5$"
   ]
  },
  {
   "cell_type": "code",
   "execution_count": null,
   "metadata": {},
   "outputs": [],
   "source": []
  },
  {
   "cell_type": "markdown",
   "metadata": {},
   "source": [
    "Now implement this function with $a_0$ = 2, $b_0 = 1$, you should get a value error."
   ]
  },
  {
   "cell_type": "code",
   "execution_count": null,
   "metadata": {},
   "outputs": [],
   "source": []
  },
  {
   "cell_type": "markdown",
   "metadata": {},
   "source": [
    "Now implement this function with $a_0$ = 3, $b_0 = 7$, you should get a (different) value error."
   ]
  },
  {
   "cell_type": "code",
   "execution_count": null,
   "metadata": {},
   "outputs": [],
   "source": []
  },
  {
   "cell_type": "markdown",
   "metadata": {},
   "source": [
    "Now implement this function with $a_0$ = , $b_0 = $, you should find a (good approximation for a) root!"
   ]
  },
  {
   "cell_type": "code",
   "execution_count": null,
   "metadata": {},
   "outputs": [],
   "source": []
  },
  {
   "cell_type": "markdown",
   "metadata": {},
   "source": [
    "## Coin Flips"
   ]
  },
  {
   "cell_type": "markdown",
   "metadata": {},
   "source": [
    "What are the expected number of unbiased coin flips needed until you get the sequence HT?\n",
    "\n",
    "To generate coin flips we first need to import the following package"
   ]
  },
  {
   "cell_type": "code",
   "execution_count": null,
   "metadata": {},
   "outputs": [],
   "source": [
    "from random import randint"
   ]
  },
  {
   "cell_type": "markdown",
   "metadata": {},
   "source": [
    "The following function simulates one unbiased coin toss, returning 'H' or 'T' with equal probability."
   ]
  },
  {
   "cell_type": "code",
   "execution_count": null,
   "metadata": {},
   "outputs": [],
   "source": [
    "def coinToss():\n",
    "    if randint(0,1) == 0:\n",
    "        return 'H'\n",
    "    else: \n",
    "        return 'T'"
   ]
  },
  {
   "cell_type": "markdown",
   "metadata": {},
   "source": [
    "Now see if you can write a function which creates a list of coin tosses until a 'H', 'T' sequence occurs. Then outputs the length of the final list, i.e. the number of tosses until a 'H', 'T' sequence occurs."
   ]
  },
  {
   "cell_type": "code",
   "execution_count": null,
   "metadata": {},
   "outputs": [],
   "source": []
  },
  {
   "cell_type": "markdown",
   "metadata": {},
   "source": [
    "Now finish the function below, which finds the mean number of coin flips needed over n repeats of the above function."
   ]
  },
  {
   "cell_type": "code",
   "execution_count": null,
   "metadata": {},
   "outputs": [],
   "source": [
    "def createMeanHT(n):"
   ]
  },
  {
   "cell_type": "markdown",
   "metadata": {},
   "source": [
    "The following code shows the average over 100,000 repeats. Note the answer should be ~4, can you prove this?"
   ]
  },
  {
   "cell_type": "code",
   "execution_count": null,
   "metadata": {},
   "outputs": [],
   "source": [
    "createMeanHT(100000)"
   ]
  }
 ],
 "metadata": {
  "kernelspec": {
   "display_name": "Python 3",
   "language": "python",
   "name": "python3"
  },
  "language_info": {
   "codemirror_mode": {
    "name": "ipython",
    "version": 3
   },
   "file_extension": ".py",
   "mimetype": "text/x-python",
   "name": "python",
   "nbconvert_exporter": "python",
   "pygments_lexer": "ipython3",
   "version": "3.7.4"
  }
 },
 "nbformat": 4,
 "nbformat_minor": 2
}
