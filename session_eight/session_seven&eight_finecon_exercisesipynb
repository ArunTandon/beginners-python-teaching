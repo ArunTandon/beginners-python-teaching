{
 "cells": [
  {
   "cell_type": "markdown",
   "metadata": {
    "id": "aZfhY-rNme8c"
   },
   "source": [
    "# Beginner's Python—Session Seven and Eight Finance/Economics Exercises"
   ]
  },
  {
   "cell_type": "markdown",
   "metadata": {
    "id": "mz4BiqG2me8e"
   },
   "source": [
    "## Elf Corporation Ltd."
   ]
  },
  {
   "cell_type": "markdown",
   "metadata": {},
   "source": [
    "As Christmas approaches, Elf Corporation Ltd. is struggling to make ends meet with their gift producing operations. Things also got a LOT harder when a system failure wiped out a bunch of their data. Your task is to help them fill in this information on time for their delivery date (December 25th).\n",
    "\n",
    "Before attempting these exercises, make sure you download the necessary files ('elf_corp.csv' and 'new_elf_corp.csv') from the Github repository and upload them onto your GooGle"
   ]
  },
  {
   "cell_type": "markdown",
   "metadata": {},
   "source": [
    "To start, we need to read in the Elf Corporation Ltd. file with missing data into a dictionary (where each key:value pair will consist of a column name and a corresponding list of observations for that column).\n",
    "\n",
    "Start by reading in the header row into a list called `keys`, which will have the keys for our dictionary (file name: `'elf_corp.csv'` ).\n",
    "\n",
    "To do this:\n",
    "\n",
    "- Open the file `'elf_corp.csv'`.\n",
    "- Read the first line into a variable named `keys`\n",
    "- Replace `'\\n'` characters with blanks\n",
    "- Split the line into a list using the comma character (`','`) as delimiter\n",
    "- Print out your list `keys`"
   ]
  },
  {
   "cell_type": "code",
   "execution_count": null,
   "metadata": {},
   "outputs": [],
   "source": []
  },
  {
   "cell_type": "markdown",
   "metadata": {},
   "source": [
    "Now create a dictionary called `elf_data` using the elements of `keys` as your keys, assinging an empty list as value to each one."
   ]
  },
  {
   "cell_type": "code",
   "execution_count": null,
   "metadata": {},
   "outputs": [],
   "source": []
  },
  {
   "cell_type": "markdown",
   "metadata": {},
   "source": [
    "Now its time to read in the rest of our dataset. We'll do this row-by-row (where each line contains a row). To read in the Elf Corporation data, follow the instructions below:\n",
    "\n",
    "- Open the file `'elf_corp.csv'`.\n",
    "- Read the file sequentially (starting with the second line to exclude the header row).\n",
    "- Replace `'\\n'` characters with blanks.\n",
    "- Split each line into a list using the comma character (`','`) as delimiter.\n",
    "- Loop through the `elf_data` dictionary, adding each value in each line to its respective column.\n",
    "- **NOTE: When adding data to the dictionary, you'll want to cast numbers as `int`. Use the isnumeric() function to help you doing this**"
   ]
  },
  {
   "cell_type": "code",
   "execution_count": 3,
   "metadata": {},
   "outputs": [
    {
     "data": {
      "text/html": [
       "<div>\n",
       "<style scoped>\n",
       "    .dataframe tbody tr th:only-of-type {\n",
       "        vertical-align: middle;\n",
       "    }\n",
       "\n",
       "    .dataframe tbody tr th {\n",
       "        vertical-align: top;\n",
       "    }\n",
       "\n",
       "    .dataframe thead th {\n",
       "        text-align: right;\n",
       "    }\n",
       "</style>\n",
       "<table border=\"1\" class=\"dataframe\">\n",
       "  <thead>\n",
       "    <tr style=\"text-align: right;\">\n",
       "      <th></th>\n",
       "      <th>Total Product</th>\n",
       "      <th>Santa Factories</th>\n",
       "      <th>Elves</th>\n",
       "      <th>Marginal Product</th>\n",
       "      <th>Average Product</th>\n",
       "      <th>Marginal Cost</th>\n",
       "      <th>Average Fixed Cost</th>\n",
       "      <th>Average Variable Cost</th>\n",
       "      <th>Average Total Cost</th>\n",
       "      <th>Total Fixed Cost</th>\n",
       "      <th>Total Variable Cost</th>\n",
       "      <th>Total Cost</th>\n",
       "    </tr>\n",
       "  </thead>\n",
       "  <tbody>\n",
       "    <tr>\n",
       "      <th>0</th>\n",
       "      <td>0</td>\n",
       "      <td>1</td>\n",
       "      <td>0</td>\n",
       "      <td></td>\n",
       "      <td></td>\n",
       "      <td></td>\n",
       "      <td></td>\n",
       "      <td></td>\n",
       "      <td></td>\n",
       "      <td></td>\n",
       "      <td></td>\n",
       "      <td>48</td>\n",
       "    </tr>\n",
       "    <tr>\n",
       "      <th>1</th>\n",
       "      <td>8</td>\n",
       "      <td></td>\n",
       "      <td></td>\n",
       "      <td></td>\n",
       "      <td>8</td>\n",
       "      <td></td>\n",
       "      <td>6</td>\n",
       "      <td></td>\n",
       "      <td></td>\n",
       "      <td></td>\n",
       "      <td></td>\n",
       "      <td></td>\n",
       "    </tr>\n",
       "    <tr>\n",
       "      <th>2</th>\n",
       "      <td></td>\n",
       "      <td></td>\n",
       "      <td>2</td>\n",
       "      <td></td>\n",
       "      <td></td>\n",
       "      <td></td>\n",
       "      <td></td>\n",
       "      <td>4</td>\n",
       "      <td></td>\n",
       "      <td></td>\n",
       "      <td></td>\n",
       "      <td></td>\n",
       "    </tr>\n",
       "    <tr>\n",
       "      <th>3</th>\n",
       "      <td>15</td>\n",
       "      <td></td>\n",
       "      <td></td>\n",
       "      <td></td>\n",
       "      <td></td>\n",
       "      <td></td>\n",
       "      <td></td>\n",
       "      <td></td>\n",
       "      <td></td>\n",
       "      <td></td>\n",
       "      <td>72</td>\n",
       "      <td></td>\n",
       "    </tr>\n",
       "  </tbody>\n",
       "</table>\n",
       "</div>"
      ],
      "text/plain": [
       "  Total Product Santa Factories Elves Marginal Product Average Product  \\\n",
       "0             0               1     0                                    \n",
       "1             8                                                      8   \n",
       "2                                   2                                    \n",
       "3            15                                                          \n",
       "\n",
       "  Marginal Cost Average Fixed Cost Average Variable Cost Average Total Cost  \\\n",
       "0                                                                             \n",
       "1                                6                                            \n",
       "2                                                      4                      \n",
       "3                                                                             \n",
       "\n",
       "  Total Fixed Cost Total Variable Cost Total Cost  \n",
       "0                                              48  \n",
       "1                                                  \n",
       "2                                                  \n",
       "3                                   72             "
      ]
     },
     "execution_count": 3,
     "metadata": {},
     "output_type": "execute_result"
    }
   ],
   "source": [
    "#----ADD YOUR CODE BELOW----\n",
    "\n",
    "\n",
    "#---------------------------\n",
    "\n",
    "import pandas as pd        \n",
    "pd.DataFrame(elf_data)      "
   ]
  },
  {
   "cell_type": "markdown",
   "metadata": {},
   "source": [
    "From this information, we can see that a whole lot of data got deleted. Aside from this information, we are also told that:\n",
    "- Santa factories are a **fixed** factor of production, with a cost of £48 each.\n",
    "- Elves are a **variable** factor of production, with a cost of £24 each.\n",
    "\n",
    "Use your knowledge of economics (producer theory) to work out the missing data (this might be easier to do by hand first), and then add it onto the dictionary `elf_data`. The following formulas might be of help:\n",
    "\n",
    "- $\\text{Average Product} = \\displaystyle\\frac{\\text{Total Product}} {\\text{Number of Elves}}$\n",
    "\n",
    "- $\\text{Total Cost} = \\text{Total Fixed Cost} + \\text{Total Variable Cost}$\n",
    "- $\\text{Average Cost} = \\displaystyle\\frac{\\text{Total Cost}} {\\text{Total Product}}$\n",
    "- $\\text{Marginal Product} = \\displaystyle\\frac{{\\Delta}\\text{Total Product}} {{\\Delta}\\text{Number of Elves}}$\n",
    "- $\\text{Marginal Cost} = \\displaystyle\\frac{{\\Delta}\\text{Total Cost}} {{\\Delta}\\text{Total Product}}$\n",
    "\n",
    "To fill in the rest of the dictionary, you might want to do do it column-by-column or row-by-row. In any case this will require iteration, so try to do this in the most efficient way you can think of.\n"
   ]
  },
  {
   "cell_type": "code",
   "execution_count": 4,
   "metadata": {},
   "outputs": [
    {
     "data": {
      "text/html": [
       "<div>\n",
       "<style scoped>\n",
       "    .dataframe tbody tr th:only-of-type {\n",
       "        vertical-align: middle;\n",
       "    }\n",
       "\n",
       "    .dataframe tbody tr th {\n",
       "        vertical-align: top;\n",
       "    }\n",
       "\n",
       "    .dataframe thead th {\n",
       "        text-align: right;\n",
       "    }\n",
       "</style>\n",
       "<table border=\"1\" class=\"dataframe\">\n",
       "  <thead>\n",
       "    <tr style=\"text-align: right;\">\n",
       "      <th></th>\n",
       "      <th>Total Product</th>\n",
       "      <th>Santa Factories</th>\n",
       "      <th>Elves</th>\n",
       "      <th>Marginal Product</th>\n",
       "      <th>Average Product</th>\n",
       "      <th>Marginal Cost</th>\n",
       "      <th>Average Fixed Cost</th>\n",
       "      <th>Average Variable Cost</th>\n",
       "      <th>Average Total Cost</th>\n",
       "      <th>Total Fixed Cost</th>\n",
       "      <th>Total Variable Cost</th>\n",
       "      <th>Total Cost</th>\n",
       "    </tr>\n",
       "  </thead>\n",
       "  <tbody>\n",
       "    <tr>\n",
       "      <th>0</th>\n",
       "      <td>0</td>\n",
       "      <td>1</td>\n",
       "      <td>0</td>\n",
       "      <td>-</td>\n",
       "      <td>-</td>\n",
       "      <td>-</td>\n",
       "      <td>-</td>\n",
       "      <td>-</td>\n",
       "      <td>-</td>\n",
       "      <td>48</td>\n",
       "      <td>0</td>\n",
       "      <td>48</td>\n",
       "    </tr>\n",
       "    <tr>\n",
       "      <th>1</th>\n",
       "      <td>8</td>\n",
       "      <td>1</td>\n",
       "      <td>1</td>\n",
       "      <td>8</td>\n",
       "      <td>8</td>\n",
       "      <td>3</td>\n",
       "      <td>6</td>\n",
       "      <td>3</td>\n",
       "      <td>9</td>\n",
       "      <td>48</td>\n",
       "      <td>24</td>\n",
       "      <td>72</td>\n",
       "    </tr>\n",
       "    <tr>\n",
       "      <th>2</th>\n",
       "      <td>12</td>\n",
       "      <td>1</td>\n",
       "      <td>2</td>\n",
       "      <td>4</td>\n",
       "      <td>6</td>\n",
       "      <td>6</td>\n",
       "      <td>4</td>\n",
       "      <td>4</td>\n",
       "      <td>8</td>\n",
       "      <td>48</td>\n",
       "      <td>48</td>\n",
       "      <td>96</td>\n",
       "    </tr>\n",
       "    <tr>\n",
       "      <th>3</th>\n",
       "      <td>15</td>\n",
       "      <td>1</td>\n",
       "      <td>3</td>\n",
       "      <td>3</td>\n",
       "      <td>5</td>\n",
       "      <td>8</td>\n",
       "      <td>3.2</td>\n",
       "      <td>4.8</td>\n",
       "      <td>8</td>\n",
       "      <td>48</td>\n",
       "      <td>72</td>\n",
       "      <td>120</td>\n",
       "    </tr>\n",
       "  </tbody>\n",
       "</table>\n",
       "</div>"
      ],
      "text/plain": [
       "   Total Product  Santa Factories  Elves Marginal Product Average Product  \\\n",
       "0              0                1      0                -               -   \n",
       "1              8                1      1                8               8   \n",
       "2             12                1      2                4               6   \n",
       "3             15                1      3                3               5   \n",
       "\n",
       "  Marginal Cost Average Fixed Cost Average Variable Cost Average Total Cost  \\\n",
       "0             -                  -                     -                  -   \n",
       "1             3                  6                     3                  9   \n",
       "2             6                  4                     4                  8   \n",
       "3             8                3.2                   4.8                  8   \n",
       "\n",
       "   Total Fixed Cost  Total Variable Cost  Total Cost  \n",
       "0                48                    0          48  \n",
       "1                48                   24          72  \n",
       "2                48                   48          96  \n",
       "3                48                   72         120  "
      ]
     },
     "execution_count": 4,
     "metadata": {},
     "output_type": "execute_result"
    }
   ],
   "source": [
    "#----ADD YOUR CODE BELOW----\n",
    "\n",
    "\n",
    "#---------------------------\n",
    "pd.DataFrame(elf_data)"
   ]
  },
  {
   "cell_type": "markdown",
   "metadata": {},
   "source": [
    "Now that we have complete data, answer the folowing questions:\n",
    "- What kind of production function does Elf Corporation have?\n",
    "- What is the productively efficient level of output for Elf Corporation?\n",
    "- What market price does Elf Corporation need to operate in the short run if their profit-maximizing level of output is 12 presents?"
   ]
  },
  {
   "cell_type": "markdown",
   "metadata": {},
   "source": [
    "Now it's time to write the full Elf Corporation dataset into a new file. Write the data in the `elf_data` dictionary onto the file `'new_elf_corp.csv'` by following the instructions below:\n",
    "\n",
    "- Open the file `'new_elf_corp.csv'`.\n",
    "- Write in the header row by iterating through the `elf_data` keys.\n",
    "- Write in each row using a 'for' loop that iterates 4 times and then iterating through `elf_data` values using a nested loop.\n",
    "- **TIP: Remember to write in the `'\\n'` character after writing in each row.**\n",
    "\n",
    "After doing this, check the file to make sure the data was written in properly."
   ]
  },
  {
   "cell_type": "code",
   "execution_count": null,
   "metadata": {},
   "outputs": [],
   "source": []
  }
 ],
 "metadata": {
  "colab": {
   "name": "session_one_finecon_answers.ipynb",
   "provenance": []
  },
  "kernelspec": {
   "display_name": "Python 3",
   "language": "python",
   "name": "python3"
  },
  "language_info": {
   "codemirror_mode": {
    "name": "ipython",
    "version": 3
   },
   "file_extension": ".py",
   "mimetype": "text/x-python",
   "name": "python",
   "nbconvert_exporter": "python",
   "pygments_lexer": "ipython3",
   "version": "3.7.6"
  }
 },
 "nbformat": 4,
 "nbformat_minor": 4
}
