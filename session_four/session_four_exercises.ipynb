{
 "cells": [
  {
   "cell_type": "markdown",
   "metadata": {},
   "source": [
    "<a href=\"https://colab.research.google.com/github/THargreaves/beginners-python/blob/master/session_four/session_four_exercises.ipynb\" target=\"_parent\"><img src=\"https://colab.research.google.com/assets/colab-badge.svg\" alt=\"Open In Colab\"/></a>"
   ]
  },
  {
   "cell_type": "markdown",
   "metadata": {},
   "source": [
    "<center>Spotted a mistake? Report it <a href=\"https://github.com/THargreaves/beginners-python/issues/new\">here</a></center>"
   ]
  },
  {
   "cell_type": "markdown",
   "metadata": {},
   "source": [
    "# Beginner's Python—Session Four Homework Exercises"
   ]
  },
  {
   "cell_type": "markdown",
   "metadata": {},
   "source": [
    "## Non-numeric Lists"
   ]
  },
  {
   "cell_type": "markdown",
   "metadata": {},
   "source": [
    "Ask the user to input 3 days of the week (using `input()` three times) and use these to create a list of strings"
   ]
  },
  {
   "cell_type": "code",
   "execution_count": null,
   "metadata": {},
   "outputs": [],
   "source": []
  },
  {
   "cell_type": "markdown",
   "metadata": {},
   "source": [
    "Create a list containing three lists. The first list should contain the numbers $1$ to $3$, the second should contain the English forms (e.g. \"one\") of these words. And the last should contain Boolean values which are True if the corresponding number is prime (hint: $1$ is not prime, $2$ and $3$ are)"
   ]
  },
  {
   "cell_type": "code",
   "execution_count": null,
   "metadata": {},
   "outputs": [],
   "source": []
  },
  {
   "cell_type": "markdown",
   "metadata": {},
   "source": [
    "Lists of lists don't have to be square. Create a list containing lists of length $1$, $2$, and $3$, each filled with numbers of your choosing"
   ]
  },
  {
   "cell_type": "code",
   "execution_count": null,
   "metadata": {},
   "outputs": [],
   "source": []
  },
  {
   "cell_type": "markdown",
   "metadata": {},
   "source": [
    "## Extracting List Elements"
   ]
  },
  {
   "cell_type": "markdown",
   "metadata": {},
   "source": [
    "Run the following code to generate a list of random numbers with a length randomly chosen between 50 and 100"
   ]
  },
  {
   "cell_type": "code",
   "execution_count": 3,
   "metadata": {},
   "outputs": [],
   "source": [
    "from random import random, randint, seed\n",
    "seed(1729)\n",
    "numbers = [random() for __ in range(randint(50, 100))]"
   ]
  },
  {
   "cell_type": "markdown",
   "metadata": {},
   "source": [
    "What is the 42nd element of this list?"
   ]
  },
  {
   "cell_type": "code",
   "execution_count": null,
   "metadata": {},
   "outputs": [],
   "source": []
  },
  {
   "cell_type": "markdown",
   "metadata": {},
   "source": [
    "What is the value of the element that is tenth from the end of the list?"
   ]
  },
  {
   "cell_type": "code",
   "execution_count": null,
   "metadata": {},
   "outputs": [],
   "source": []
  },
  {
   "cell_type": "markdown",
   "metadata": {},
   "source": [
    "What happens when you try to access the value of an index that doesn't exist?"
   ]
  },
  {
   "cell_type": "code",
   "execution_count": null,
   "metadata": {},
   "outputs": [],
   "source": []
  },
  {
   "cell_type": "markdown",
   "metadata": {},
   "source": []
  },
  {
   "cell_type": "markdown",
   "metadata": {},
   "source": [
    "_This is quite a tough challenge, but try to persevere. You can always check out the solutions if you're unsure_\n",
    "\n",
    "The following code will create a reordering of the numbers 0 to 99"
   ]
  },
  {
   "cell_type": "code",
   "execution_count": 5,
   "metadata": {},
   "outputs": [
    {
     "name": "stdout",
     "output_type": "stream",
     "text": [
      "[26, 3, 89, 48, 83, 21, 1, 95, 54, 33, 35, 90, 92, 94, 17, 50, 59, 28, 56, 74, 53, 45, 82, 65, 27, 14, 60, 20, 66, 67, 8, 70, 69, 40, 24, 72, 84, 80, 19, 85, 9, 98, 6, 76, 78, 68, 25, 16, 97, 99, 58, 4, 51, 31, 62, 2, 81, 42, 46, 41, 77, 34, 71, 79, 18, 47, 13, 12, 7, 52, 87, 43, 5, 61, 38, 96, 44, 10, 57, 30, 11, 73, 91, 75, 32, 36, 23, 22, 86, 39, 15, 88, 29, 64, 93, 0, 49, 63, 37, 55]\n"
     ]
    }
   ],
   "source": [
    "from random import shuffle, seed\n",
    "mapping = [i for i in range(100)]\n",
    "seed(1729)\n",
    "shuffle(mapping)\n",
    "print(mapping)"
   ]
  },
  {
   "cell_type": "markdown",
   "metadata": {},
   "source": [
    "You can think of this as a sort of mapping, where the value of a given index tells you which index to look at next. For example index zero contains the value $26$ so we'd next look at index $26$. This has value $60$ so we'd then look at index $60$, etc.\n",
    "\n",
    "It is not hard to show that if you continue following this rule, you'll eventually get back to where you started. It would be interesting to know how many steps this takes.\n",
    "\n",
    "Ask the user for an index to start from and then follow the rule until you get back to the start, keeping track of how many steps this takes.\n",
    "\n",
    "You will want to define a variable `steps` to keep track of how many steps you've taken as well as a variable `curr_value`, initial set to the starting value, to hold the current value you are looking at. You should keep looping until `curr_value == start_value` and `steps >= 1`. The last condition is needed to ensure that you don't immediately exit the loop. On each loop iteration you can increment the step count and update the current value to be `mapping[curr_value]`. Have a go at tying these ideas together into a solution."
   ]
  },
  {
   "cell_type": "code",
   "execution_count": null,
   "metadata": {},
   "outputs": [],
   "source": []
  },
  {
   "cell_type": "markdown",
   "metadata": {},
   "source": [
    "(Fun fact: for a mapping with $n$ elements, the average chain length is roughly equal to $\\frac{n}{\\log(n)}$)"
   ]
  },
  {
   "cell_type": "markdown",
   "metadata": {},
   "source": [
    "## Slicing Lists"
   ]
  },
  {
   "cell_type": "markdown",
   "metadata": {},
   "source": [
    "Using the variable `numbers` from above, extract a sub-list containing the 5th to 15th elements"
   ]
  },
  {
   "cell_type": "code",
   "execution_count": null,
   "metadata": {},
   "outputs": [],
   "source": []
  },
  {
   "cell_type": "markdown",
   "metadata": {},
   "source": [
    "Extract a sub-list containing all of the 5 last elements except the actual last"
   ]
  },
  {
   "cell_type": "code",
   "execution_count": null,
   "metadata": {},
   "outputs": [],
   "source": []
  },
  {
   "cell_type": "markdown",
   "metadata": {},
   "source": [
    "If I use the slice `m:n` with $m<n$, how many elements will the resulting list contain?"
   ]
  },
  {
   "cell_type": "code",
   "execution_count": null,
   "metadata": {},
   "outputs": [],
   "source": []
  },
  {
   "cell_type": "markdown",
   "metadata": {},
   "source": []
  },
  {
   "cell_type": "markdown",
   "metadata": {},
   "source": [
    "You are welcome to use variables as the indices for your slice.\n",
    "* Create a list of 10 numbers\n",
    "* Set a variable `n` to initially be 2\n",
    "* Loop until `n` is greater than 5, incrementing `n` by one each time\n",
    "* On each loop print out the results of taking the slice `n:8`"
   ]
  },
  {
   "cell_type": "code",
   "execution_count": null,
   "metadata": {},
   "outputs": [],
   "source": []
  },
  {
   "cell_type": "markdown",
   "metadata": {},
   "source": [
    "## Manipulating Lists"
   ]
  },
  {
   "cell_type": "markdown",
   "metadata": {},
   "source": [
    "Create an empty list called `squares` using `squares = []`"
   ]
  },
  {
   "cell_type": "code",
   "execution_count": null,
   "metadata": {},
   "outputs": [],
   "source": []
  },
  {
   "cell_type": "markdown",
   "metadata": {},
   "source": [
    "Loop through the values 1 to 10, appending the square of this value to the list at each stage. Finish by printing out the variable"
   ]
  },
  {
   "cell_type": "code",
   "execution_count": null,
   "metadata": {},
   "outputs": [],
   "source": []
  },
  {
   "cell_type": "markdown",
   "metadata": {},
   "source": [
    "You can check if a value is in a list using `val in my_list`. Use this idea alongside the method for removing by value to delete all instances of the word \"spam\" in the following list"
   ]
  },
  {
   "cell_type": "code",
   "execution_count": 6,
   "metadata": {},
   "outputs": [],
   "source": [
    "menu = [\"Spam\", \"Sausage\", \"Spam\", \"Spam\", \"Spam\", \"Bacon\", \"Spam\", \"Tomato\", \"Spam\"]"
   ]
  },
  {
   "cell_type": "code",
   "execution_count": null,
   "metadata": {},
   "outputs": [],
   "source": []
  },
  {
   "cell_type": "markdown",
   "metadata": {},
   "source": [
    "Create a list of decimal numbers and loop through it, replacing each element with half its current value"
   ]
  },
  {
   "cell_type": "code",
   "execution_count": null,
   "metadata": {},
   "outputs": [],
   "source": []
  },
  {
   "cell_type": "markdown",
   "metadata": {},
   "source": [
    "Beware: when you delete an element of a list, you will change its length and cause all elements after it to 'shuffle down'. Create a list of 8 numbers and delete every other element, starting with the first, using a while loop."
   ]
  },
  {
   "cell_type": "code",
   "execution_count": null,
   "metadata": {},
   "outputs": [],
   "source": []
  },
  {
   "cell_type": "markdown",
   "metadata": {},
   "source": [
    "## Tuples"
   ]
  },
  {
   "cell_type": "markdown",
   "metadata": {},
   "source": [
    "Create a tuple containing five numbers. Extract the last value using negative indexing"
   ]
  },
  {
   "cell_type": "code",
   "execution_count": null,
   "metadata": {},
   "outputs": [],
   "source": []
  },
  {
   "cell_type": "markdown",
   "metadata": {},
   "source": [
    "Just like we can convert between data types using `int()`, `str()`, `float()` and `bool()`, we can convert between lists and tuples using `list()` and `tuple()`. Create a list, append a value, convert it to a tuple then attempt to append another value, confirming that this can't be done"
   ]
  },
  {
   "cell_type": "code",
   "execution_count": null,
   "metadata": {},
   "outputs": [],
   "source": []
  },
  {
   "cell_type": "markdown",
   "metadata": {},
   "source": [
    "Repeat this in the opposite direction, starting with a tuple"
   ]
  },
  {
   "cell_type": "code",
   "execution_count": null,
   "metadata": {},
   "outputs": [],
   "source": []
  }
 ],
 "metadata": {
  "kernelspec": {
   "display_name": "Python 3",
   "language": "python",
   "name": "python3"
  },
  "language_info": {
   "codemirror_mode": {
    "name": "ipython",
    "version": 3
   },
   "file_extension": ".py",
   "mimetype": "text/x-python",
   "name": "python",
   "nbconvert_exporter": "python",
   "pygments_lexer": "ipython3",
   "version": "3.7.3"
  }
 },
 "nbformat": 4,
 "nbformat_minor": 2
}
