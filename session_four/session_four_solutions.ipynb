{
 "cells": [
  {
   "cell_type": "markdown",
   "metadata": {},
   "source": [
    "<a href=\"https://colab.research.google.com/github/THargreaves/beginners-python/blob/master/session_four/session_four_solutions.ipynb\" target=\"_parent\"><img src=\"https://colab.research.google.com/assets/colab-badge.svg\" alt=\"Open In Colab\"/></a>"
   ]
  },
  {
   "cell_type": "markdown",
   "metadata": {},
   "source": [
    "<center>Spotted a mistake? Report it <a href=\"https://github.com/THargreaves/beginners-python/issues/new\">here</a></center>"
   ]
  },
  {
   "cell_type": "markdown",
   "metadata": {},
   "source": [
    "# Beginner's Python—Session Four Homework Solutions"
   ]
  },
  {
   "cell_type": "markdown",
   "metadata": {},
   "source": [
    "## Non-numeric Lists"
   ]
  },
  {
   "cell_type": "markdown",
   "metadata": {},
   "source": [
    "Ask the user to input 3 days of the week (using `input()` three times) and use these to create a list of strings"
   ]
  },
  {
   "cell_type": "code",
   "execution_count": 1,
   "metadata": {},
   "outputs": [
    {
     "name": "stdout",
     "output_type": "stream",
     "text": [
      "Pick a day of the week: Monday\n",
      "Another please: Wednesday\n",
      "And a final one: Saturday\n",
      "['Monday', 'Wednesday', 'Saturday']\n"
     ]
    }
   ],
   "source": [
    "day1 = input(\"Pick a day of the week: \")\n",
    "day2 = input(\"Another please: \")\n",
    "day3 = input(\"And a final one: \")\n",
    "days_list = [day1, day2, day3]\n",
    "print(days_list)"
   ]
  },
  {
   "cell_type": "markdown",
   "metadata": {},
   "source": [
    "Create a list containing three lists. The first list should contain the numbers $1$ to $3$, the second should contain the English forms (e.g. \"one\") of these words. And the last should contain Boolean values which are True if the corresponding number is prime (hint: $1$ is not prime, $2$ and $3$ are)"
   ]
  },
  {
   "cell_type": "code",
   "execution_count": 2,
   "metadata": {},
   "outputs": [],
   "source": [
    "numbers = [\n",
    "    [1, 2, 3],\n",
    "    [\"One\", \"Two\", \"Three\"],\n",
    "    [False, True, True]\n",
    "]"
   ]
  },
  {
   "cell_type": "markdown",
   "metadata": {},
   "source": [
    "Lists of lists don't have to be square. Create a list containing lists of length $1$, $2$, and $3$, each filled with numbers of your choosing"
   ]
  },
  {
   "cell_type": "code",
   "execution_count": 3,
   "metadata": {},
   "outputs": [],
   "source": [
    "non_square_list_of_lists = [\n",
    "    [1],\n",
    "    [2, 3],\n",
    "    [4, 5, 6]\n",
    "]"
   ]
  },
  {
   "cell_type": "markdown",
   "metadata": {},
   "source": [
    "## Extracting List Elements"
   ]
  },
  {
   "cell_type": "markdown",
   "metadata": {},
   "source": [
    "Run the following code to generate a list of random numbers with a length randomly chosen between 50 and 100"
   ]
  },
  {
   "cell_type": "code",
   "execution_count": 4,
   "metadata": {},
   "outputs": [],
   "source": [
    "from random import random, randint, seed\n",
    "seed(1729)\n",
    "numbers = [random() for __ in range(randint(50, 100))]"
   ]
  },
  {
   "cell_type": "markdown",
   "metadata": {},
   "source": [
    "What is the 42nd element of this list?"
   ]
  },
  {
   "cell_type": "code",
   "execution_count": 5,
   "metadata": {},
   "outputs": [
    {
     "data": {
      "text/plain": [
       "0.23234868054280078"
      ]
     },
     "execution_count": 5,
     "metadata": {},
     "output_type": "execute_result"
    }
   ],
   "source": [
    "numbers[41]"
   ]
  },
  {
   "cell_type": "markdown",
   "metadata": {},
   "source": [
    "What is the value of the element that is tenth from the end of the list?"
   ]
  },
  {
   "cell_type": "code",
   "execution_count": 6,
   "metadata": {},
   "outputs": [
    {
     "data": {
      "text/plain": [
       "0.2680869869099519"
      ]
     },
     "execution_count": 6,
     "metadata": {},
     "output_type": "execute_result"
    }
   ],
   "source": [
    "numbers[-10]"
   ]
  },
  {
   "cell_type": "markdown",
   "metadata": {},
   "source": [
    "What happens when you try to access the value of an index that doesn't exist?"
   ]
  },
  {
   "cell_type": "code",
   "execution_count": 7,
   "metadata": {},
   "outputs": [
    {
     "ename": "IndexError",
     "evalue": "list index out of range",
     "output_type": "error",
     "traceback": [
      "\u001b[1;31m---------------------------------------------------------------------------\u001b[0m",
      "\u001b[1;31mIndexError\u001b[0m                                Traceback (most recent call last)",
      "\u001b[1;32m<ipython-input-7-0648a7514ee0>\u001b[0m in \u001b[0;36m<module>\u001b[1;34m\u001b[0m\n\u001b[1;32m----> 1\u001b[1;33m \u001b[0mnumbers\u001b[0m\u001b[1;33m[\u001b[0m\u001b[1;36m101\u001b[0m\u001b[1;33m]\u001b[0m\u001b[1;33m\u001b[0m\u001b[1;33m\u001b[0m\u001b[0m\n\u001b[0m",
      "\u001b[1;31mIndexError\u001b[0m: list index out of range"
     ]
    }
   ],
   "source": [
    "numbers[101]"
   ]
  },
  {
   "cell_type": "markdown",
   "metadata": {},
   "source": [
    "We recieve an 'on of range' error"
   ]
  },
  {
   "cell_type": "markdown",
   "metadata": {},
   "source": [
    "_This is quite a tough challenge, but try to persevere. You can always check out the solutions if you're unsure_\n",
    "\n",
    "The following code will create a reordering of the numbers 0 to 99"
   ]
  },
  {
   "cell_type": "code",
   "execution_count": 9,
   "metadata": {},
   "outputs": [
    {
     "name": "stdout",
     "output_type": "stream",
     "text": [
      "[69, 56, 2, 32, 67, 62, 93, 89, 4, 59, 10, 75, 15, 87, 16, 76, 8, 40, 34, 24, 94, 55, 39, 22, 99, 79, 98, 88, 49, 42, 1, 31, 3, 72, 20, 81, 60, 43, 33, 53, 91, 41, 9, 57, 74, 68, 35, 18, 29, 11, 13, 71, 25, 17, 65, 14, 27, 73, 86, 30, 96, 61, 54, 80, 90, 82, 44, 38, 48, 12, 6, 92, 51, 28, 84, 77, 97, 45, 50, 47, 95, 78, 0, 63, 70, 19, 26, 36, 46, 66, 37, 23, 7, 85, 21, 58, 64, 52, 5, 83]\n"
     ]
    }
   ],
   "source": [
    "from random import shuffle, seed\n",
    "mapping = [i for i in range(100)]\n",
    "seed(1729)\n",
    "shuffle(mapping)\n",
    "print(mapping)"
   ]
  },
  {
   "cell_type": "markdown",
   "metadata": {},
   "source": [
    "You can think of this as a sort of mapping, where the value of a given index tells you which index to look at next. For example index zero contains the value $26$ so we'd next look at index $26$. This has value $60$ so we'd then look at index $60$, etc.\n",
    "\n",
    "It is not hard to show that if you continue following this rule, you'll eventually get back to where you started. It would be interesting to know how many steps this takes.\n",
    "\n",
    "Ask the user for an index to start from and then follow the rule until you get back to the start, keeping track of how many steps this takes.\n",
    "\n",
    "You will want to define a variable `steps` to keep track of how many steps you've taken as well as a variable `curr_value`, initial set to the starting value, to hold the current value you are looking at. You should keep looping until `curr_value == start_value` and `steps >= 1`. The last condition is needed to ensure that you don't immediately exit the loop. On each loop iteration you can increment the step count and update the current value to be `mapping[curr_value]`. Have a go at tying these ideas together into a solution."
   ]
  },
  {
   "cell_type": "code",
   "execution_count": 17,
   "metadata": {},
   "outputs": [
    {
     "name": "stdout",
     "output_type": "stream",
     "text": [
      "Starting value: 42\n",
      "Returned to 42 after 33 steps\n"
     ]
    }
   ],
   "source": [
    "start_value = int(input(\"Starting value: \"))\n",
    "curr_val = start_value\n",
    "steps = 0\n",
    "while curr_val != start_value or steps == 0:\n",
    "    curr_val = mapping[curr_val]\n",
    "    steps += 1\n",
    "print(\"Returned to\", start_value, \"after\", steps, \"steps\")"
   ]
  },
  {
   "cell_type": "markdown",
   "metadata": {},
   "source": [
    "(Fun fact: for a mapping with $n$ elements, the average chain length is roughly equal to $\\frac{n}{\\log(n)}$)"
   ]
  },
  {
   "cell_type": "markdown",
   "metadata": {},
   "source": [
    "## Slicing Lists"
   ]
  },
  {
   "cell_type": "markdown",
   "metadata": {},
   "source": [
    "Using the variable `numbers` from above, extract a sub-list containing the 5th to 15th elements"
   ]
  },
  {
   "cell_type": "code",
   "execution_count": 18,
   "metadata": {},
   "outputs": [
    {
     "data": {
      "text/plain": [
       "[0.18251911452417136,\n",
       " 0.29217588543820794,\n",
       " 0.3630932932632249,\n",
       " 0.8671459725962595,\n",
       " 0.2076513315470634,\n",
       " 0.8289947875089807,\n",
       " 0.15602920092468964,\n",
       " 0.7308024134384177,\n",
       " 0.4997260049413905,\n",
       " 0.6133376468495829]"
      ]
     },
     "execution_count": 18,
     "metadata": {},
     "output_type": "execute_result"
    }
   ],
   "source": [
    "numbers[4:14]"
   ]
  },
  {
   "cell_type": "markdown",
   "metadata": {},
   "source": [
    "Extract a sub-list containing all of the 5 last elements except the actual last"
   ]
  },
  {
   "cell_type": "code",
   "execution_count": 19,
   "metadata": {},
   "outputs": [
    {
     "data": {
      "text/plain": [
       "[0.18997501537917683,\n",
       " 0.08899260541674403,\n",
       " 0.4722608870711954,\n",
       " 0.6845677309179482]"
      ]
     },
     "execution_count": 19,
     "metadata": {},
     "output_type": "execute_result"
    }
   ],
   "source": [
    "numbers[-5:-1]"
   ]
  },
  {
   "cell_type": "markdown",
   "metadata": {},
   "source": [
    "If I use the slice `m:n` with $m<n$, how many elements will the resulting list contain?"
   ]
  },
  {
   "cell_type": "code",
   "execution_count": null,
   "metadata": {},
   "outputs": [],
   "source": [
    "# you can experiment here"
   ]
  },
  {
   "cell_type": "markdown",
   "metadata": {},
   "source": [
    "The slice will result in $m-n$ elements. This is why slices don't include the last element—it makes it easier to see how many elements your slice will produce"
   ]
  },
  {
   "cell_type": "markdown",
   "metadata": {},
   "source": [
    "You are welcome to use variables as the indices for your slice.\n",
    "* Create a list of 10 numbers\n",
    "* Set a variable `n` to initially be 2\n",
    "* Loop until `n` is greater than 5, incrementing `n` by one each time\n",
    "* On each loop print out the results of taking the slice `n:8`"
   ]
  },
  {
   "cell_type": "code",
   "execution_count": 20,
   "metadata": {},
   "outputs": [
    {
     "name": "stdout",
     "output_type": "stream",
     "text": [
      "[7, 1, 9, 2, 3, 7]\n",
      "[1, 9, 2, 3, 7]\n",
      "[9, 2, 3, 7]\n",
      "[2, 3, 7]\n"
     ]
    }
   ],
   "source": [
    "numbers = [4, 6, 7, 1, 9, 2, 3, 7, 1, 5]\n",
    "n = 2\n",
    "while n <= 5:\n",
    "    print(numbers[n:8])\n",
    "    n += 1"
   ]
  },
  {
   "cell_type": "markdown",
   "metadata": {},
   "source": [
    "## Manipulating Lists"
   ]
  },
  {
   "cell_type": "markdown",
   "metadata": {},
   "source": [
    "Create an empty list called `squares` using `squares = []`"
   ]
  },
  {
   "cell_type": "code",
   "execution_count": 24,
   "metadata": {},
   "outputs": [],
   "source": [
    "squares = []"
   ]
  },
  {
   "cell_type": "markdown",
   "metadata": {},
   "source": [
    "Loop through the values 1 to 10, appending the square of this value to the list at each stage. Finish by printing out the variable"
   ]
  },
  {
   "cell_type": "code",
   "execution_count": 25,
   "metadata": {},
   "outputs": [
    {
     "name": "stdout",
     "output_type": "stream",
     "text": [
      "[1, 4, 9, 16, 25, 36, 49, 64, 81, 100]\n"
     ]
    }
   ],
   "source": [
    "n = 1\n",
    "while n <= 10:\n",
    "    squares.append(n ** 2)  # or n * n\n",
    "    n += 1\n",
    "print(squares)"
   ]
  },
  {
   "cell_type": "markdown",
   "metadata": {},
   "source": [
    "You can check if a value is in a list using `val in my_list`. Use this idea alongside the method for removing by value to delete all instances of the word \"spam\" in the following list"
   ]
  },
  {
   "cell_type": "code",
   "execution_count": 26,
   "metadata": {},
   "outputs": [],
   "source": [
    "menu = [\"Spam\", \"Sausage\", \"Spam\", \"Spam\", \"Spam\", \"Bacon\", \"Spam\", \"Tomato\", \"Spam\"]"
   ]
  },
  {
   "cell_type": "code",
   "execution_count": 27,
   "metadata": {},
   "outputs": [
    {
     "name": "stdout",
     "output_type": "stream",
     "text": [
      "['Sausage', 'Bacon', 'Tomato']\n"
     ]
    }
   ],
   "source": [
    "while \"Spam\" in menu:\n",
    "    menu.remove(\"Spam\")\n",
    "print(menu)"
   ]
  },
  {
   "cell_type": "markdown",
   "metadata": {},
   "source": [
    "Note: although this solution does work, it is not at all efficient so should not be used for large lists"
   ]
  },
  {
   "cell_type": "markdown",
   "metadata": {},
   "source": [
    "Create a list of decimal numbers and loop through it, replacing each element with half its current value"
   ]
  },
  {
   "cell_type": "code",
   "execution_count": 30,
   "metadata": {},
   "outputs": [
    {
     "name": "stdout",
     "output_type": "stream",
     "text": [
      "[1.57, 1.36, 0.81, 0.705, 0.2885]\n"
     ]
    }
   ],
   "source": [
    "constants = [3.14, 2.72, 1.62, 1.41, 0.577]\n",
    "i = 0\n",
    "while i < len(constants):\n",
    "    constants[i] = constants[i] / 2\n",
    "    i += 1\n",
    "print(constants)"
   ]
  },
  {
   "cell_type": "markdown",
   "metadata": {},
   "source": [
    "Beware: when you delete an element of a list, you will change its length and cause all elements after it to 'shuffle down'. Create a list of 8 numbers and delete every other element, starting with the first, using a while loop."
   ]
  },
  {
   "cell_type": "code",
   "execution_count": 36,
   "metadata": {},
   "outputs": [
    {
     "name": "stdout",
     "output_type": "stream",
     "text": [
      "[9, 3, 7, 4]\n"
     ]
    }
   ],
   "source": [
    "numbers = [3, 9, 1, 3, 4, 7, 5, 4]\n",
    "i = 0\n",
    "while i < 4:\n",
    "    del numbers[i]\n",
    "    i += 1\n",
    "print(numbers)"
   ]
  },
  {
   "cell_type": "markdown",
   "metadata": {},
   "source": [
    "## Tuples"
   ]
  },
  {
   "cell_type": "markdown",
   "metadata": {},
   "source": [
    "Create a tuple containing five numbers. Extract the last value using negative indexing"
   ]
  },
  {
   "cell_type": "code",
   "execution_count": 38,
   "metadata": {},
   "outputs": [
    {
     "data": {
      "text/plain": [
       "2"
      ]
     },
     "execution_count": 38,
     "metadata": {},
     "output_type": "execute_result"
    }
   ],
   "source": [
    "numbers = (4, 8, 6, 0, 2)\n",
    "numbers[-1]"
   ]
  },
  {
   "cell_type": "markdown",
   "metadata": {},
   "source": [
    "Just like we can convert between data types using `int()`, `str()`, `float()` and `bool()`, we can convert between lists and tuples using `list()` and `tuple()`. Create a list, append a value, convert it to a tuple then attempt to append another value, confirming that this can't be done"
   ]
  },
  {
   "cell_type": "code",
   "execution_count": 39,
   "metadata": {},
   "outputs": [
    {
     "name": "stdout",
     "output_type": "stream",
     "text": [
      "['Dog', 'Cat', 'Goldfish', 'Rabbit']\n"
     ]
    },
    {
     "ename": "AttributeError",
     "evalue": "'tuple' object has no attribute 'append'",
     "output_type": "error",
     "traceback": [
      "\u001b[1;31m---------------------------------------------------------------------------\u001b[0m",
      "\u001b[1;31mAttributeError\u001b[0m                            Traceback (most recent call last)",
      "\u001b[1;32m<ipython-input-39-89942363b23f>\u001b[0m in \u001b[0;36m<module>\u001b[1;34m\u001b[0m\n\u001b[0;32m      3\u001b[0m \u001b[0mprint\u001b[0m\u001b[1;33m(\u001b[0m\u001b[0mpets\u001b[0m\u001b[1;33m)\u001b[0m\u001b[1;33m\u001b[0m\u001b[1;33m\u001b[0m\u001b[0m\n\u001b[0;32m      4\u001b[0m \u001b[0mpets\u001b[0m \u001b[1;33m=\u001b[0m \u001b[0mtuple\u001b[0m\u001b[1;33m(\u001b[0m\u001b[0mpets\u001b[0m\u001b[1;33m)\u001b[0m\u001b[1;33m\u001b[0m\u001b[1;33m\u001b[0m\u001b[0m\n\u001b[1;32m----> 5\u001b[1;33m \u001b[0mpets\u001b[0m\u001b[1;33m.\u001b[0m\u001b[0mappend\u001b[0m\u001b[1;33m(\u001b[0m\u001b[1;34m\"Hamster\"\u001b[0m\u001b[1;33m)\u001b[0m\u001b[1;33m\u001b[0m\u001b[1;33m\u001b[0m\u001b[0m\n\u001b[0m",
      "\u001b[1;31mAttributeError\u001b[0m: 'tuple' object has no attribute 'append'"
     ]
    }
   ],
   "source": [
    "pets = [\"Dog\", \"Cat\", \"Goldfish\"]\n",
    "pets.append(\"Rabbit\")\n",
    "print(pets)\n",
    "pets = tuple(pets)\n",
    "pets.append(\"Hamster\")"
   ]
  },
  {
   "cell_type": "markdown",
   "metadata": {},
   "source": [
    "Create a tuple and convert this to a list. Check the type of the variable before and after the change"
   ]
  },
  {
   "cell_type": "code",
   "execution_count": 41,
   "metadata": {},
   "outputs": [
    {
     "name": "stdout",
     "output_type": "stream",
     "text": [
      "<class 'tuple'>\n",
      "<class 'list'>\n"
     ]
    }
   ],
   "source": [
    "pets = (\"Dog\", \"Cat\", \"Goldfish\")\n",
    "print(type(pets))\n",
    "pets = list(pets)\n",
    "print(type(pets))"
   ]
  }
 ],
 "metadata": {
  "kernelspec": {
   "display_name": "Python 3",
   "language": "python",
   "name": "python3"
  },
  "language_info": {
   "codemirror_mode": {
    "name": "ipython",
    "version": 3
   },
   "file_extension": ".py",
   "mimetype": "text/x-python",
   "name": "python",
   "nbconvert_exporter": "python",
   "pygments_lexer": "ipython3",
   "version": "3.7.3"
  }
 },
 "nbformat": 4,
 "nbformat_minor": 2
}
