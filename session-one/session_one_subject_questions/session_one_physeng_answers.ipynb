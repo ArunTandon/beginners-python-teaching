{
 "cells": [
  {
   "cell_type": "raw",
   "metadata": {},
   "source": [
    "<a href=\\\"https://colab.research.google.com/github/warwickdatascience/beginners-python/blob/master/session_one/session_one_subject_questions/session_one_physeng_answers.ipynb\\\" target=\\\"_parent\\\"><img src=\\\"https://colab.research.google.com/assets/colab-badge.svg\\\" alt=\\\"Open In Colab\\\"/></a>"
   ]
  },
  {
   "cell_type": "markdown",
   "metadata": {},
   "source": [
    "# Beginner's Python—Session One Physics/Engineering Answers"
   ]
  },
  {
   "cell_type": "markdown",
   "metadata": {},
   "source": [
    "## Planck Length"
   ]
  },
  {
   "cell_type": "markdown",
   "metadata": {
    "id": "HVB6MaUlAa-C"
   },
   "source": [
    "The Planck units are units defined in terms of 4 universal constants, namely the gravitational constant $G$, the (reduced) Planck constant $\\hbar$, the speed of light $c$, and the Boltzmann constant $k_B$. \n",
    "\n",
    "\n",
    "\n",
    "Go to https://bit.ly/3k0m3EK. Create three variables called ```G```, ```h_bar```, and ```c``` using the corresponding values given in Table 1 of the Wikipedia page, to *one* significant figure. \n",
    "\n",
    "\n",
    "**NOTES:** \n",
    "*   You should write a number such as $3 \\times 10^{-25}$ as ```3e-25``` here.\n",
    "*   The square root of a variable $a$ can be written ```a**0.5```.\n"
   ]
  },
  {
   "cell_type": "code",
   "execution_count": 11,
   "metadata": {
    "id": "RPWfJGIuEcYZ"
   },
   "outputs": [],
   "source": [
    "G = 7e-11\n",
    "h_bar = 1e-34\n",
    "c = 3e8"
   ]
  },
  {
   "cell_type": "markdown",
   "metadata": {
    "id": "nDmqumiFEf3t"
   },
   "source": [
    "The derived Planck unit of area is given by $A = \\frac{\\hbar G}{c^3}$. \n",
    "\n",
    "*   Calculate the Planck area using the above formula and the 3 variables you defined, and assign it to a\n",
    "variable called ```area```.\n",
    "*   The Planck length is the square root of the Planck area. Calculate it using ```area```, and assign it to a variable called ```length```.\n",
    "\n"
   ]
  },
  {
   "cell_type": "code",
   "execution_count": 12,
   "metadata": {
    "id": "0TSnVermGVUC"
   },
   "outputs": [],
   "source": [
    "area = h_bar*G / c**3\n",
    "length = area**0.5"
   ]
  },
  {
   "cell_type": "markdown",
   "metadata": {
    "id": "o5k_oWYbGeXT"
   },
   "source": [
    "Running the below cell will assign the variable ```length_precise``` to a more precise value of the Planck length."
   ]
  },
  {
   "cell_type": "code",
   "execution_count": 13,
   "metadata": {
    "id": "5em3SiFCHB0s"
   },
   "outputs": [],
   "source": [
    "length_precise = 1.616255e-35"
   ]
  },
  {
   "cell_type": "markdown",
   "metadata": {
    "id": "-EJRKU4OHWcq"
   },
   "source": [
    "*   Calculate the difference between ```length_precise``` and ```length```, and assign it to the variable ```diff```.\n",
    "*   Calculate the ratio between ```diff``` and ```length_precise```. Assign this value to a variable called ```frac_diff```.\n",
    "*   Print ```frac_diff``` to five decimal places.\n",
    "\n",
    "**NOTE:** You can use the function ```round()``` to round a float to a given number of decimal places. For example, ```round(x, 3)``` will return the float ```x``` rounded to three decimal places. More about other useful functions will be in later sessions.\n",
    "\n",
    "\n",
    "\n"
   ]
  },
  {
   "cell_type": "code",
   "execution_count": 14,
   "metadata": {
    "colab": {
     "base_uri": "https://localhost:8080/",
     "height": 34
    },
    "id": "JiEjY6A8Hoza",
    "outputId": "865a7a0b-2ff0-4f78-9a15-f1d9974b351b"
   },
   "outputs": [
    {
     "output_type": "stream",
     "name": "stdout",
     "text": [
      "0.00378\n"
     ]
    }
   ],
   "source": [
    "diff = length_precise - length\n",
    "frac_diff = diff / length_precise\n",
    "print(round(frac_diff, 5))"
   ]
  },
  {
   "cell_type": "markdown",
   "metadata": {
    "id": "3zaN4J6tAM-j"
   },
   "source": [
    "Print the following phrase, replacing the ??? with the correct value, using the variables you've defined above: \n",
    "\n",
    "_\"The fractional difference, to 5 decimal places, between the calculated Planck constant and the given one is ???. The value of G, to one significant figure, is ???.\"_\n",
    "\n",
    "**NOTE:** By default, `print` will place spaces between each input. If we wish to have the numbers output next to the full stops without a space, we'll need to use string concatenation. For example `str(42) + \".\"` will give `42.`. Notice that we have to convert the number to a string first using `str` else we will recieve a type error."
   ]
  },
  {
   "cell_type": "code",
   "execution_count": 15,
   "metadata": {
    "id": "PBnRl1ukB08s"
   },
   "outputs": [
    {
     "output_type": "stream",
     "name": "stdout",
     "text": [
      "The fractional difference, to 5 decimal places, between the calculated Planck constant and the given one is 0.0037754118014630654. The value of G, to one significant figure, is 7e-11.\n"
     ]
    }
   ],
   "source": [
    "print(\"The fractional difference, to 5 decimal places,\",\n",
    "      \"between the calculated Planck constant and the given one is\",\n",
    "      str(frac_diff) + \".\",\n",
    "      \"The value of G, to one significant figure, is\",\n",
    "      str(G) + \".\")"
   ]
  },
  {
   "cell_type": "markdown",
   "metadata": {
    "id": "C0QZ5OEqJsLb"
   },
   "source": [
    "What are the variable types of ```c``` and ```area```? Print both below to check."
   ]
  },
  {
   "cell_type": "code",
   "execution_count": 16,
   "metadata": {
    "id": "W6zUU_3hJ-9k"
   },
   "outputs": [
    {
     "output_type": "stream",
     "name": "stdout",
     "text": [
      "<class 'float'>\n<class 'float'>\n"
     ]
    }
   ],
   "source": [
    "print(type(c))\n",
    "print(type(area))"
   ]
  },
  {
   "cell_type": "markdown",
   "metadata": {
    "id": "uVAIWxhXK0bQ"
   },
   "source": [
    "*   Print the two variables below.\n",
    "\n",
    "What happens when you try to convert them to a different variable type? \n",
    "\n",
    "*   Try to convert both to ```int``` and print their new values. Is there any loss of information? Think about what has happened here.\n",
    "\n"
   ]
  },
  {
   "cell_type": "code",
   "execution_count": 17,
   "metadata": {
    "id": "s9Wrr86YLdkq"
   },
   "outputs": [
    {
     "output_type": "stream",
     "name": "stdout",
     "text": [
      "300000000.0\n2.5925925925925925e-70\n300000000\n0\n"
     ]
    }
   ],
   "source": [
    "print(c)\n",
    "print(area)\n",
    "print(int(c))\n",
    "print(int(area))"
   ]
  },
  {
   "cell_type": "markdown",
   "metadata": {},
   "source": [
    "## Resistance Training"
   ]
  },
  {
   "cell_type": "markdown",
   "metadata": {
    "id": "azz84WqVM5zE"
   },
   "source": [
    "In a circuit, three resistors are connected in parallel. They each have a resistance, labelled ```R1```, ```R2```, and ```R3```. Create variables for these resistances, taking values $2.5$, $3$ and $4.5$."
   ]
  },
  {
   "cell_type": "code",
   "execution_count": 18,
   "metadata": {
    "id": "Y1cnR0rpbpxI"
   },
   "outputs": [],
   "source": [
    "R1 = 2.5\n",
    "R2 = 3\n",
    "R3 = 4.5"
   ]
  },
  {
   "cell_type": "markdown",
   "metadata": {
    "id": "rDA_lg4MbqIa"
   },
   "source": [
    "The total resistance is given by,\n",
    "\n",
    "$$R = \\frac{R_1R_2R_3}{R_1R_2+R_1R_3+R_2R_3}$$. \n",
    "\n",
    "*   Assign to a new variable, ```R```, the total resistance due to the three resistances from the first part. \n",
    "*   Print ```R```, rounded to five decimal places (see above).\n",
    "*   Print the variable type of ```R```."
   ]
  },
  {
   "cell_type": "code",
   "execution_count": 19,
   "metadata": {
    "colab": {
     "base_uri": "https://localhost:8080/",
     "height": 51
    },
    "id": "rSXvajmZc9OD",
    "outputId": "94eb4794-3468-4bd7-9056-7b1262faeb22"
   },
   "outputs": [
    {
     "output_type": "stream",
     "name": "stdout",
     "text": [
      "1.04651\n",
      "<class 'float'>\n"
     ]
    }
   ],
   "source": [
    "R = R1 * R2 * R3 / (R1 * R2 + R1 * R3 + R2 * R3)\n",
    "print(round(R, 5))\n",
    "print(type(R))"
   ]
  },
  {
   "cell_type": "markdown",
   "metadata": {
    "id": "z93bp3arc9xk"
   },
   "source": [
    "In the box below, print the following phrase, with the ??? replaced with the correct values.\n",
    "\n",
    "You should use expressions involving  ```R1```, ```R2```, ```R3```, and/or ```R```, and return these values as ints, and **NOT** floats, hence the \"approximately\". \n",
    "\n",
    "_\"The product of the three resistances is around ???, which is greater than their sum, which is around ???. The total resistance when they are connected in parallel is approximately ???.\"_"
   ]
  },
  {
   "cell_type": "code",
   "execution_count": 20,
   "metadata": {
    "colab": {
     "base_uri": "https://localhost:8080/",
     "height": 54
    },
    "id": "zI8AO8t-dTlZ",
    "outputId": "c4fa3d1c-b253-401a-8f56-7a02a8e59436"
   },
   "outputs": [
    {
     "output_type": "stream",
     "name": "stdout",
     "text": [
      "The product of the three resistances is around 33 which is greater than their sum, which is around 10. The total resistance when they are connected in parallel is approximately 1 Ohm.\n"
     ]
    }
   ],
   "source": [
    "print(\"The product of the three resistances is around\",\n",
    "      int(R1 * R2 * R3),\n",
    "      \"which is greater than their sum, which is around\",\n",
    "      str(int(R1 + R2 + R3)) + \".\",\n",
    "      \"The total resistance when they are connected in parallel is approximately\",\n",
    "      int(R), \"Ohm.\")"
   ]
  }
 ],
 "metadata": {
  "kernelspec": {
   "display_name": "Python 3",
   "language": "python",
   "name": "python3"
  },
  "language_info": {
   "codemirror_mode": {
    "name": "ipython",
    "version": 3
   },
   "file_extension": ".py",
   "mimetype": "text/x-python",
   "name": "python",
   "nbconvert_exporter": "python",
   "pygments_lexer": "ipython3",
   "version": "3.8.3-final"
  }
 },
 "nbformat": 4,
 "nbformat_minor": 4
}