{
 "cells": [
  {
   "cell_type": "markdown",
   "metadata": {},
   "source": [
    "# Mathematics and Statistics"
   ]
  },
  {
   "cell_type": "markdown",
   "metadata": {},
   "source": [
    "## Newton-Raphson method"
   ]
  },
  {
   "cell_type": "markdown",
   "metadata": {},
   "source": [
    "Using a while loop, implement the Newton method (also known as the Newton-Raphson method) for finding a root of a function on $f(x)=(x-2)(x+1)$:\n",
    "\n",
    "The procedure is:\n",
    "\n",
    "* Pick an initial point $x_0$\n",
    "* Let $x_1 = x_0 - \\frac{f(x_0)}{f^\\prime(x_0)}$, and so on.... we have\n",
    "* $x_{n+1} = x_n - \\frac{f(x_n)}{f^\\prime(x_n)}$,\n",
    "* Continue until $f(x_n)$ is smaller than a certain threshold, for this example let's use $10^{-7}$, written 10e-7 in Python.\n",
    "\n",
    "Start with $x = 2.3$ and print the new approximation of $x$ at each iteration\n",
    "\n",
    "*Note* In the first set of Maths/Stats problems, you did this without a while loop and specifying a tolerance"
   ]
  },
  {
   "cell_type": "code",
   "execution_count": 1,
   "metadata": {},
   "outputs": [
    {
     "name": "stdout",
     "output_type": "stream",
     "text": [
      "1.8695652173913044\n",
      "2.0697674418604652\n",
      "1.9662921348314606\n",
      "2.0171428571428573\n",
      "1.9915014164305949\n",
      "2.004267425320057\n",
      "1.9978708303761532\n",
      "2.0010657193605685\n",
      "1.9994674241079353\n",
      "2.00026635887419\n",
      "1.9998668382973057\n",
      "2.000066585284652\n",
      "1.999966708466037\n",
      "2.0000166460440676\n",
      "1.9999916770472383\n",
      "2.000004161493699\n",
      "1.99999791925748\n",
      "2.0000010403723425\n",
      "1.9999994798140994\n",
      "2.000000260093018\n"
     ]
    }
   ],
   "source": [
    "tol=10e-7\n",
    "x = 2.3\n",
    "while abs((x-2)*(x+1))>tol:\n",
    "    x = x - (x - 2) * (x + 1) / (2*x - x)\n",
    "    print(x)"
   ]
  },
  {
   "cell_type": "markdown",
   "metadata": {},
   "source": [
    "## A Cool Number Theory Problem "
   ]
  },
  {
   "cell_type": "markdown",
   "metadata": {},
   "source": [
    "(I never thought I'd say that...)"
   ]
  },
  {
   "cell_type": "markdown",
   "metadata": {},
   "source": [
    "Use a while loop to find the largest integer n for which the following holds:\n",
    "\n",
    "$\\left \\lfloor{\\frac{n}{2}}\\right \\rfloor + \\left \\lfloor{\\frac{n}{3}}\\right \\rfloor +\n",
    "\\left \\lfloor{\\frac{n}{11}}\\right \\rfloor + \\left \\lfloor{\\frac{n}{13}}\\right \\rfloor < n$,\n",
    "\n",
    "where $\\left \\lfloor \\cdot \\right \\rfloor$ is the floor function (takes the value of the largest integer less than or equal to the input). Note in Python for a positive number $x$, we can use int(x) to find the floor.\n",
    "\n",
    "\n",
    "\n",
    "Hint: We can easily find an upper bound for n using a basic property of the floor function:\n",
    "$ x-1 < \\left \\lfloor x \\right \\rfloor $\n",
    "Therefore, applying to all three floor functions, we have:\n",
    "\n",
    "\n",
    "$ (\\frac{1}{2}+\\frac{1}{3}+\\frac{1}{11}+\\frac{1}{13})n - 4 = \\frac{859}{858}n-4 <  \\left \\lfloor{\\frac{n}{2}}\\right \\rfloor + \\left \\lfloor{\\frac{n}{3}}\\right \\rfloor +\n",
    "\\left \\lfloor{\\frac{n}{11}}\\right \\rfloor + \\left \\lfloor{\\frac{n}{13}}\\right \\rfloor <n$\n",
    "\n",
    "\n",
    "In particular $\\frac{859}{858}n-4 < n$\n",
    "\n",
    "\n",
    "Upon rearranging we get:\n",
    "\n",
    "\n",
    "$\\frac{1}{858}n < 4 \\iff n < 3432$,\n",
    "\n",
    "A nice upper bound :)\n",
    "\n",
    "\n",
    "**Note:** You could solve this just using Maths - congrats if you manage this!"
   ]
  },
  {
   "cell_type": "code",
   "execution_count": 2,
   "metadata": {},
   "outputs": [
    {
     "name": "stdout",
     "output_type": "stream",
     "text": [
      "1715\n"
     ]
    }
   ],
   "source": [
    "n=0\n",
    "while n < 3432:\n",
    "    if int(n/2)+int(n/3)+int(n/11)+int(n/13) < n:\n",
    "        maxn = n\n",
    "    n+=1\n",
    "print(maxn)"
   ]
  },
  {
   "cell_type": "markdown",
   "metadata": {},
   "source": [
    "## Random Walks"
   ]
  },
  {
   "cell_type": "markdown",
   "metadata": {},
   "source": [
    "A random walk in one spatial dimension is a sequence of movements, one unit up or one unit down, each with equal probability."
   ]
  },
  {
   "cell_type": "markdown",
   "metadata": {},
   "source": [
    "What is the probability that a (one spatial dimension) random walk returns to its starting point within 10 timesteps?"
   ]
  },
  {
   "cell_type": "markdown",
   "metadata": {},
   "source": [
    "The following cell imports a package used to randomly generate numbers."
   ]
  },
  {
   "cell_type": "code",
   "execution_count": 3,
   "metadata": {},
   "outputs": [],
   "source": [
    "from random import randint"
   ]
  },
  {
   "cell_type": "markdown",
   "metadata": {},
   "source": [
    "Using this we can generate a -1 or 1 value with equal probability, as shown below.\n",
    "\n",
    "randint(0,1) generates a 0 or 1 value with equal probability."
   ]
  },
  {
   "cell_type": "code",
   "execution_count": 4,
   "metadata": {},
   "outputs": [
    {
     "data": {
      "text/plain": [
       "1"
      ]
     },
     "execution_count": 4,
     "metadata": {},
     "output_type": "execute_result"
    }
   ],
   "source": [
    "# Generates 0 or 1 with equal probability\n",
    "2*randint(0,1)-1"
   ]
  },
  {
   "cell_type": "markdown",
   "metadata": {},
   "source": [
    "Using this, create a random walk with 10 timesteps by creating a list with its position at each timestep using a while loop.\n",
    "\n",
    "Name this list 'positions'."
   ]
  },
  {
   "cell_type": "code",
   "execution_count": 5,
   "metadata": {},
   "outputs": [
    {
     "data": {
      "text/plain": [
       "[0, -1, -2, -3, -2, -1, -2, -1, 0, -1, -2]"
      ]
     },
     "execution_count": 5,
     "metadata": {},
     "output_type": "execute_result"
    }
   ],
   "source": [
    "N=10\n",
    "positions = [0]\n",
    "\n",
    "i = 0\n",
    "while i < N:\n",
    "    positions.append(positions[-1] + 2*randint(0,1)-1)\n",
    "    i+=1\n",
    "positions"
   ]
  },
  {
   "cell_type": "markdown",
   "metadata": {},
   "source": [
    "The following two cells plot this random walk - you don't need to add any code."
   ]
  },
  {
   "cell_type": "code",
   "execution_count": 6,
   "metadata": {},
   "outputs": [],
   "source": [
    "import matplotlib.pyplot as plt"
   ]
  },
  {
   "cell_type": "code",
   "execution_count": 7,
   "metadata": {},
   "outputs": [
    {
     "data": {
      "text/plain": [
       "[<matplotlib.lines.Line2D at 0x7fad60f92ed0>]"
      ]
     },
     "execution_count": 7,
     "metadata": {},
     "output_type": "execute_result"
    },
    {
     "data": {
      "image/png": "[encoded data removed]",
      "text/plain": [
       "<Figure size 432x288 with 1 Axes>"
      ]
     },
     "metadata": {
      "needs_background": "light"
     },
     "output_type": "display_data"
    }
   ],
   "source": [
    "plt.plot(positions)"
   ]
  },
  {
   "cell_type": "markdown",
   "metadata": {},
   "source": [
    "Now to approximate the probability a random walk with 10 timesteps returns to the origin.\n",
    "\n",
    "See if you can run the above code 100,000 times and see the proportion that return to the origin."
   ]
  },
  {
   "cell_type": "markdown",
   "metadata": {},
   "source": [
    "Hint 1: We can see if the random walk returns to the origin within the 10 timesteps using the following code:\n",
    "\n",
    "(It will return True or False, depending on whether or not it returned)"
   ]
  },
  {
   "cell_type": "code",
   "execution_count": 8,
   "metadata": {},
   "outputs": [
    {
     "data": {
      "text/plain": [
       "True"
      ]
     },
     "execution_count": 8,
     "metadata": {},
     "output_type": "execute_result"
    }
   ],
   "source": [
    "0 in positions"
   ]
  },
  {
   "cell_type": "markdown",
   "metadata": {},
   "source": [
    "Hint 2: See if you can use a nested while loop with your code from above."
   ]
  },
  {
   "cell_type": "code",
   "execution_count": 9,
   "metadata": {},
   "outputs": [
    {
     "name": "stdout",
     "output_type": "stream",
     "text": [
      "0.75175\n"
     ]
    }
   ],
   "source": [
    "total=0\n",
    "N=10\n",
    "n=100000\n",
    "\n",
    "j=0\n",
    "while j < n:\n",
    "    \n",
    "    positions = [0]\n",
    "\n",
    "    i = 0\n",
    "    while i < N:\n",
    "        positions.append(positions[-1] + 2*randint(0,1)-1)\n",
    "        i+=1\n",
    "    if 0 in positions[1:]:\n",
    "        total+=1\n",
    "    j+=1\n",
    "            \n",
    "print(total/n)"
   ]
  }
 ],
 "metadata": {
  "kernelspec": {
   "display_name": "Python 3",
   "language": "python",
   "name": "python3"
  },
  "language_info": {
   "codemirror_mode": {
    "name": "ipython",
    "version": 3
   },
   "file_extension": ".py",
   "mimetype": "text/x-python",
   "name": "python",
   "nbconvert_exporter": "python",
   "pygments_lexer": "ipython3",
   "version": "3.7.4"
  }
 },
 "nbformat": 4,
 "nbformat_minor": 2
}
