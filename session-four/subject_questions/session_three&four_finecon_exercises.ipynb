{
 "cells": [
  {
   "cell_type": "markdown",
   "metadata": {
    "id": "aZfhY-rNme8c"
   },
   "source": [
    "# Beginner's Python—Session Three and Four Finance/Economics Exercises"
   ]
  },
  {
   "cell_type": "markdown",
   "metadata": {
    "id": "mz4BiqG2me8e"
   },
   "source": [
    "## Inflation in Leamington"
   ]
  },
  {
   "cell_type": "markdown",
   "metadata": {
    "id": "T0KAtvl4me8f"
   },
   "source": [
    "Run the code in the cell below to display Table 1. This table below contains 2016-2020 price data on the five products purchased by Leamington students that serve as a\n",
    "representative “typical basket of goods”. We will use this data to determine insights on the level of inflation during recent years in Leamington."
   ]
  },
  {
   "cell_type": "code",
   "execution_count": null,
   "metadata": {},
   "outputs": [],
   "source": [
    "\n",
    "# Run this cell to display Table 1. DO NOT MODIFY THE CODE ON THIS CELL\n",
    "\n",
    "items = [\"Pints of beer\", \"Smack tickets\", \"Neon tickets\", \"Vialis meals\", \"Pret a Manger coffee\"]\n",
    "prices_2016 = [3.00, 4.00, 4.00, 5.00, 3.00]\n",
    "prices_2017 = [3.24, 4.50, 5.00, 5.55, 3.30]\n",
    "prices_2018 = [3.20, 4.50, 4.75, 5.40, 3.24]\n",
    "prices_2019 = [3.50, 5.75, 5.00, 6.30, 3.65]\n",
    "prices_2020 = [3.75, 6.50, 5.00, 6.90, 4.25]\n",
    "quantities = [6, 2, 1, 2, 5]\n",
    "\n",
    "import pandas as pd\n",
    "\n",
    "table_1 = pd.DataFrame(data = {\"Item\": items,\n",
    "                               \"Average price per unit (2016, £)\": prices_2016,\n",
    "                               \"Average price per unit (2017, £)\": prices_2017,\n",
    "                               \"Average price per unit (2018, £)\": prices_2018,\n",
    "                               \"Average price per unit (2019, £)\": prices_2019,\n",
    "                               \"Average price per unit (2020, £)\": prices_2020,\n",
    "                               \"Weekly quantity purchased by the average student\": quantities\n",
    "                              }).set_index(\"Item\")\n",
    "\n",
    "quantities = [6, 2, 1, 2, \"???\"]\n",
    "prices_2019 = [3.50, 5.75, 5.75, 5.00, 6.30, 3.65]\n",
    "table_1\n"
   ]
  },
  {
   "cell_type": "markdown",
   "metadata": {
    "id": "0T5qTb7Xme8f"
   },
   "source": [
    "To help you out in this analysis, we have stored the columns of the table into the following lists:\n",
    "\n",
    "- `prices_2016`\n",
    "- `prices_2017`\n",
    "- `prices_2018`\n",
    "- `prices_2019`\n",
    "- `prices_2020`\n",
    "- `quantities`\n",
    "\n",
    "Print out these lists to check that they match the data provided in the table.\n"
   ]
  },
  {
   "cell_type": "code",
   "execution_count": null,
   "metadata": {},
   "outputs": [],
   "source": []
  },
  {
   "cell_type": "markdown",
   "metadata": {
    "id": "WWGhCqLcme8j"
   },
   "source": [
    "You may have noticed that we are missing data for the weekly average number of Pret coffees consumed per student and have _\"???\"_  instead of 5. Missing data is a problem that many economists and data scientists face regularly. \n",
    "\n",
    "Alter the 5th element of list `quantities` by assinging it 5, and print out the list before and after this assingment to check that the change has been made."
   ]
  },
  {
   "cell_type": "code",
   "execution_count": null,
   "metadata": {},
   "outputs": [],
   "source": []
  },
  {
   "cell_type": "markdown",
   "metadata": {},
   "source": [
    "Furthermore, it is evident that we have an extra value in the `prices_2019` list since it contains 6 elements whilst there are only 5 products. Upon inspection, it is clear that a duplicate value has been entered for the price of Smack tickets.\n",
    "\n",
    "Remove either the second or third element of the `prices_2019` list. Print out the list before and after doing this to ensure the change has been made appropiately and the list matches the 5th column in the table at the top."
   ]
  },
  {
   "cell_type": "code",
   "execution_count": null,
   "metadata": {},
   "outputs": [],
   "source": []
  },
  {
   "cell_type": "markdown",
   "metadata": {},
   "source": [
    "Now that we have complete data we can begin analysing inflation! To do this we will compute the Consumer Price Index (CPI) for Leamington in 2019 using the following formula: \n",
    "$$CPI_t = \\frac{C_t}{C_0} \\times 100$$\n",
    "\n",
    "Where $C_t$ denotes the cost of the market basket in period $t$ and $C_0$ denotes the cost of the market basket in the base period (we will use 2016 as our base period). The cost of the market basket is determined by summing the average expenditure on each good during that year.\n",
    "\n",
    "To make our work easier, we will combine all of our price lists into one iterable data structure. Create a tuple named `prices` composed of all of the price lists 2016-2020.\n"
   ]
  },
  {
   "cell_type": "code",
   "execution_count": null,
   "metadata": {},
   "outputs": [],
   "source": []
  },
  {
   "cell_type": "markdown",
   "metadata": {},
   "source": [
    "We will now compute the cost of market baskets for every year in the 2016-2020 period. To do this, we iterate over the `prices` tuple, get the average expenditure on each good that year, and then add these expenditures up.\n",
    "\n",
    "First, we want to be able to iterate through our `prices` tuple. Follow the instructions below\n",
    "\n",
    "1. Create an empty list named `baskets` and a variable named `counter` and assign it 0.\n",
    "2. Create a 'while' loop that iterates through `prices`. (Hint: use the variable `counter` to tell the loop when to stop.)\n",
    "3. Inside the 'while' loop, use the variable `counter` to index the `prices` tuple and assign the corresponding element to variable `current_prices`.\n",
    "4. Print variable `current_prices` at each iteration."
   ]
  },
  {
   "cell_type": "code",
   "execution_count": null,
   "metadata": {},
   "outputs": [],
   "source": []
  },
  {
   "cell_type": "markdown",
   "metadata": {},
   "source": [
    "Next, we want to be able to compute the average expenditure on each good in a given year. To do this, follow the instructions below:\n",
    "\n",
    "1. Copy and paste the code you wrote in the previous cell, deleting only the 'print' statement.\n",
    "2. Inside the 'while' loop, after the assingment of `current_prices` , create variables `item_index` and `basket_cost` and assign 0 to both of them.\n",
    "3. After the assignment of these variables, create another 'while' loop inside the first one to iterate through the `current_prices` list. (Hint: use the variable `item_index` as a counter variable to tell the loop when to stop).\n",
    "4. At each iteration of the `current_prices` list, create a new variable called `avg_expend_on_item` and assign to it the product of the corresponding element in `current_prices` and `quantities` for that item. (Hint: use variable `item_index` to index both `current_prices` and `quantities`).\n",
    "5. At the end of each iteration of `current_prices`, increment variable `basket_cost` by `avg_expend_on_item`.\n",
    "6. At the end of each iteration of `prices` (inside the first 'while' loop but outside the second) append `basket_cost` to the list `baskets`."
   ]
  },
  {
   "cell_type": "code",
   "execution_count": null,
   "metadata": {},
   "outputs": [],
   "source": []
  },
  {
   "cell_type": "markdown",
   "metadata": {},
   "source": [
    "Now that we have the market basket costs for every year, we're interested in computing the CPI. \n",
    "\n",
    "1. Create an empty list called `cpis`.\n",
    "3. Iterate through the list `baskets` using a 'while' loop and, with the formula above, compute the CPI for Leamington for each year (given 2016 as the base year). Round this result to two decimal places and append it to`cpis`.\n",
    "4. At each iteration: print the year and the CPI for that year. (Hint: To compute the year, try adding 2016 to the counter variable used to iterate in the while loop)"
   ]
  },
  {
   "cell_type": "markdown",
   "metadata": {},
   "source": [
    "Using CPI data above, answer the following questions:\n",
    "\n",
    "- What was the rate of inflation in 2017?\n",
    "- During which year did Leamington experience deflation?\n",
    "- During which year did Leamington experience disinflation?"
   ]
  }
 ],
 "metadata": {
  "colab": {
   "name": "session_one_finecon_answers.ipynb",
   "provenance": []
  },
  "kernelspec": {
   "display_name": "Python 3",
   "language": "python",
   "name": "python3"
  },
  "language_info": {
   "codemirror_mode": {
    "name": "ipython",
    "version": 3
   },
   "file_extension": ".py",
   "mimetype": "text/x-python",
   "name": "python",
   "nbconvert_exporter": "python",
   "pygments_lexer": "ipython3",
   "version": "3.8.3-final"
  }
 },
 "nbformat": 4,
 "nbformat_minor": 4
}