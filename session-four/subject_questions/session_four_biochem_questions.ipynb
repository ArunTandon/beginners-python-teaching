{
 "cells": [
  {
   "cell_type": "markdown",
   "metadata": {},
   "source": [
    "# Beginner's Python—Session Three + Four Biochemistry Questions"
   ]
  },
  {
   "cell_type": "code",
   "execution_count": null,
   "metadata": {},
   "outputs": [],
   "source": [
    "#Import some modules\n",
    "import numpy as np\n",
    "import matplotlib.pyplot as plt"
   ]
  },
  {
   "cell_type": "markdown",
   "metadata": {},
   "source": [
    "## **Unit Converter**"
   ]
  },
  {
   "cell_type": "markdown",
   "metadata": {},
   "source": [
    "For the following excercises you will need to convert between Fahrenheit and Kelvin. The formula for this conversion i shown below."
   ]
  },
  {
   "cell_type": "markdown",
   "metadata": {},
   "source": [
    "$$ \\bf K = (x -32) \\times \\frac{5}{9} + 273.15 $$\n",
    "$$ where\\ {\\bf{ x }} \\ is\\ the\\ temperature\\ in\\ fahrenheit $$"
   ]
  },
  {
   "cell_type": "markdown",
   "metadata": {},
   "source": [
    "**Create a simple program which converts and prints the users input temperature from fahrenheit to kelvin using the `input` function. Calculate $68^\\circ F$ in $ K $.**"
   ]
  },
  {
   "cell_type": "code",
   "execution_count": null,
   "metadata": {},
   "outputs": [],
   "source": [
    "#Create the input variable and input question\n",
    "\n",
    "#Attatch the newly created variable to the above equation\n",
    "\n",
    "#Print results along with a statement\n"
   ]
  },
  {
   "cell_type": "markdown",
   "metadata": {},
   "source": [
    "## **Gibbs Free Energy Calculator**"
   ]
  },
  {
   "cell_type": "markdown",
   "metadata": {},
   "source": [
    "Gibbs Free Energy $ \\Delta G $ can be used to predict the feasibility of reactions.\n",
    "\n",
    "For a reaction to be feasible $ \\Delta G < 0 $. "
   ]
  },
  {
   "cell_type": "markdown",
   "metadata": {},
   "source": [
    "$$ \\bf{ \\Delta G = \\Delta H -T \\Delta S }    $$\n",
    "\n",
    "\n",
    "$$ \\Delta G = Gibbs\\ free\\ energy\\ (kJ mol^{-1})$$\n",
    "$$ \\Delta H = Enthalpy\\ (kJ)$$\n",
    "$$ \\Delta S = Entropy\\ (kJ\\ K^{-1}) $$\n",
    "$$  T = Temperature\\ ( K) $$"
   ]
  },
  {
   "cell_type": "markdown",
   "metadata": {},
   "source": [
    "ATP is an extremely important biological molecule. Upon splitting, it releases energy, powering many of the biochemical reactions in our body e.g. muscle contraction, nerve impulse propagation, condensate dissolution, and chemical synthesis. Below is the reaction scheme.\n",
    "\n",
    "Read more about it: https://en.wikipedia.org/wiki/Adenosine_triphosphate\n",
    "\n",
    "\n",
    "$$\\bf ATP \\rightarrow ADP + P_i $$\n",
    "\n",
    "$$ \\Delta H = 79.8 \\ kJ $$\n",
    "$$ \\Delta S = 0.377\\ kJ\\ K^{-1} $$\n",
    "\n",
    "**Calculate the Gibbs Free Energy of the reaction at $68^\\circ F$. Is it feasible?**"
   ]
  },
  {
   "cell_type": "code",
   "execution_count": null,
   "metadata": {},
   "outputs": [],
   "source": [
    "#Assign values to the variables\n",
    "\n",
    "#Input these into the equation\n",
    "\n",
    "#Print!\n"
   ]
  },
  {
   "cell_type": "markdown",
   "metadata": {},
   "source": [
    "Create a `while`  loop that **lowers** the reaction temperature by 5 kelvin in each iteration, printing the **temperature** and **free energy** each time. Print \"The reaction is not feasible anymore\" once the temperature is too low for a feasible reaction to occur. "
   ]
  },
  {
   "cell_type": "markdown",
   "metadata": {},
   "source": [
    "**TIP:** You will have to include the temperatuture decrease AND the equation for the free energy within the loop."
   ]
  },
  {
   "cell_type": "code",
   "execution_count": null,
   "metadata": {},
   "outputs": [],
   "source": [
    "#The starting temperature will be 68F in Kelvin.\n",
    "\n",
    "#Create the while loop\n",
    "    \n",
    "#Print the statement. This will run once the conditions in the while loop are not true anymore.\n"
   ]
  },
  {
   "cell_type": "markdown",
   "metadata": {},
   "source": [
    "## **Removing and Editing Faulty Data**"
   ]
  },
  {
   "cell_type": "markdown",
   "metadata": {},
   "source": [
    "Below is a graph showing the change in concentration (M) over time for a 1st order decay. While recording the data, there were some blips in the experiement and procedure, leading to a low-quality dataset. One reading was taken every minute for 50 minutes."
   ]
  },
  {
   "cell_type": "markdown",
   "metadata": {},
   "source": [
    "**Run the cell below.**"
   ]
  },
  {
   "cell_type": "code",
   "execution_count": null,
   "metadata": {},
   "outputs": [],
   "source": [
    "#Run this cell\n",
    "#Load the Rate data\n",
    "url = 'https://raw.githubusercontent.com/warwickdatascience/beginners-python/master/session-four/subject_questions/data/rate_data.csv'\n",
    "data=np.loadtxt(url,skiprows=1,delimiter=',')\n",
    "\n",
    "#Label and isolate the raw data\n",
    "time=data[:,0]\n",
    "concentration=data[:,1]\n",
    "\n",
    "#Plot the data and formatting\n",
    "plt.figure(figsize=(5,5))\n",
    "plt.xlabel('Time / minutes',fontsize=12) \n",
    "plt.ylabel('Concentration / M',fontsize=12)\n",
    "plt.title('1st Order Decay',pad=12, fontsize=18)\n",
    "plt.grid(linestyle='dotted',c='0.7')\n",
    "plt.plot(time,concentration,lw=2,c='#2909B9',label='Curve')\n",
    "plt.scatter(time,concentration,s=15,c='#A16DD8',alpha=0.5,label='Raw Data')\n",
    "plt.tick_params(color='0.9',labelsize=12)\n",
    "plt.legend(frameon=False,fontsize=10)\n",
    "plt.minorticks_on()\n",
    "\n",
    "plt.show()"
   ]
  },
  {
   "cell_type": "code",
   "execution_count": null,
   "metadata": {},
   "outputs": [],
   "source": [
    "#Run this cell\n",
    "#Create lists\n",
    "concentration_1 = np.array(concentration).tolist()\n",
    "time_1 = np.array(time).tolist()\n",
    "del time_1[36]"
   ]
  },
  {
   "cell_type": "markdown",
   "metadata": {},
   "source": [
    "As you can see above, the data has 3 significant anomalies.\n",
    "\n",
    "Two of the errors are due to missing zero's. These are at **17 minutes** and at **24 minutes.**"
   ]
  },
  {
   "cell_type": "markdown",
   "metadata": {},
   "source": [
    "Correct these two values in the `concentration_1[]` list by **adding a 0 directly after the decimal place.**"
   ]
  },
  {
   "cell_type": "markdown",
   "metadata": {},
   "source": [
    "**TIP:** In order to find their original values, you must print them first. Remember, lists begin indexing at 0 !"
   ]
  },
  {
   "cell_type": "code",
   "execution_count": null,
   "metadata": {},
   "outputs": [],
   "source": [
    "#Print their values here\n"
   ]
  },
  {
   "cell_type": "code",
   "execution_count": null,
   "metadata": {},
   "outputs": [],
   "source": [
    "#Add the zeroes\n"
   ]
  },
  {
   "cell_type": "markdown",
   "metadata": {},
   "source": [
    "There is another error at **37 minutes**, the student noted that the equipment was faulty for that reading. **Delete this value. (Use the `del` function)**"
   ]
  },
  {
   "cell_type": "markdown",
   "metadata": {},
   "source": [
    "**BONUS:** Would it be possible to do this if the list were a tuple instead?"
   ]
  },
  {
   "cell_type": "code",
   "execution_count": null,
   "metadata": {},
   "outputs": [],
   "source": [
    "#Print the value at 37 minutes\n"
   ]
  },
  {
   "cell_type": "code",
   "execution_count": null,
   "metadata": {},
   "outputs": [],
   "source": [
    "#Delete that index\n"
   ]
  },
  {
   "cell_type": "markdown",
   "metadata": {},
   "source": [
    "Now that the dataset is cleaned up, run the code below to see the renewed graph!"
   ]
  },
  {
   "cell_type": "markdown",
   "metadata": {},
   "source": [
    "**Run the cell below.**"
   ]
  },
  {
   "cell_type": "markdown",
   "metadata": {},
   "source": [
    "**NOTE:** The graph below only works with lists of length 49, you must delete the error from `concentration_1` before it will run."
   ]
  },
  {
   "cell_type": "code",
   "execution_count": null,
   "metadata": {},
   "outputs": [],
   "source": [
    "#Re-run to see the altered data\n",
    "#Plot the data and formatting\n",
    "plt.figure(figsize=(5,5))\n",
    "plt.xlabel('Time / minutes',fontsize=12) \n",
    "plt.ylabel('Concentration / M',fontsize=12)\n",
    "plt.title('1st Order Decay - Ammended',pad=12, fontsize=18)\n",
    "plt.grid(linestyle='dotted',c='0.7')\n",
    "plt.plot(time_1,concentration_1,lw=2,c='#2909B9',label='Curve')\n",
    "plt.scatter(time_1,concentration_1,s=15,c='#A16DD8',alpha=0.5,label='Raw Data')\n",
    "plt.tick_params(color='0.9',labelsize=12)\n",
    "plt.legend(frameon=False,fontsize=10)\n",
    "plt.minorticks_on()\n",
    "\n",
    "plt.show()"
   ]
  },
  {
   "cell_type": "markdown",
   "metadata": {},
   "source": [
    "If everything went smoothly you should see a curve without any major anomalies above."
   ]
  }
 ],
 "metadata": {
  "kernelspec": {
   "display_name": "Python 3",
   "language": "python",
   "name": "python3"
  },
  "language_info": {
   "codemirror_mode": {
    "name": "ipython",
    "version": 3
   },
   "file_extension": ".py",
   "mimetype": "text/x-python",
   "name": "python",
   "nbconvert_exporter": "python",
   "pygments_lexer": "ipython3",
   "version": "3.8.3"
  }
 },
 "nbformat": 4,
 "nbformat_minor": 4
}