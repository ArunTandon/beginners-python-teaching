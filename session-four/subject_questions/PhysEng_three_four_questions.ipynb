{
  "nbformat": 4,
  "nbformat_minor": 0,
  "metadata": {
    "colab": {
      "name": "PhysEng_three_four_questions.ipynb",
      "provenance": [],
      "collapsed_sections": []
    },
    "kernelspec": {
      "name": "python3",
      "display_name": "Python 3"
    }
  },
  "cells": [
    {
      "cell_type": "markdown",
      "metadata": {
        "id": "e0_Eju41XIhJ"
      },
      "source": [
        "# **Beginner's Python—Session Three and Four Physics/Engineering Questions**\n",
        "\n"
      ]
    },
    {
      "cell_type": "markdown",
      "metadata": {
        "id": "d_VSET3XJitE"
      },
      "source": [
        "In this notebook we will be using list and tuple manipulations to streamline a real-world scenario. \n",
        "\n",
        "Suppose you are in charge of managing the finances for three sub-teams in a manufacturing company. Each one has sent you a list containing prices for some components that they require. The budget for each sub-team is £1500.00. \n",
        "\n"
      ]
    },
    {
      "cell_type": "code",
      "metadata": {
        "id": "EKJxBi_LDQZU"
      },
      "source": [
        "# run this box to define the three price lists\n",
        "\n",
        "motors = [150.00, 90.50, 575.00, 250.00, 120.25]\n",
        "wheels = [500.00, 230.50, 434.34, 300.00]\n",
        "magnets = [750.00, 1100.00, 25.00, 111.00]"
      ],
      "execution_count": null,
      "outputs": []
    },
    {
      "cell_type": "markdown",
      "metadata": {
        "id": "2UUSN0NXHd6W"
      },
      "source": [
        "Form a tuple containing three booleans telling us whether each sub-team's total costs fall *on or below* the budget. Call this tuple \"costs_allowable\", and print it out. There should be one list which does not sum to less than the budget of £1500."
      ]
    },
    {
      "cell_type": "code",
      "metadata": {
        "id": "kvvTbw0yDYLf"
      },
      "source": [
        ""
      ],
      "execution_count": null,
      "outputs": []
    },
    {
      "cell_type": "markdown",
      "metadata": {
        "id": "l2roEC04KkWT"
      },
      "source": [
        "It now turns out that a new grant of £350 has been given to the team. It can only be used to pay for the cheapest item from each sub team. \n",
        "\n",
        "* Sort/order each of the lists.\n",
        "* A cheaper alternative motor has been found which costs £85.00, so insert this in place of the old lowest value of ```90.50```.\n",
        "* Form a list called \"grant_prices\" containing the lowest value from each price list. \n",
        "* Print the total cost of these three items.\n",
        "* Print the final ```grant_prices``` list.\n",
        "\n"
      ]
    },
    {
      "cell_type": "code",
      "metadata": {
        "id": "gQJsnJGwLZb7"
      },
      "source": [
        ""
      ],
      "execution_count": null,
      "outputs": []
    },
    {
      "cell_type": "markdown",
      "metadata": {
        "id": "70OunW4JmJER"
      },
      "source": [
        "We can use while loops along with comparison operators to save a lot of time, as we will show here. One of the key ideas is to iterate until a condition is met, changing a variable with each iteration in order to keep track.\n",
        "\n",
        "Suppose we have data on the distances to a number of stars in our galaxy. We would like to study a typical star in detail, so want to locate one that is not too close to us nor too far. There are also certain star systems which are more difficult to study for various reasons (e.g. it lies directly behind another, or contains dim stars), and so these would not be suitable.\n",
        "\n",
        "The list in the below cell contains a list called ```distances```, containing the distances to some stars in light-years. Run the cell to define the variable. The stars in the range 36.0-39.5 ly have been deemed unusable for study.\n"
      ]
    },
    {
      "cell_type": "code",
      "metadata": {
        "id": "hif750YNsMJ7"
      },
      "source": [
        "distances = [32.8,33.0,34.1,34.1,34.2,34.5,34.6,34.65,35.0,32.4,56.0,36.0,38.0,32.0,44.0,43.0,36.5,37.2,39.4,36.9,43.1,55.5,54.0,33.3,44.2,\n",
        "             45.2,66.2,43.8,71.9,66.9,12.4,72.0,58.2,56.7,39.1,38.8,37.8,22.2,11.1,9.45,38.2,112.2]"
      ],
      "execution_count": null,
      "outputs": []
    },
    {
      "cell_type": "markdown",
      "metadata": {
        "id": "HFACsQE_sQwn"
      },
      "source": [
        "Now we will use a while loop (somewhat unnecessarily, mainly for practice purposes) to produce a list of the *undesirable* distances in addition to the list containing *all* of the distances.\n",
        "\n",
        "* Define an empty list called ```bad_ones```. This will be filled with the distances in the undesirable range.\n",
        "* Define a variable equal to 0 in the usual way, called ```i```. \n",
        "* Use a while loop, with the condition being that ```i``` is less than the number of elements in the list.\n",
        "* Nest an ```if``` statement, with the condition that the ```i```th entry in ```distances``` is greater than/equal to 36.0 *and* less than/equal to 39.5. If the condition is satisfied, append this value to the list ```bad_ones```. \n",
        "* Then redefine ```i``` as ```i+1``` to iterate forward the ```while``` loop.\n",
        "* Print out \"The distances in the unusable range are: \" and then the list ```bad_ones```.\n",
        "\n"
      ]
    },
    {
      "cell_type": "code",
      "metadata": {
        "id": "m1dwRHj0_NY-"
      },
      "source": [
        ""
      ],
      "execution_count": null,
      "outputs": []
    },
    {
      "cell_type": "markdown",
      "metadata": {
        "id": "3Mmudvq7Wovo"
      },
      "source": [
        "Later in the course, you will learn about other data structures which make operations like this one much more straightforward. Making this while loop is good practice, though."
      ]
    }
  ]
}