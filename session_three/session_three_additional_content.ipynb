{
 "cells": [
  {
   "cell_type": "markdown",
   "metadata": {},
   "source": [
    "## Two-sided comparisons"
   ]
  },
  {
   "cell_type": "markdown",
   "metadata": {},
   "source": [
    "A language feature largely unique to Python is to make two comparisons in one go when checking whether a number is in a range."
   ]
  },
  {
   "cell_type": "code",
   "execution_count": 27,
   "metadata": {},
   "outputs": [
    {
     "name": "stdout",
     "output_type": "stream",
     "text": [
      "True\n",
      "True\n"
     ]
    }
   ],
   "source": [
    "x = 3\n",
    "print(2 <= x and x < 4)\n",
    "print(2 <= x < 4)"
   ]
  },
  {
   "cell_type": "markdown",
   "metadata": {},
   "source": [
    "## Truthiness"
   ]
  },
  {
   "cell_type": "markdown",
   "metadata": {},
   "source": [
    "An object in Python is considered _truthy_ if it returns `True` when cast to a Boolean type using `bool()`. Out of all of the objects we have seen so far the following are the only ones that are not truthy:\n",
    "\n",
    "- `None`\n",
    "- `False`\n",
    "- Any numeric zero value (`0`, `0.0`)\n",
    "- An empty string (`\"\"`)\n",
    "- An empty list (`[]`)"
   ]
  },
  {
   "cell_type": "markdown",
   "metadata": {},
   "source": [
    "We are not limited to passing Boolean values/expressions as the condition for an `if`/`elif`/`while` statement. We can instead use any object and its truthiness will be used to determine the outcome."
   ]
  },
  {
   "cell_type": "code",
   "execution_count": 5,
   "metadata": {},
   "outputs": [
    {
     "name": "stdout",
     "output_type": "stream",
     "text": [
      "None is not truthy\n"
     ]
    }
   ],
   "source": [
    "value = None\n",
    "\n",
    "if value:\n",
    "    print(value, \"is truthy\")\n",
    "else:\n",
    "    print(value, \"is not truthy\")"
   ]
  },
  {
   "cell_type": "code",
   "execution_count": 3,
   "metadata": {},
   "outputs": [
    {
     "name": "stdout",
     "output_type": "stream",
     "text": [
      "0 is not truthy\n",
      "1 is truthy\n"
     ]
    }
   ],
   "source": [
    "value = 0\n",
    "\n",
    "if value:\n",
    "    print(value, \"is truthy\")\n",
    "else:\n",
    "    print(value, \"is not truthy\")\n",
    "    \n",
    "value = 1\n",
    "\n",
    "if value:\n",
    "    print(value, \"is truthy\")\n",
    "else:\n",
    "    print(value, \"is not truthy\")"
   ]
  },
  {
   "cell_type": "code",
   "execution_count": 6,
   "metadata": {},
   "outputs": [
    {
     "name": "stdout",
     "output_type": "stream",
     "text": [
      "0.0 is not truthy\n",
      "1.0 is truthy\n"
     ]
    }
   ],
   "source": [
    "value = 0.0\n",
    "\n",
    "if value:\n",
    "    print(value, \"is truthy\")\n",
    "else:\n",
    "    print(value, \"is not truthy\")\n",
    "    \n",
    "value = 1.0\n",
    "\n",
    "if value:\n",
    "    print(value, \"is truthy\")\n",
    "else:\n",
    "    print(value, \"is not truthy\")"
   ]
  },
  {
   "cell_type": "code",
   "execution_count": 10,
   "metadata": {},
   "outputs": [
    {
     "name": "stdout",
     "output_type": "stream",
     "text": [
      "'' is not truthy\n",
      "'0' is truthy\n"
     ]
    }
   ],
   "source": [
    "value = \"\"\n",
    "\n",
    "if value:\n",
    "    print(value.__repr__(), \"is truthy\")\n",
    "else:\n",
    "    print(value.__repr__(), \"is not truthy\")\n",
    "    \n",
    "value = \"0\"\n",
    "\n",
    "if value:\n",
    "    print(value.__repr__(), \"is truthy\")\n",
    "else:\n",
    "    print(value.__repr__(), \"is not truthy\")"
   ]
  },
  {
   "cell_type": "code",
   "execution_count": 8,
   "metadata": {},
   "outputs": [
    {
     "name": "stdout",
     "output_type": "stream",
     "text": [
      "[] is not truthy\n",
      "[0] is truthy\n"
     ]
    }
   ],
   "source": [
    "value = []\n",
    "\n",
    "if value:\n",
    "    print(value, \"is truthy\")\n",
    "else:\n",
    "    print(value, \"is not truthy\")\n",
    "    \n",
    "value = [0]\n",
    "\n",
    "if value:\n",
    "    print(value, \"is truthy\")\n",
    "else:\n",
    "    print(value, \"is not truthy\")"
   ]
  },
  {
   "cell_type": "markdown",
   "metadata": {},
   "source": [
    "## If expressions"
   ]
  },
  {
   "cell_type": "markdown",
   "metadata": {},
   "source": [
    "If expressions offer a short hand for the following code."
   ]
  },
  {
   "cell_type": "markdown",
   "metadata": {},
   "source": [
    "``` python\n",
    "if <condition>:\n",
    "    x = <value_if_true>\n",
    "else:\n",
    "    x = <value_if_false>\n",
    "```"
   ]
  },
  {
   "cell_type": "markdown",
   "metadata": {},
   "source": [
    "We write them these using the following notation."
   ]
  },
  {
   "cell_type": "markdown",
   "metadata": {},
   "source": [
    "```python\n",
    "x = <value_if_true> if <condition> else <value_if_false>\n",
    "```"
   ]
  },
  {
   "cell_type": "markdown",
   "metadata": {},
   "source": [
    "Those familiar with Java, C, etc., will recognise this a variant of the ternary operator."
   ]
  },
  {
   "cell_type": "markdown",
   "metadata": {},
   "source": [
    "An example of this would be in definining the [ReLU activation function](https://en.wikipedia.org/wiki/Rectifier_(neural_networks)) used in deep learning. This is defined as:\n",
    "\n",
    "$$\n",
    "x = \\begin{cases} \n",
    "      x & x\\geq 0 \\\\\n",
    "      0 & x < 0\n",
    "   \\end{cases}\n",
    "$$\n",
    "\n",
    "For example, we can rectify `y` as follows."
   ]
  },
  {
   "cell_type": "code",
   "execution_count": 12,
   "metadata": {},
   "outputs": [
    {
     "name": "stdout",
     "output_type": "stream",
     "text": [
      "0\n"
     ]
    }
   ],
   "source": [
    "y = -3\n",
    "x = y if y >= 0 else 0\n",
    "print(x)"
   ]
  },
  {
   "cell_type": "markdown",
   "metadata": {},
   "source": [
    "## Order of operations"
   ]
  },
  {
   "cell_type": "markdown",
   "metadata": {},
   "source": [
    "Python's order of operations can be extended to Booleans. A full table of precedence can be found [here](https://www.mathcs.emory.edu/~valerie/courses/fall10/155/resources/op_precedence.html). Note that this puts `not` before `and` before `or`."
   ]
  },
  {
   "cell_type": "code",
   "execution_count": 17,
   "metadata": {
    "scrolled": false
   },
   "outputs": [
    {
     "name": "stdout",
     "output_type": "stream",
     "text": [
      "True\n",
      "False\n"
     ]
    }
   ],
   "source": [
    "print(not True or True)\n",
    "print(not (True or True))"
   ]
  },
  {
   "cell_type": "code",
   "execution_count": 25,
   "metadata": {},
   "outputs": [
    {
     "name": "stdout",
     "output_type": "stream",
     "text": [
      "True\n",
      "False\n"
     ]
    }
   ],
   "source": [
    "print(True or False and False)\n",
    "print((True or False) and False)"
   ]
  },
  {
   "cell_type": "markdown",
   "metadata": {},
   "source": [
    "In general, it is best practice to use brackets to remove any ambiguity."
   ]
  },
  {
   "cell_type": "markdown",
   "metadata": {},
   "source": [
    "## Validation Methods"
   ]
  },
  {
   "cell_type": "markdown",
   "metadata": {},
   "source": [
    "We saw in session two that the danger of using `int(input(...))` is raising an error when non-numeric text is entered by the user. We can resolve this by using string methods for validation. Here are a few examples."
   ]
  },
  {
   "cell_type": "code",
   "execution_count": 33,
   "metadata": {},
   "outputs": [
    {
     "name": "stdout",
     "output_type": "stream",
     "text": [
      "True\n",
      "False\n",
      "False\n"
     ]
    }
   ],
   "source": [
    "# Contains only numbers\n",
    "print(\"123\".isnumeric())\n",
    "print(\"abC123\".isnumeric())\n",
    "print(\"abC\".isnumeric())"
   ]
  },
  {
   "cell_type": "code",
   "execution_count": 35,
   "metadata": {},
   "outputs": [
    {
     "name": "stdout",
     "output_type": "stream",
     "text": [
      "False\n",
      "False\n",
      "True\n"
     ]
    }
   ],
   "source": [
    "# Contains only letters\n",
    "print(\"123\".isalpha())\n",
    "print(\"abC123\".isalpha())\n",
    "print(\"abC\".isalpha())"
   ]
  },
  {
   "cell_type": "code",
   "execution_count": 36,
   "metadata": {},
   "outputs": [
    {
     "name": "stdout",
     "output_type": "stream",
     "text": [
      "True\n"
     ]
    }
   ],
   "source": [
    "# Contains only letters and spaces\n",
    "print(\"Hello World\".replace(\" \", \"\").isalpha())"
   ]
  },
  {
   "cell_type": "markdown",
   "metadata": {},
   "source": [
    "More such methods can be found [here](https://www.w3schools.com/python/python_ref_string.asp)"
   ]
  },
  {
   "cell_type": "markdown",
   "metadata": {},
   "source": [
    "We can use these in the following way for input validation."
   ]
  },
  {
   "cell_type": "code",
   "execution_count": 37,
   "metadata": {},
   "outputs": [
    {
     "name": "stdout",
     "output_type": "stream",
     "text": [
      "Enter a positive integer: -3\n",
      "Enter a positive integer: 3.14\n",
      "Enter a positive integer: Hello?\n",
      "Enter a positive integer: 4\n",
      "You entered 4\n"
     ]
    }
   ],
   "source": [
    "value = \" \"  # placeholder\n",
    "while not value.isnumeric():\n",
    "    value = input(\"Enter a positive integer: \")\n",
    "value = int(value)\n",
    "print(\"You entered\", value)"
   ]
  },
  {
   "cell_type": "markdown",
   "metadata": {},
   "source": [
    "## String Comparisons"
   ]
  },
  {
   "cell_type": "markdown",
   "metadata": {},
   "source": [
    "Python allows you to compare strings. In this case, alphabetical order is used to define ordering."
   ]
  },
  {
   "cell_type": "code",
   "execution_count": 28,
   "metadata": {},
   "outputs": [
    {
     "name": "stdout",
     "output_type": "stream",
     "text": [
      "True\n",
      "False\n"
     ]
    }
   ],
   "source": [
    "print(\"Dog\" < \"Doggo\")\n",
    "print(\"Dog\" < \"Cat\")"
   ]
  }
 ],
 "metadata": {
  "kernelspec": {
   "display_name": "Python 3",
   "language": "python",
   "name": "python3"
  },
  "language_info": {
   "codemirror_mode": {
    "name": "ipython",
    "version": 3
   },
   "file_extension": ".py",
   "mimetype": "text/x-python",
   "name": "python",
   "nbconvert_exporter": "python",
   "pygments_lexer": "ipython3",
   "version": "3.6.8"
  }
 },
 "nbformat": 4,
 "nbformat_minor": 2
}
