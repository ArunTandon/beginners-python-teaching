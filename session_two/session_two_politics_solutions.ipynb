{
 "cells": [
  {
   "cell_type": "code",
   "execution_count": null,
   "metadata": {},
   "outputs": [],
   "source": [
    "#DO NOT change code in this cell but run it before going further\n",
    "\n",
    "import matplotlib.pyplot as plt\n",
    "\n",
    "def plot_demographics(continent_ls, continent_names, years):\n",
    "    fig, ax = plt.subplots(figsize = (10,8))\n",
    "    \n",
    "    for i, continent in enumerate(continent_ls):\n",
    "        plt.plot(years[:12], continent[:12], '-o', label = continent_names[i])\n",
    "        if len(continent)>12:\n",
    "            plt.plot(years[11:], continent[11:], '-o', color = 'grey')\n",
    "    \n",
    "    \n",
    "    \n",
    "    plt.title(\"World population by continent (in millions)\")\n",
    "    plt.legend()\n",
    "    plt.show()"
   ]
  },
  {
   "cell_type": "markdown",
   "metadata": {},
   "source": [
    "In the cell below there are seven lists defined, all of them together represent world population by continent and by year:\n",
    "- `years` is a list containing the years in which the population was recorded\n",
    "- `africa`, `asia`, ... , `oceania` are lists containing the number of population (in millions) of a given continent with values ordered respectively to the years in `years`\n",
    " </ul>\n",
    "example: the third value in <code>years</code> is 1700. The third value in <code>africa</code> is 106. This means that the population of Africa in 1700 was 106 milion people."
   ]
  },
  {
   "cell_type": "code",
   "execution_count": null,
   "metadata": {},
   "outputs": [],
   "source": [
    "years = ['1500', '1600', '1700', '1750', '1800', '1850', '1900', '1950', '1999', '2008', '2010', '2012']\n",
    "\n",
    "africa = [86, 114, 106, 106, 107, 111, 133, 221, 783, 973, 1022, 1052]\n",
    "asia = [282, 350, 411, 502, 635, 809, 947, 1402, 3700, 4054, 4164, 4250]\n",
    "europe = [168, 170, 178, 190, 203, 276, 408, 547, 675, 732, 738, 740]\n",
    "latin_america = [40, 20, 10, 16, 24, 38, 74, 167, 508, 577, 590, 603]\n",
    "north_america = [6, 3, 2, 2, 7, 26, 82, 172, 312, 337, 345, 351]\n",
    "oceania =  [3, 3, 3, 2, 2, 2, 6, 13, 30, 34, 37, 38]"
   ]
  },
  {
   "cell_type": "markdown",
   "metadata": {},
   "source": [
    "Using the `min()` and `max()` functions find what was the smallest and the largest number of population in Europe. Save these values in variables called `min_europe`, `max_europe`. Then print the following text: *Between year 1500 and 2012 the smallest recorded population of europe was: xxx milion people and the largest was: xxx milion people*"
   ]
  },
  {
   "cell_type": "code",
   "execution_count": null,
   "metadata": {},
   "outputs": [],
   "source": []
  },
  {
   "cell_type": "markdown",
   "metadata": {},
   "source": [
    "Create two lists: \n",
    "- `continent_names` - a list containing the names of all continents (as strings) \n",
    "- `continent_ls` - a list contating the seven lists from the cell above in the same order as in `continent_names`\n",
    "\n",
    "**NOTE:** there is nothing wrong in creating list of lists. In fact, this is a very common procedure. If you can create a list of strings or list of integers then why you shouldn't be able to create a list of lists? "
   ]
  },
  {
   "cell_type": "code",
   "execution_count": null,
   "metadata": {},
   "outputs": [],
   "source": []
  },
  {
   "cell_type": "markdown",
   "metadata": {},
   "source": [
    "If you did correctly your previous task then after running the cell below you should see a graph representing the world population by continents between 1500 and 2012. But there is something not quite right about this graph. Can you spot the mistake? "
   ]
  },
  {
   "cell_type": "code",
   "execution_count": null,
   "metadata": {},
   "outputs": [],
   "source": [
    "plot_demographics(continent_ls, continent_names, years)"
   ]
  },
  {
   "cell_type": "markdown",
   "metadata": {},
   "source": [
    "The problem is with the distances on the x axis. The distance between 1500 and 1600 and the distance between 2010 and 2012 are the same on this plot. This is a serious breach of rules of a good statistical data visualization. Do you know what might be the reason for that? Why Python does not interpret the values of years correctly? "
   ]
  },
  {
   "cell_type": "markdown",
   "metadata": {},
   "source": [
    "The answer is the **data types**. Note that the values in the `years` list are strings, this means that all of the years are treated as a text data rather than a numerical data. Which data type would do better? \n",
    "\n",
    "We would like to convert the `years` list of strings to a a new one containing the years in the same order but with a proper data type. This can be done by hand or using a shortcut -  **list comprehensions**. We will learn more about them later on, but for now examine the example below."
   ]
  },
  {
   "cell_type": "code",
   "execution_count": null,
   "metadata": {},
   "outputs": [],
   "source": [
    "#example - conversion between list of doubles to list of integers\n",
    "\n",
    "double_ls = [2.5, 2.8, 3.9, 10.1] #this is a list of doubles\n",
    "int_ls = [int(x) for x in double_ls] #using this expression we can convert list of doubles to list of integers"
   ]
  },
  {
   "cell_type": "markdown",
   "metadata": {},
   "source": [
    "Now try to do something similar with the `years` list. Do not create a new variable, instead overwrite the existing list."
   ]
  },
  {
   "cell_type": "code",
   "execution_count": null,
   "metadata": {},
   "outputs": [],
   "source": []
  },
  {
   "cell_type": "markdown",
   "metadata": {},
   "source": [
    "Now, the plot of world population should look a lot better. Execute the cell below to see if it works."
   ]
  },
  {
   "cell_type": "code",
   "execution_count": null,
   "metadata": {},
   "outputs": [],
   "source": [
    "plot_demographics(continent_ls, continent_names, years)"
   ]
  },
  {
   "cell_type": "markdown",
   "metadata": {},
   "source": [
    "WHO has made some predictions for the number of population in 2150. These are presented in the table bellow:\n",
    "continent | population in 2150 (in millions) | \n",
    "--- | --- \n",
    "Africa | 2308 \n",
    "Asia | 5561\n",
    "Europe| 517\n",
    "Latin America | 912 \n",
    "North America | 938 \n",
    "Oceania | 51 \n",
    "\n",
    "Append the year 2150 to the `years` list and append the values of predicted population in 2150 to the corresponding lists defined previously. "
   ]
  },
  {
   "cell_type": "code",
   "execution_count": null,
   "metadata": {},
   "outputs": [],
   "source": []
  },
  {
   "cell_type": "markdown",
   "metadata": {},
   "source": [
    "Now plot the extended results."
   ]
  },
  {
   "cell_type": "code",
   "execution_count": null,
   "metadata": {},
   "outputs": [],
   "source": [
    "plot_demographics(continent_ls, continent_names, years)"
   ]
  }
 ],
 "metadata": {
  "kernelspec": {
   "display_name": "Python 3",
   "language": "python",
   "name": "python3"
  },
  "language_info": {
   "codemirror_mode": {
    "name": "ipython",
    "version": 3
   },
   "file_extension": ".py",
   "mimetype": "text/x-python",
   "name": "python",
   "nbconvert_exporter": "python",
   "pygments_lexer": "ipython3",
   "version": "3.8.3"
  }
 },
 "nbformat": 4,
 "nbformat_minor": 4
}
