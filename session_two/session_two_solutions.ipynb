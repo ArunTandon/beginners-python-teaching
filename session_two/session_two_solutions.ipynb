{
 "cells": [
  {
   "cell_type": "markdown",
   "metadata": {},
   "source": [
    "<a href=\"https://colab.research.google.com/github/THargreaves/beginners-python/blob/master/session_two/session_two_solutions.ipynb\" target=\"_parent\"><img src=\"https://colab.research.google.com/assets/colab-badge.svg\" alt=\"Open In Colab\"/></a>"
   ]
  },
  {
   "cell_type": "markdown",
   "metadata": {},
   "source": [
    "<center>Spotted a mistake? Report it <a href=\"https://github.com/THargreaves/beginners-python/issues/new\">here</a></center>"
   ]
  },
  {
   "cell_type": "markdown",
   "metadata": {},
   "source": [
    "# Beginner's Python—Session Two Homework Exercises"
   ]
  },
  {
   "cell_type": "markdown",
   "metadata": {},
   "source": [
    "## User Input"
   ]
  },
  {
   "cell_type": "markdown",
   "metadata": {},
   "source": [
    "Ask the user for the year, month, and day and use these to print out the date in the following format:\n",
    "\n",
    "`Your date is 1 January, 1970`\n",
    "\n",
    "(Hint: if you want to get the comma looking exactly right, you might have to use string addition)"
   ]
  },
  {
   "cell_type": "code",
   "execution_count": 1,
   "metadata": {},
   "outputs": [
    {
     "name": "stdout",
     "output_type": "stream",
     "text": [
      "What is the year? 1970\n",
      "What is the month? January\n",
      "What is the day? 1\n",
      "Your date is 1 January, 1970\n"
     ]
    }
   ],
   "source": [
    "year = input(\"What is the year? \")\n",
    "month = input(\"What is the month? \")\n",
    "day = input(\"What is the day? \")\n",
    "print(\"Your date is\",\n",
    "     day, month + \",\", year)"
   ]
  },
  {
   "cell_type": "markdown",
   "metadata": {},
   "source": [
    "Ask the user to input a decimal number (remember you'll need to use `float()` to convert it from a string). Multiply this $5$, subtract $1.2$ and print the result"
   ]
  },
  {
   "cell_type": "code",
   "execution_count": 2,
   "metadata": {},
   "outputs": [
    {
     "name": "stdout",
     "output_type": "stream",
     "text": [
      "Input a decimal number: 2.718\n",
      "12.39\n"
     ]
    }
   ],
   "source": [
    "number = float(input(\"Input a decimal number: \"))\n",
    "print(5 * number - 1.2)"
   ]
  },
  {
   "cell_type": "markdown",
   "metadata": {},
   "source": [
    "## Variable Types"
   ]
  },
  {
   "cell_type": "markdown",
   "metadata": {},
   "source": [
    "What happens when you pass a decimal number (such as $3.14$) to `int()`?"
   ]
  },
  {
   "cell_type": "code",
   "execution_count": 4,
   "metadata": {},
   "outputs": [
    {
     "name": "stdout",
     "output_type": "stream",
     "text": [
      "3\n",
      "3\n"
     ]
    }
   ],
   "source": [
    "print(int(3.14))\n",
    "print(int(3.99))"
   ]
  },
  {
   "cell_type": "markdown",
   "metadata": {},
   "source": [
    "The number is rounded **down** to the integer below it. Note, we can round to the nearest integer using `round()`"
   ]
  },
  {
   "cell_type": "markdown",
   "metadata": {},
   "source": [
    "The `min()` and `max()` functions are versatile. As well being able to input a list of numbers, you are able to pass multiple inputs to these functions, separated by commas, provided they are all of the same type. For example:"
   ]
  },
  {
   "cell_type": "code",
   "execution_count": 12,
   "metadata": {},
   "outputs": [
    {
     "data": {
      "text/plain": [
       "1"
      ]
     },
     "execution_count": 12,
     "metadata": {},
     "output_type": "execute_result"
    }
   ],
   "source": [
    "min(2, 5, 1)"
   ]
  },
  {
   "cell_type": "markdown",
   "metadata": {},
   "source": [
    "The versitility doesn't stop there. What happens if we put in two strings as the inputs to either `min()` or `max()`. Experiment and try to find out.\n",
    "\n",
    "(Hint: Try comparing each pair of `Cat`, `Dog`, and `Donkey`)"
   ]
  },
  {
   "cell_type": "code",
   "execution_count": 5,
   "metadata": {},
   "outputs": [
    {
     "name": "stdout",
     "output_type": "stream",
     "text": [
      "Dog\n",
      "Donkey\n",
      "Donkey\n"
     ]
    }
   ],
   "source": [
    "print(max(\"Cat\", \"Dog\"))\n",
    "print(max(\"Dog\", \"Donkey\"))\n",
    "print(max(\"Cat\", \"Donkey\"))"
   ]
  },
  {
   "cell_type": "markdown",
   "metadata": {},
   "source": [
    "When `max()` or `min()` act on strings, they order items alphabetically. Therefore, `max()` returns the word you'd find last in the dictionary, and `min()` the first"
   ]
  },
  {
   "cell_type": "markdown",
   "metadata": {},
   "source": [
    "Say you wanted to add the string `\"Time is 12:\"` to the integer `30` to get the string `\"Time is 12:30\"`. How can you use type conversion to achieve this?"
   ]
  },
  {
   "cell_type": "code",
   "execution_count": 6,
   "metadata": {},
   "outputs": [
    {
     "data": {
      "text/plain": [
       "'Time is 12:30'"
      ]
     },
     "execution_count": 6,
     "metadata": {},
     "output_type": "execute_result"
    }
   ],
   "source": [
    "\"Time is 12:\" + str(30)"
   ]
  },
  {
   "cell_type": "markdown",
   "metadata": {},
   "source": [
    "## Sum, Min, Max and Length"
   ]
  },
  {
   "cell_type": "markdown",
   "metadata": {},
   "source": [
    "Your teammates are aged 20, 33, 45, 57, and 62. Use `input()` to get Python to ask you your age and then make a list containing the 5 ages above and your age"
   ]
  },
  {
   "cell_type": "code",
   "execution_count": 8,
   "metadata": {},
   "outputs": [
    {
     "name": "stdout",
     "output_type": "stream",
     "text": [
      "What is your age? 21\n"
     ]
    }
   ],
   "source": [
    "your_age = int(input(\"What is your age? \"))\n",
    "team_ages = [20, 33, 45, 57, 62, your_age]"
   ]
  },
  {
   "cell_type": "markdown",
   "metadata": {},
   "source": [
    "Find the average age of your team and print it\n",
    "\n",
    "(Hint: The average age is the `sum` of all ages divided by the `len`gth of your list of ages)"
   ]
  },
  {
   "cell_type": "code",
   "execution_count": 9,
   "metadata": {},
   "outputs": [
    {
     "name": "stdout",
     "output_type": "stream",
     "text": [
      "Average team age: 39.666666666666664\n"
     ]
    }
   ],
   "source": [
    "print(\"Average team age:\", sum(team_ages) / len(team_ages))"
   ]
  },
  {
   "cell_type": "markdown",
   "metadata": {},
   "source": [
    "You could round this to two decimal places using `round(..., 2)`"
   ]
  },
  {
   "cell_type": "markdown",
   "metadata": {},
   "source": [
    "Run the following lines of code to create two lists containing the scores of 30 students in each class"
   ]
  },
  {
   "cell_type": "code",
   "execution_count": 10,
   "metadata": {},
   "outputs": [],
   "source": [
    "from random import randrange, seed\n",
    "seed(1729)\n",
    "class_A_scores = [randrange(101) for __ in range(30)]\n",
    "class_B_scores = [randrange(101) for __ in range(30)]"
   ]
  },
  {
   "cell_type": "markdown",
   "metadata": {},
   "source": [
    "Use `max()` to find which class contained the highest scoring student"
   ]
  },
  {
   "cell_type": "code",
   "execution_count": 11,
   "metadata": {},
   "outputs": [
    {
     "name": "stdout",
     "output_type": "stream",
     "text": [
      "Best score in class A:  97\n",
      "Best score in class B:  92\n"
     ]
    }
   ],
   "source": [
    "print(\"Best score in class A: \", max(class_A_scores))\n",
    "print(\"Best score in class B: \", max(class_B_scores))"
   ]
  },
  {
   "cell_type": "markdown",
   "metadata": {},
   "source": [
    "The top student was in class A with a score of $97$"
   ]
  },
  {
   "cell_type": "markdown",
   "metadata": {},
   "source": [
    "As mentioned above, you can find the minimum or maximum of a collection of numbers without having to first put them in a list. Use this approach to find the minumum and maximum of the numbers 4, 5, 2, and 8"
   ]
  },
  {
   "cell_type": "code",
   "execution_count": 12,
   "metadata": {},
   "outputs": [
    {
     "name": "stdout",
     "output_type": "stream",
     "text": [
      "Max: 8\n",
      "Min: 2\n"
     ]
    }
   ],
   "source": [
    "print(\"Max:\", max(4, 5, 2, 8))\n",
    "print(\"Min:\", min(4, 5, 2, 8))"
   ]
  },
  {
   "cell_type": "markdown",
   "metadata": {},
   "source": [
    "Ask the user for two strings and print the length of the shortest"
   ]
  },
  {
   "cell_type": "code",
   "execution_count": 14,
   "metadata": {},
   "outputs": [
    {
     "name": "stdout",
     "output_type": "stream",
     "text": [
      "What is your first string? A short string\n",
      "What is your second string? An incredibly, astonishingly, uncommonly, tremendously, long string\n",
      "The shortest string has 14 characters\n"
     ]
    }
   ],
   "source": [
    "string_1 = input(\"What is your first string? \")\n",
    "string_2 = input(\"What is your second string? \")\n",
    "print(\"The shortest string has\",\n",
    "      min(len(string_1), len(string_2)),\n",
    "      \"characters\")"
   ]
  }
 ],
 "metadata": {
  "kernelspec": {
   "display_name": "Python 3",
   "language": "python",
   "name": "python3"
  },
  "language_info": {
   "codemirror_mode": {
    "name": "ipython",
    "version": 3
   },
   "file_extension": ".py",
   "mimetype": "text/x-python",
   "name": "python",
   "nbconvert_exporter": "python",
   "pygments_lexer": "ipython3",
   "version": "3.7.3"
  }
 },
 "nbformat": 4,
 "nbformat_minor": 2
}
