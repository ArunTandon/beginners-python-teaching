{
 "cells": [
  {
   "cell_type": "markdown",
   "metadata": {},
   "source": [
    "# Beginner's Python—Session Two Biochemistry Answers"
   ]
  },
  {
   "cell_type": "markdown",
   "metadata": {},
   "source": [
    "## **Colour and Conjugation**"
   ]
  },
  {
   "cell_type": "code",
   "execution_count": null,
   "metadata": {},
   "outputs": [],
   "source": [
    "#import some useful modules\n",
    "import matplotlib.pyplot as plt\n",
    "import numpy as np\n",
    "from scipy.optimize import curve_fit\n",
    "from scipy.stats import linregress\n",
    "from sklearn.metrics import r2_score"
   ]
  },
  {
   "cell_type": "markdown",
   "metadata": {},
   "source": [
    "Materials appear to us as the colours that they reflect, meaning the remainng <span style=\"color:#FF200F\">c</span><span style=\"color:#FF820F\">o</span><span style=\"color:#FFC80F\">l</span><span style=\"color:#A2F80F\">o</span><span style=\"color:#4682E2\">u</span><span style=\"color:#3B2FCE\">r</span><span style=\"color:#FF0095\">s</span> are absorbed by the material. Below is a diagram depicting the wavelength's of light (in metres) and their corresponding colours. A human eye can detect wavelengths of light between 380 to 740 nanometers, this range of wavelengths is classed as visible light."
   ]
  },
  {
   "cell_type": "markdown",
   "metadata": {},
   "source": [
    "<center><img src=\"./session_two_files/spectrum.png\" width=\"450\" align=\"center\"/> "
   ]
  },
  {
   "cell_type": "markdown",
   "metadata": {},
   "source": [
    "<center><img src=\"./session_two_files/chlorophyll_structure.svg\" width=\"200\" align=\"center\"/> "
   ]
  },
  {
   "cell_type": "markdown",
   "metadata": {},
   "source": [
    "Displayed above, is the molecule **chlorophyll** $\\boldsymbol{a}$. It is an essential molecule for photosynthetic organisms, and drives photosynthesis by absorbing light, converting it into energy via electron transfer. Perhaps it is most well known for its characteristic <span style=\"color:#259B13\">green</span> colour, which we see in plants, trees and grass. You may notice it is highly conjugated (contains alternating double bonds), this is key to its properties.\n",
    "\n",
    "For more detail have a look at the wikipedia page: https://en.wikipedia.org/wiki/Conjugated_system#:~:text=Conjugated%20systems%20form%20the%20basis,or%20glow%20in%20the%20dark."
   ]
  },
  {
   "cell_type": "markdown",
   "metadata": {},
   "source": [
    "Below is a graph mimicking what you may expect to find when recording a UV-Vis spectrum of a coloured compound. On the x-axis is the wavelength of the light wave, and on the y-axis, the amount of that particaular wavelength the molecule has absorbed. \n",
    "\n",
    "e.g. Cholorophyll appers green to us, so it may only absorb red and blue light waves, reflecting green, what we see. "
   ]
  },
  {
   "cell_type": "markdown",
   "metadata": {},
   "source": [
    "**Run the code cell below.**"
   ]
  },
  {
   "cell_type": "code",
   "execution_count": null,
   "metadata": {},
   "outputs": [],
   "source": [
    "#Run this code\n",
    "#Creating an array to input wavelength and absorbance values\n",
    "wavelength = np.linspace(365,800,436)\n",
    "absorbance = np.empty(436)\n",
    "aa = len(absorbance)\n",
    "\n",
    "#Defining a function to represent the spectrum\n",
    "for i in range(aa):\n",
    "    absorbance[i] = -np.cos((2*wavelength[i]-40)/280)+np.sin((2*wavelength[i]-40)/280)-(5/2)*np.cos((4*wavelength[i]-40)/280) - (1/2)*np.sin((4*wavelength[i]-40)/280) +1.8\n",
    "\n",
    "#plotting graph\n",
    "plt.figure(figsize=(5,5))\n",
    "plt.xlabel('Wavelength ($\\lambda$) / nm',fontsize=12) \n",
    "plt.ylabel('Arbitrary Absorbance Units',fontsize=12)\n",
    "plt.title('UV-Vis Absorption Spectrum',pad=12, fontsize=18)\n",
    "plt.grid(linestyle='dotted',c='0.7')\n",
    "plt.plot(wavelength,absorbance,lw=1,c='#2909B9')\n",
    "plt.tick_params(color='0.9',labelsize=12)\n",
    "plt.minorticks_on()"
   ]
  },
  {
   "cell_type": "markdown",
   "metadata": {},
   "source": [
    " #### **Task 1**"
   ]
  },
  {
   "cell_type": "markdown",
   "metadata": {},
   "source": [
    "The ${\\lambda_{max}}$ value is often used to characterise the UV-Vis spectrum of compounds; It is the wavelength with the **highest absorbance value.**\n",
    "\n",
    "**Using the `max()` function determine the highest value of the `absorbance` dataset (the y data for the graph above):**"
   ]
  },
  {
   "cell_type": "code",
   "execution_count": null,
   "metadata": {},
   "outputs": [],
   "source": [
    "#printing max absorbance\n",
    "print(max(absorbance))"
   ]
  },
  {
   "cell_type": "markdown",
   "metadata": {},
   "source": [
    "**Run the code cell below.**"
   ]
  },
  {
   "cell_type": "markdown",
   "metadata": {},
   "source": [
    "This will output the ${\\lambda_{max}}$"
   ]
  },
  {
   "cell_type": "code",
   "execution_count": null,
   "metadata": {},
   "outputs": [],
   "source": [
    "#Code to deduce the x-val using the maximum y-val, and printing the resulting y-value (the wavelength)\n",
    "#Input the maximumum y value as wqual to max_abs\n",
    "max_abs = max(absorbance)\n",
    "max_wav = wavelength[absorbance.argmax()]  \n",
    "print(\"The wavelength is\",max_wav, \"nm\")"
   ]
  },
  {
   "cell_type": "markdown",
   "metadata": {},
   "source": [
    "**Using the equation  $E = \\frac{hc}{\\lambda}$  determine the energy of the ${\\lambda_{max}}$  light wave absorbed in joules $(J)$.**"
   ]
  },
  {
   "cell_type": "markdown",
   "metadata": {},
   "source": [
    "$ E = energy \\\\\n",
    "h = Planck\\ constant\\ (6.626×10−34\\ Js)  \\\\\n",
    "c = speed \\ of \\ light \\ (3 \\times 10^{8}m \\ s^{-1} ) \\\\\n",
    "\\lambda = wavelength \\ (m)\n",
    "$"
   ]
  },
  {
   "cell_type": "markdown",
   "metadata": {},
   "source": [
    "**NOTE:** Don't forget units,  $1nm = 1 \\times 10^{-9}m$. Input like this:  `1e-9`"
   ]
  },
  {
   "cell_type": "code",
   "execution_count": null,
   "metadata": {},
   "outputs": [],
   "source": [
    "#Assign the variables h and c\n",
    "h = 6.626e-34\n",
    "c = 3e8\n",
    "\n",
    "#Put variables into the equation\n",
    "E = (h*c)/(max_wav)\n",
    "print(\"The energy of the peak is\", E, \"J\")"
   ]
  },
  {
   "cell_type": "markdown",
   "metadata": {},
   "source": [
    "## Using some real data to do the same thing..."
   ]
  },
  {
   "cell_type": "markdown",
   "metadata": {},
   "source": [
    "**Please run the cell below.**"
   ]
  },
  {
   "cell_type": "markdown",
   "metadata": {},
   "source": [
    "**NOTE:** Do not worry about the code below, we will only be using its output."
   ]
  },
  {
   "cell_type": "code",
   "execution_count": null,
   "metadata": {},
   "outputs": [],
   "source": [
    "#Run this code\n",
    "#Load the Spectrum data\n",
    "url = 'https://raw.githubusercontent.com/warwickdatascience/beginners-python/master/session-two/subject_questions/session_two_files/uvvis_data.csv'\n",
    "data = np.loadtxt(url, skiprows=1, delimiter=',')\n",
    "\n",
    "#Label and isolate the raw data\n",
    "#Take note of the list names, you will use them later\n",
    "wavelength_2=data[:,0]\n",
    "absorbance_2=data[:,1]\n",
    "\n",
    "#Plot the data, trial fit, and formatting\n",
    "plt.figure(figsize=(5,5))\n",
    "plt.xlabel('Wavelength ($\\lambda$) / nm',fontsize=12) \n",
    "plt.ylabel('Arbitrary Absorbance Units',fontsize=12)\n",
    "plt.title('UV-Vis Absorption Spectrum 2',pad=12, fontsize=18)\n",
    "plt.grid(linestyle='dotted',c='0.7')\n",
    "plt.plot(wavelength_2,absorbance_2,lw=2,c='#2909B9',label='Curve')\n",
    "plt.scatter(wavelength_2,absorbance_2,s=15,c='#A16DD8',alpha=0.5,label='Raw Data')\n",
    "plt.tick_params(color='0.9',labelsize=12)\n",
    "plt.legend(frameon=False,fontsize=10)\n",
    "plt.minorticks_on()\n",
    "\n",
    "plt.show()"
   ]
  },
  {
   "cell_type": "markdown",
   "metadata": {},
   "source": [
    " #### **Task 2**"
   ]
  },
  {
   "cell_type": "markdown",
   "metadata": {},
   "source": [
    "The graph above is created using real data from a UV-Vis Spectrum. Below is some code to determine the `index` of the `absorbance_2` value which has the greatest absorbance, it's corresponding x-value will be the ${\\lambda_{max}}$ for this dataset."
   ]
  },
  {
   "cell_type": "markdown",
   "metadata": {},
   "source": [
    "**Please run the cell below.**"
   ]
  },
  {
   "cell_type": "code",
   "execution_count": null,
   "metadata": {},
   "outputs": [],
   "source": [
    "#Run this cell, it will print the index of the dataset value contining the highest absorbance\n",
    "result = np.where(absorbance_2 == np.amax(absorbance_2))\n",
    "print(result[0])"
   ]
  },
  {
   "cell_type": "markdown",
   "metadata": {},
   "source": [
    "**Using the above result, print the value of `wavelength_2[]` at that specific index. This is the ${\\lambda_{max}}$.**"
   ]
  },
  {
   "cell_type": "code",
   "execution_count": null,
   "metadata": {},
   "outputs": [],
   "source": [
    "print(\"The wavelength is\", wavelength_2[372], \"nm\")"
   ]
  },
  {
   "cell_type": "markdown",
   "metadata": {},
   "source": [
    "**BONUS: Create a mini program using  `input()` that automatically calculates wavelength for a wave of any user-chosen energy by rearranging $E = \\frac{hc}{\\lambda}$. Use it to calculate the wavelength of a lightwave with energy `3.5e-19`$(J)$.**"
   ]
  },
  {
   "cell_type": "markdown",
   "metadata": {},
   "source": [
    "**NOTE:** Be careful with what type of input you allow, remember you can specify the `type()` using `float()`, `str()`, or `int()`. And don't forget units!"
   ]
  },
  {
   "cell_type": "code",
   "execution_count": null,
   "metadata": {},
   "outputs": [],
   "source": [
    "#Assign variables - not really required as these were already previously defined.\n",
    "h = 6.626e-34\n",
    "c = 3.000e8\n",
    "\n",
    "#assigning the energy value to an input prompt, and limiting inputs to only floats\n",
    "e_input = float(input(\"What is the energy value?\\n\"))\n",
    "\n",
    "#Compiling variables into wavelength equation and printing result\n",
    "wav_calc = ((h*c)/(e_input))/(1e-9)\n",
    "print(\"The wavelength is \",wav_calc,\"nm\" )"
   ]
  },
  {
   "cell_type": "markdown",
   "metadata": {},
   "source": [
    "### Predicting the colours of dyes"
   ]
  },
  {
   "cell_type": "markdown",
   "metadata": {},
   "source": [
    " #### **Task 3**"
   ]
  },
  {
   "cell_type": "markdown",
   "metadata": {},
   "source": [
    "Below are some conjugated compounds commonly known as dyes. The energy of the ${\\lambda_{max}}$ light wave is displayed underneath each one."
   ]
  },
  {
   "cell_type": "markdown",
   "metadata": {},
   "source": [
    "<center><img src=\"./session_two_files/dyes.png\" width=\"800\" align=\"center\"/> "
   ]
  },
  {
   "cell_type": "markdown",
   "metadata": {},
   "source": [
    "Using the program you created above, calculate the ${\\lambda_{max}}$ in nm for each compund. Do all calculations in m then divide results by `1e-9` to get answers in nm."
   ]
  },
  {
   "cell_type": "markdown",
   "metadata": {},
   "source": [
    "**TIP:** You can compile multiple inputs in one run. Don't forget units! Use `round()` to keep answers clean."
   ]
  },
  {
   "cell_type": "code",
   "execution_count": null,
   "metadata": {},
   "outputs": [],
   "source": [
    "#Assign variables - not really required as these were already previously defined.\n",
    "h = 6.626e-34\n",
    "c = 3.0000e8\n",
    "\n",
    "#assigning the energy value to an input prompt, and limiting inputs to only floats\n",
    "e_quin = float(input(\"What is the energy for Quinacridone?\\n\"))\n",
    "e_pthal = float(input(\"What is the energy for Copper (II) Phtalocyanine?\\n\"))\n",
    "e_indigo = float(input(\"What is the energy for Indigo?\\n\"))\n",
    "#Compiling variables into wavelength equation and printing result\n",
    "wav_quin = ((h*c)/(e_quin))/(1e-9)\n",
    "wav_pthal = ((h*c)/(e_pthal))/(1e-9)\n",
    "wav_indigo = ((h*c)/(e_indigo))/(1e-9)\n",
    "print(\"\\nThe wavelength is \",round(wav_quin),\"nm for Quinacridone,\",round(wav_pthal),\"nm for Copper (II) Phtalocyanine, and\",round(wav_indigo),\"nm for Indigo.\" )"
   ]
  },
  {
   "cell_type": "markdown",
   "metadata": {},
   "source": [
    "**What might be the colours of these compounds?**\n",
    "\n",
    "You can use these wavelengths to predict the colours the compounds will appear as. Use the ranges in the table below, and assign each wavelength to a colour. Remember, this is the colour they absorb the most. To get an indication of what colour they appear as, find the complementary colour (oppposite colour on the colour wheel) to the one you just identified."
   ]
  },
  {
   "cell_type": "markdown",
   "metadata": {},
   "source": [
    "**Quinacridone colour absorbed:** Green (530nm)\n",
    "\n",
    "**Quinacridone's colour:** Magenta\n",
    "\n",
    "\n",
    "**Copper (II) Phtalocyanine colour absorbed:** Red (678nm)\n",
    "\n",
    "**Copper (II) Phtalocyanine's colour:** Cyan/Blue\n",
    "\n",
    "\n",
    "**Indigo colour absorbed:** Orange\n",
    "\n",
    "**Indigo's colour:** Blue"
   ]
  },
  {
   "cell_type": "markdown",
   "metadata": {},
   "source": [
    "Wavelengths of light and their colours: [**Violet:** *380nm-450nm*], [**Blue:** *450nm-485nm*], [**Cyan:** *485nm-500nm*], [**Green:** *500nm-565nm*], [**Yellow:** *565nm-590nm*], [**Orange:** *590nm-625nm*], [**Red:** *625nm-740nm*]"
   ]
  },
  {
   "cell_type": "markdown",
   "metadata": {},
   "source": [
    "<center><img src=\"./session_two_files/colour_wheel2.png\" width=\"200\" align=\"center\"/>"
   ]
  },
  {
   "cell_type": "markdown",
   "metadata": {},
   "source": [
    "## **Michaelis–Menten kinetics**"
   ]
  },
  {
   "cell_type": "markdown",
   "metadata": {},
   "source": [
    "The Michaelis–Menten model is one of the best models for enzyme kinetics, it allows for enzymes to be classified by their $K_{M}$ values, and makes it possible to measure an enzyme's rate of reaction with greater accuracy. The equation for the rate of formation of product $[P]$ is shown below."
   ]
  },
  {
   "cell_type": "markdown",
   "metadata": {},
   "source": [
    "$$rate =    \\frac{d[P]}{dt}  = \\frac{V_{max}[S]}{K_{M}+[S]} $$"
   ]
  },
  {
   "cell_type": "markdown",
   "metadata": {},
   "source": [
    "If you want to find out more about Michaelis-Menten kinetics head over to https://en.wikipedia.org/wiki/Michaelis%E2%80%93Menten_kinetics"
   ]
  },
  {
   "cell_type": "markdown",
   "metadata": {},
   "source": [
    "Data from experiments produces a non-linear graph for the enzyme's rate, therefore non-linear regression must be applied to fit a curve to the data.\n",
    "\n",
    "**Please run the cell below.**"
   ]
  },
  {
   "cell_type": "markdown",
   "metadata": {},
   "source": [
    "**NOTE:** Do not worry about the code below, we will only be using its output."
   ]
  },
  {
   "cell_type": "code",
   "execution_count": null,
   "metadata": {},
   "outputs": [],
   "source": [
    "#Run this cell (Shift+Enter)\n",
    "#import a useful fitting package\n",
    "from scipy.optimize import curve_fit\n",
    "\n",
    "#Label and isolate the raw data\n",
    "conc = np.array([1.00,2.00,5.00,10.00, 20.00, 40.00, 100.00, 200.00])\n",
    "rate = np.array([0.02,0.06,0.13,0.2,0.31,0.47,0.59,0.71])\n",
    "\n",
    "#Michaelis-Menten Kinetics equation inputted as a function\n",
    "def rate_opt(c, km, vmax):\n",
    "    return (c*vmax)/(km+c)\n",
    "\n",
    "#make guesses for constants\n",
    "g = [30,0.9]\n",
    "n = len(conc)\n",
    "y = np.empty(n)\n",
    "for i in range(n):\n",
    "    y[i] = rate_opt(conc[i], g[0], g[1])\n",
    "    \n",
    "#Run function through curve_fit operation (non-linear regression)\n",
    "k,cov = curve_fit(rate_opt,conc,rate, g)\n",
    "print(\"Fitted Constants:-\",\"\\nKM:\", k[0], \"\\nVmax:\", k[1])\n",
    "#use calculated constants for an improved fit\n",
    "y = np.empty(n)\n",
    "for i in range(n):\n",
    "    y[i] = rate_opt(conc[i], k[0], k[1])\n",
    "    \n",
    "#Michaelis-Menten Kinetics equation inputted as a function    \n",
    "def rate_smooth(s,km,vmax):\n",
    "    return (s*vmax)/(km+s)\n",
    "\n",
    "#create a new array using a larger number of inputs and the optimised constants for a smooth line output\n",
    "base = np.linspace(1, 200, 400)\n",
    "fitted = np.empty(400)\n",
    "fitted_len = len(fitted)\n",
    "for i in range(fitted_len):\n",
    "    fitted[i] = rate_smooth(base[i],k[0],k[1])\n",
    "\n",
    "#plot the figure   \n",
    "fig, (ax1, ax2) = plt.subplots(1,2,figsize=(10,5),sharey=True,gridspec_kw={'wspace': 0})\n",
    "fig.suptitle('Michaelis–Menten Kinetics',fontsize=18)\n",
    "\n",
    "#Create the gridlines\n",
    "ax3 = fig.add_subplot(111, zorder=-1)\n",
    "for _, spine in ax3.spines.items():\n",
    "    spine.set_visible(False)\n",
    "ax3.tick_params(labelleft=False, labelbottom=False, left=False, right=False )\n",
    "ax3.get_shared_x_axes().join(ax3,ax1)\n",
    "ax3.grid(axis=\"x\")\n",
    "ax1.grid()\n",
    "ax2.grid()\n",
    "\n",
    "#Plot Raw Data\n",
    "ax1.set_title('Guess Fit',fontsize=13)\n",
    "ax1.plot(conc,y,c='#FF1800',lw=3,alpha=0.5)\n",
    "ax1.plot(conc,rate,lw=0.25,c='#2909B9',label='\"Raw Data\"')\n",
    "ax1.scatter(conc,rate,s=30,c='#2909B9',alpha=0.7,label='Raw Data')\n",
    "ax1.set_xlabel('Concentration / mol dm$^{-3}$',fontsize=12)\n",
    "ax1.set_ylabel('Rate',fontsize=12)\n",
    "ax1.minorticks_on()\n",
    "\n",
    "#Plot Fitted Data\n",
    "ax2.plot(base,fitted,lw=3,c='#02D7FF',label='\"Test\"')\n",
    "ax2.plot(conc,rate,lw=0.25,c='#2909B9',label='\"Raw Data\"')\n",
    "ax2.scatter(conc,rate,s=30,c='#2909B9',alpha=0.6,label='Raw Data')\n",
    "ax2.set_title('Fitted Data',fontsize=13)\n",
    "ax2.set_xlabel('Concentration / mol dm$^{-3}$',fontsize=12)\n",
    "ax2.minorticks_on()"
   ]
  },
  {
   "cell_type": "code",
   "execution_count": null,
   "metadata": {},
   "outputs": [],
   "source": [
    "#Run this to see the R squared value for the fitted data\n",
    "print(\"R squared: \", r2_score(rate,y))"
   ]
  },
  {
   "cell_type": "markdown",
   "metadata": {},
   "source": [
    "**Left:** A graph showing the raw data in violet and a line of best fit (red) produced using estimated values of the constants $K_{M}$ and $V_{max}$.\n",
    "\n",
    "**Right:** A graph showing the raw data in violet and a line of best fit (turquoise) produced using optimised values of the constants $K_{M}$ and $V_{max}$, resolved using non-linear regression."
   ]
  },
  {
   "cell_type": "markdown",
   "metadata": {},
   "source": [
    " ### **Task 4**"
   ]
  },
  {
   "cell_type": "markdown",
   "metadata": {},
   "source": [
    "**Using the `max()` function determine the highest rate measured in the `rate` dataset and the highest predicted value in the `fitted` dataset. Use `round()` to give answers to an apporapriate number of decimal places.**"
   ]
  },
  {
   "cell_type": "code",
   "execution_count": null,
   "metadata": {},
   "outputs": [],
   "source": [
    "#Finding the max values, and rounding them to an apporopriate number of decimal places.\n",
    "print(\"The maximum theoretical rate predicted is\", round(max(fitted),2), \"and the maximum rate measured was\", round(max(rate),2))"
   ]
  },
  {
   "cell_type": "markdown",
   "metadata": {},
   "source": [
    "**Below is a list containing the $K_{M}$ for a number of commonm enzymes. Use `sum()` and `len()` to find and print the average $K_{M}$, and also give the value of the lowest $K_{M}$ using `min()`.**"
   ]
  },
  {
   "cell_type": "code",
   "execution_count": null,
   "metadata": {},
   "outputs": [],
   "source": [
    "#List containing the Km's for ome common enzymes\n",
    "enzyme_km = [5000, 6, 4000, 5000, 8000, 50, 50, 400, 1000, 60, 3, 0.4, 300]\n",
    "\n",
    "#Finding average and printing along with minimum Km\n",
    "km_avg = (sum(enzyme_km))/(len(enzyme_km))\n",
    "print(\"Average Km:\", km_avg,\"\\nLowest Km:\", min(enzyme_km))"
   ]
  },
  {
   "cell_type": "markdown",
   "metadata": {},
   "source": [
    "### **Bonus Task**"
   ]
  },
  {
   "cell_type": "markdown",
   "metadata": {},
   "source": [
    "**At how many concentrations does the `rate` dataset exceed a rate of 0.4?**"
   ]
  },
  {
   "cell_type": "markdown",
   "metadata": {},
   "source": [
    "**TIP:** Print `result_2` to see what kind of output you are dealing with, how can you manipulate it to print nicely? You can also use `type()`."
   ]
  },
  {
   "cell_type": "code",
   "execution_count": null,
   "metadata": {},
   "outputs": [],
   "source": [
    "#The line of code below creates a result containing all the indexes which contain rate values > 0.4\n",
    "#Formulate a print argument which returns the number of indexes\n",
    "result_2 = np.where(rate > 0.4)\n",
    "print(len(result_2[0]))"
   ]
  }
 ],
 "metadata": {
  "kernelspec": {
   "display_name": "Python 3",
   "language": "python",
   "name": "python3"
  },
  "language_info": {
   "codemirror_mode": {
    "name": "ipython",
    "version": 3
   },
   "file_extension": ".py",
   "mimetype": "text/x-python",
   "name": "python",
   "nbconvert_exporter": "python",
   "pygments_lexer": "ipython3",
   "version": "3.8.3-final"
  }
 },
 "nbformat": 4,
 "nbformat_minor": 4
}