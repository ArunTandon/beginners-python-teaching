{
 "cells": [
  {
   "cell_type": "markdown",
   "metadata": {},
   "source": [
    "# Beginner's Python—Session One Mathematics/Statisics Answers"
   ]
  },
  {
   "cell_type": "markdown",
   "metadata": {},
   "source": [
    "## Quick introduction to `lambda` and `map` functions\n",
    "The two concepts of `lambda` and `map()` functions haven't been yet introduced in the course. In short, `lambda` functions togetheer with `map()` allow for applying a mathematical expression to every element of a collection - in our case a list. Look at the example below:"
   ]
  },
  {
   "cell_type": "code",
   "execution_count": 1,
   "metadata": {},
   "outputs": [
    {
     "output_type": "stream",
     "name": "stdout",
     "text": [
      "Original list:  [1, 2, 3]\nList after applying the square function: [1, 4, 9]\n"
     ]
    }
   ],
   "source": [
    "square = lambda x: x**2\n",
    " \n",
    "my_list = [1, 2, 3]\n",
    "new_list = list(map(square, my_list))\n",
    "\n",
    "print('Original list: ', my_list)\n",
    "print('List after applying the square function:', new_list)"
   ]
  },
  {
   "cell_type": "markdown",
   "metadata": {},
   "source": [
    "The example above ilustrates what the `lambda` and `map()` function do. We first define `square` to be a function which given a number `x` returns `x` squared. Then we apply this function to every element of `my_list` using the `map()`."
   ]
  },
  {
   "cell_type": "markdown",
   "metadata": {},
   "source": [
    "## Normalising and Standardising data"
   ]
  },
  {
   "cell_type": "markdown",
   "metadata": {},
   "source": [
    "Normalising a list $x = [x_1,\\dots,x_n]$ transforms each element $x_i$, which becomes $\\frac{x_i - min(x)}{max(x)-min(x)}$"
   ]
  },
  {
   "cell_type": "markdown",
   "metadata": {},
   "source": [
    "The following cell block shows the process of normalising the list $[1,2,3,4,5]$ using `map()` and `lambda` functions."
   ]
  },
  {
   "cell_type": "code",
   "execution_count": 2,
   "metadata": {},
   "outputs": [
    {
     "output_type": "execute_result",
     "data": {
      "text/plain": [
       "[0.0, 0.25, 0.5, 0.75, 1.0]"
      ]
     },
     "metadata": {},
     "execution_count": 2
    }
   ],
   "source": [
    "# Defining the list\n",
    "x = [1,2,3,4,5]\n",
    "\n",
    "# Creating variables for the minimum and maximum values of element of the list\n",
    "minx = min(x)\n",
    "maxx = max(x)\n",
    "\n",
    "# Creating a function - normalise - to get the normalised form of one element of the list\n",
    "normalise = lambda x: (x-minx)/(maxx-minx)\n",
    "\n",
    "# map is just applying the function to all elements of the list\n",
    "# We then represent this as a list\n",
    "list(map(normalise,x))"
   ]
  },
  {
   "cell_type": "markdown",
   "metadata": {},
   "source": [
    "Standardising a list $x = [x_1,\\dots,x_n]$ transforms each element $x_i$, which becomes $\\frac{x_i - \\bar{x}}{\\sigma}$,\n",
    "\n",
    "where $\\bar{x} = \\frac{1}{n}\\sum_{i=1}^nx_i$ is the sample mean, and\n",
    "\n",
    "$\\sigma^2 = \\frac{1}{n}\\sum_{i=1}^n(x_i-\\bar{x})^2$ is the variance"
   ]
  },
  {
   "cell_type": "markdown",
   "metadata": {},
   "source": [
    "Try to use a method like above in order to standardise the list $[1,2,3,4,5]$\n",
    "\n",
    "Hint: You might need to use the map function in order to calculate the variance"
   ]
  },
  {
   "cell_type": "code",
   "execution_count": 3,
   "metadata": {},
   "outputs": [
    {
     "output_type": "execute_result",
     "data": {
      "text/plain": [
       "[-1.414213562373095,\n",
       " -0.7071067811865475,\n",
       " 0.0,\n",
       " 0.7071067811865475,\n",
       " 1.414213562373095]"
      ]
     },
     "metadata": {},
     "execution_count": 3
    }
   ],
   "source": [
    "# Creating veriables\n",
    "n = len(x)\n",
    "xbar = (sum(x))/n\n",
    "\n",
    "# Calculating the variance\n",
    "shift = lambda x: x-xbar\n",
    "shifted = map(shift,x)\n",
    "\n",
    "square = lambda x: x**2\n",
    "sumready = map(square, shifted)\n",
    "\n",
    "var = (sum(sumready))/n\n",
    "\n",
    "# Creating the standardise function\n",
    "standardise = lambda x: (x-xbar)/(var**0.5)\n",
    "\n",
    "# Output \n",
    "list(map(standardise,x))"
   ]
  },
  {
   "cell_type": "markdown",
   "metadata": {},
   "source": [
    "## Transforming data into a specified range"
   ]
  },
  {
   "cell_type": "markdown",
   "metadata": {},
   "source": [
    "Given the same list $[1,2,3,4,5]$, can you transform it so that all elements lie between two bounds, both specified by a user input?\n",
    "\n",
    "Hint:\n",
    "\n",
    "Can you do this by first normalising the data?"
   ]
  },
  {
   "cell_type": "code",
   "execution_count": 4,
   "metadata": {},
   "outputs": [
    {
     "output_type": "error",
     "ename": "ValueError",
     "evalue": "could not convert string to float: ''",
     "traceback": [
      "\u001b[0;31m---------------------------------------------------------------------------\u001b[0m",
      "\u001b[0;31mValueError\u001b[0m                                Traceback (most recent call last)",
      "\u001b[0;32m<ipython-input-4-37fb26cdd0f7>\u001b[0m in \u001b[0;36m<module>\u001b[0;34m\u001b[0m\n\u001b[1;32m      8\u001b[0m \u001b[0;34m\u001b[0m\u001b[0m\n\u001b[1;32m      9\u001b[0m \u001b[0;31m# Get upper and lower bounds\u001b[0m\u001b[0;34m\u001b[0m\u001b[0;34m\u001b[0m\u001b[0;34m\u001b[0m\u001b[0m\n\u001b[0;32m---> 10\u001b[0;31m \u001b[0mlower_bound\u001b[0m \u001b[0;34m=\u001b[0m \u001b[0mfloat\u001b[0m\u001b[0;34m(\u001b[0m\u001b[0minput\u001b[0m\u001b[0;34m(\u001b[0m\u001b[0;34m'Enter a lower bound for the interval'\u001b[0m\u001b[0;34m)\u001b[0m\u001b[0;34m)\u001b[0m\u001b[0;34m\u001b[0m\u001b[0;34m\u001b[0m\u001b[0m\n\u001b[0m\u001b[1;32m     11\u001b[0m \u001b[0mupper_bound\u001b[0m \u001b[0;34m=\u001b[0m \u001b[0mfloat\u001b[0m\u001b[0;34m(\u001b[0m\u001b[0minput\u001b[0m\u001b[0;34m(\u001b[0m\u001b[0;34m'Enter an upper bound for the interval'\u001b[0m\u001b[0;34m)\u001b[0m\u001b[0;34m)\u001b[0m\u001b[0;34m\u001b[0m\u001b[0;34m\u001b[0m\u001b[0m\n\u001b[1;32m     12\u001b[0m \u001b[0;34m\u001b[0m\u001b[0m\n",
      "\u001b[0;31mValueError\u001b[0m: could not convert string to float: ''"
     ]
    }
   ],
   "source": [
    "x = [1,2,3,4,5]\n",
    "\n",
    "# Normalising the list\n",
    "minx = min(x)\n",
    "maxx = max(x)\n",
    "normalise = lambda x: (x-minx)/(maxx-minx)\n",
    "normalised = list(map(normalise,x))\n",
    "\n",
    "# Get upper and lower bounds\n",
    "lower_bound = float(input('Enter a lower bound for the interval'))\n",
    "upper_bound = float(input('Enter an upper bound for the interval'))\n",
    "\n",
    "# Create a function to put a value of the list in the new range\n",
    "move = lambda x: lower_bound + x*(upper_bound - lower_bound)\n",
    "\n",
    "# Applying this function to the normalised list\n",
    "print('The new list is: ' + str(list(map(move,normalised))))"
   ]
  },
  {
   "cell_type": "markdown",
   "metadata": {},
   "source": [
    "## Linear Regression"
   ]
  },
  {
   "cell_type": "markdown",
   "metadata": {},
   "source": [
    "Given a set of n 2D points $(x_1,y_1), (x_2,y_2), \\dots, (x_n,y_n)$, find the line $\\hat{y}(x) = b_0 + b_1x$ that minimises the squared distance between the predicted and actual values, $\\hat{y}(x_i)$ and $y(x_i)$ repsectively. \n",
    "\n",
    "The squared distance is given by $\\sum_{i=1}^{n} (\\hat{y}(x_i) - y(x_i))^2$\n",
    "\n",
    "Using basic calculus and algebra we get the following equations for $b_0$ and $b_1$:\n",
    "\n",
    "\\begin{align*}\n",
    "b_0 = \\frac{(\\sum_{i=1}^{n}y_i)(\\sum_{i=1}^{n}x_i^2) - (\\sum_{i=1}^{n}x_i)(\\sum_{i=1}^{n}x_iy_i)}{n\\sum_{i=1}^{n}x_i^2 - (\\sum_{i=1}^{n}x_i)^2}\n",
    "\\end{align*}\n",
    "\n",
    "\\begin{align*}\n",
    "b_1 = \\frac{n\\sum_{i=1}^{n}x_iy_i - (\\sum_{i=1}^{n}x_i)(\\sum_{i=1}^{n}y_i)}{n\\sum_{i=1}^{n}x_i^2 - (\\sum_{i=1}^{n}x_i)^2}\n",
    "\\end{align*}"
   ]
  },
  {
   "cell_type": "markdown",
   "metadata": {},
   "source": [
    "The following function takes in two lists an inputs, and outputs their dot product (if they are thought of as vectors)"
   ]
  },
  {
   "cell_type": "code",
   "execution_count": null,
   "metadata": {},
   "outputs": [],
   "source": [
    "def dot(x,y):\n",
    "    return sum(i[0] * i[1] for i in zip(x, y))"
   ]
  },
  {
   "cell_type": "markdown",
   "metadata": {},
   "source": [
    "Let's apply linear regression to the points with $x$ and $y$ coordinates defined below:"
   ]
  },
  {
   "cell_type": "code",
   "execution_count": null,
   "metadata": {},
   "outputs": [],
   "source": [
    "X = [1,2,3,4,5,6,7,8]\n",
    "Y = [2,3,7,5,5,6,4,5]"
   ]
  },
  {
   "cell_type": "markdown",
   "metadata": {},
   "source": [
    "See if you can calculate $b_0$ and $b_1$, you can use the dot function defined above."
   ]
  },
  {
   "cell_type": "code",
   "execution_count": null,
   "metadata": {},
   "outputs": [],
   "source": [
    "n = len(X)\n",
    "    \n",
    "sumx = sum(X)\n",
    "sumy = sum(Y)\n",
    "\n",
    "sumx2 = dot(X,X)\n",
    "sumxy = dot(X, Y)\n",
    "    \n",
    "b0 = (sumx2*sumy - sumx*sumxy) / (n*sumx2 - sumx**2)\n",
    "b1 = (n*sumxy - sumx*sumy) / (n*sumx2 - sumx**2)"
   ]
  },
  {
   "cell_type": "markdown",
   "metadata": {},
   "source": [
    "Now we're going to plot the results!"
   ]
  },
  {
   "cell_type": "code",
   "execution_count": null,
   "metadata": {},
   "outputs": [],
   "source": [
    "# Package used for plotting\n",
    "import matplotlib.pyplot as plt"
   ]
  },
  {
   "cell_type": "markdown",
   "metadata": {},
   "source": [
    "The following cell uses our values of $b_0$ and $b_1$ to plot the line, along with out input coordinates. \n",
    "\n",
    "Run the cell to see the plot"
   ]
  },
  {
   "cell_type": "code",
   "execution_count": null,
   "metadata": {},
   "outputs": [],
   "source": [
    "# Package used for evaluating our line at different x values\n",
    "import numpy as np\n",
    "\n",
    "# Plotting our inputted points\n",
    "plt.plot([X],[Y], 'ro')\n",
    "    \n",
    "maxx = max(X)\n",
    "minx = min(X)\n",
    "maxy = max(Y)\n",
    "miny = min(Y)\n",
    "    \n",
    "# Plotting the line of best fit\n",
    "x = np.arange(minx, maxx, (maxx-minx)/10000)\n",
    "plt.plot(x, np.polyval([b1,b0],x))\n",
    "    \n",
    "plt.axis([minx-0.1*(maxx-minx), maxx+0.1*(maxx-minx), \n",
    "          miny - 0.1*(maxy-miny), maxy + 0.1*(maxy-miny)])\n",
    "plt.show()"
   ]
  }
 ],
 "metadata": {
  "kernelspec": {
   "display_name": "Python 3",
   "language": "python",
   "name": "python3"
  },
  "language_info": {
   "codemirror_mode": {
    "name": "ipython",
    "version": 3
   },
   "file_extension": ".py",
   "mimetype": "text/x-python",
   "name": "python",
   "nbconvert_exporter": "python",
   "pygments_lexer": "ipython3",
   "version": "3.8.3-final"
  }
 },
 "nbformat": 4,
 "nbformat_minor": 2
}