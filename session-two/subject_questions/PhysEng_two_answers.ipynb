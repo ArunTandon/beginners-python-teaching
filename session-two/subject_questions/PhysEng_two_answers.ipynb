{
 "cells": [
  {
   "cell_type": "markdown",
   "metadata": {
    "id": "0wPixjHS38aO"
   },
   "source": [
    "# **Beginner's Python - Session Two Physics/Engineering Answers**"
   ]
  },
  {
   "cell_type": "markdown",
   "metadata": {
    "id": "tdITd2KuzKT3"
   },
   "source": [
    "## **Numerically solving an ODE**"
   ]
  },
  {
   "cell_type": "markdown",
   "metadata": {
    "id": "jTKCIuxNPWEK"
   },
   "source": [
    "In this exercise we will be writing some code which generates a plot of the motion of a mass hanging on the end of an (idealised) spring. This will involve solving the following linear differential equation numerically using Euler's method. \n",
    "\n",
    "$$\\frac{d^2x}{dt^2} = -\\frac{k}{m}x-g $$\n",
    "\n",
    "If you're unfamiliar with Euler's method, you can check out https://tutorial.math.lamar.edu/classes/de/eulersmethod.aspx.\n"
   ]
  },
  {
   "cell_type": "markdown",
   "metadata": {
    "id": "eZPu1rpXnesd"
   },
   "source": [
    "First of all, in the cell below write code which takes a user input and asks has the text \"Enter initial position coordinate\". \n",
    "\n",
    "You should assign this user input - *cast as a float* - to a variable valled ```x0```. After you've run this cell, input a value between -5.0 and 5.0 and hit enter."
   ]
  },
  {
   "cell_type": "code",
   "execution_count": 2,
   "metadata": {
    "colab": {
     "base_uri": "https://localhost:8080/",
     "height": 34
    },
    "id": "AerNBkAgoOP1",
    "outputId": "be07e24a-8479-4caf-8e93-1d7837d3c5d2"
   },
   "outputs": [],
   "source": [
    "x0 = float(input(\"Please input an initial position\"))"
   ]
  },
  {
   "cell_type": "markdown",
   "metadata": {
    "id": "hPA1ELN6TJ9S"
   },
   "source": [
    "Now run the cell below. You should see a graph generated which shows the numerical solutions for both velocity and position of the mass. You can also edit the parameter values at the top and re-run the cell to see the effect on the numerical solution. \n",
    "\n",
    "**Note:** Don't worry about the details of the code, but know that it gives us "
   ]
  },
  {
   "cell_type": "code",
   "execution_count": 4,
   "metadata": {
    "colab": {
     "base_uri": "https://localhost:8080/",
     "height": 279
    },
    "id": "lgJB8aeRLf9U",
    "outputId": "03fc3962-0f3f-4292-cae8-30eb3415d15e"
   },
   "outputs": [
    {
     "output_type": "display_data",
     "data": {
      "text/plain": "<Figure size 432x288 with 1 Axes>",
      "image/svg+xml": "<?xml version=\"1.0\" encoding=\"utf-8\" standalone=\"no\"?>\n<!DOCTYPE svg PUBLIC \"-//W3C//DTD SVG 1.1//EN\"\n  \"http://www.w3.org/Graphics/SVG/1.1/DTD/svg11.dtd\">\n<!-- Created with matplotlib (https://matplotlib.org/) -->\n<svg height=\"262.19625pt\" version=\"1.1\" viewBox=\"0 0 390.982812 262.19625\" width=\"390.982812pt\" xmlns=\"http://www.w3.org/2000/svg\" xmlns:xlink=\"http://www.w3.org/1999/xlink\">\n <defs>\n  <style type=\"text/css\">\n*{stroke-linecap:butt;stroke-linejoin:round;}\n  </style>\n </defs>\n <g id=\"figure_1\">\n  <g id=\"patch_1\">\n   <path d=\"M 0 262.19625 \nL 390.982812 262.19625 \nL 390.982812 0 \nL 0 0 \nz\n\" style=\"fill:none;\"/>\n  </g>\n  <g id=\"axes_1\">\n   <g id=\"patch_2\">\n    <path d=\"M 48.982813 224.64 \nL 383.782813 224.64 \nL 383.782813 7.2 \nL 48.982813 7.2 \nz\n\" style=\"fill:#ffffff;\"/>\n   </g>\n   <g id=\"matplotlib.axis_1\">\n    <g id=\"xtick_1\">\n     <g id=\"line2d_1\">\n      <defs>\n       <path d=\"M 0 0 \nL 0 3.5 \n\" id=\"me373965611\" style=\"stroke:#000000;stroke-width:0.8;\"/>\n      </defs>\n      <g>\n       <use style=\"stroke:#000000;stroke-width:0.8;\" x=\"64.200994\" xlink:href=\"#me373965611\" y=\"224.64\"/>\n      </g>\n     </g>\n     <g id=\"text_1\">\n      <!-- 0 -->\n      <defs>\n       <path d=\"M 31.78125 66.40625 \nQ 24.171875 66.40625 20.328125 58.90625 \nQ 16.5 51.421875 16.5 36.375 \nQ 16.5 21.390625 20.328125 13.890625 \nQ 24.171875 6.390625 31.78125 6.390625 \nQ 39.453125 6.390625 43.28125 13.890625 \nQ 47.125 21.390625 47.125 36.375 \nQ 47.125 51.421875 43.28125 58.90625 \nQ 39.453125 66.40625 31.78125 66.40625 \nz\nM 31.78125 74.21875 \nQ 44.046875 74.21875 50.515625 64.515625 \nQ 56.984375 54.828125 56.984375 36.375 \nQ 56.984375 17.96875 50.515625 8.265625 \nQ 44.046875 -1.421875 31.78125 -1.421875 \nQ 19.53125 -1.421875 13.0625 8.265625 \nQ 6.59375 17.96875 6.59375 36.375 \nQ 6.59375 54.828125 13.0625 64.515625 \nQ 19.53125 74.21875 31.78125 74.21875 \nz\n\" id=\"DejaVuSans-48\"/>\n      </defs>\n      <g transform=\"translate(61.019744 239.238437)scale(0.1 -0.1)\">\n       <use xlink:href=\"#DejaVuSans-48\"/>\n      </g>\n     </g>\n    </g>\n    <g id=\"xtick_2\">\n     <g id=\"line2d_2\">\n      <g>\n       <use style=\"stroke:#000000;stroke-width:0.8;\" x=\"125.073722\" xlink:href=\"#me373965611\" y=\"224.64\"/>\n      </g>\n     </g>\n     <g id=\"text_2\">\n      <!-- 1 -->\n      <defs>\n       <path d=\"M 12.40625 8.296875 \nL 28.515625 8.296875 \nL 28.515625 63.921875 \nL 10.984375 60.40625 \nL 10.984375 69.390625 \nL 28.421875 72.90625 \nL 38.28125 72.90625 \nL 38.28125 8.296875 \nL 54.390625 8.296875 \nL 54.390625 0 \nL 12.40625 0 \nz\n\" id=\"DejaVuSans-49\"/>\n      </defs>\n      <g transform=\"translate(121.892472 239.238437)scale(0.1 -0.1)\">\n       <use xlink:href=\"#DejaVuSans-49\"/>\n      </g>\n     </g>\n    </g>\n    <g id=\"xtick_3\">\n     <g id=\"line2d_3\">\n      <g>\n       <use style=\"stroke:#000000;stroke-width:0.8;\" x=\"185.946449\" xlink:href=\"#me373965611\" y=\"224.64\"/>\n      </g>\n     </g>\n     <g id=\"text_3\">\n      <!-- 2 -->\n      <defs>\n       <path d=\"M 19.1875 8.296875 \nL 53.609375 8.296875 \nL 53.609375 0 \nL 7.328125 0 \nL 7.328125 8.296875 \nQ 12.9375 14.109375 22.625 23.890625 \nQ 32.328125 33.6875 34.8125 36.53125 \nQ 39.546875 41.84375 41.421875 45.53125 \nQ 43.3125 49.21875 43.3125 52.78125 \nQ 43.3125 58.59375 39.234375 62.25 \nQ 35.15625 65.921875 28.609375 65.921875 \nQ 23.96875 65.921875 18.8125 64.3125 \nQ 13.671875 62.703125 7.8125 59.421875 \nL 7.8125 69.390625 \nQ 13.765625 71.78125 18.9375 73 \nQ 24.125 74.21875 28.421875 74.21875 \nQ 39.75 74.21875 46.484375 68.546875 \nQ 53.21875 62.890625 53.21875 53.421875 \nQ 53.21875 48.921875 51.53125 44.890625 \nQ 49.859375 40.875 45.40625 35.40625 \nQ 44.1875 33.984375 37.640625 27.21875 \nQ 31.109375 20.453125 19.1875 8.296875 \nz\n\" id=\"DejaVuSans-50\"/>\n      </defs>\n      <g transform=\"translate(182.765199 239.238437)scale(0.1 -0.1)\">\n       <use xlink:href=\"#DejaVuSans-50\"/>\n      </g>\n     </g>\n    </g>\n    <g id=\"xtick_4\">\n     <g id=\"line2d_4\">\n      <g>\n       <use style=\"stroke:#000000;stroke-width:0.8;\" x=\"246.819176\" xlink:href=\"#me373965611\" y=\"224.64\"/>\n      </g>\n     </g>\n     <g id=\"text_4\">\n      <!-- 3 -->\n      <defs>\n       <path d=\"M 40.578125 39.3125 \nQ 47.65625 37.796875 51.625 33 \nQ 55.609375 28.21875 55.609375 21.1875 \nQ 55.609375 10.40625 48.1875 4.484375 \nQ 40.765625 -1.421875 27.09375 -1.421875 \nQ 22.515625 -1.421875 17.65625 -0.515625 \nQ 12.796875 0.390625 7.625 2.203125 \nL 7.625 11.71875 \nQ 11.71875 9.328125 16.59375 8.109375 \nQ 21.484375 6.890625 26.8125 6.890625 \nQ 36.078125 6.890625 40.9375 10.546875 \nQ 45.796875 14.203125 45.796875 21.1875 \nQ 45.796875 27.640625 41.28125 31.265625 \nQ 36.765625 34.90625 28.71875 34.90625 \nL 20.21875 34.90625 \nL 20.21875 43.015625 \nL 29.109375 43.015625 \nQ 36.375 43.015625 40.234375 45.921875 \nQ 44.09375 48.828125 44.09375 54.296875 \nQ 44.09375 59.90625 40.109375 62.90625 \nQ 36.140625 65.921875 28.71875 65.921875 \nQ 24.65625 65.921875 20.015625 65.03125 \nQ 15.375 64.15625 9.8125 62.3125 \nL 9.8125 71.09375 \nQ 15.4375 72.65625 20.34375 73.4375 \nQ 25.25 74.21875 29.59375 74.21875 \nQ 40.828125 74.21875 47.359375 69.109375 \nQ 53.90625 64.015625 53.90625 55.328125 \nQ 53.90625 49.265625 50.4375 45.09375 \nQ 46.96875 40.921875 40.578125 39.3125 \nz\n\" id=\"DejaVuSans-51\"/>\n      </defs>\n      <g transform=\"translate(243.637926 239.238437)scale(0.1 -0.1)\">\n       <use xlink:href=\"#DejaVuSans-51\"/>\n      </g>\n     </g>\n    </g>\n    <g id=\"xtick_5\">\n     <g id=\"line2d_5\">\n      <g>\n       <use style=\"stroke:#000000;stroke-width:0.8;\" x=\"307.691903\" xlink:href=\"#me373965611\" y=\"224.64\"/>\n      </g>\n     </g>\n     <g id=\"text_5\">\n      <!-- 4 -->\n      <defs>\n       <path d=\"M 37.796875 64.3125 \nL 12.890625 25.390625 \nL 37.796875 25.390625 \nz\nM 35.203125 72.90625 \nL 47.609375 72.90625 \nL 47.609375 25.390625 \nL 58.015625 25.390625 \nL 58.015625 17.1875 \nL 47.609375 17.1875 \nL 47.609375 0 \nL 37.796875 0 \nL 37.796875 17.1875 \nL 4.890625 17.1875 \nL 4.890625 26.703125 \nz\n\" id=\"DejaVuSans-52\"/>\n      </defs>\n      <g transform=\"translate(304.510653 239.238437)scale(0.1 -0.1)\">\n       <use xlink:href=\"#DejaVuSans-52\"/>\n      </g>\n     </g>\n    </g>\n    <g id=\"xtick_6\">\n     <g id=\"line2d_6\">\n      <g>\n       <use style=\"stroke:#000000;stroke-width:0.8;\" x=\"368.564631\" xlink:href=\"#me373965611\" y=\"224.64\"/>\n      </g>\n     </g>\n     <g id=\"text_6\">\n      <!-- 5 -->\n      <defs>\n       <path d=\"M 10.796875 72.90625 \nL 49.515625 72.90625 \nL 49.515625 64.59375 \nL 19.828125 64.59375 \nL 19.828125 46.734375 \nQ 21.96875 47.46875 24.109375 47.828125 \nQ 26.265625 48.1875 28.421875 48.1875 \nQ 40.625 48.1875 47.75 41.5 \nQ 54.890625 34.8125 54.890625 23.390625 \nQ 54.890625 11.625 47.5625 5.09375 \nQ 40.234375 -1.421875 26.90625 -1.421875 \nQ 22.3125 -1.421875 17.546875 -0.640625 \nQ 12.796875 0.140625 7.71875 1.703125 \nL 7.71875 11.625 \nQ 12.109375 9.234375 16.796875 8.0625 \nQ 21.484375 6.890625 26.703125 6.890625 \nQ 35.15625 6.890625 40.078125 11.328125 \nQ 45.015625 15.765625 45.015625 23.390625 \nQ 45.015625 31 40.078125 35.4375 \nQ 35.15625 39.890625 26.703125 39.890625 \nQ 22.75 39.890625 18.8125 39.015625 \nQ 14.890625 38.140625 10.796875 36.28125 \nz\n\" id=\"DejaVuSans-53\"/>\n      </defs>\n      <g transform=\"translate(365.383381 239.238437)scale(0.1 -0.1)\">\n       <use xlink:href=\"#DejaVuSans-53\"/>\n      </g>\n     </g>\n    </g>\n    <g id=\"text_7\">\n     <!-- time (s) -->\n     <defs>\n      <path d=\"M 18.3125 70.21875 \nL 18.3125 54.6875 \nL 36.8125 54.6875 \nL 36.8125 47.703125 \nL 18.3125 47.703125 \nL 18.3125 18.015625 \nQ 18.3125 11.328125 20.140625 9.421875 \nQ 21.96875 7.515625 27.59375 7.515625 \nL 36.8125 7.515625 \nL 36.8125 0 \nL 27.59375 0 \nQ 17.1875 0 13.234375 3.875 \nQ 9.28125 7.765625 9.28125 18.015625 \nL 9.28125 47.703125 \nL 2.6875 47.703125 \nL 2.6875 54.6875 \nL 9.28125 54.6875 \nL 9.28125 70.21875 \nz\n\" id=\"DejaVuSans-116\"/>\n      <path d=\"M 9.421875 54.6875 \nL 18.40625 54.6875 \nL 18.40625 0 \nL 9.421875 0 \nz\nM 9.421875 75.984375 \nL 18.40625 75.984375 \nL 18.40625 64.59375 \nL 9.421875 64.59375 \nz\n\" id=\"DejaVuSans-105\"/>\n      <path d=\"M 52 44.1875 \nQ 55.375 50.25 60.0625 53.125 \nQ 64.75 56 71.09375 56 \nQ 79.640625 56 84.28125 50.015625 \nQ 88.921875 44.046875 88.921875 33.015625 \nL 88.921875 0 \nL 79.890625 0 \nL 79.890625 32.71875 \nQ 79.890625 40.578125 77.09375 44.375 \nQ 74.3125 48.1875 68.609375 48.1875 \nQ 61.625 48.1875 57.5625 43.546875 \nQ 53.515625 38.921875 53.515625 30.90625 \nL 53.515625 0 \nL 44.484375 0 \nL 44.484375 32.71875 \nQ 44.484375 40.625 41.703125 44.40625 \nQ 38.921875 48.1875 33.109375 48.1875 \nQ 26.21875 48.1875 22.15625 43.53125 \nQ 18.109375 38.875 18.109375 30.90625 \nL 18.109375 0 \nL 9.078125 0 \nL 9.078125 54.6875 \nL 18.109375 54.6875 \nL 18.109375 46.1875 \nQ 21.1875 51.21875 25.484375 53.609375 \nQ 29.78125 56 35.6875 56 \nQ 41.65625 56 45.828125 52.96875 \nQ 50 49.953125 52 44.1875 \nz\n\" id=\"DejaVuSans-109\"/>\n      <path d=\"M 56.203125 29.59375 \nL 56.203125 25.203125 \nL 14.890625 25.203125 \nQ 15.484375 15.921875 20.484375 11.0625 \nQ 25.484375 6.203125 34.421875 6.203125 \nQ 39.59375 6.203125 44.453125 7.46875 \nQ 49.3125 8.734375 54.109375 11.28125 \nL 54.109375 2.78125 \nQ 49.265625 0.734375 44.1875 -0.34375 \nQ 39.109375 -1.421875 33.890625 -1.421875 \nQ 20.796875 -1.421875 13.15625 6.1875 \nQ 5.515625 13.8125 5.515625 26.8125 \nQ 5.515625 40.234375 12.765625 48.109375 \nQ 20.015625 56 32.328125 56 \nQ 43.359375 56 49.78125 48.890625 \nQ 56.203125 41.796875 56.203125 29.59375 \nz\nM 47.21875 32.234375 \nQ 47.125 39.59375 43.09375 43.984375 \nQ 39.0625 48.390625 32.421875 48.390625 \nQ 24.90625 48.390625 20.390625 44.140625 \nQ 15.875 39.890625 15.1875 32.171875 \nz\n\" id=\"DejaVuSans-101\"/>\n      <path id=\"DejaVuSans-32\"/>\n      <path d=\"M 31 75.875 \nQ 24.46875 64.65625 21.28125 53.65625 \nQ 18.109375 42.671875 18.109375 31.390625 \nQ 18.109375 20.125 21.3125 9.0625 \nQ 24.515625 -2 31 -13.1875 \nL 23.1875 -13.1875 \nQ 15.875 -1.703125 12.234375 9.375 \nQ 8.59375 20.453125 8.59375 31.390625 \nQ 8.59375 42.28125 12.203125 53.3125 \nQ 15.828125 64.359375 23.1875 75.875 \nz\n\" id=\"DejaVuSans-40\"/>\n      <path d=\"M 44.28125 53.078125 \nL 44.28125 44.578125 \nQ 40.484375 46.53125 36.375 47.5 \nQ 32.28125 48.484375 27.875 48.484375 \nQ 21.1875 48.484375 17.84375 46.4375 \nQ 14.5 44.390625 14.5 40.28125 \nQ 14.5 37.15625 16.890625 35.375 \nQ 19.28125 33.59375 26.515625 31.984375 \nL 29.59375 31.296875 \nQ 39.15625 29.25 43.1875 25.515625 \nQ 47.21875 21.78125 47.21875 15.09375 \nQ 47.21875 7.46875 41.1875 3.015625 \nQ 35.15625 -1.421875 24.609375 -1.421875 \nQ 20.21875 -1.421875 15.453125 -0.5625 \nQ 10.6875 0.296875 5.421875 2 \nL 5.421875 11.28125 \nQ 10.40625 8.6875 15.234375 7.390625 \nQ 20.0625 6.109375 24.8125 6.109375 \nQ 31.15625 6.109375 34.5625 8.28125 \nQ 37.984375 10.453125 37.984375 14.40625 \nQ 37.984375 18.0625 35.515625 20.015625 \nQ 33.0625 21.96875 24.703125 23.78125 \nL 21.578125 24.515625 \nQ 13.234375 26.265625 9.515625 29.90625 \nQ 5.8125 33.546875 5.8125 39.890625 \nQ 5.8125 47.609375 11.28125 51.796875 \nQ 16.75 56 26.8125 56 \nQ 31.78125 56 36.171875 55.265625 \nQ 40.578125 54.546875 44.28125 53.078125 \nz\n\" id=\"DejaVuSans-115\"/>\n      <path d=\"M 8.015625 75.875 \nL 15.828125 75.875 \nQ 23.140625 64.359375 26.78125 53.3125 \nQ 30.421875 42.28125 30.421875 31.390625 \nQ 30.421875 20.453125 26.78125 9.375 \nQ 23.140625 -1.703125 15.828125 -13.1875 \nL 8.015625 -13.1875 \nQ 14.5 -2 17.703125 9.0625 \nQ 20.90625 20.125 20.90625 31.390625 \nQ 20.90625 42.671875 17.703125 53.65625 \nQ 14.5 64.65625 8.015625 75.875 \nz\n\" id=\"DejaVuSans-41\"/>\n     </defs>\n     <g transform=\"translate(196.991406 252.916562)scale(0.1 -0.1)\">\n      <use xlink:href=\"#DejaVuSans-116\"/>\n      <use x=\"39.208984\" xlink:href=\"#DejaVuSans-105\"/>\n      <use x=\"66.992188\" xlink:href=\"#DejaVuSans-109\"/>\n      <use x=\"164.404297\" xlink:href=\"#DejaVuSans-101\"/>\n      <use x=\"225.927734\" xlink:href=\"#DejaVuSans-32\"/>\n      <use x=\"257.714844\" xlink:href=\"#DejaVuSans-40\"/>\n      <use x=\"296.728516\" xlink:href=\"#DejaVuSans-115\"/>\n      <use x=\"348.828125\" xlink:href=\"#DejaVuSans-41\"/>\n     </g>\n    </g>\n   </g>\n   <g id=\"matplotlib.axis_2\">\n    <g id=\"ytick_1\">\n     <g id=\"line2d_7\">\n      <defs>\n       <path d=\"M 0 0 \nL -3.5 0 \n\" id=\"m21a16b2ab6\" style=\"stroke:#000000;stroke-width:0.8;\"/>\n      </defs>\n      <g>\n       <use style=\"stroke:#000000;stroke-width:0.8;\" x=\"48.982813\" xlink:href=\"#m21a16b2ab6\" y=\"198.709133\"/>\n      </g>\n     </g>\n     <g id=\"text_8\">\n      <!-- −10 -->\n      <defs>\n       <path d=\"M 10.59375 35.5 \nL 73.1875 35.5 \nL 73.1875 27.203125 \nL 10.59375 27.203125 \nz\n\" id=\"DejaVuSans-8722\"/>\n      </defs>\n      <g transform=\"translate(20.878125 202.508352)scale(0.1 -0.1)\">\n       <use xlink:href=\"#DejaVuSans-8722\"/>\n       <use x=\"83.789062\" xlink:href=\"#DejaVuSans-49\"/>\n       <use x=\"147.412109\" xlink:href=\"#DejaVuSans-48\"/>\n      </g>\n     </g>\n    </g>\n    <g id=\"ytick_2\">\n     <g id=\"line2d_8\">\n      <g>\n       <use style=\"stroke:#000000;stroke-width:0.8;\" x=\"48.982813\" xlink:href=\"#m21a16b2ab6\" y=\"156.908483\"/>\n      </g>\n     </g>\n     <g id=\"text_9\">\n      <!-- −5 -->\n      <g transform=\"translate(27.240625 160.707702)scale(0.1 -0.1)\">\n       <use xlink:href=\"#DejaVuSans-8722\"/>\n       <use x=\"83.789062\" xlink:href=\"#DejaVuSans-53\"/>\n      </g>\n     </g>\n    </g>\n    <g id=\"ytick_3\">\n     <g id=\"line2d_9\">\n      <g>\n       <use style=\"stroke:#000000;stroke-width:0.8;\" x=\"48.982813\" xlink:href=\"#m21a16b2ab6\" y=\"115.107833\"/>\n      </g>\n     </g>\n     <g id=\"text_10\">\n      <!-- 0 -->\n      <g transform=\"translate(35.620313 118.907052)scale(0.1 -0.1)\">\n       <use xlink:href=\"#DejaVuSans-48\"/>\n      </g>\n     </g>\n    </g>\n    <g id=\"ytick_4\">\n     <g id=\"line2d_10\">\n      <g>\n       <use style=\"stroke:#000000;stroke-width:0.8;\" x=\"48.982813\" xlink:href=\"#m21a16b2ab6\" y=\"73.307183\"/>\n      </g>\n     </g>\n     <g id=\"text_11\">\n      <!-- 5 -->\n      <g transform=\"translate(35.620313 77.106401)scale(0.1 -0.1)\">\n       <use xlink:href=\"#DejaVuSans-53\"/>\n      </g>\n     </g>\n    </g>\n    <g id=\"ytick_5\">\n     <g id=\"line2d_11\">\n      <g>\n       <use style=\"stroke:#000000;stroke-width:0.8;\" x=\"48.982813\" xlink:href=\"#m21a16b2ab6\" y=\"31.506532\"/>\n      </g>\n     </g>\n     <g id=\"text_12\">\n      <!-- 10 -->\n      <g transform=\"translate(29.257813 35.305751)scale(0.1 -0.1)\">\n       <use xlink:href=\"#DejaVuSans-49\"/>\n       <use x=\"63.623047\" xlink:href=\"#DejaVuSans-48\"/>\n      </g>\n     </g>\n    </g>\n    <g id=\"text_13\">\n     <!-- position (m), velocity (m/s) -->\n     <defs>\n      <path d=\"M 18.109375 8.203125 \nL 18.109375 -20.796875 \nL 9.078125 -20.796875 \nL 9.078125 54.6875 \nL 18.109375 54.6875 \nL 18.109375 46.390625 \nQ 20.953125 51.265625 25.265625 53.625 \nQ 29.59375 56 35.59375 56 \nQ 45.5625 56 51.78125 48.09375 \nQ 58.015625 40.1875 58.015625 27.296875 \nQ 58.015625 14.40625 51.78125 6.484375 \nQ 45.5625 -1.421875 35.59375 -1.421875 \nQ 29.59375 -1.421875 25.265625 0.953125 \nQ 20.953125 3.328125 18.109375 8.203125 \nz\nM 48.6875 27.296875 \nQ 48.6875 37.203125 44.609375 42.84375 \nQ 40.53125 48.484375 33.40625 48.484375 \nQ 26.265625 48.484375 22.1875 42.84375 \nQ 18.109375 37.203125 18.109375 27.296875 \nQ 18.109375 17.390625 22.1875 11.75 \nQ 26.265625 6.109375 33.40625 6.109375 \nQ 40.53125 6.109375 44.609375 11.75 \nQ 48.6875 17.390625 48.6875 27.296875 \nz\n\" id=\"DejaVuSans-112\"/>\n      <path d=\"M 30.609375 48.390625 \nQ 23.390625 48.390625 19.1875 42.75 \nQ 14.984375 37.109375 14.984375 27.296875 \nQ 14.984375 17.484375 19.15625 11.84375 \nQ 23.34375 6.203125 30.609375 6.203125 \nQ 37.796875 6.203125 41.984375 11.859375 \nQ 46.1875 17.53125 46.1875 27.296875 \nQ 46.1875 37.015625 41.984375 42.703125 \nQ 37.796875 48.390625 30.609375 48.390625 \nz\nM 30.609375 56 \nQ 42.328125 56 49.015625 48.375 \nQ 55.71875 40.765625 55.71875 27.296875 \nQ 55.71875 13.875 49.015625 6.21875 \nQ 42.328125 -1.421875 30.609375 -1.421875 \nQ 18.84375 -1.421875 12.171875 6.21875 \nQ 5.515625 13.875 5.515625 27.296875 \nQ 5.515625 40.765625 12.171875 48.375 \nQ 18.84375 56 30.609375 56 \nz\n\" id=\"DejaVuSans-111\"/>\n      <path d=\"M 54.890625 33.015625 \nL 54.890625 0 \nL 45.90625 0 \nL 45.90625 32.71875 \nQ 45.90625 40.484375 42.875 44.328125 \nQ 39.84375 48.1875 33.796875 48.1875 \nQ 26.515625 48.1875 22.3125 43.546875 \nQ 18.109375 38.921875 18.109375 30.90625 \nL 18.109375 0 \nL 9.078125 0 \nL 9.078125 54.6875 \nL 18.109375 54.6875 \nL 18.109375 46.1875 \nQ 21.34375 51.125 25.703125 53.5625 \nQ 30.078125 56 35.796875 56 \nQ 45.21875 56 50.046875 50.171875 \nQ 54.890625 44.34375 54.890625 33.015625 \nz\n\" id=\"DejaVuSans-110\"/>\n      <path d=\"M 11.71875 12.40625 \nL 22.015625 12.40625 \nL 22.015625 4 \nL 14.015625 -11.625 \nL 7.71875 -11.625 \nL 11.71875 4 \nz\n\" id=\"DejaVuSans-44\"/>\n      <path d=\"M 2.984375 54.6875 \nL 12.5 54.6875 \nL 29.59375 8.796875 \nL 46.6875 54.6875 \nL 56.203125 54.6875 \nL 35.6875 0 \nL 23.484375 0 \nz\n\" id=\"DejaVuSans-118\"/>\n      <path d=\"M 9.421875 75.984375 \nL 18.40625 75.984375 \nL 18.40625 0 \nL 9.421875 0 \nz\n\" id=\"DejaVuSans-108\"/>\n      <path d=\"M 48.78125 52.59375 \nL 48.78125 44.1875 \nQ 44.96875 46.296875 41.140625 47.34375 \nQ 37.3125 48.390625 33.40625 48.390625 \nQ 24.65625 48.390625 19.8125 42.84375 \nQ 14.984375 37.3125 14.984375 27.296875 \nQ 14.984375 17.28125 19.8125 11.734375 \nQ 24.65625 6.203125 33.40625 6.203125 \nQ 37.3125 6.203125 41.140625 7.25 \nQ 44.96875 8.296875 48.78125 10.40625 \nL 48.78125 2.09375 \nQ 45.015625 0.34375 40.984375 -0.53125 \nQ 36.96875 -1.421875 32.421875 -1.421875 \nQ 20.0625 -1.421875 12.78125 6.34375 \nQ 5.515625 14.109375 5.515625 27.296875 \nQ 5.515625 40.671875 12.859375 48.328125 \nQ 20.21875 56 33.015625 56 \nQ 37.15625 56 41.109375 55.140625 \nQ 45.0625 54.296875 48.78125 52.59375 \nz\n\" id=\"DejaVuSans-99\"/>\n      <path d=\"M 32.171875 -5.078125 \nQ 28.375 -14.84375 24.75 -17.8125 \nQ 21.140625 -20.796875 15.09375 -20.796875 \nL 7.90625 -20.796875 \nL 7.90625 -13.28125 \nL 13.1875 -13.28125 \nQ 16.890625 -13.28125 18.9375 -11.515625 \nQ 21 -9.765625 23.484375 -3.21875 \nL 25.09375 0.875 \nL 2.984375 54.6875 \nL 12.5 54.6875 \nL 29.59375 11.921875 \nL 46.6875 54.6875 \nL 56.203125 54.6875 \nz\n\" id=\"DejaVuSans-121\"/>\n      <path d=\"M 25.390625 72.90625 \nL 33.6875 72.90625 \nL 8.296875 -9.28125 \nL 0 -9.28125 \nz\n\" id=\"DejaVuSans-47\"/>\n     </defs>\n     <g transform=\"translate(14.798438 183.455937)rotate(-90)scale(0.1 -0.1)\">\n      <use xlink:href=\"#DejaVuSans-112\"/>\n      <use x=\"63.476562\" xlink:href=\"#DejaVuSans-111\"/>\n      <use x=\"124.658203\" xlink:href=\"#DejaVuSans-115\"/>\n      <use x=\"176.757812\" xlink:href=\"#DejaVuSans-105\"/>\n      <use x=\"204.541016\" xlink:href=\"#DejaVuSans-116\"/>\n      <use x=\"243.75\" xlink:href=\"#DejaVuSans-105\"/>\n      <use x=\"271.533203\" xlink:href=\"#DejaVuSans-111\"/>\n      <use x=\"332.714844\" xlink:href=\"#DejaVuSans-110\"/>\n      <use x=\"396.09375\" xlink:href=\"#DejaVuSans-32\"/>\n      <use x=\"427.880859\" xlink:href=\"#DejaVuSans-40\"/>\n      <use x=\"466.894531\" xlink:href=\"#DejaVuSans-109\"/>\n      <use x=\"564.306641\" xlink:href=\"#DejaVuSans-41\"/>\n      <use x=\"603.320312\" xlink:href=\"#DejaVuSans-44\"/>\n      <use x=\"635.107422\" xlink:href=\"#DejaVuSans-32\"/>\n      <use x=\"666.894531\" xlink:href=\"#DejaVuSans-118\"/>\n      <use x=\"726.074219\" xlink:href=\"#DejaVuSans-101\"/>\n      <use x=\"787.597656\" xlink:href=\"#DejaVuSans-108\"/>\n      <use x=\"815.380859\" xlink:href=\"#DejaVuSans-111\"/>\n      <use x=\"876.5625\" xlink:href=\"#DejaVuSans-99\"/>\n      <use x=\"931.542969\" xlink:href=\"#DejaVuSans-105\"/>\n      <use x=\"959.326172\" xlink:href=\"#DejaVuSans-116\"/>\n      <use x=\"998.535156\" xlink:href=\"#DejaVuSans-121\"/>\n      <use x=\"1057.714844\" xlink:href=\"#DejaVuSans-32\"/>\n      <use x=\"1089.501953\" xlink:href=\"#DejaVuSans-40\"/>\n      <use x=\"1128.515625\" xlink:href=\"#DejaVuSans-109\"/>\n      <use x=\"1225.927734\" xlink:href=\"#DejaVuSans-47\"/>\n      <use x=\"1259.619141\" xlink:href=\"#DejaVuSans-115\"/>\n      <use x=\"1311.71875\" xlink:href=\"#DejaVuSans-41\"/>\n     </g>\n    </g>\n   </g>\n   <g id=\"line2d_12\">\n    <path clip-path=\"url(#p93b9a29993)\" d=\"M 64.200994 98.387573 \nL 65.723574 98.492985 \nL 67.246153 98.831634 \nL 68.768733 99.400068 \nL 70.44357 100.283549 \nL 72.118408 101.426424 \nL 73.945503 102.951532 \nL 75.924856 104.904592 \nL 78.056468 107.317695 \nL 80.644853 110.607034 \nL 83.84227 115.067378 \nL 95.109358 131.167557 \nL 97.545485 134.089908 \nL 99.677096 136.32554 \nL 101.656449 138.088171 \nL 103.483545 139.417923 \nL 105.158382 140.367242 \nL 106.680962 140.995148 \nL 108.203541 141.39172 \nL 109.726121 141.552366 \nL 111.2487 141.475068 \nL 112.771279 141.160412 \nL 114.293859 140.611581 \nL 115.816438 139.834326 \nL 117.491276 138.725441 \nL 119.318371 137.22894 \nL 121.297725 135.296379 \nL 123.429336 132.892717 \nL 125.865463 129.800616 \nL 128.910622 125.544942 \nL 133.782876 118.275579 \nL 138.502873 111.362133 \nL 141.395774 107.505354 \nL 143.831901 104.621433 \nL 145.963512 102.439674 \nL 147.790607 100.861439 \nL 149.617703 99.579411 \nL 151.29254 98.682098 \nL 152.81512 98.107739 \nL 154.337699 97.770087 \nL 155.860279 97.673098 \nL 157.382858 97.818095 \nL 158.905437 98.203758 \nL 160.428017 98.826128 \nL 161.950596 99.678655 \nL 163.625434 100.871358 \nL 165.452529 102.459248 \nL 167.431882 104.489135 \nL 169.563494 106.993641 \nL 172.151879 110.403297 \nL 175.349296 115.021033 \nL 186.464126 131.445782 \nL 188.900253 134.477432 \nL 191.031864 136.800058 \nL 193.011218 138.634519 \nL 194.838313 140.021729 \nL 196.51315 141.015447 \nL 198.03573 141.676328 \nL 199.558309 142.098457 \nL 201.080889 142.276953 \nL 202.603468 142.209594 \nL 204.126048 141.896851 \nL 205.648627 141.341875 \nL 207.171207 140.550475 \nL 208.846044 139.416969 \nL 210.673139 137.883147 \nL 212.652493 135.89849 \nL 214.784104 133.426225 \nL 217.220231 130.241685 \nL 220.113132 126.080799 \nL 224.680871 119.056618 \nL 229.857641 111.192455 \nL 232.750542 107.195698 \nL 235.186669 104.202932 \nL 237.31828 101.935288 \nL 239.145376 100.291874 \nL 240.820213 99.05287 \nL 242.49505 98.086997 \nL 244.01763 97.457055 \nL 245.540209 97.07088 \nL 247.062789 96.932967 \nL 248.43311 97.022636 \nL 249.95569 97.359065 \nL 251.478269 97.941393 \nL 253.000849 98.763515 \nL 254.675686 99.934312 \nL 256.502782 101.512431 \nL 258.482135 103.548551 \nL 260.613746 106.079216 \nL 263.049873 109.332716 \nL 266.095032 113.807889 \nL 270.967287 121.446704 \nL 275.687283 128.705508 \nL 278.580184 132.751939 \nL 281.016311 135.7757 \nL 283.147922 138.061577 \nL 284.975018 139.713686 \nL 286.649855 140.954901 \nL 288.324693 141.917437 \nL 289.847272 142.539561 \nL 291.369851 142.913444 \nL 292.740173 143.034028 \nL 294.110495 142.948695 \nL 295.480816 142.658 \nL 297.003396 142.097096 \nL 298.525975 141.291497 \nL 300.200812 140.132996 \nL 301.87565 138.703807 \nL 303.702745 136.857916 \nL 305.834356 134.363794 \nL 308.118226 131.342245 \nL 310.858869 127.341827 \nL 314.817575 121.117014 \nL 321.364667 110.793221 \nL 324.257568 106.673961 \nL 326.693695 103.593617 \nL 328.825306 101.26313 \nL 330.652402 99.577199 \nL 332.327239 98.309049 \nL 334.002077 97.323844 \nL 335.524656 96.68507 \nL 337.047236 96.298504 \nL 338.417557 96.170012 \nL 339.787879 96.250839 \nL 341.1582 96.540474 \nL 342.68078 97.104253 \nL 344.203359 97.916968 \nL 345.878197 99.088107 \nL 347.553034 100.534814 \nL 349.380129 102.405114 \nL 351.359483 104.742185 \nL 353.643352 107.785717 \nL 356.383995 111.827455 \nL 360.190444 117.889465 \nL 367.194309 129.116575 \nL 368.564631 131.147117 \nL 368.564631 131.147117 \n\" style=\"fill:none;stroke:#1f77b4;stroke-linecap:square;stroke-width:1.5;\"/>\n   </g>\n   <g id=\"line2d_13\">\n    <path clip-path=\"url(#p93b9a29993)\" d=\"M 64.200994 115.107833 \nL 69.530022 147.235453 \nL 72.270666 162.398283 \nL 74.554535 173.799237 \nL 76.533888 182.536517 \nL 78.208725 188.971602 \nL 79.731305 193.981774 \nL 81.101626 197.75899 \nL 82.31969 200.505406 \nL 83.385496 202.420302 \nL 84.451301 203.868309 \nL 85.364849 204.731625 \nL 86.126139 205.181771 \nL 86.887428 205.385622 \nL 87.648718 205.342484 \nL 88.410008 205.052339 \nL 89.171298 204.515848 \nL 90.084845 203.548806 \nL 90.998393 202.232559 \nL 92.064199 200.262273 \nL 93.130004 197.833695 \nL 94.348068 194.513374 \nL 95.718389 190.110886 \nL 97.240969 184.43613 \nL 98.915806 177.313003 \nL 100.89516 167.829826 \nL 103.179029 155.671834 \nL 105.919672 139.766553 \nL 110.030636 114.397693 \nL 115.207407 82.675126 \nL 117.94805 67.241207 \nL 120.231919 55.629129 \nL 122.211272 46.724086 \nL 123.88611 40.160535 \nL 125.408689 35.045849 \nL 126.779011 31.185559 \nL 127.997074 28.37467 \nL 129.06288 26.410975 \nL 130.128685 24.921558 \nL 131.042233 24.028802 \nL 131.803523 23.558485 \nL 132.564813 23.33849 \nL 133.326102 23.369559 \nL 134.087392 23.651742 \nL 134.848682 24.184405 \nL 135.762229 25.152326 \nL 136.675777 26.475422 \nL 137.741583 28.461211 \nL 138.807388 30.913309 \nL 140.025452 34.270168 \nL 141.395774 38.725779 \nL 142.918353 44.473936 \nL 144.59319 51.694366 \nL 146.572544 61.3132 \nL 148.856413 73.652425 \nL 151.597056 89.804098 \nL 155.708021 115.583325 \nL 160.884791 147.846688 \nL 163.625434 163.556404 \nL 165.909303 175.383388 \nL 167.888656 184.45929 \nL 169.563494 191.153751 \nL 171.086073 196.375002 \nL 172.456395 200.320053 \nL 173.674458 203.196777 \nL 174.740264 205.210347 \nL 175.80607 206.742138 \nL 176.719617 207.665065 \nL 177.480907 208.156095 \nL 178.242197 208.39271 \nL 179.003486 208.374124 \nL 179.764776 208.100247 \nL 180.526066 207.57169 \nL 181.287356 206.78976 \nL 182.200903 205.519857 \nL 183.266709 203.587292 \nL 184.332515 201.178628 \nL 185.550578 197.859112 \nL 186.9209 193.429516 \nL 188.443479 187.690122 \nL 190.118317 180.454717 \nL 191.945412 171.568417 \nL 194.077023 160.072604 \nL 196.665408 144.819089 \nL 200.319599 121.757291 \nL 206.866691 80.218207 \nL 209.607334 64.390135 \nL 211.738945 53.272348 \nL 213.718298 44.115592 \nL 215.393136 37.376272 \nL 216.915715 32.13355 \nL 218.286037 28.185125 \nL 219.5041 25.318132 \nL 220.569906 23.322861 \nL 221.483454 22.002931 \nL 222.397001 21.049084 \nL 223.158291 20.536789 \nL 223.919581 20.283064 \nL 224.680871 20.288747 \nL 225.44216 20.553963 \nL 226.20345 21.078128 \nL 226.96474 21.859951 \nL 227.878288 23.135381 \nL 228.944093 25.08217 \nL 230.009899 27.513362 \nL 231.227962 30.868646 \nL 232.598284 35.350961 \nL 234.120863 41.163895 \nL 235.795701 48.497462 \nL 237.622796 57.510012 \nL 239.754407 69.175817 \nL 242.342792 84.663593 \nL 245.844725 107.097671 \nL 252.696333 151.270426 \nL 255.284718 166.449738 \nL 257.416329 177.773761 \nL 259.395683 187.106455 \nL 261.07052 193.980432 \nL 262.593099 199.332644 \nL 263.963421 203.368042 \nL 265.181485 206.302484 \nL 266.24729 208.348763 \nL 267.160838 209.706238 \nL 268.074386 210.691768 \nL 268.835675 211.225895 \nL 269.596965 211.497229 \nL 270.358255 211.504882 \nL 271.119545 211.248691 \nL 271.880834 210.729211 \nL 272.642124 209.94772 \nL 273.555672 208.666937 \nL 274.469219 207.016571 \nL 275.535025 204.632468 \nL 276.753089 201.318354 \nL 278.12341 196.865877 \nL 279.64599 191.065318 \nL 281.320827 183.719928 \nL 283.147922 174.66425 \nL 285.279534 162.90913 \nL 287.867919 147.259091 \nL 291.369851 124.520392 \nL 298.525975 77.641843 \nL 301.11436 62.272072 \nL 303.245971 50.82614 \nL 305.073067 42.089484 \nL 306.747904 35.078289 \nL 308.270484 29.614437 \nL 309.640805 25.490297 \nL 310.858869 22.486979 \nL 311.924674 20.388566 \nL 312.99048 18.796632 \nL 313.904028 17.842076 \nL 314.665317 17.338845 \nL 315.426607 17.102943 \nL 316.187897 17.135162 \nL 316.949187 17.435561 \nL 317.710476 18.003464 \nL 318.471766 18.837464 \nL 319.385314 20.186451 \nL 320.451119 22.233785 \nL 321.516925 24.780878 \nL 322.734989 28.286637 \nL 324.10531 32.95996 \nL 325.62789 39.010128 \nL 327.302727 46.63207 \nL 329.129822 55.987635 \nL 331.261434 68.084109 \nL 333.849819 84.126265 \nL 337.504009 108.366167 \nL 344.051101 151.988968 \nL 346.791744 168.596391 \nL 348.923355 180.254894 \nL 350.902709 189.851151 \nL 352.577546 196.908975 \nL 354.100126 202.394922 \nL 355.470447 206.522188 \nL 356.688511 209.514912 \nL 357.754316 211.593778 \nL 358.667864 212.965355 \nL 359.581412 213.952151 \nL 360.342702 214.477518 \nL 361.103991 214.731186 \nL 361.865281 214.712313 \nL 362.626571 214.4208 \nL 363.38786 213.857298 \nL 364.14915 213.023199 \nL 365.062698 211.66815 \nL 366.128504 209.605577 \nL 367.194309 207.034524 \nL 368.412373 203.490861 \nL 368.564631 203.003602 \nL 368.564631 203.003602 \n\" style=\"fill:none;stroke:#ff7f0e;stroke-linecap:square;stroke-width:1.5;\"/>\n   </g>\n   <g id=\"patch_3\">\n    <path d=\"M 48.982813 224.64 \nL 48.982813 7.2 \n\" style=\"fill:none;stroke:#000000;stroke-linecap:square;stroke-linejoin:miter;stroke-width:0.8;\"/>\n   </g>\n   <g id=\"patch_4\">\n    <path d=\"M 383.782813 224.64 \nL 383.782813 7.2 \n\" style=\"fill:none;stroke:#000000;stroke-linecap:square;stroke-linejoin:miter;stroke-width:0.8;\"/>\n   </g>\n   <g id=\"patch_5\">\n    <path d=\"M 48.982813 224.64 \nL 383.782813 224.64 \n\" style=\"fill:none;stroke:#000000;stroke-linecap:square;stroke-linejoin:miter;stroke-width:0.8;\"/>\n   </g>\n   <g id=\"patch_6\">\n    <path d=\"M 48.982813 7.2 \nL 383.782813 7.2 \n\" style=\"fill:none;stroke:#000000;stroke-linecap:square;stroke-linejoin:miter;stroke-width:0.8;\"/>\n   </g>\n  </g>\n </g>\n <defs>\n  <clipPath id=\"p93b9a29993\">\n   <rect height=\"217.44\" width=\"334.8\" x=\"48.982813\" y=\"7.2\"/>\n  </clipPath>\n </defs>\n</svg>\n",
      "image/png": "[encoded data removed]"
     },
     "metadata": {
      "needs_background": "light"
     }
    }
   ],
   "source": [
    "# Do not edit the code in this cell. You can edit the 6 parameters at the top and re-run \n",
    "# the cell to see the effect on the graph, but only after you have completed the questions.\n",
    "\n",
    "import numpy as np\n",
    "import matplotlib.pyplot as plt\n",
    "\n",
    "N = 2000            # the number of steps used - higher N results in a more accurate result\n",
    "v0 = 0.0            # initial velocity of the mass\n",
    "tau = 5.0           # number of seconds we are solving over\n",
    "k = 3.5             # spring constant\n",
    "mass = 0.2          # mass \n",
    "gravity = 9.81      # strength of gravity \n",
    "\n",
    "time = np.linspace(0, tau, N)\n",
    "dt = tau/float(N-1) # time between each step \n",
    "\n",
    "def euler_method(y, t, dt, derivs):\n",
    "  y_next = y + derivs(y,t) * dt \n",
    "  return y_next\n",
    "\n",
    "y = np.zeros([N,2])\n",
    "y[0,0] = x0 \n",
    "y[0,1] = v0\n",
    "\n",
    "def SHO(state, time):\n",
    "  g0 = state[1]\n",
    "  g1 = - k / mass * state[0] - gravity \n",
    "  return np.array([g0, g1])\n",
    "\n",
    "for i in range(N-1):\n",
    "  y[i+1] = euler_method(y[i], time[i], dt, SHO)\n",
    "\n",
    "x_data = [y[i,0] for i in range(N)]     # this creates a long list containing the position coordinates\n",
    "v_data = [y[i,1] for i in range(N)]     # this does the same for velocity\n",
    "\n",
    "plt.plot(time, x_data)                   # these just create a graph of the data \n",
    "plt.plot(time, v_data)\n",
    "plt.xlabel(\"time (s)\") \n",
    "plt.ylabel(\"position (m), velocity (m/s)\") \n",
    "plt.show()"
   ]
  },
  {
   "cell_type": "markdown",
   "metadata": {
    "id": "tDu8X3f0crEk"
   },
   "source": [
    "The above code also gives us two *lists*, each containing N numbers. These are ```x_data```, containing the position coordinates for a range of times, and ```v_data```, containing the velocities. Already it's clear that Python is extremely useful handling these lists, since they are too large for us to do things with them by hand."
   ]
  },
  {
   "cell_type": "markdown",
   "metadata": {
    "id": "kdbp1Dz-eoMJ"
   },
   "source": [
    "Print below the following, replacing the #### with the correct value, rounded to 5 decimal places: **\"The maximum position value achieved was #### and the maximum velocity was ####\"**"
   ]
  },
  {
   "cell_type": "code",
   "execution_count": 6,
   "metadata": {
    "colab": {
     "base_uri": "https://localhost:8080/",
     "height": 34
    },
    "id": "rKcQI7cfe189",
    "outputId": "055dee63-1cbb-4bb9-9dc9-9597db8c86ea"
   },
   "outputs": [
    {
     "output_type": "stream",
     "name": "stdout",
     "text": [
      "The maximum position value achieved was 2.26542 and the maximum velocity was 11.7252\n"
     ]
    }
   ],
   "source": [
    "print(\"The maximum position value achieved was\", round(max(x_data),5), \"and the maximum velocity was\", round(max(v_data),5))"
   ]
  },
  {
   "cell_type": "markdown",
   "metadata": {
    "id": "dwxl0SC7piII"
   },
   "source": [
    "What was the range in values of the velocity? Print your answer below to two decimal places. Remember that since ```range``` is a reserved name in Python, you should pick a different one."
   ]
  },
  {
   "cell_type": "code",
   "execution_count": 8,
   "metadata": {
    "colab": {
     "base_uri": "https://localhost:8080/",
     "height": 34
    },
    "id": "1kVMEOAGpqA-",
    "outputId": "0d6a0d21-4a31-42b8-8c5b-53924e1cdff3"
   },
   "outputs": [
    {
     "output_type": "stream",
     "name": "stdout",
     "text": [
      "23.64\n"
     ]
    }
   ],
   "source": [
    "spread = round(max(v_data) - min(v_data),2)\n",
    "print(spread)"
   ]
  },
  {
   "cell_type": "markdown",
   "metadata": {
    "id": "inHw8zI6gd_u"
   },
   "source": [
    "A useful feature in Python is the ability to specify a single element of a list. Each entry of a list is numbered, *starting from 0*, and you can then specify an entry by putting the position in square brackets after the list. For example:\n"
   ]
  },
  {
   "cell_type": "code",
   "execution_count": 10,
   "metadata": {
    "colab": {
     "base_uri": "https://localhost:8080/",
     "height": 51
    },
    "id": "GxewM49HhJbM",
    "outputId": "7e2375b6-9bf5-4a3e-9410-235ebc3ccf44"
   },
   "outputs": [
    {
     "output_type": "stream",
     "name": "stdout",
     "text": [
      "7\n1\n"
     ]
    }
   ],
   "source": [
    "example_list = [1,3,5,7,9]\n",
    "print(example_list[3])\n",
    "print(example_list[0])"
   ]
  },
  {
   "cell_type": "markdown",
   "metadata": {
    "id": "kglgz634ktnD"
   },
   "source": [
    "Print below the 444th entry in the list ```v_data``` rounded to 4 decimal places (for simplicity, we will consider the first entry as the \"zeroth\" entry, since Python starts counting at 0.)\n",
    "\n",
    "\n"
   ]
  },
  {
   "cell_type": "code",
   "execution_count": 12,
   "metadata": {
    "colab": {
     "base_uri": "https://localhost:8080/",
     "height": 34
    },
    "id": "jyxlCzmIk4xL",
    "outputId": "51dc21b2-eb0f-491d-e4ef-e5d025745e06"
   },
   "outputs": [
    {
     "output_type": "stream",
     "name": "stdout",
     "text": [
      "10.9507\n"
     ]
    }
   ],
   "source": [
    "print(round(v_data[444],4))"
   ]
  },
  {
   "cell_type": "markdown",
   "metadata": {
    "id": "EPoJC30nhmsW"
   },
   "source": [
    "You can also add new elements to the end of a list, using the ```.append()``` function. You simply write the function after a list, and can put *one* new element in the brackets. "
   ]
  },
  {
   "cell_type": "code",
   "execution_count": 14,
   "metadata": {
    "colab": {
     "base_uri": "https://localhost:8080/",
     "height": 34
    },
    "id": "lFy6xH1jh621",
    "outputId": "6b282797-68cb-4562-a7b6-8aa76fb6b2ed"
   },
   "outputs": [
    {
     "output_type": "stream",
     "name": "stdout",
     "text": [
      "[1, 3, 5, 7, 9, 20, 20]\n"
     ]
    }
   ],
   "source": [
    "example_list.append(20)\n",
    "print(example_list)"
   ]
  },
  {
   "cell_type": "markdown",
   "metadata": {
    "id": "5jheSpYFrG5k"
   },
   "source": [
    "In the cell below there is a list defined, which contains the maximum/minimum values for both position and velocity. You must add two more elements onto the list, namely the mean values for both parameters, and then print the list.\n",
    "\n",
    "**Notes:** \n",
    "*   You should calculate the mean by summing all of the data values and dividing by the number of values, ```N```.\n",
    "*   Enter values to three decimal places.\n",
    "\n",
    "Hint: Create two new variables and then append them onto ```data_set```."
   ]
  },
  {
   "cell_type": "code",
   "execution_count": 16,
   "metadata": {
    "colab": {
     "base_uri": "https://localhost:8080/",
     "height": 34
    },
    "id": "67gbIfjssTZa",
    "outputId": "92c8e83f-fe7d-44d0-dba0-10c45b6746fd"
   },
   "outputs": [
    {
     "output_type": "stream",
     "name": "stdout",
     "text": [
      "[2.265, -3.34, 11.725, -11.919, -0.441, -0.789]\n"
     ]
    }
   ],
   "source": [
    "x_max = round(max(x_data),3)\n",
    "x_min = round(min(x_data),3)\n",
    "v_max = round(max(v_data),3)\n",
    "v_min = round(min(v_data),3)\n",
    "\n",
    "data_set = [x_max, x_min, v_max, v_min]\n",
    "\n",
    "x_mean = round(sum(x_data) / N, 3)\n",
    "v_mean = round(sum(v_data) / N, 3)\n",
    "\n",
    "data_set.append(x_mean)\n",
    "data_set.append(v_mean)\n",
    "print(data_set)"
   ]
  }
 ],
 "metadata": {
  "colab": {
   "collapsed_sections": [],
   "name": "session_two_PhysEng_answers.ipynb",
   "provenance": []
  },
  "kernelspec": {
   "display_name": "Python 3",
   "language": "python",
   "name": "python3"
  },
  "language_info": {
   "codemirror_mode": {
    "name": "ipython",
    "version": 3
   },
   "file_extension": ".py",
   "mimetype": "text/x-python",
   "name": "python",
   "nbconvert_exporter": "python",
   "pygments_lexer": "ipython3",
   "version": "3.8.3-final"
  }
 },
 "nbformat": 4,
 "nbformat_minor": 1
}