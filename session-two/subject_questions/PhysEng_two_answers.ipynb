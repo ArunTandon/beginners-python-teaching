{
 "cells": [
  {
   "cell_type": "markdown",
   "metadata": {
    "id": "0wPixjHS38aO"
   },
   "source": [
    "# **Beginner's Python - Session Two Physics/Engineering Answers**"
   ]
  },
  {
   "cell_type": "markdown",
   "metadata": {
    "id": "tdITd2KuzKT3"
   },
   "source": [
    "## **Numerically solving an ODE**"
   ]
  },
  {
   "cell_type": "markdown",
   "metadata": {
    "id": "jTKCIuxNPWEK"
   },
   "source": [
    "In this exercise we will be writing some code which generates a plot of the motion of a mass hanging on the end of an (idealised) spring. This will involve solving the following linear differential equation numerically using Euler's method. \n",
    "\n",
    "$$\\frac{d^2x}{dt^2} = -\\frac{k}{m}x-g $$\n",
    "\n",
    "If you're unfamiliar with Euler's method, you can check out https://tutorial.math.lamar.edu/classes/de/eulersmethod.aspx.\n"
   ]
  },
  {
   "cell_type": "markdown",
   "metadata": {
    "id": "eZPu1rpXnesd"
   },
   "source": [
    "First of all, in the cell below write code which takes a user input and asks has the text \"Enter initial position coordinate\". \n",
    "\n",
    "You should assign this user input - *cast as a float* - to a variable valled ```x0```. After you've run this cell, input a value between -5.0 and 5.0 and hit enter."
   ]
  },
  {
   "cell_type": "code",
   "execution_count": 1,
   "metadata": {
    "colab": {
     "base_uri": "https://localhost:8080/",
     "height": 34
    },
    "id": "AerNBkAgoOP1",
    "outputId": "be07e24a-8479-4caf-8e93-1d7837d3c5d2"
   },
   "outputs": [
    {
     "name": "stdout",
     "output_type": "stream",
     "text": [
      "Please input an initial position0\n"
     ]
    }
   ],
   "source": [
    "x0 = float(input(\"Please input an initial position\"))"
   ]
  },
  {
   "cell_type": "markdown",
   "metadata": {
    "id": "hPA1ELN6TJ9S"
   },
   "source": [
    "Now run the cell below. You should see a graph generated which shows the numerical solutions for both velocity and position of the mass. You can also edit the parameter values at the top and re-run the cell to see the effect on the numerical solution. \n",
    "\n",
    "**Note:** Don't worry about the details of the code, but know that it gives us "
   ]
  },
  {
   "cell_type": "code",
   "execution_count": 3,
   "metadata": {
    "colab": {
     "base_uri": "https://localhost:8080/",
     "height": 279
    },
    "id": "lgJB8aeRLf9U",
    "outputId": "03fc3962-0f3f-4292-cae8-30eb3415d15e"
   },
   "outputs": [
    {
     "data": {
      "image/png": "[encoded data removed]",
      "text/plain": [
       "<Figure size 432x288 with 1 Axes>"
      ]
     },
     "metadata": {
      "needs_background": "light"
     },
     "output_type": "display_data"
    }
   ],
   "source": [
    "# Do not edit the code in this cell. You can edit the 6 parameters at the top and re-run \n",
    "# the cell to see the effect on the graph, but only after you have completed the questions.\n",
    "\n",
    "import numpy as np\n",
    "import matplotlib.pyplot as plt\n",
    "\n",
    "N = 2000            # the number of steps used - higher N results in a more accurate result\n",
    "v0 = 0.0            # initial velocity of the mass\n",
    "tau = 5.0           # number of seconds we are solving over\n",
    "k = 3.5             # spring constant\n",
    "mass = 0.2          # mass \n",
    "gravity = 9.81      # strength of gravity \n",
    "\n",
    "time = np.linspace(0, tau, N)\n",
    "dt = tau/float(N-1) # time between each step \n",
    "\n",
    "def euler_method(y, t, dt, derivs):\n",
    "  y_next = y + derivs(y,t) * dt \n",
    "  return y_next\n",
    "\n",
    "y = np.zeros([N,2])\n",
    "y[0,0] = x0 \n",
    "y[0,1] = v0\n",
    "\n",
    "def SHO(state, time):\n",
    "  g0 = state[1]\n",
    "  g1 = - k / mass * state[0] - gravity \n",
    "  return np.array([g0, g1])\n",
    "\n",
    "for i in range(N-1):\n",
    "  y[i+1] = euler_method(y[i], time[i], dt, SHO)\n",
    "\n",
    "x_data = [y[i,0] for i in range(N)]     # this creates a long list containing the position coordinates\n",
    "v_data = [y[i,1] for i in range(N)]     # this does the same for velocity\n",
    "\n",
    "plt.plot(time, x_data)                   # these just create a graph of the data \n",
    "plt.plot(time, v_data)\n",
    "plt.xlabel(\"time (s)\") \n",
    "plt.ylabel(\"position (m), velocity (m/s)\") \n",
    "plt.show()"
   ]
  },
  {
   "cell_type": "markdown",
   "metadata": {
    "id": "tDu8X3f0crEk"
   },
   "source": [
    "The above code also gives us two *lists*, each containing N numbers. These are ```x_data```, containing the position coordinates for a range of times, and ```v_data```, containing the velocities. Already it's clear that Python is extremely useful handling these lists, since they are too large for us to do things with them by hand."
   ]
  },
  {
   "cell_type": "markdown",
   "metadata": {
    "id": "kdbp1Dz-eoMJ"
   },
   "source": [
    "Print below the following, replacing the #### with the correct value, rounded to 5 decimal places: **\"The maximum position value achieved was #### and the maximum velocity was ####\"**"
   ]
  },
  {
   "cell_type": "code",
   "execution_count": 4,
   "metadata": {
    "colab": {
     "base_uri": "https://localhost:8080/",
     "height": 34
    },
    "id": "rKcQI7cfe189",
    "outputId": "055dee63-1cbb-4bb9-9dc9-9597db8c86ea"
   },
   "outputs": [
    {
     "name": "stdout",
     "output_type": "stream",
     "text": [
      "The maximum position value achieved was 0.05811 and the maximum velocity was 2.56693\n"
     ]
    }
   ],
   "source": [
    "print(\"The maximum position value achieved was\", round(max(x_data),5), \"and the maximum velocity was\", round(max(v_data),5))"
   ]
  },
  {
   "cell_type": "markdown",
   "metadata": {
    "id": "dwxl0SC7piII"
   },
   "source": [
    "What was the range in values of the velocity? Print your answer below to two decimal places. Remember that since ```range``` is a reserved name in Python, you should pick a different one."
   ]
  },
  {
   "cell_type": "code",
   "execution_count": 5,
   "metadata": {
    "colab": {
     "base_uri": "https://localhost:8080/",
     "height": 34
    },
    "id": "1kVMEOAGpqA-",
    "outputId": "0d6a0d21-4a31-42b8-8c5b-53924e1cdff3"
   },
   "outputs": [
    {
     "name": "stdout",
     "output_type": "stream",
     "text": [
      "5.18\n"
     ]
    }
   ],
   "source": [
    "spread = round(max(v_data) - min(v_data),2)\n",
    "print(spread)"
   ]
  },
  {
   "cell_type": "markdown",
   "metadata": {
    "id": "inHw8zI6gd_u"
   },
   "source": [
    "A useful feature in Python is the ability to specify a single element of a list. Each entry of a list is numbered, *starting from 0*, and you can then specify an entry by putting the position in square brackets after the list. For example:\n"
   ]
  },
  {
   "cell_type": "code",
   "execution_count": 6,
   "metadata": {
    "colab": {
     "base_uri": "https://localhost:8080/",
     "height": 51
    },
    "id": "GxewM49HhJbM",
    "outputId": "7e2375b6-9bf5-4a3e-9410-235ebc3ccf44"
   },
   "outputs": [
    {
     "name": "stdout",
     "output_type": "stream",
     "text": [
      "7\n",
      "1\n"
     ]
    }
   ],
   "source": [
    "example_list = [1,3,5,7,9]\n",
    "print(example_list[3])\n",
    "print(example_list[0])"
   ]
  },
  {
   "cell_type": "markdown",
   "metadata": {
    "id": "kglgz634ktnD"
   },
   "source": [
    "Print below the 444th entry in the list ```v_data``` rounded to 4 decimal places (for simplicity, we will consider the first entry as the \"zeroth\" entry, since Python starts counting at 0.)\n",
    "\n",
    "\n"
   ]
  },
  {
   "cell_type": "code",
   "execution_count": 7,
   "metadata": {
    "colab": {
     "base_uri": "https://localhost:8080/",
     "height": 34
    },
    "id": "jyxlCzmIk4xL",
    "outputId": "51dc21b2-eb0f-491d-e4ef-e5d025745e06"
   },
   "outputs": [
    {
     "name": "stdout",
     "output_type": "stream",
     "text": [
      "2.3974\n"
     ]
    }
   ],
   "source": [
    "print(round(v_data[444],4))"
   ]
  },
  {
   "cell_type": "markdown",
   "metadata": {
    "id": "EPoJC30nhmsW"
   },
   "source": [
    "You can also add new elements to the end of a list, using the ```.append()``` function. You simply write the function after a list, and can put *one* new element in the brackets. "
   ]
  },
  {
   "cell_type": "code",
   "execution_count": 8,
   "metadata": {
    "colab": {
     "base_uri": "https://localhost:8080/",
     "height": 34
    },
    "id": "lFy6xH1jh621",
    "outputId": "6b282797-68cb-4562-a7b6-8aa76fb6b2ed"
   },
   "outputs": [
    {
     "name": "stdout",
     "output_type": "stream",
     "text": [
      "[1, 3, 5, 7, 9, 20]\n"
     ]
    }
   ],
   "source": [
    "example_list.append(20)\n",
    "print(example_list)"
   ]
  },
  {
   "cell_type": "markdown",
   "metadata": {
    "id": "5jheSpYFrG5k"
   },
   "source": [
    "In the cell below there is a list defined, which contains the maximum/minimum values for both position and velocity. You must add two more elements onto the list, namely the mean values for both parameters, and then print the list.\n",
    "\n",
    "**Notes:** \n",
    "*   You should calculate the mean by summing all of the data values and dividing by the number of values, ```N```.\n",
    "*   Enter values to three decimal places.\n",
    "\n",
    "Hint: Create two new variables and then append them onto ```data_set```."
   ]
  },
  {
   "cell_type": "code",
   "execution_count": 9,
   "metadata": {
    "colab": {
     "base_uri": "https://localhost:8080/",
     "height": 34
    },
    "id": "67gbIfjssTZa",
    "outputId": "92c8e83f-fe7d-44d0-dba0-10c45b6746fd"
   },
   "outputs": [
    {
     "name": "stdout",
     "output_type": "stream",
     "text": [
      "[0.058, -1.169, 2.567, -2.609, -0.534, -0.173]\n"
     ]
    }
   ],
   "source": [
    "x_max = round(max(x_data),3)\n",
    "x_min = round(min(x_data),3)\n",
    "v_max = round(max(v_data),3)\n",
    "v_min = round(min(v_data),3)\n",
    "\n",
    "data_set = [x_max, x_min, v_max, v_min]\n",
    "\n",
    "x_mean = round(sum(x_data) / N, 3)\n",
    "v_mean = round(sum(v_data) / N, 3)\n",
    "\n",
    "data_set.append(x_mean)\n",
    "data_set.append(v_mean)\n",
    "print(data_set)"
   ]
  }
 ],
 "metadata": {
  "colab": {
   "collapsed_sections": [],
   "name": "session_two_PhysEng_answers.ipynb",
   "provenance": []
  },
  "kernelspec": {
   "display_name": "Python 3",
   "language": "python",
   "name": "python3"
  },
  "language_info": {
   "codemirror_mode": {
    "name": "ipython",
    "version": 3
   },
   "file_extension": ".py",
   "mimetype": "text/x-python",
   "name": "python",
   "nbconvert_exporter": "python",
   "pygments_lexer": "ipython3",
   "version": "3.8.3"
  }
 },
 "nbformat": 4,
 "nbformat_minor": 1
}
