{
 "cells": [
  {
   "cell_type": "markdown",
   "metadata": {},
   "source": [
    "# Politics and Social Sciences - Session 5 and 6 - questions"
   ]
  },
  {
   "cell_type": "markdown",
   "metadata": {},
   "source": [
    "In this notebook we are going to look into the results of US presidential elections and test the Benford's law. "
   ]
  },
  {
   "cell_type": "code",
   "execution_count": null,
   "metadata": {},
   "outputs": [],
   "source": [
    "import pandas as pd\n",
    "import numpy as np\n",
    "import matplotlib.pyplot as plt\n",
    "\n",
    "#Read the data\n",
    "votes_df = pd.read_csv('data/president_county_candidate.csv')\n",
    "votes_df.head()"
   ]
  },
  {
   "cell_type": "markdown",
   "metadata": {},
   "source": [
    "The above table (technically a dataframe) contains the results of US presidential elections grouped by each state, county and candidate. From this data set we extract two lists of numbers:\n",
    "\n",
    "`biden_votes` - a list of total votes for Biden. Each number represents the total number of votes for Biden in a county\n",
    "\n",
    "`trump_votes` - a list of total votes for Trump. Each number represents the total number of votes for Biden in a county"
   ]
  },
  {
   "cell_type": "code",
   "execution_count": null,
   "metadata": {},
   "outputs": [],
   "source": [
    "biden_votes = votes_df[votes_df['candidate'] == 'Joe Biden'].total_votes.to_list()\n",
    "trump_votes = votes_df[votes_df['candidate'] == 'Donald Trump'].total_votes.to_list()"
   ]
  },
  {
   "cell_type": "markdown",
   "metadata": {},
   "source": [
    "## Benford's law \n",
    "The law of anomalous numbers, or the first-digit law, is an observation about the frequency distribution of leading digits in many real-life sets of numerical data. The law states that in many naturally occurring collections of numbers, the leading digit is likely to be small. In sets that obey the law, the number 1 appears as the leading significant digit about 30% of the time, while 9 appears as the leading significant digit less than 5% of the time.\n",
    "[<img src=\"https://upload.wikimedia.org/wikipedia/commons/thumb/4/46/Rozklad_benforda.svg/2560px-Rozklad_benforda.svg.png\">](http://google.com.au/)"
   ]
  },
  {
   "cell_type": "markdown",
   "metadata": {},
   "source": [
    "We would like to test if the 2020 elections data follows the Benford's distribution. The first step is to write a function which given a number returns its first digit. Define this funciton as `get_first_digit()`"
   ]
  },
  {
   "cell_type": "code",
   "execution_count": null,
   "metadata": {},
   "outputs": [],
   "source": [
    "def get_first_digit(x):\n",
    "\n",
    "    return 'TO DO'"
   ]
  },
  {
   "cell_type": "markdown",
   "metadata": {},
   "source": [
    "Now we need to write another function `count_first_digits()` which will calculate the distribution of first digits.\n",
    "The input for this function is a list of integers $[x_1, x_2, ....., x_n]$ The function should return a new list $[y_0, y_1, ..., y_9]$ such that for each $i\\in{0, 1, ..., 9}$,  $y_i$ is the count of $x's$ such that the first digit of $x$ is equal to $i$.  \n",
    "Example input: $ x = [123, 2343, 6535, 123, 456, 678]$  \n",
    "Expected output: $ y = [0, 2, 1, 0, 0, 0, 6, 0, 0, 0]$  \n",
    "In the input list there are 2 numbers whose first digit is 6, therefore $y[6] = 2$\n",
    "\n",
    "**HINT**: define a counter list of length 10 with every entry initially set to 0. Iterate through the input list and for each number in this list find its first digit and then increase the corresponding value in the counter list by one."
   ]
  },
  {
   "cell_type": "code",
   "execution_count": null,
   "metadata": {},
   "outputs": [],
   "source": [
    "def count_first_digits(votes_ls):\n",
    "    \n",
    "    digit_counter = 'TO DO'\n",
    "    \n",
    "    for x in votes_ls:\n",
    "        'TO DO'\n",
    "        \n",
    "    return digit_counter"
   ]
  },
  {
   "cell_type": "markdown",
   "metadata": {},
   "source": [
    "Use the `count_first_digits()` function to calculate the distribution of first digits for Biden and Trump votes. The Benford's law does not take into considaration 0's hence, truncate the lists to delete the first entry (which corresponds to the number of 0 votes for a candidate)"
   ]
  },
  {
   "cell_type": "code",
   "execution_count": null,
   "metadata": {},
   "outputs": [],
   "source": [
    "biden_1digits_count = 'TO DO'\n",
    "trump_1digits_count = 'TO DO'"
   ]
  },
  {
   "cell_type": "markdown",
   "metadata": {},
   "source": [
    "Create a function `calculate_percentages` which given a list of numbers returns a new list whose entries are the values of the input list divided by the total sum of the input list's entries and multiplied by 100. Apply this function to the `biden_1digits_count` and `trump_1digits_count`."
   ]
  },
  {
   "cell_type": "code",
   "execution_count": null,
   "metadata": {},
   "outputs": [],
   "source": [
    "def calculate_percentages(ls):\n",
    "    'TO DO'\n",
    "    return 'TO DO'\n",
    "\n",
    "biden_1digits_pc = 'TO DO'\n",
    "trump_1digits_pc = 'TO DO'"
   ]
  },
  {
   "cell_type": "markdown",
   "metadata": {},
   "source": [
    "Run the cell below to generate the plots for distribution of first digits of Biden's and Trump's votes and compare it against the theoretical Benfords law distribution."
   ]
  },
  {
   "cell_type": "code",
   "execution_count": null,
   "metadata": {},
   "outputs": [],
   "source": [
    "from math import log10\n",
    "\n",
    "# generate theoretical Benfords distribution\n",
    "benford = [log10(1 + 1/i)*100 for i in range(1, 10)]\n",
    "\n",
    "fig, (ax1, ax2, ax3) = plt.subplots(1, 3, figsize = (20,10))\n",
    "\n",
    "ax1.bar(x = list(range(1,10)), height = biden_1digits_pc, color = 'C0')\n",
    "ax2.bar(x = list(range(1,10)), height = trump_1digits_pc, color = 'C3')\n",
    "ax3.bar(x = list(range(1,10)), height = benford, color = 'C2') \n",
    "\n",
    "ax1.set_title(\"Distribution of counts of first digits \\n for Biden's votes per county\")\n",
    "ax2.set_title(\"Distribution of counts of first digits \\n for Trump's votes per county\")\n",
    "ax3.set_title(\"Theoretical distribution of first digits \\n according to Benford's law\")\n",
    "\n",
    "ax1.set_xticks(list(range(1,10)))\n",
    "ax2.set_xticks(list(range(1,10)))\n",
    "ax3.set_xticks(list(range(1,10)))\n",
    "\n",
    "fig.show()"
   ]
  },
  {
   "cell_type": "markdown",
   "metadata": {},
   "source": [
    "By visual inspection of the distribution plots we could suspect that the first digits law is applies. (To make this statement more rigorous we should run statistical tests to reject or confirm our hypothesis)."
   ]
  },
  {
   "cell_type": "markdown",
   "metadata": {},
   "source": [
    "## Second-digit Benford's law "
   ]
  },
  {
   "cell_type": "markdown",
   "metadata": {},
   "source": [
    "Walter Mebane, a political scientist and statistician at the University of Michigan, was the first to apply the **second-digit** Benford's law-test in election forensics. Such analyses are considered a simple, though not foolproof, method of identifying irregularities in election results and helping to detect electoral fraud.   "
   ]
  },
  {
   "cell_type": "markdown",
   "metadata": {},
   "source": [
    "In analogy to the previous exercise we would like to inspect now the distribution of second digits in the election results.  Start by writing a function which given a number (you may assume that it has more than than 1 digit) returns its second digit. Define this funciton as `get_second_digit()`"
   ]
  },
  {
   "cell_type": "code",
   "execution_count": null,
   "metadata": {},
   "outputs": [],
   "source": [
    "def get_second_digit(x):\n",
    "    return 'TO DO'"
   ]
  },
  {
   "cell_type": "markdown",
   "metadata": {},
   "source": [
    "Similarily as before define a function `count_first_digits()`.  \n",
    "**HINT** before applying the `get_second_digit()` function you need to make sure that the number which is currently under consideration is at least 10. If not, then this number should be omitted in the calculations. (Make use of the control flow statements)"
   ]
  },
  {
   "cell_type": "code",
   "execution_count": null,
   "metadata": {},
   "outputs": [],
   "source": [
    "def count_first_digits(votes_ls):\n",
    "    \n",
    "    digit_counter = 'TO DO'\n",
    "    \n",
    "    for x in votes_ls:\n",
    "        \n",
    "        'TO DO'\n",
    "        \n",
    "    return 'TO DO'"
   ]
  },
  {
   "cell_type": "markdown",
   "metadata": {},
   "source": [
    "Use the `count_second_digits()` function to calculate the distribution of first digits for Biden and Trump votes. (There is no need to disregard 0's in the case of second digits case). Next apply the `calculate_percentages` functions the newly created lists."
   ]
  },
  {
   "cell_type": "code",
   "execution_count": null,
   "metadata": {},
   "outputs": [],
   "source": [
    "trump_2digits_count = 'TO DO'\n",
    "biden_2digits_count = 'TO DO'\n",
    "\n",
    "biden_2digits_pc = 'TO DO'\n",
    "trump_2digits_pc = 'TO DO'"
   ]
  },
  {
   "cell_type": "markdown",
   "metadata": {},
   "source": [
    "Run the cell below to generate the plots for distribution of second digits for Biden's and Trump's votes."
   ]
  },
  {
   "cell_type": "code",
   "execution_count": null,
   "metadata": {},
   "outputs": [],
   "source": [
    "#theoretical distribution of Benford second digits\n",
    "benford_2 = [12, 11.4, 10.9, 10.4, 10.0, 9.7, 9.3, 9.0, 8.8, 8.5]\n",
    "\n",
    "fig, (ax1, ax2, ax3) = plt.subplots(1, 3, figsize = (20,10))\n",
    "\n",
    "ax1.bar(x = list(range(0,10)), height = biden_2digits_pc, color = 'C0')\n",
    "ax2.bar(x = list(range(0,10)), height = trump_2digits_pc, color = 'C3')\n",
    "ax3.bar(x = list(range(0,10)), height = benford_2, color = 'C2') \n",
    "\n",
    "ax1.set_title(\"Distribution of counts of second digits \\n for Biden's votes per county\")\n",
    "ax2.set_title(\"Distribution of counts of second digits \\n for Trump's votes per county\")\n",
    "ax3.set_title(\"Theoretical distribution of second digits \\n according to Benford's law\")\n",
    "\n",
    "ax1.set_xticks(list(range(0,10)))\n",
    "ax2.set_xticks(list(range(0,10)))\n",
    "ax3.set_xticks(list(range(0,10)))\n",
    "\n",
    "fig.show()"
   ]
  },
  {
   "cell_type": "markdown",
   "metadata": {},
   "source": [
    "The distributions still seem to be fairly similar to the theoretical distribution of second digits according to Benford's law. The two tests did not produce any striking results, there are no signs of irregularity in the officially declared vote counts. "
   ]
  }
 ],
 "metadata": {
  "kernelspec": {
   "display_name": "Python 3",
   "language": "python",
   "name": "python3"
  },
  "language_info": {
   "codemirror_mode": {
    "name": "ipython",
    "version": 3
   },
   "file_extension": ".py",
   "mimetype": "text/x-python",
   "name": "python",
   "nbconvert_exporter": "python",
   "pygments_lexer": "ipython3",
   "version": "3.8.3"
  }
 },
 "nbformat": 4,
 "nbformat_minor": 4
}
