{
 "cells": [
  {
   "cell_type": "markdown",
   "metadata": {},
   "source": [
    "# Beginner's Python—Session Five + Six Biochemistry Answers"
   ]
  },
  {
   "cell_type": "code",
   "execution_count": 4,
   "metadata": {},
   "outputs": [],
   "source": [
    "#Import some modules\n",
    "import numpy as np\n",
    "import matplotlib.pyplot as plt"
   ]
  },
  {
   "cell_type": "markdown",
   "metadata": {},
   "source": [
    "## **Colour, Revisited...**"
   ]
  },
  {
   "cell_type": "markdown",
   "metadata": {},
   "source": [
    "In the session 2 homework we covered colour and conjugation, today we will revisit the topic with a slightly different approach."
   ]
  },
  {
   "cell_type": "markdown",
   "metadata": {},
   "source": [
    " #### **Wavelength Calculator**"
   ]
  },
  {
   "cell_type": "markdown",
   "metadata": {},
   "source": [
    "The ${\\lambda_{max}}$ value can be used to roughly decipher the colour of compounds; It is the wavelength with the **highest absorbance value.**\n",
    "\n",
    "Below is an array, `energies`, containing the energies of the ${\\lambda_{max}}$ light waves from various compounds."
   ]
  },
  {
   "cell_type": "code",
   "execution_count": 325,
   "metadata": {},
   "outputs": [],
   "source": [
    "energies = np.array([3.75e-19, 2.93e-19, 3.24e-19, 3.21e-19, 5.22e-19, 3.44e-19])"
   ]
  },
  {
   "cell_type": "markdown",
   "metadata": {},
   "source": [
    "**Using the equation $E = \\frac{hc}{\\lambda}$, create a funcion which calculates the ${\\lambda_{max}}$ wavelength in nm (e-9 m) for  compounds in a given list/array. Print each wavelength, and store it in the `wavelengths` list.**"
   ]
  },
  {
   "cell_type": "markdown",
   "metadata": {},
   "source": [
    "$ E = energy \\\\\n",
    "h = Planck\\ constant\\ (6.626×10−34\\ Js)  \\\\\n",
    "c = speed \\ of \\ light \\ (3 \\times 10^{8}m \\ s^{-1} ) \\\\\n",
    "\\lambda = wavelength \\ (m)\n",
    "$"
   ]
  },
  {
   "cell_type": "markdown",
   "metadata": {},
   "source": [
    "**Hint:** Use the `enumerate()` functon to begin a loop within the function, and run through the values in a given array."
   ]
  },
  {
   "cell_type": "code",
   "execution_count": 334,
   "metadata": {},
   "outputs": [],
   "source": [
    "#The variables h and c are already assigned\n",
    "\n",
    "#Append the calculated wavelengths to the `wavelengths` list below\n",
    "wavelengths = [] \n",
    "\n",
    "#The speed of light constant\n",
    "c = 3.0000e8\n",
    "\n",
    "#Complete the function\n",
    "def wavelength_calc(e):  \n",
    "    \"\"\" This function calculates wavelengths of energies stored in a list/array. The list/array name is taken as the argument.\n",
    "    \"\"\"\n",
    "    #Planck's constant\n",
    "    h = 6.626e-34\n",
    "   \n",
    "    for index, item in enumerate(e):\n",
    "        wavelength = ((h*c)/(e))/(1e-9)\n",
    "        print(\"Compound\",(index+1), \")\", round(wavelength[index],2))\n",
    "        wavelengths.append(round(wavelength[index],2))"
   ]
  },
  {
   "cell_type": "markdown",
   "metadata": {},
   "source": [
    "**Test the function out on the `energies` array.**"
   ]
  },
  {
   "cell_type": "code",
   "execution_count": 335,
   "metadata": {},
   "outputs": [
    {
     "name": "stdout",
     "output_type": "stream",
     "text": [
      "Compound 1 ) 530.08\n",
      "Compound 2 ) 678.43\n",
      "Compound 3 ) 613.52\n",
      "Compound 4 ) 619.25\n",
      "Compound 5 ) 380.8\n",
      "Compound 6 ) 577.85\n"
     ]
    }
   ],
   "source": [
    "wavelength_calc(energies)"
   ]
  },
  {
   "cell_type": "markdown",
   "metadata": {},
   "source": [
    "**Print the `wavelengths` list.**"
   ]
  },
  {
   "cell_type": "code",
   "execution_count": 336,
   "metadata": {},
   "outputs": [
    {
     "name": "stdout",
     "output_type": "stream",
     "text": [
      "[530.08, 678.43, 613.52, 619.25, 380.8, 577.85]\n"
     ]
    }
   ],
   "source": [
    "print(wavelengths)"
   ]
  },
  {
   "cell_type": "markdown",
   "metadata": {},
   "source": [
    "**1) Use `help()` on the `wavelength_calc` function. 2) Edit the text within the function's code to provide basic information about what it does and how to use it. 3) Re-run once completed to see the output.**"
   ]
  },
  {
   "cell_type": "code",
   "execution_count": 337,
   "metadata": {},
   "outputs": [
    {
     "name": "stdout",
     "output_type": "stream",
     "text": [
      "Help on function wavelength_calc in module __main__:\n",
      "\n",
      "wavelength_calc(e)\n",
      "    This function calculates wavelengths of energies stored in a list/array. The list/array name is taken as the argument.\n",
      "\n"
     ]
    }
   ],
   "source": [
    "help(wavelength_calc)"
   ]
  },
  {
   "cell_type": "markdown",
   "metadata": {},
   "source": [
    " #### **Variable Scope**"
   ]
  },
  {
   "cell_type": "markdown",
   "metadata": {},
   "source": [
    "**Print the variables `h` and `c` that were used in `wavelength_calc`. Why does one give an error?** (Hint: Look at their locations in the cell where they are defined)"
   ]
  },
  {
   "cell_type": "code",
   "execution_count": 338,
   "metadata": {},
   "outputs": [
    {
     "name": "stdout",
     "output_type": "stream",
     "text": [
      "300000000.0\n"
     ]
    }
   ],
   "source": [
    "#print c\n",
    "print(c)"
   ]
  },
  {
   "cell_type": "code",
   "execution_count": null,
   "metadata": {},
   "outputs": [],
   "source": [
    "#print h\n",
    "print(h)"
   ]
  },
  {
   "cell_type": "markdown",
   "metadata": {},
   "source": [
    "**Answer:** When variables are defined within a function, such as with `h`, they are stored \"locally\", thus they cannot be accessed outside the function."
   ]
  },
  {
   "cell_type": "markdown",
   "metadata": {},
   "source": [
    " #### **Colour Finder**"
   ]
  },
  {
   "cell_type": "markdown",
   "metadata": {},
   "source": [
    "Wavelengths of light and their colours: [**Violet:** *380nm-450nm*], [**Blue:** *450nm-485nm*], [**Cyan:** *485nm-500nm*], [**Green:** *500nm-565nm*], [**Yellow:** *565nm-590nm*], [**Orange:** *590nm-625nm*], [**Red:** *625nm-740nm*]"
   ]
  },
  {
   "cell_type": "markdown",
   "metadata": {},
   "source": [
    "<center><img src=\"./session_six_files/colour_wheel2.png\" width=\"200\" align=\"center\"/>"
   ]
  },
  {
   "cell_type": "markdown",
   "metadata": {},
   "source": [
    "You can use these wavelengths to predict the colours the compounds will appear as. Use the ranges in the table below, and find which compunds in the `wavelengths` list appear blue. Remember, the the colour they absorb the most is the complementary (opposite colour on colour wheel) to the colour they appear."
   ]
  },
  {
   "cell_type": "markdown",
   "metadata": {},
   "source": [
    "Therefore for a compund to appear blue, its ${\\lambda_{max}}$ would need to be within the wavelength range of red and yellow visible light."
   ]
  },
  {
   "cell_type": "markdown",
   "metadata": {},
   "source": [
    "**Create a function which determines whether a molecule is <span style=\"color:#3B2FCE\">blue</span> or not using the energy values from any given list. `print()` a statement stating whether each index `[i]` of said list appears blue or not.**"
   ]
  },
  {
   "cell_type": "markdown",
   "metadata": {},
   "source": [
    "**Hint:** Use the `enumerate` function to loop through items in any given list containing wavelengths."
   ]
  },
  {
   "cell_type": "code",
   "execution_count": 356,
   "metadata": {},
   "outputs": [],
   "source": [
    "#Combine calculated wavelength function and new energies array\n",
    "#Lambda max range for which compounds appear blue: (565-590 - yellow), and (590-625 - orange). -- (Overall: 565-625nm)\n",
    "\n",
    "def is_it_blue(w):\n",
    "    \n",
    "    for i, item in enumerate(w):\n",
    "        if w[i] >= 565 and w[i] <= 625:\n",
    "            print(\"Compound\",(i + 1), \"is blue.\")\n",
    "        else:\n",
    "            print(\"Compound\",(i + 1), \"is not blue.\") "
   ]
  },
  {
   "cell_type": "markdown",
   "metadata": {},
   "source": [
    "**Test out your sunction on the `wavelengths` list."
   ]
  },
  {
   "cell_type": "code",
   "execution_count": 341,
   "metadata": {},
   "outputs": [
    {
     "name": "stdout",
     "output_type": "stream",
     "text": [
      "Compound 1 is not blue.\n",
      "Compound 2 is not blue.\n",
      "Compound 3 is blue.\n",
      "Compound 4 is blue.\n",
      "Compound 5 is not blue.\n",
      "Compound 6 is blue.\n"
     ]
    }
   ],
   "source": [
    "is_it_blue(wavelengths)"
   ]
  },
  {
   "cell_type": "markdown",
   "metadata": {},
   "source": [
    "## **Genes and Proteins**"
   ]
  },
  {
   "cell_type": "markdown",
   "metadata": {},
   "source": [
    " #### **Protein Composition**"
   ]
  },
  {
   "cell_type": "markdown",
   "metadata": {},
   "source": [
    "Determining the amino acid composition of proteins can be done with relative ease in python, however if it is needed for multiple sequences, the code can get repetitive. By using functions we can deal with this."
   ]
  },
  {
   "cell_type": "markdown",
   "metadata": {},
   "source": [
    "**Below, define a function which prints the percentage content rounded to 2 d.p ( `round()` ) of the amino acids, S (Serine) and K (Lysine), in any given amino acid sequence, making use of the `.count` function. Sequences will be inputted as strings, or variables containing strings.** (See cell directly below for guidance)."
   ]
  },
  {
   "cell_type": "markdown",
   "metadata": {},
   "source": [
    "**BONUS:** Along with the percentage, also allow the option for the name of the sequence to be inputed as a function argument."
   ]
  },
  {
   "cell_type": "code",
   "execution_count": 342,
   "metadata": {},
   "outputs": [
    {
     "name": "stdout",
     "output_type": "stream",
     "text": [
      "test1 has 6 A's, and test2 has 9 H's\n"
     ]
    }
   ],
   "source": [
    "#example usage of .count\n",
    "test1 = \"AAAAAASSKBBBBBBBB\"\n",
    "test2 = \"CCCCCKKHHHHHHHSHH\"\n",
    "print(\"test1 has\", test1.count(\"A\"), \"A's, and test2 has\", test2.count(\"H\"), \"H's\")"
   ]
  },
  {
   "cell_type": "code",
   "execution_count": 343,
   "metadata": {},
   "outputs": [],
   "source": [
    "#Create your function here\n",
    "def sequence_comp_sk(sequence, name=\"the sequence\"):\n",
    "    S = sequence.count(\"S\")\n",
    "    K = sequence.count(\"K\")\n",
    "    \n",
    "    comp_percent = ((K+S)/(len(sequence)-sequence.count(' ')))*100\n",
    "    \n",
    "    print(round(comp_percent,2), \"% of\",name, \"is composed of Serine (S) and Lysine (K) residues.\")"
   ]
  },
  {
   "cell_type": "markdown",
   "metadata": {},
   "source": [
    "**Find the S and K composition (%) of the following amino acid sequences below using your function.**"
   ]
  },
  {
   "cell_type": "code",
   "execution_count": 344,
   "metadata": {},
   "outputs": [
    {
     "name": "stdout",
     "output_type": "stream",
     "text": [
      "4.82 % of seq_1 is composed of Serine (S) and Lysine (K) residues.\n"
     ]
    }
   ],
   "source": [
    "#Sequence 1\n",
    "seq_1=\"MTHPSGEPVYADAVLNGWLTSMGLGVEYVRAEGNTVYYLDDEGREVPVLDHACGFGSLIFGHNHPEIIAHAKAALDAGTVVHA\"\n",
    "sequence_comp_sk(seq_1, \"seq_1\")"
   ]
  },
  {
   "cell_type": "code",
   "execution_count": 345,
   "metadata": {},
   "outputs": [
    {
     "name": "stdout",
     "output_type": "stream",
     "text": [
      "5.05 % of seq_2 is composed of Serine (S) and Lysine (K) residues.\n"
     ]
    }
   ],
   "source": [
    "##Sequence 2\n",
    "seq_2=\"QLSRQPRANQISRILNDIMRRETGRDDRYNAIFANSGAEANEICMKH AELERQERITALFAEIDAELDTAREALTTGTATLDTASLPLVGGGAGDVDGV\"\n",
    "sequence_comp_sk(seq_2, \"seq_2\")"
   ]
  },
  {
   "cell_type": "code",
   "execution_count": 346,
   "metadata": {},
   "outputs": [
    {
     "name": "stdout",
     "output_type": "stream",
     "text": [
      "8.65 % of seq_3 is composed of Serine (S) and Lysine (K) residues.\n"
     ]
    }
   ],
   "source": [
    "##Sequence 3\n",
    "seq_3=\"IADIHRHNDERRAERPLFLTLDGSFHGKLVGSIQLTQNEPWRTPFTALSSPARFLPADEPELIGKIVEDERRSVLTLSLDKDTVRVVERDFPVVAAIFVEPVRG\"\n",
    "sequence_comp_sk(seq_3, \"seq_3\")"
   ]
  },
  {
   "cell_type": "markdown",
   "metadata": {},
   "source": [
    "**Define a function, very similar to the one above, which allows the percentage compostion of a chosen (single) amino acid to be calculated from a given sequence.**"
   ]
  },
  {
   "cell_type": "code",
   "execution_count": 357,
   "metadata": {},
   "outputs": [],
   "source": [
    "def sequence_comp_user(sequence,amino,name=\"the sequence\"):\n",
    "    amino_count = sequence.count(str(amino))\n",
    "    \n",
    "    comp_percent = ((amino_count)/(len(sequence)-sequence.count(' ')))*100\n",
    "    \n",
    "    print(round(comp_percent,2), \"% of\",name, \"is composed of\", amino, \"residues.\")"
   ]
  },
  {
   "cell_type": "markdown",
   "metadata": {},
   "source": [
    "**Using your updated function find the % composition of Threonine (T) in `seq_4`.**"
   ]
  },
  {
   "cell_type": "code",
   "execution_count": 348,
   "metadata": {},
   "outputs": [
    {
     "name": "stdout",
     "output_type": "stream",
     "text": [
      "3.06 % of seq_4 is composed of T residues.\n"
     ]
    }
   ],
   "source": [
    "#Sequence 4\n",
    "seq_4=\"STFAKDGLSASIALKVLEMVEADGGRVYQRVRERGQRLEAMLESVRADHSDVVSAVWGTGLMLALELRDQSNATSQAIREKAAHGFLGYVLAGFLLRE\"\n",
    "sequence_comp_user(seq_4,\"T\", \"seq_4\")"
   ]
  },
  {
   "cell_type": "markdown",
   "metadata": {},
   "source": [
    " #### **DNA Sequencer**"
   ]
  },
  {
   "cell_type": "markdown",
   "metadata": {},
   "source": [
    "Messenger RNA (mRNA) has 4 base pairs: A, U, C and G. They form triplets, and different triplet combinations different amino acids can be summoned. However, not all of these triplet combinations code for proteins. Between \"protein-coding\" regions, there is non-coding DNA. When studying proteins and their corresponding amino acids, it is useful to be able to isolate the coding regions. Luckily, nature includes a start-codon (AUG), and multiple stop-codons. Using these, below is a function to extract the coding DNA from a given sequence."
   ]
  },
  {
   "cell_type": "markdown",
   "metadata": {},
   "source": [
    "**Run the code below.**"
   ]
  },
  {
   "cell_type": "code",
   "execution_count": 349,
   "metadata": {},
   "outputs": [],
   "source": [
    "#Sequences to be parsed\n",
    "dna1 = \"AAAAUGUGCGGUGCGAAAUGCACGGCGAAAACGAAAAAAAAAUAG\"\n",
    "dna2 = \"AAAACGAUGAAAAAAAAAAAAUGCGGUGCGAAAUGCACGGCGAAAACGAAAUAAAAAAAA\"\n",
    "dna3 = \"UGCGGUGCGAUGAAAUGCACGGCGAAAACGAAAAAAAAAAAAUGCGGUGCGAAAUGCACGGCGUGAAAAACG\"\n",
    "\n",
    "#Function\n",
    "def sequence_extract(dna):\n",
    "    new = []\n",
    "    start = dna.find('AUG')\n",
    "    \n",
    "    for i in range(start+3, len(dna)):\n",
    "        if dna[i:i+3] == \"UAG\" or dna[i:i+3] == \"UAA\" or dna[i:i+3] == \"UGA\":\n",
    "            break\n",
    "        else:\n",
    "            new.append(str(dna[i]))  \n",
    "            \n",
    "    for i in range(0, len(new)):\n",
    "        print(new[i], end = '')"
   ]
  },
  {
   "cell_type": "markdown",
   "metadata": {},
   "source": [
    "**Use this funcion to slice out the protein coding regions from the sequences: `dna1`, `dna2` and `dna3`.**"
   ]
  },
  {
   "cell_type": "code",
   "execution_count": 350,
   "metadata": {},
   "outputs": [
    {
     "name": "stdout",
     "output_type": "stream",
     "text": [
      "UGCGGUGCGAAAUGCACGGCGAAAACGAAAAAAAAA"
     ]
    }
   ],
   "source": [
    "#Run on dna1\n",
    "sequence_extract(dna1)"
   ]
  },
  {
   "cell_type": "code",
   "execution_count": 351,
   "metadata": {},
   "outputs": [
    {
     "name": "stdout",
     "output_type": "stream",
     "text": [
      "AAAAAAAAAAAAUGCGGUGCGAAAUGCACGGCGAAAACGAAA"
     ]
    }
   ],
   "source": [
    "#Run on dna2\n",
    "sequence_extract(dna2)"
   ]
  },
  {
   "cell_type": "code",
   "execution_count": 352,
   "metadata": {},
   "outputs": [
    {
     "name": "stdout",
     "output_type": "stream",
     "text": [
      "AAAUGCACGGCGAAAACGAAAAAAAAAAAAUGCGGUGCGAAAUGCACGGCG"
     ]
    }
   ],
   "source": [
    "#Run on dna3\n",
    "sequence_extract(dna3)"
   ]
  },
  {
   "cell_type": "markdown",
   "metadata": {},
   "source": [
    "## **Graphs (Recursion)**"
   ]
  },
  {
   "cell_type": "markdown",
   "metadata": {},
   "source": [
    " #### **Creating graphs using recursion**"
   ]
  },
  {
   "cell_type": "markdown",
   "metadata": {},
   "source": [
    "$$ (1) \\  \\ \\    \\frac{n \\times graph \\ (n-1)}{b \\times n}   $$"
   ]
  },
  {
   "cell_type": "markdown",
   "metadata": {},
   "source": [
    "Where $ n$ and $ b$ are function arguments, and $ graph$ is the function's name."
   ]
  },
  {
   "cell_type": "markdown",
   "metadata": {},
   "source": [
    "**Create a recursive function `graph` which returns the equation (1). Set `n` as the primary function argument and `b` as an optional second argument, defaulting to 1 unless specified.**"
   ]
  },
  {
   "cell_type": "code",
   "execution_count": 353,
   "metadata": {},
   "outputs": [],
   "source": [
    "#Define graph function\n",
    "#Remember as you are using (n-1) in the recursion, when n==1 you will need to return 1\n",
    "\n",
    "def graph(n,b=1):\n",
    "    if n==1:\n",
    "        return 1\n",
    "    return ((n * graph(n-1))/b*n)"
   ]
  },
  {
   "cell_type": "markdown",
   "metadata": {},
   "source": [
    "**Once you have created the `graph` function, run the cell below.**"
   ]
  },
  {
   "cell_type": "code",
   "execution_count": 354,
   "metadata": {},
   "outputs": [],
   "source": [
    "#Here, an array conting 20 terms from 1 to 20 is created using linspace.\n",
    "x_val = np.linspace(1, 20,20) \n",
    "\n",
    "#Empty arrays are being created here to be filled with the y values created using the graph function on them.\n",
    "recursion_val = np.empty(20)\n",
    "recursion_val2 = np.empty(20)\n",
    "recursion_val3 = np.empty(20)\n",
    "recursion_val4 = np.empty(20)\n",
    "\n",
    "#Note this loop uses a second argument in some terms, make sure to include b as an argument when defining the function.\n",
    "for i in range(20):\n",
    "    recursion_val[i] = graph(x_val[i])\n",
    "    recursion_val2[i] = graph(x_val[i],0.02)\n",
    "    recursion_val3[i] = graph(x_val[i],2)\n",
    "    recursion_val4[i] = graph(x_val[i],5)"
   ]
  },
  {
   "cell_type": "markdown",
   "metadata": {},
   "source": [
    "**Run the cell below, in the second paragraph you can choose which y value input to choose from: `recursion_val`, `recursion_val2`, `recursion_val3` or `recursion_val4`**"
   ]
  },
  {
   "cell_type": "code",
   "execution_count": null,
   "metadata": {},
   "outputs": [],
   "source": [
    "#Plot the graph\n",
    "plt.figure(figsize=(7,7))\n",
    "plt.xlabel('x',fontsize=12) \n",
    "plt.ylabel('Logarithmic Scale',fontsize=12)\n",
    "plt.title('Recursive Graph',pad=12, fontsize=18)\n",
    "plt.grid(linestyle='dotted',c='0.7')\n",
    "plt.tick_params(color='0.9',labelsize=12)\n",
    "plt.minorticks_on()\n",
    "\n",
    "#IN THIS LINE OF CODE YOU CAN CHOOSE WHICH Y-VALUES TO USE FROM A SELECTION OF: recursion_val, recursion_val2, recursion_val3 or recursion_val4\n",
    "plt.plot(x_val,recursion_val,lw=2,c='#2909B9',label='Curve')\n",
    "\n",
    "#Change the y-axes scale to logarithmic\n",
    "plt.yscale(\"log\")\n",
    "\n",
    "plt.show()"
   ]
  }
 ],
 "metadata": {
  "kernelspec": {
   "display_name": "Python 3",
   "language": "python",
   "name": "python3"
  },
  "language_info": {
   "codemirror_mode": {
    "name": "ipython",
    "version": 3
   },
   "file_extension": ".py",
   "mimetype": "text/x-python",
   "name": "python",
   "nbconvert_exporter": "python",
   "pygments_lexer": "ipython3",
   "version": "3.8.2"
  }
 },
 "nbformat": 4,
 "nbformat_minor": 4
}
