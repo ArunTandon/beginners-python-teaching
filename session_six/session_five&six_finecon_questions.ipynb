{
 "cells": [
  {
   "cell_type": "markdown",
   "metadata": {
    "id": "aZfhY-rNme8c"
   },
   "source": [
    "# Beginner's Python—Session Five and Six Finance/Economics Questions"
   ]
  },
  {
   "cell_type": "markdown",
   "metadata": {
    "id": "mz4BiqG2me8e"
   },
   "source": [
    "## Let the games begin!"
   ]
  },
  {
   "cell_type": "markdown",
   "metadata": {},
   "source": [
    "The field of game theory in  economics is concerened with the study of strategic interactions - situations where an agent's payoff depends not only on their actions, but also on the actions of others. The base concept in game theory is that of Nash equilibria - game outcomes that can be considered 'self-enforcing' since all players end up playing their best move given the others' moves. Finding Nash equilibria can be time-consuming to do by hand, so we will use Python to help us find solve some simple two-player games!"
   ]
  },
  {
   "cell_type": "markdown",
   "metadata": {
    "id": "T0KAtvl4me8f"
   },
   "source": [
    "### Game representation"
   ]
  },
  {
   "cell_type": "markdown",
   "metadata": {},
   "source": [
    "All games involve a set of players, and each of these players then contains:\n",
    "- A set of actions (or strategies)\n",
    "- A payoff corresponding to each combination of actions played\n",
    "\n",
    "We usually represent two-player games in a payoff matrix, where player 1's strategies index the matrix rows, player 2's strategies index the matrix column and each matrix entry contains the payoffs for both players given that they play the corresponding strategies. These payoffs are given as a tuple in the form:\n",
    "\n",
    "(payoff for player 1, payoff for player 2)\n",
    "\n",
    "An example is displayed below, where player 1 has strategies 1, 2 and 3, and player 2 has strategies A, B and C:"
   ]
  },
  {
   "cell_type": "code",
   "execution_count": 1,
   "metadata": {
    "jupyter": {
     "source_hidden": true
    }
   },
   "outputs": [
    {
     "data": {
      "text/html": [
       "<div>\n",
       "<style scoped>\n",
       "    .dataframe tbody tr th:only-of-type {\n",
       "        vertical-align: middle;\n",
       "    }\n",
       "\n",
       "    .dataframe tbody tr th {\n",
       "        vertical-align: top;\n",
       "    }\n",
       "\n",
       "    .dataframe thead th {\n",
       "        text-align: right;\n",
       "    }\n",
       "</style>\n",
       "<table border=\"1\" class=\"dataframe\">\n",
       "  <thead>\n",
       "    <tr style=\"text-align: right;\">\n",
       "      <th></th>\n",
       "      <th>strategy A</th>\n",
       "      <th>strategy B</th>\n",
       "      <th>strategy C</th>\n",
       "    </tr>\n",
       "    <tr>\n",
       "      <th></th>\n",
       "      <th></th>\n",
       "      <th></th>\n",
       "      <th></th>\n",
       "    </tr>\n",
       "  </thead>\n",
       "  <tbody>\n",
       "    <tr>\n",
       "      <th>strategy 1</th>\n",
       "      <td>(1, 1)</td>\n",
       "      <td>(3, 3)</td>\n",
       "      <td>(6, 1)</td>\n",
       "    </tr>\n",
       "    <tr>\n",
       "      <th>strategy 2</th>\n",
       "      <td>(1, 2)</td>\n",
       "      <td>(4, 5)</td>\n",
       "      <td>(3, 3)</td>\n",
       "    </tr>\n",
       "    <tr>\n",
       "      <th>strategy 3</th>\n",
       "      <td>(2, 1)</td>\n",
       "      <td>(1, 5)</td>\n",
       "      <td>(-1, 1)</td>\n",
       "    </tr>\n",
       "  </tbody>\n",
       "</table>\n",
       "</div>"
      ],
      "text/plain": [
       "           strategy A strategy B strategy C\n",
       "                                           \n",
       "strategy 1     (1, 1)     (3, 3)     (6, 1)\n",
       "strategy 2     (1, 2)     (4, 5)     (3, 3)\n",
       "strategy 3     (2, 1)     (1, 5)    (-1, 1)"
      ]
     },
     "execution_count": 1,
     "metadata": {},
     "output_type": "execute_result"
    }
   ],
   "source": [
    "import pandas as pd\n",
    "pd.DataFrame(data = {'':['strategy 1', 'strategy 2', 'strategy 3'],\n",
    "                     'strategy A':[(1,1), (1,2), (2,1)],\n",
    "                     'strategy B':[(3,3), (4,5), (1,5)],\n",
    "                     'strategy C':[(6,1), (3,3), (-1,1)]\n",
    "                    }).set_index('')"
   ]
  },
  {
   "cell_type": "markdown",
   "metadata": {},
   "source": [
    "In this exercise, we will store payoff matrices as a list of lists of tuples. The game above is stored under the variable `example_game` below:"
   ]
  },
  {
   "cell_type": "code",
   "execution_count": 2,
   "metadata": {},
   "outputs": [],
   "source": [
    "example_game = [[(1,1), (1,2), (2,1)],\n",
    "                [(3,3), (4,5), (1,5)],\n",
    "                [(6,5), (3,3), (-1,1)]\n",
    "               ]\n"
   ]
  },
  {
   "cell_type": "markdown",
   "metadata": {
    "id": "T0KAtvl4me8f"
   },
   "source": [
    "### Best responses"
   ]
  },
  {
   "cell_type": "markdown",
   "metadata": {},
   "source": [
    "One of the key elements about Nash equilibria outcomes is the fact that all players must be best-responding to the others' strategies, i.e choosing the strategy that gives them the highest payoff given the strategies chosen by other players. Below you will code a function that gives a list containing the set of best response strategies for a player given the strategy chosen by its oponent. This function must:\n",
    "\n",
    "- Take in three inputs:\n",
    "    - A game payoff matrix\n",
    "    - An integer which serves as index for the oponent's strategy in the payoff matrix\n",
    "    - A boolean variable that indicates if the player is a row or column player\n",
    "    \n",
    "    \n",
    "- Give a list of integers as an output\n",
    "    - This list contains the indices for the player's best-responding strategies"
   ]
  },
  {
   "cell_type": "markdown",
   "metadata": {
    "jupyter": {
     "source_hidden": true
    }
   },
   "source": [
    "Follow the steps below to create the best response function or hide this cell and try to code it all by yourself!\n",
    "\n",
    "1. Define a function called `best_response` with the parameters described above.\n",
    "\n",
    "2. Separate between the row player case and the column player case using an `if` statement.\n",
    "\n",
    "**For the row player case:**\n",
    "\n",
    "3. Define two variables called `max_payoff` and `best_strat`. Assign a list containing 0 to `best_strat` and the payoff tuple `game[0][opponent_strat]` to `max_payoff`\n",
    "\n",
    "4. Iterate through all rows of the payoff matrix along the column representing the opponent's strategy. At each iteration, compare player 1''s payoff in that entry to player 1's payoff in `max_payoff` (Hint: remember that payoffs are given a tuples):\n",
    "\n",
    "    - If the payoff for player 1 in that entry is greater than the one in `max_payoff`, replace `max_payoff` with that entry tuple and replace `best_strat` with *a list* containing that row index.\n",
    "    - If the payoff for player 1 in that entry is equal to the one in `max_payoff`, append the current row index to`best_strat`.\n",
    "\n",
    "5. Return `best_strat` after iterating through all rows\n",
    "\n",
    "6. Using the same logic, fill in the case for the column player (Hint: Instead of iterating through rows along the opponent's column, you will need to iterate through columns along your opponent's row. Try using the same code used for the row player and swapping some indices around)"
   ]
  },
  {
   "cell_type": "markdown",
   "metadata": {
    "id": "T0KAtvl4me8f"
   },
   "source": [
    "### Nash equilibria"
   ]
  },
  {
   "cell_type": "markdown",
   "metadata": {},
   "source": [
    "Now that we have our best response function, we can incorporate it into a Nash equilibria finder function! This new function should:\n",
    "- Take a game's payoff matrix as input\n",
    "- Print every Nash equilibrium outcome in the form: (strategy index for player 1, strategy index for player 2) \n",
    "- Print the payoff tuple for each NE outcome\n",
    "\n",
    "Follow the instructions below to code this function (or hide this cell and attempt to fly solo):\n",
    "\n",
    "1. Define a function called `find_nash` with the game's payoff matrix as parameter.\n",
    "2. Iterate through all entries using nested `for` loops.\n",
    "3. At each entry:\n",
    "    - Find the row player's best response set (stored as a list) given that entry's column index. Store it in `br_row`.\n",
    "    - Find the column player's best response set (stored as a list) given that entry's row index. Store it in `br_col`.\n",
    "    - Hint: Use the `best_response` function you created in the last secton!\n",
    "4. Use `if` and `in` statements (along with boolean operators) to check if that entry's row and column strategies are in `br_row` and `br_col`. \n",
    "    - Example: `if x in my_list: (...)` checks if `x` is an element in `my_list`.\n",
    "5. If both player's strategies are best responses, then this entry is a Nash equilibrium!. Inside the `if` statement, print the required outputs\n",
    "    "
   ]
  },
  {
   "cell_type": "markdown",
   "metadata": {
    "id": "T0KAtvl4me8f"
   },
   "source": [
    "### Prisoners, couple fights, and pennies!"
   ]
  },
  {
   "cell_type": "markdown",
   "metadata": {},
   "source": [
    "Now that we have a NE finding function, use it to find equilibria for the games below and the example game we gave [above](#Game-representation). These correspond to the Prisoner's Dilemma, the Battle of the Sexes, and Matching Pennies. Afterwards, answer the following questions:\n",
    "\n",
    "- Are there any games with no NE's? Which ones?\n",
    "- Are there any games with multiple NE's? Which ones?"
   ]
  },
  {
   "cell_type": "code",
   "execution_count": 5,
   "metadata": {},
   "outputs": [],
   "source": [
    "# The games' payoff matrices are store below:\n",
    "\n",
    "prisoners_dilemma = [[(-6,-6), (0,-10)],\n",
    "                     [(-10,0), (-1,-1)]\n",
    "                    ]\n",
    "\n",
    "b_o_s = [[(10,8), (0,0)],\n",
    "         [(0,0), (8,10)]\n",
    "        ]\n",
    "\n",
    "matching_pennies = [[(1,-1), (-1,1)],\n",
    "                    [(-1,1), (1,-1)]\n",
    "                   ]"
   ]
  }
 ],
 "metadata": {
  "colab": {
   "name": "session_one_finecon_answers.ipynb",
   "provenance": []
  },
  "kernelspec": {
   "display_name": "Python 3",
   "language": "python",
   "name": "python3"
  },
  "language_info": {
   "codemirror_mode": {
    "name": "ipython",
    "version": 3
   },
   "file_extension": ".py",
   "mimetype": "text/x-python",
   "name": "python",
   "nbconvert_exporter": "python",
   "pygments_lexer": "ipython3",
   "version": "3.7.6"
  }
 },
 "nbformat": 4,
 "nbformat_minor": 4
}
