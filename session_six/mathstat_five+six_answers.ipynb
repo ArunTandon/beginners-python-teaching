{
 "cells": [
  {
   "cell_type": "markdown",
   "metadata": {},
   "source": [
    "# Mathematics and Statistics"
   ]
  },
  {
   "cell_type": "markdown",
   "metadata": {},
   "source": [
    "## 1. Diophantine Equations"
   ]
  },
  {
   "cell_type": "markdown",
   "metadata": {},
   "source": [
    "How many ordered integer solutions $(a,b,c)$ solve the following Diophantine equation:\n",
    "\n",
    "\n",
    "$a^2 + b^2 + c^2 = 2041$?\n",
    "\n",
    "Hint: Use a for loop to iterate through possible solutions.\n",
    "\n",
    "Hint: after importing numpy as np, np.sqrt(x) takes the square root of x"
   ]
  },
  {
   "cell_type": "code",
   "execution_count": 1,
   "metadata": {},
   "outputs": [
    {
     "data": {
      "text/plain": [
       "54"
      ]
     },
     "execution_count": 1,
     "metadata": {},
     "output_type": "execute_result"
    }
   ],
   "source": [
    "import numpy as np\n",
    "solutions = []\n",
    "for a in range(0,int(np.sqrt(2041)+1)):\n",
    "    for b in range(0,int(np.sqrt(2041)+1)):\n",
    "        if 2041-a**2-b**2 < 0:\n",
    "            continue\n",
    "        else:\n",
    "            c = np.sqrt(2041-a**2-b**2)\n",
    "            if int(c)==c:\n",
    "                solutions.append((a,b,int(c)))\n",
    "len(solutions)"
   ]
  },
  {
   "cell_type": "markdown",
   "metadata": {},
   "source": [
    "Can you generalise this to the equation\n",
    "\n",
    "$ax^2 + by^2 + cz^2 = d$\n",
    "\n",
    "by creating a function?"
   ]
  },
  {
   "cell_type": "code",
   "execution_count": 2,
   "metadata": {},
   "outputs": [],
   "source": [
    "def diophantine_sols(d,a,b,c):\n",
    "    solutions = []\n",
    "    for x in range(0,int(np.sqrt(d)+1)):\n",
    "        for y in range(0,int(np.sqrt(d)+1)):\n",
    "            if d-a*x**2-b*y**2 < 0:\n",
    "                continue\n",
    "            else:\n",
    "                z = np.sqrt((d-a*x**2-b*y**2)/c)\n",
    "                if int(z)==z:\n",
    "                    solutions.append((x,y,int(z)))\n",
    "    return len(solutions)"
   ]
  },
  {
   "cell_type": "markdown",
   "metadata": {},
   "source": [
    "## 2. Euler's Method"
   ]
  },
  {
   "cell_type": "markdown",
   "metadata": {},
   "source": [
    "Euler's method is used for solving differential equations of the form: \n",
    "\n",
    "$y^\\prime(x) = f(x,y)$\n",
    "\n",
    "$y(x_0)=y_0$\n",
    "\n",
    "The procedure is as follows:\n",
    "* Start at the initial point $(x_0, y_0)$\n",
    "* Fix an x-axis step length h\n",
    "* Generate an approximate solution at $x_{n+1} = x_n +h$, using:\n",
    "$y_{n+1} = y_n + hf(x_n,y_n)$\n",
    "\n",
    "Use this method to solve the following ODE:\n",
    "$y^\\prime = x + 2y$, with $y(0)=-0.25$\n",
    "\n",
    "Note this differential equation can be solved very easily analytically (if you know first year differential equations), and the solution is $y(x) = -\\frac{1}{4}(2x+1)$ (upon Mathematical inspection, it should be obvious why I chose $y(0)=-0.25$).\n",
    "Use this to check your solution"
   ]
  },
  {
   "cell_type": "markdown",
   "metadata": {},
   "source": [
    "The cell below defines $f(x,y) = x + 2y$"
   ]
  },
  {
   "cell_type": "code",
   "execution_count": 3,
   "metadata": {},
   "outputs": [],
   "source": [
    "def f(x,y):\n",
    "    return x+2*y"
   ]
  },
  {
   "cell_type": "markdown",
   "metadata": {},
   "source": [
    "Use the following cell to define a function for 1000 steps of Euler's method with a step length $10e-3$.\n",
    "\n",
    "Keep track of the $x$ coordinates with a list named xs, and the $y$ coordinates with a list named ys.\n",
    "\n",
    "Make the function return these two lists"
   ]
  },
  {
   "cell_type": "code",
   "execution_count": 4,
   "metadata": {},
   "outputs": [],
   "source": [
    "def euler(f, x0=0, y0=-0.25, h=10e-3, N=1000):\n",
    "    xs = [x0]\n",
    "    ys = [y0]\n",
    "    for n in range(N):\n",
    "        x = xs[-1] + h\n",
    "        y = ys[-1] + h*f(xs[-1], ys[-1])\n",
    "        xs.append(x)\n",
    "        ys.append(y)\n",
    "    return xs,ys"
   ]
  },
  {
   "cell_type": "code",
   "execution_count": 5,
   "metadata": {},
   "outputs": [],
   "source": [
    "import matplotlib.pyplot as plt"
   ]
  },
  {
   "cell_type": "markdown",
   "metadata": {},
   "source": [
    "The following cell plots the output of the function, showing the approximated solution."
   ]
  },
  {
   "cell_type": "code",
   "execution_count": 6,
   "metadata": {},
   "outputs": [
    {
     "data": {
      "text/plain": [
       "[<matplotlib.lines.Line2D at 0x7fe07da67290>]"
      ]
     },
     "execution_count": 6,
     "metadata": {},
     "output_type": "execute_result"
    },
    {
     "data": {
      "image/png": "[encoded data removed]",
      "text/plain": [
       "<Figure size 432x288 with 1 Axes>"
      ]
     },
     "metadata": {
      "needs_background": "light"
     },
     "output_type": "display_data"
    }
   ],
   "source": [
    "plt.plot(euler(f)[0],euler(f)[1])"
   ]
  },
  {
   "cell_type": "markdown",
   "metadata": {},
   "source": [
    "## Streaks in Coin Tosses"
   ]
  },
  {
   "cell_type": "markdown",
   "metadata": {},
   "source": [
    "What is the expected value for the length of the largest streak of repeated outcomes for a coin flipped 10 times? \n",
    "\n",
    "e.g. for the sequence HTHTTTHHTH the length of the largest streak of repeated outcomes is 3 - the three tails in a row"
   ]
  },
  {
   "cell_type": "markdown",
   "metadata": {},
   "source": [
    "Firstly, we can simulate a coin toss using the following function."
   ]
  },
  {
   "cell_type": "code",
   "execution_count": 7,
   "metadata": {},
   "outputs": [],
   "source": [
    "from random import randint\n",
    "def coinToss():\n",
    "    if randint(0,1) == 0:\n",
    "        return 'H'\n",
    "    else: \n",
    "        return 'T'"
   ]
  },
  {
   "cell_type": "markdown",
   "metadata": {},
   "source": [
    "The following code block defines a function which simulates 10 coin tosses"
   ]
  },
  {
   "cell_type": "code",
   "execution_count": 8,
   "metadata": {},
   "outputs": [],
   "source": [
    "def nTosses(n=10):\n",
    "    tosses = []\n",
    "    for _ in range(n):\n",
    "        tosses.append(coinToss())\n",
    "    return tosses"
   ]
  },
  {
   "cell_type": "markdown",
   "metadata": {},
   "source": [
    "Now, see if you can write a function which takes a sequence of tosses as an input and calculates the longest streak."
   ]
  },
  {
   "cell_type": "code",
   "execution_count": 9,
   "metadata": {},
   "outputs": [],
   "source": [
    "def longest_streak(tosses):\n",
    "    streaks = [1]\n",
    "    streak = 1\n",
    "    for i in range(1, len(tosses)):\n",
    "        if tosses[i] == tosses[i-1]:\n",
    "            streak+=1\n",
    "            streaks.append(streak)\n",
    "        else:\n",
    "            streak=1\n",
    "    return max(streaks)"
   ]
  },
  {
   "cell_type": "markdown",
   "metadata": {},
   "source": [
    "Now write a function that uses the previous function to take the average longest streak from 100000 simulations of 10 tosses."
   ]
  },
  {
   "cell_type": "code",
   "execution_count": 10,
   "metadata": {},
   "outputs": [],
   "source": [
    "def avg_longest(n=10, N=100000):\n",
    "    total = 0\n",
    "    for _ in range(N):\n",
    "        total+=longest_streak(nTosses(n))\n",
    "    return total/N"
   ]
  },
  {
   "cell_type": "markdown",
   "metadata": {},
   "source": [
    "Print the output in the cell below"
   ]
  },
  {
   "cell_type": "code",
   "execution_count": 11,
   "metadata": {},
   "outputs": [
    {
     "data": {
      "text/plain": [
       "3.6584"
      ]
     },
     "execution_count": 11,
     "metadata": {},
     "output_type": "execute_result"
    }
   ],
   "source": [
    "avg_longest()"
   ]
  },
  {
   "cell_type": "markdown",
   "metadata": {},
   "source": [
    "What about the expected value for N flips? \n",
    "\n",
    "Create a list streak_N with the expected value for 1 flip, 2 slips 3 flips, ..., 50 flips using a for loop.\n",
    "\n",
    "Note this may take a few minutes to run"
   ]
  },
  {
   "cell_type": "code",
   "execution_count": 12,
   "metadata": {},
   "outputs": [],
   "source": [
    "streak_N = []\n",
    "for i in range(1,51):\n",
    "    streak_N.append(avg_longest(n=i))"
   ]
  },
  {
   "cell_type": "markdown",
   "metadata": {},
   "source": [
    "The following code block plots the approximated expectation of of the longest streak after N tosses vs N"
   ]
  },
  {
   "cell_type": "code",
   "execution_count": 13,
   "metadata": {},
   "outputs": [
    {
     "data": {
      "image/png": "[encoded data removed]",
      "text/plain": [
       "<Figure size 432x288 with 1 Axes>"
      ]
     },
     "metadata": {
      "needs_background": "light"
     },
     "output_type": "display_data"
    }
   ],
   "source": [
    "plt.plot(streak_N)\n",
    "plt.show()"
   ]
  },
  {
   "cell_type": "markdown",
   "metadata": {},
   "source": [
    "Note this curve should be convex, can you think why?"
   ]
  }
 ],
 "metadata": {
  "kernelspec": {
   "display_name": "Python 3",
   "language": "python",
   "name": "python3"
  },
  "language_info": {
   "codemirror_mode": {
    "name": "ipython",
    "version": 3
   },
   "file_extension": ".py",
   "mimetype": "text/x-python",
   "name": "python",
   "nbconvert_exporter": "python",
   "pygments_lexer": "ipython3",
   "version": "3.7.4"
  }
 },
 "nbformat": 4,
 "nbformat_minor": 2
}
