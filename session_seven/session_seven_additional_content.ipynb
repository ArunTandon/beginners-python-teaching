{
 "cells": [
  {
   "cell_type": "markdown",
   "metadata": {},
   "source": [
    "## Sets"
   ]
  },
  {
   "cell_type": "markdown",
   "metadata": {},
   "source": [
    "So far we have looked at lists, tuples, and dictionaries. These can all be thought of as 'containers' for other objects. Another member of the family of variable types is the set. These are used for storing data that is both unordered and unique. The reason for this is that sets do not keep track of where or how many of a certain object is contained inside, but rather just whether an object is or isn't present. We create a set using curly brackets."
   ]
  },
  {
   "cell_type": "code",
   "execution_count": 3,
   "metadata": {
    "scrolled": true
   },
   "outputs": [
    {
     "name": "stdout",
     "output_type": "stream",
     "text": [
      "{9, 3, 4}\n"
     ]
    }
   ],
   "source": [
    "x = {4, 3, 3, 9}\n",
    "print(x)"
   ]
  },
  {
   "cell_type": "markdown",
   "metadata": {},
   "source": [
    "Notice that any repetitions of elements were ignored and the order of the set changed on definition. The only thing that is kept track of is whether certain values are in the set. For these reason, sets are incredibly efficient for certain needs."
   ]
  },
  {
   "cell_type": "markdown",
   "metadata": {},
   "source": [
    "Sets are similar to dictionaries (actually, under-the-hood they are represented in almost identical ways). The difference is this that a set contains individual elements, whereas a dictionary contains items (key-value pairs)."
   ]
  },
  {
   "cell_type": "markdown",
   "metadata": {},
   "source": [
    "We can check if an element is in a set using `in`. This is much more efficient than checking if an object is in a list."
   ]
  },
  {
   "cell_type": "code",
   "execution_count": 4,
   "metadata": {},
   "outputs": [
    {
     "name": "stdout",
     "output_type": "stream",
     "text": [
      "True\n",
      "False\n"
     ]
    }
   ],
   "source": [
    "print(3 in x)\n",
    "print(2 in x)"
   ]
  },
  {
   "cell_type": "markdown",
   "metadata": {},
   "source": [
    "We can add one or multiple element(s) to a set."
   ]
  },
  {
   "cell_type": "code",
   "execution_count": 9,
   "metadata": {},
   "outputs": [
    {
     "name": "stdout",
     "output_type": "stream",
     "text": [
      "{3, 4, 5, 6, 9}\n"
     ]
    }
   ],
   "source": [
    "x.add(5)  # single element\n",
    "x.update({9, 6})  # add all elements from another set\n",
    "print(x)"
   ]
  },
  {
   "cell_type": "markdown",
   "metadata": {},
   "source": [
    "Note, only the distinct elements from the second set were added when using `.update()`. The order of the set also changed, highlighting that you can't rely on their order."
   ]
  },
  {
   "cell_type": "markdown",
   "metadata": {},
   "source": [
    "There are two ways to remove elements."
   ]
  },
  {
   "cell_type": "code",
   "execution_count": 10,
   "metadata": {},
   "outputs": [
    {
     "name": "stdout",
     "output_type": "stream",
     "text": [
      "{3, 4, 6, 9}\n"
     ]
    }
   ],
   "source": [
    "x.remove(5)  # throws error if doesn't exist\n",
    "x.discard(5)  # doesn't throw error if doesn't exist\n",
    "print(x)"
   ]
  },
  {
   "cell_type": "markdown",
   "metadata": {},
   "source": [
    "## Dictionary Comprehension"
   ]
  },
  {
   "cell_type": "markdown",
   "metadata": {},
   "source": [
    "Dictionary comprehension behaves similarly to list comprehension, but rather than specifying each element of a list, we specify the items (key-value pairs) of a dictionary. We also use curly brackets."
   ]
  },
  {
   "cell_type": "code",
   "execution_count": 12,
   "metadata": {},
   "outputs": [
    {
     "name": "stdout",
     "output_type": "stream",
     "text": [
      "{4: 16, 8: 64, 2: 4, 5: 25}\n"
     ]
    }
   ],
   "source": [
    "numbers = [4, 8, 2, 5]\n",
    "squares = {n: n ** 2 for n in numbers}\n",
    "print(squares)"
   ]
  },
  {
   "cell_type": "markdown",
   "metadata": {},
   "source": [
    "We can combine these with if expressions, enumeration, zipping, and filtering to get more powerful comprehensions."
   ]
  },
  {
   "cell_type": "code",
   "execution_count": 15,
   "metadata": {},
   "outputs": [
    {
     "name": "stdout",
     "output_type": "stream",
     "text": [
      "{8: 2.8284271247461903, 3: 1.7320508075688772, 4: 2.0}\n"
     ]
    }
   ],
   "source": [
    "import math\n",
    "numbers = [8, 3, -2, 4]\n",
    "sqrts = {n: math.sqrt(n) for n in numbers if n >= 0}\n",
    "print(sqrts)"
   ]
  },
  {
   "cell_type": "markdown",
   "metadata": {},
   "source": [
    "## Positional and Named Arguments"
   ]
  },
  {
   "cell_type": "markdown",
   "metadata": {},
   "source": [
    "By default, arguments will be mapped to parameters based on their positions (i.e. first argument to first parameter, etc.)"
   ]
  },
  {
   "cell_type": "code",
   "execution_count": 18,
   "metadata": {
    "scrolled": true
   },
   "outputs": [
    {
     "name": "stdout",
     "output_type": "stream",
     "text": [
      "1 | 2 | 3\n"
     ]
    }
   ],
   "source": [
    "def print3(a, b, c):\n",
    "    print(a, b, c, sep = ' | ')\n",
    "\n",
    "print3(1, 2, 3)"
   ]
  },
  {
   "cell_type": "markdown",
   "metadata": {},
   "source": [
    "Instead we can name arguments to override this behaviour."
   ]
  },
  {
   "cell_type": "code",
   "execution_count": 19,
   "metadata": {},
   "outputs": [
    {
     "name": "stdout",
     "output_type": "stream",
     "text": [
      "1 | 2 | 3\n"
     ]
    }
   ],
   "source": [
    "print3(c=3, a=1, b=2)"
   ]
  },
  {
   "cell_type": "markdown",
   "metadata": {},
   "source": [
    "We can also selectively name arguments."
   ]
  },
  {
   "cell_type": "code",
   "execution_count": 20,
   "metadata": {
    "scrolled": true
   },
   "outputs": [
    {
     "name": "stdout",
     "output_type": "stream",
     "text": [
      "1 | 2 | 3\n"
     ]
    }
   ],
   "source": [
    "print3(1, c=3, b=2)"
   ]
  },
  {
   "cell_type": "markdown",
   "metadata": {},
   "source": [
    "We are not allowed to put positional arguments after name arguments."
   ]
  },
  {
   "cell_type": "code",
   "execution_count": 21,
   "metadata": {},
   "outputs": [
    {
     "ename": "SyntaxError",
     "evalue": "positional argument follows keyword argument (<ipython-input-21-c65526eb23a1>, line 1)",
     "output_type": "error",
     "traceback": [
      "\u001b[1;36m  File \u001b[1;32m\"<ipython-input-21-c65526eb23a1>\"\u001b[1;36m, line \u001b[1;32m1\u001b[0m\n\u001b[1;33m    print3(c=3, b=2, 1)\u001b[0m\n\u001b[1;37m                    ^\u001b[0m\n\u001b[1;31mSyntaxError\u001b[0m\u001b[1;31m:\u001b[0m positional argument follows keyword argument\n"
     ]
    }
   ],
   "source": [
    "print3(c=3, b=2, 1)"
   ]
  },
  {
   "cell_type": "markdown",
   "metadata": {},
   "source": [
    "## Kwargs"
   ]
  },
  {
   "cell_type": "markdown",
   "metadata": {},
   "source": [
    "Kwargs let us read in these named arguments as a dictionary (mapping parameters to arguments). To do this we use the double splat operator. We can combine this with single arguments and args as so."
   ]
  },
  {
   "cell_type": "code",
   "execution_count": 22,
   "metadata": {},
   "outputs": [
    {
     "name": "stdout",
     "output_type": "stream",
     "text": [
      "1\n",
      "(2, 3, 4)\n",
      "{'b': 5, 'c': 6, 'd': 7}\n"
     ]
    }
   ],
   "source": [
    "def fancy_func(a, *args, **kwargs):\n",
    "    print(a)\n",
    "    print(args)\n",
    "    print(kwargs)\n",
    "    \n",
    "fancy_func(1, 2, 3, 4, b = 5, c = 6, d = 7)"
   ]
  },
  {
   "cell_type": "markdown",
   "metadata": {},
   "source": [
    "## Returning to Memoisation"
   ]
  },
  {
   "cell_type": "markdown",
   "metadata": {},
   "source": [
    "Last time, we used a list to memoise the Fibonacci function. This worked fine because we need a dense memory (i.e. to calculate the nth Fibonacci numbers, we need most of the 1st to n-1th Fibonacci numbers—all of them to be exact). For many problems, this will require massive amounts of memory and so won't be viable. In this case, we can use a dictionary for memoisation to allow for a sparse memory (i.e. one where we only remember values for select keys)."
   ]
  },
  {
   "cell_type": "markdown",
   "metadata": {},
   "source": [
    "We will use this technique to memoise the function we wrote many homeworks ago for calculating the length of Collatz sequences. As a reminder, the Collatz sequence is defined as follows.\n",
    "\n",
    "> Take a number $n$. If it is even, halve it, if it is odd, times it by $3$ and add $1$. Repeat this process. You will eventually reach the number $1$"
   ]
  },
  {
   "cell_type": "code",
   "execution_count": 23,
   "metadata": {},
   "outputs": [],
   "source": [
    "mem = {1: 0}  # map starting point to length of sequence\n",
    "\n",
    "def mem_collatz(n):\n",
    "    if n in mem:\n",
    "        return mem[n]\n",
    "    val = mem_collatz(n // 2 if n % 2 == 0 else 3 * n + 1) + 1\n",
    "    mem[n] = val\n",
    "    return val"
   ]
  },
  {
   "cell_type": "code",
   "execution_count": 26,
   "metadata": {
    "scrolled": true
   },
   "outputs": [
    {
     "data": {
      "text/plain": [
       "16"
      ]
     },
     "execution_count": 26,
     "metadata": {},
     "output_type": "execute_result"
    }
   ],
   "source": [
    "mem_collatz(7)"
   ]
  },
  {
   "cell_type": "code",
   "execution_count": 28,
   "metadata": {},
   "outputs": [
    {
     "name": "stdout",
     "output_type": "stream",
     "text": [
      "{1: 0, 2: 1, 4: 2, 8: 3, 16: 4, 5: 5, 10: 6, 20: 7, 40: 8, 13: 9, 26: 10, 52: 11, 17: 12, 34: 13, 11: 14, 22: 15, 7: 16}\n"
     ]
    }
   ],
   "source": [
    "print(mem)"
   ]
  },
  {
   "cell_type": "markdown",
   "metadata": {},
   "source": [
    "Running `mem_collatz(7)` fills the memory with any values it needs. We could now run `mem_collatz(14)` and it would it only need one recursion before using precomputed values. "
   ]
  },
  {
   "cell_type": "markdown",
   "metadata": {},
   "source": [
    "## Merging Dictionaries"
   ]
  },
  {
   "cell_type": "markdown",
   "metadata": {},
   "source": [
    "We can merge dictionaries by using the double splat. Duplicate keys will take the value from the dictionary on the right."
   ]
  },
  {
   "cell_type": "code",
   "execution_count": 30,
   "metadata": {},
   "outputs": [
    {
     "name": "stdout",
     "output_type": "stream",
     "text": [
      "{'a': 1, 'b': 3, 'c': 4}\n"
     ]
    }
   ],
   "source": [
    "x = {\"a\": 1, \"b\": 2}\n",
    "y = {\"b\": 3, \"c\": 4}\n",
    "z = {**x, **y}\n",
    "print(z)"
   ]
  }
 ],
 "metadata": {
  "kernelspec": {
   "display_name": "Python 3",
   "language": "python",
   "name": "python3"
  },
  "language_info": {
   "codemirror_mode": {
    "name": "ipython",
    "version": 3
   },
   "file_extension": ".py",
   "mimetype": "text/x-python",
   "name": "python",
   "nbconvert_exporter": "python",
   "pygments_lexer": "ipython3",
   "version": "3.6.8"
  }
 },
 "nbformat": 4,
 "nbformat_minor": 2
}
