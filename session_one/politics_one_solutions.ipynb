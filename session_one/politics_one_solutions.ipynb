{
 "cells": [
  {
   "cell_type": "markdown",
   "metadata": {},
   "source": [
    "## Politics and Social Sciences"
   ]
  },
  {
   "cell_type": "markdown",
   "metadata": {},
   "source": [
    "Go to https://bit.ly/3lKk2wV. <br>By using the 2016 UK Referendum data found on the wikipedia page answear the following questions:"
   ]
  },
  {
   "cell_type": "markdown",
   "metadata": {},
   "source": [
    "Assign the number of votes for leave, remain and invalid votes to variables called <code>leave</code>, <code>remain</code> and <code>invalid</code> respectively."
   ]
  },
  {
   "cell_type": "code",
   "execution_count": 1,
   "metadata": {},
   "outputs": [],
   "source": [
    "leave = 17410742\n",
    "remain = 16141241\n",
    "invalid = 25359"
   ]
  },
  {
   "cell_type": "markdown",
   "metadata": {},
   "source": [
    "- Calculate the total number of votes by adding up the three variables you just created and assign the result to a variable called <code>total</code>\n",
    "- Caluculate the total number of valid votes by adding up the <code>leave</code> and <code>remain</code> variables  and assign the result to a variable called <code>total_valid</code>\n",
    "- Calculate the percentage of votes to leave and remain and assign the results to variables called <code>leave_pct</code> and <code>reamain_pct</code>\n",
    "- Calculate the margin of victory (that is the difference between the number of votes to leave and remain) in number of votes and as the percentage of the total number of valid votes. Assign the result to the variable called <code>margin</code> and <code>margin_pct</code> respectively\n",
    "- What is the percantage difference between those who voted Leave and those who voted Remain? Assign the result to the variable called diff_pct"
   ]
  },
  {
   "cell_type": "code",
   "execution_count": 2,
   "metadata": {},
   "outputs": [],
   "source": [
    "total = leave + remain + invalid\n",
    "total_valid = leave + remain\n",
    "leave_pct = (leave / total_valid) * 100\n",
    "remain_pct = (remain / total_valid) * 100\n",
    "margin = leave - remain\n",
    "margin_pct = (margin / total_valid) * 100"
   ]
  },
  {
   "cell_type": "markdown",
   "metadata": {},
   "source": [
    "Print out one of the variables that represents a percentage. Of which type it should be? Check if you are correct by printing out it's type. "
   ]
  },
  {
   "cell_type": "code",
   "execution_count": 3,
   "metadata": {},
   "outputs": [
    {
     "name": "stdout",
     "output_type": "stream",
     "text": [
      "51.891841981441154\n",
      "<class 'float'>\n"
     ]
    }
   ],
   "source": [
    "print(leave_pct)\n",
    "print(type(leave_pct))"
   ]
  },
  {
   "cell_type": "markdown",
   "metadata": {},
   "source": [
    "Print out the following text with the summary of results of 2016 UK Referendum using the variables created before.\n",
    "\n",
    "<em>\"On 23 June 2016, the recorded result was that the UK voted to leave the European Union by ???% for Leave to ???% for Remain, a margin of ???%. This corresponded to ??? votes to leave and ??? to remain, a margin of ??? votes.\"</em>\n",
    "\n",
    "<b>HINT:</b> You can change the <code>sep</code> parameter in <code>print()</code> function to be an empty string. That way it will prevent Python from putting spaces between the number and the \"%\" sign when you print multiple objects. \n",
    "\n",
    "<b>EXTRA:</b> to make the numbers nicer to display we can round them using the function <code>round()</code> - more about functions in the next sessions. For a decimal variable <code>x</code>, if we want to round it to 2 decimal places we would use the function <code>round(x,2)</code>"
   ]
  },
  {
   "cell_type": "code",
   "execution_count": 4,
   "metadata": {},
   "outputs": [
    {
     "name": "stdout",
     "output_type": "stream",
     "text": [
      "On 23 June 2016, the recorded result was that the UK voted to leave the European Union by51.89% for Leave to 48.11% for Remain, a margin of 3.78%. This corresponded to 17410742 votes to leave and 16141241 to remain, a margin of 1269501 votes.\n"
     ]
    }
   ],
   "source": [
    "print(\"On 23 June 2016, the recorded result was that the UK voted to leave the European Union by\", round(leave_pct, 2), \n",
    "      \"% for Leave to \", round(remain_pct, 2) , \"% for Remain, a margin of \" , round(margin_pct, 2), \"%. This corresponded to \", leave, \n",
    "      \" votes to leave and \", remain, \" to remain, a margin of \", margin, \" votes.\", sep = \"\")"
   ]
  },
  {
   "cell_type": "markdown",
   "metadata": {},
   "source": [
    "<b>BONUS</b> Execute the code below. If you did the previous questions correctly it should output a bar plot for the results of 2016 Referendum."
   ]
  },
  {
   "cell_type": "code",
   "execution_count": 5,
   "metadata": {},
   "outputs": [
    {
     "data": {
      "image/png": "[encoded data removed]",
      "text/plain": [
       "<Figure size 432x288 with 1 Axes>"
      ]
     },
     "metadata": {
      "needs_background": "light"
     },
     "output_type": "display_data"
    }
   ],
   "source": [
    "import matplotlib.pyplot as plt\n",
    "\n",
    "plt.bar(x = ['Leave', 'Remain'], height = [leave_pct, remain_pct], color = [\"C0\", \"C1\"])\n",
    "\n",
    "plt.title(\"2016 National Referendum results\")\n",
    "plt.ylabel(\"Percentage of votes\")\n",
    "\n",
    "plt.show()"
   ]
  }
 ],
 "metadata": {
  "kernelspec": {
   "display_name": "Python 3",
   "language": "python",
   "name": "python3"
  },
  "language_info": {
   "codemirror_mode": {
    "name": "ipython",
    "version": 3
   },
   "file_extension": ".py",
   "mimetype": "text/x-python",
   "name": "python",
   "nbconvert_exporter": "python",
   "pygments_lexer": "ipython3",
   "version": "3.7.6"
  }
 },
 "nbformat": 4,
 "nbformat_minor": 4
}
