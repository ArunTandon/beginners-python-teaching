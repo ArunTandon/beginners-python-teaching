{
  "nbformat": 4,
  "nbformat_minor": 0,
  "metadata": {
    "colab": {
      "name": "Engineering_one_questions.ipynb",
      "provenance": [],
      "collapsed_sections": []
    },
    "kernelspec": {
      "name": "python3",
      "display_name": "Python 3"
    }
  },
  "cells": [
    {
      "cell_type": "markdown",
      "metadata": {
        "id": "MGkXX8qNM1Kb"
      },
      "source": [
        "## Engineering"
      ]
    },
    {
      "cell_type": "markdown",
      "metadata": {
        "id": "azz84WqVM5zE"
      },
      "source": [
        "In a circuit, three resistors are connected in parallel. They each have a resistance, labelled ```R1```, ```R2```, and ```R3```. For each of these three variables, pick a number greater than 2 and assign it that value.\n",
        "\n",
        "**NOTE:** They can be either integers or floats."
      ]
    },
    {
      "cell_type": "code",
      "metadata": {
        "id": "Y1cnR0rpbpxI"
      },
      "source": [
        ""
      ],
      "execution_count": null,
      "outputs": []
    },
    {
      "cell_type": "markdown",
      "metadata": {
        "id": "rDA_lg4MbqIa"
      },
      "source": [
        "The total resistance is given by $\\frac{R_1R_2R_3}{R_1R_2+R_1R_3+R_2R_3}$. \n",
        "\n",
        "*   Assign to a new variable, ```R```, the total resistance due to the three resistances from the first part. \n",
        "*   Print ```R```, rounded to five decimal places.\n",
        "*   Print the variable type of ```R```.\n",
        "\n",
        "**NOTE:** You can use the function ```round()``` to round a float to a given number of decimal places. For example, ```round(x,3)``` will return the float ```x``` rounded to three decimal places. More about other useful functions will be in later sessions."
      ]
    },
    {
      "cell_type": "code",
      "metadata": {
        "id": "rSXvajmZc9OD"
      },
      "source": [
        ""
      ],
      "execution_count": 14,
      "outputs": []
    },
    {
      "cell_type": "markdown",
      "metadata": {
        "id": "z93bp3arc9xk"
      },
      "source": [
        "In the box below, print the following phrase, with the ??? replaced with the correct values.\n",
        "\n",
        "You should use expressions involving  ```R1```, ```R2```, ```R3```, and/or ```R```, and return these values as ints, and **NOT** floats, hence the \"approximately\". \n",
        "\n",
        "\"The product of the three resistances is around ???, which is greater than their sum, which is around ???. The total resistance when they are connected in parallel is approximately ???.\"\n",
        "\n",
        "**REMINDERS:** \n",
        "*   You can set the ```sep``` parameter in ```print()``` to an empty string, so that Python doesn't add in extra spaces after the number values.\n",
        "*   You can use the ```int()``` function to return a float as an integer."
      ]
    },
    {
      "cell_type": "code",
      "metadata": {
        "id": "zI8AO8t-dTlZ"
      },
      "source": [
        ""
      ],
      "execution_count": 14,
      "outputs": []
    }
  ]
}