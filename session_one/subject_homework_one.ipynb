{
 "cells": [
  {
   "cell_type": "markdown",
   "metadata": {},
   "source": [
    "# Subject Specific Homework Exercises\n",
    "In this notebook you can find a set of extra exercises which are related to specific subjects. These were developed with the help of WDSS Student Ambassadors in order to showcase the use of programming in specific domains like Physics or Chemistry.\n",
    "You can do as many exercises as you wish to, all of them are optional.\n",
    "The following notebook consists of 5 subsections - each devoted to a subject stream:\n",
    "- Mathematics and Statistics\n",
    "- Physics\n",
    "- Engineering\n",
    "- Economics and Finance\n",
    "- Politics and Social Sciences\n",
    "- "
   ]
  },
  {
   "cell_type": "markdown",
   "metadata": {},
   "source": [
    "## Mathematics and Statistics"
   ]
  },
  {
   "cell_type": "markdown",
   "metadata": {},
   "source": [
    "For a simple starter, see if you can approximate the derivative of the function $f(x) = x^2 + 3x + 6$ at $x=2$.\\\n",
    "\\\n",
    "Remember, by definition, $f'(x) = \\lim_{h \\to 0} \\frac{f(x+h)-f(x)}{h}$"
   ]
  },
  {
   "cell_type": "markdown",
   "metadata": {},
   "source": [
    "The code in the cell below is simply saying we are defining a function $f(x)$, given by $f(x) = x^2 + 3x + 6$. You wil learn more about functions during the next sessions."
   ]
  },
  {
   "cell_type": "code",
   "execution_count": null,
   "metadata": {},
   "outputs": [],
   "source": [
    "def f(x):\n",
    "    return x**2 + 3*x +6"
   ]
  },
  {
   "cell_type": "markdown",
   "metadata": {},
   "source": [
    "For example we can compute $f(2)$ by simply writing:"
   ]
  },
  {
   "cell_type": "code",
   "execution_count": null,
   "metadata": {},
   "outputs": [],
   "source": [
    "f(2)"
   ]
  },
  {
   "cell_type": "markdown",
   "metadata": {},
   "source": [
    "Now, see if you can approximate the derivative"
   ]
  },
  {
   "cell_type": "code",
   "execution_count": null,
   "metadata": {},
   "outputs": [],
   "source": []
  },
  {
   "cell_type": "markdown",
   "metadata": {},
   "source": [
    "The following problem is slighly harder, and will introduce further concepts - which will be studied later in the course"
   ]
  },
  {
   "cell_type": "markdown",
   "metadata": {},
   "source": [
    "Approximate the integral of the function $f(x) = x^5 + 4x^3 - x^2 + 5$ between $x=0$ and $x=5$ using the trapezium rule, described below:\n",
    "\n",
    "* Fix a natural number $N$, which will function as the number of (equal) partitions of the $x$-axis,\n",
    "* Evaluate $f$ at the edge of each of these intervals, obtaining $N+1$ values of $f(x)$\n",
    "* Join up these $f(x_i)$ using a straight line (making $N$ trapezia),\n",
    "* Calculate the area below the constructed shape.\\\n",
    "\\\n",
    "Note that for the trapezium bounded by $x$-values $x_i$ and $x_{i+1}$, with $x_{i+1} > x_i$ and, without loss of generality, $f(x_{i+1}) > f(x_i)$, its area is (by splitting up into a square with a triangle above):\\\n",
    "$(x_{i+1}-x_i)f(x_i)$ (the square) + $\\frac{1}{2}(x_{i+1}-x_i)(f(x_{i+1})-f(x_i))$ (the triangle) $= \\frac{1}{2}(x_{i+1}-x_i)(f(x_i) + f(x_{i+1}))$\\\n",
    "\\\n",
    "Note that $(x_{i+1}-x_i) = 5/N$, for all $i$, as $x_N - x_0 = 5$,\\\n",
    "\\\n",
    "So the area simplifies to $\\frac{5}{2N}\\sum_{i=0}^{N}(f(x_i)+f(x_{i+1}))$"
   ]
  },
  {
   "cell_type": "markdown",
   "metadata": {},
   "source": [
    "The following code is simply defining the function, as I did above"
   ]
  },
  {
   "cell_type": "code",
   "execution_count": null,
   "metadata": {},
   "outputs": [],
   "source": [
    "def f(x):\n",
    "    return x**5 + 4*x**3 - x**2 + 5"
   ]
  },
  {
   "cell_type": "markdown",
   "metadata": {},
   "source": [
    "In the cell below, define $N = 10$, $x_0 = 0$ (the left bound for the interval) and $x_N = 5$ (the right bound for the interval) "
   ]
  },
  {
   "cell_type": "code",
   "execution_count": null,
   "metadata": {},
   "outputs": [],
   "source": []
  },
  {
   "cell_type": "markdown",
   "metadata": {},
   "source": [
    "The following code block, calculates the the endpoints of each interval, and evaulates $f$ at each"
   ]
  },
  {
   "cell_type": "code",
   "execution_count": null,
   "metadata": {},
   "outputs": [],
   "source": [
    "import numpy as np\n",
    "\n",
    "x = np.linspace(x0,xN,N+1) # Create the endpoints of the intervals\n",
    "y = f(x) # Evaluate f at each of these points\n",
    "y_right = y[1:] # Right endpoints of the intervals - all but first element\n",
    "y_left = y[:-1] # Left endpoints of the intervals - all but last element"
   ]
  },
  {
   "cell_type": "markdown",
   "metadata": {},
   "source": [
    "Now, see if you can calculate the area under the trapezia using the formula $\\frac{5}{2N}\\sum_{i=0}^{N}(f(x_i)+f(x_{i+1}))$ shown above,\n",
    "the following code shows how to get the sum on the right"
   ]
  },
  {
   "cell_type": "code",
   "execution_count": null,
   "metadata": {},
   "outputs": [],
   "source": [
    "import numpy\n",
    "numpy.sum(y_right + y_left)"
   ]
  },
  {
   "cell_type": "code",
   "execution_count": null,
   "metadata": {},
   "outputs": [],
   "source": []
  },
  {
   "cell_type": "markdown",
   "metadata": {},
   "source": [
    "Note that the actual value of the integral is $3212.5$, see if you can get closer to this by increasing the value of N"
   ]
  },
  {
   "cell_type": "code",
   "execution_count": null,
   "metadata": {},
   "outputs": [],
   "source": []
  },
  {
   "cell_type": "markdown",
   "metadata": {
    "id": "5_EaE0RJ-O5d"
   },
   "source": [
    "## Physics"
   ]
  },
  {
   "cell_type": "markdown",
   "metadata": {
    "id": "HVB6MaUlAa-C"
   },
   "source": [
    "The Planck units are units defined in terms of 4 universal constants, namely the gravitational constant $G$, the (reduced) Planck constant $\\hbar$, the speed of light $c$, and the Boltzmann constant $k_B$. \n",
    "\n",
    "\n",
    "\n",
    "Go to https://bit.ly/3k0m3EK. Create three variables called ```G```, ```h_bar```, and ```c``` using the corresponding values given in Table 1 of the Wikipedia page, to *one* significant figure. \n",
    "\n",
    "\n",
    "**NOTES:** \n",
    "*   You should write a number such as $3 \\times 10^{-25}$ as ```3e-25``` here.\n",
    "*   The square root of a variable $a$ can be written ```a**0.5```.\n"
   ]
  },
  {
   "cell_type": "code",
   "execution_count": null,
   "metadata": {
    "id": "RPWfJGIuEcYZ"
   },
   "outputs": [],
   "source": []
  },
  {
   "cell_type": "markdown",
   "metadata": {
    "id": "nDmqumiFEf3t"
   },
   "source": [
    "The derived Planck unit of area is given by $A = \\frac{\\hbar G}{c^3}$. \n",
    "\n",
    "*   Calculate the Planck area using the above formula and the 3 variables you defined, and assign it to a\n",
    "variable called ```area```.\n",
    "*   The Planck length is the square root of the Planck area. Calculate it using ```area```, and assign it to a variable called ```length```.\n",
    "\n"
   ]
  },
  {
   "cell_type": "code",
   "execution_count": null,
   "metadata": {
    "id": "0TSnVermGVUC"
   },
   "outputs": [],
   "source": []
  },
  {
   "cell_type": "markdown",
   "metadata": {
    "id": "o5k_oWYbGeXT"
   },
   "source": [
    "Running the below cell will assign the variable ```length_precise``` to a more precise value of the Planck length."
   ]
  },
  {
   "cell_type": "code",
   "execution_count": null,
   "metadata": {
    "id": "5em3SiFCHB0s"
   },
   "outputs": [],
   "source": []
  },
  {
   "cell_type": "markdown",
   "metadata": {
    "id": "-EJRKU4OHWcq"
   },
   "source": [
    "*   Calculate the difference between ```length_precise``` and ```length```, and assign it to the variable ```diff```.\n",
    "*   Calculate the ratio between ```diff``` and ```length_precise```. Assign this value to a variable called ```frac_diff```.\n",
    "*   Print ```frac_diff``` to five decimal places.\n",
    "\n",
    "**NOTE:** You can use the function ```round()``` to round a float to a given number of decimal places. For example, ```round(x,3)``` will return the float ```x``` rounded to three decimal places. More about other useful functions will be in later sessions.\n",
    "\n",
    "\n",
    "\n"
   ]
  },
  {
   "cell_type": "code",
   "execution_count": null,
   "metadata": {
    "colab": {
     "base_uri": "https://localhost:8080/",
     "height": 34
    },
    "id": "JiEjY6A8Hoza",
    "outputId": "865a7a0b-2ff0-4f78-9a15-f1d9974b351b"
   },
   "outputs": [],
   "source": []
  },
  {
   "cell_type": "markdown",
   "metadata": {
    "id": "3zaN4J6tAM-j"
   },
   "source": [
    "Print the following phrase, replacing the ??? with the correct value using the variables you've defined above: \"The fractional difference, to 5 decimal places, between the calculated Planck constant and the given one is ???. The value of G, to one significant figure, is ???.\"\n",
    "\n",
    "**NOTE:** You can set the ```sep``` parameter in ```print()``` to an empty string, so that Python doesn't add in extra spaces after the number values."
   ]
  },
  {
   "cell_type": "code",
   "execution_count": null,
   "metadata": {
    "id": "PBnRl1ukB08s"
   },
   "outputs": [],
   "source": []
  },
  {
   "cell_type": "markdown",
   "metadata": {
    "id": "C0QZ5OEqJsLb"
   },
   "source": [
    "What are the variable types of ```c``` and ```area```? Print both below to check."
   ]
  },
  {
   "cell_type": "code",
   "execution_count": null,
   "metadata": {
    "id": "W6zUU_3hJ-9k"
   },
   "outputs": [],
   "source": []
  },
  {
   "cell_type": "markdown",
   "metadata": {
    "id": "uVAIWxhXK0bQ"
   },
   "source": [
    "*   Print the two variables below.\n",
    "\n",
    "What happens when you try to convert them to a different variable type? \n",
    "\n",
    "*   Try to convert both to ```int``` and print their new values. Is there any loss of information? Think about what has happened here.\n",
    "\n",
    "**REMINDER:** To convert a data type to ```int```, use the ```int()``` function.\n",
    "\n"
   ]
  },
  {
   "cell_type": "code",
   "execution_count": null,
   "metadata": {},
   "outputs": [],
   "source": []
  },
  {
   "cell_type": "markdown",
   "metadata": {
    "id": "MGkXX8qNM1Kb"
   },
   "source": [
    "## Engineering"
   ]
  },
  {
   "cell_type": "markdown",
   "metadata": {
    "id": "azz84WqVM5zE"
   },
   "source": [
    "In a circuit, three resistors are connected in parallel. They each have a resistance, labelled ```R1```, ```R2```, and ```R3```. For each of these three variables, pick a number greater than 2 and assign it that value.\n",
    "\n",
    "**NOTE:** They can be either integers or floats."
   ]
  },
  {
   "cell_type": "code",
   "execution_count": null,
   "metadata": {
    "id": "Y1cnR0rpbpxI"
   },
   "outputs": [],
   "source": []
  },
  {
   "cell_type": "markdown",
   "metadata": {
    "id": "rDA_lg4MbqIa"
   },
   "source": [
    "The total resistance is given by $\\frac{R_1R_2R_3}{R_1R_2+R_1R_3+R_2R_3}$. \n",
    "\n",
    "*   Assign to a new variable, ```R```, the total resistance due to the three resistances from the first part. \n",
    "*   Print ```R```, rounded to five decimal places.\n",
    "*   Print the variable type of ```R```.\n",
    "\n",
    "**NOTE:** You can use the function ```round()``` to round a float to a given number of decimal places. For example, ```round(x,3)``` will return the float ```x``` rounded to three decimal places. More about other useful functions will be in later sessions."
   ]
  },
  {
   "cell_type": "code",
   "execution_count": null,
   "metadata": {
    "id": "rSXvajmZc9OD"
   },
   "outputs": [],
   "source": []
  },
  {
   "cell_type": "markdown",
   "metadata": {
    "id": "z93bp3arc9xk"
   },
   "source": [
    "In the box below, print the following phrase, with the ??? replaced with the correct values.\n",
    "\n",
    "You should use expressions involving  ```R1```, ```R2```, ```R3```, and/or ```R```, and return these values as ints, and **NOT** floats, hence the \"approximately\". \n",
    "\n",
    "\"The product of the three resistances is around ???, which is greater than their sum, which is around ???. The total resistance when they are connected in parallel is approximately ???.\"\n",
    "\n",
    "**REMINDERS:** \n",
    "*   You can set the ```sep``` parameter in ```print()``` to an empty string, so that Python doesn't add in extra spaces after the number values.\n",
    "*   You can use the ```int()``` function to return a float as an integer."
   ]
  },
  {
   "cell_type": "code",
   "execution_count": null,
   "metadata": {
    "id": "zI8AO8t-dTlZ"
   },
   "outputs": [],
   "source": []
  },
  {
   "cell_type": "markdown",
   "metadata": {},
   "source": [
    "## Economics and Finance"
   ]
  },
  {
   "cell_type": "markdown",
   "metadata": {},
   "source": [
    "The market for Pop! tickets features the following linear demand function:   $Q_D= 500-25P$\n",
    "\n",
    "Where $Q_D$ is the quantity of Pop! tickets demanded by Warwick students at price $P$"
   ]
  },
  {
   "cell_type": "markdown",
   "metadata": {},
   "source": [
    "1.- At $P=£5$ what is the quantity of Pop! tickets demanded? Assign the result to variable `q_1` and 5 to variable `p_1`."
   ]
  },
  {
   "cell_type": "code",
   "execution_count": null,
   "metadata": {},
   "outputs": [],
   "source": []
  },
  {
   "cell_type": "markdown",
   "metadata": {},
   "source": [
    "2.- Since Disco Dave will be playing tonight, the SU has decided to increase the price of tickets to $P=£10$. What is the new quantity demanded? Assign the result to variable `q_2` and 10 to variable `p_2`."
   ]
  },
  {
   "cell_type": "code",
   "execution_count": null,
   "metadata": {},
   "outputs": [],
   "source": []
  },
  {
   "cell_type": "markdown",
   "metadata": {},
   "source": [
    "3.- What was the percentage change in price as the ticket price increased from $P=£5$ to $P=£10$? Assign the result to variable `per_delta_p`."
   ]
  },
  {
   "cell_type": "code",
   "execution_count": null,
   "metadata": {},
   "outputs": [],
   "source": []
  },
  {
   "cell_type": "markdown",
   "metadata": {},
   "source": [
    "4.- What was the percentage change in quantity demanded as the ticket price increased from $P=£5$ to $P=£10$? Assign the result to variable `per_delta_q`."
   ]
  },
  {
   "cell_type": "code",
   "execution_count": null,
   "metadata": {},
   "outputs": [],
   "source": []
  },
  {
   "cell_type": "markdown",
   "metadata": {},
   "source": [
    "5.- Calculate the point price elasticity of demand for Pop! tickets as their price increases from $P=£5$ to $P=£10$. You may want to use the following formula (but feel free to use another equivalent method):\n",
    "\n",
    "$$\\varepsilon_P=\\frac{\\Delta Q_D}{\\Delta P}\\times\\frac{P_1}{Q_{1}}$$\n",
    "\n",
    "Where $\\varepsilon_P$ is the price elasticity of demand for Pop! tickets, $\\Delta Q_D$ is the change in quantity demanded, and $\\Delta P$ is the change in price. Assign the result to variable `price_elasticity`."
   ]
  },
  {
   "cell_type": "code",
   "execution_count": null,
   "metadata": {},
   "outputs": [],
   "source": []
  },
  {
   "cell_type": "markdown",
   "metadata": {},
   "source": [
    "6.- Since the price elasticity of demand is usually negative, we tend to interpret its absolute value. Change the variable `price_elasticity` by making it positive and rounding it to 2 decimal places. Print the following message, replacing [...] with your new value for the price elasticity of demand: \n",
    "\n",
    "*'The point elasticity of demand for Pop! tickets following an increase in price from £5 to £10 is [...]'*"
   ]
  },
  {
   "cell_type": "code",
   "execution_count": null,
   "metadata": {},
   "outputs": [],
   "source": []
  },
  {
   "cell_type": "markdown",
   "metadata": {},
   "source": [
    "7.- Calculate the arc price elasticity of demand for Pop! tickets between prices $P=£5$ and $P=£10$ using the following formula:\n",
    "\n",
    "$$\\varepsilon_{Arc}=\\frac{\\Delta Q_D}{\\Delta P}\\times\\frac{P_1+P_2}{Q_1+Q_2}$$\n",
    "\n",
    "Where $\\varepsilon_{Arc}$ is the price elasticity of demand for Pop! tickets, $\\Delta Q_D$ is the change in quantity demanded, and $\\Delta P$ is the change in price. Assign the result to variable `arc_elasticity`. "
   ]
  },
  {
   "cell_type": "code",
   "execution_count": null,
   "metadata": {},
   "outputs": [],
   "source": []
  },
  {
   "cell_type": "markdown",
   "metadata": {},
   "source": [
    "8.- Change the variable `arc_elasticity` by taking its absolute value and rounding it to 2 decimal places. Print the following message, replacing [...] with your new value for the arc price elasticity of demand: \n",
    "\n",
    "*'The arc elasticity of demand for Pop! tickets following an increase in price from £5 to £10 is [...]'*"
   ]
  },
  {
   "cell_type": "code",
   "execution_count": null,
   "metadata": {},
   "outputs": [],
   "source": []
  },
  {
   "cell_type": "markdown",
   "metadata": {},
   "source": [
    "9.- Are Pop! tickets price elastic or inelastic in denand? Why/why not?"
   ]
  },
  {
   "cell_type": "code",
   "execution_count": null,
   "metadata": {},
   "outputs": [],
   "source": []
  },
  {
   "cell_type": "markdown",
   "metadata": {},
   "source": [
    "## Politics and Social Sciences"
   ]
  },
  {
   "cell_type": "markdown",
   "metadata": {},
   "source": [
    "Go to https://bit.ly/3lKk2wV. <br>By using the 2016 UK Referendum data found on the wikipedia page answear the following questions:"
   ]
  },
  {
   "cell_type": "markdown",
   "metadata": {},
   "source": [
    "Assign the number of votes for leave, remain and invalid votes to variables called <code>leave</code>, <code>remain</code> and <code>invalid</code> respectively."
   ]
  },
  {
   "cell_type": "code",
   "execution_count": null,
   "metadata": {},
   "outputs": [],
   "source": []
  },
  {
   "cell_type": "markdown",
   "metadata": {},
   "source": [
    "- Calculate the total number of votes by adding up the three variables you just created and assign the result to a variable called <code>total</code>\n",
    "- Caluculate the total number of valid votes by adding up the <code>leave</code> and <code>remain</code> variables  and assign the result to a variable called <code>total_valid</code>\n",
    "- Calculate the percentage of votes to leave and remain and assign the results to variables called <code>leave_pct</code> and <code>reamain_pct</code>\n",
    "- Calculate the margin of victory (that is the difference between the number of votes to leave and remain) in number of votes and as the percentage of the total number of valid votes. Assign the result to the variable called <code>margin</code> and <code>margin_pct</code> respectively\n",
    "- What is the percantage difference between those who voted Leave and those who voted Remain? Assign the result to the variable called diff_pct"
   ]
  },
  {
   "cell_type": "code",
   "execution_count": null,
   "metadata": {},
   "outputs": [],
   "source": []
  },
  {
   "cell_type": "markdown",
   "metadata": {},
   "source": [
    "Print out one of the variables that represents a percentage. Of which type it should be? Check if you are correct by printing out it's type. "
   ]
  },
  {
   "cell_type": "code",
   "execution_count": null,
   "metadata": {},
   "outputs": [],
   "source": []
  },
  {
   "cell_type": "markdown",
   "metadata": {},
   "source": [
    "Print out the following text with the summary of results of 2016 UK Referendum using the variables created before.\n",
    "\n",
    "<em>\"On 23 June 2016, the recorded result was that the UK voted to leave the European Union by ???% for Leave to ???% for Remain, a margin of ???%. This corresponded to ??? votes to leave and ??? to remain, a margin of ??? votes.\"</em>\n",
    "\n",
    "<b>HINT:</b> You can change the <code>sep</code> parameter in <code>print()</code> function to be an empty string. That way it will prevent Python from putting spaces between the number and the \"%\" sign when you print multiple objects. \n",
    "\n",
    "<b>EXTRA:</b> to make the numbers nicer to display we can round them using the function <code>round()</code> - more about functions in the next sessions. For a decimal variable <code>x</code>, if we want to round it to 2 decimal places we would use the function <code>round(x,2)</code>"
   ]
  },
  {
   "cell_type": "code",
   "execution_count": null,
   "metadata": {},
   "outputs": [],
   "source": []
  },
  {
   "cell_type": "markdown",
   "metadata": {},
   "source": [
    "<b>BONUS</b> Execute the code below. If you did the previous questions correctly it should output a bar plot for the results of 2016 Referendum."
   ]
  },
  {
   "cell_type": "code",
   "execution_count": null,
   "metadata": {},
   "outputs": [],
   "source": [
    "import matplotlib.pyplot as plt\n",
    "\n",
    "plt.bar(x = ['Leave', 'Remain'], height = [leave_pct, remain_pct], color = [\"C0\", \"C1\"])\n",
    "\n",
    "plt.title(\"2016 National Referendum results\")\n",
    "plt.ylabel(\"Percentage of votes\")\n",
    "\n",
    "plt.show()"
   ]
  },
  {
   "cell_type": "code",
   "execution_count": null,
   "metadata": {},
   "outputs": [],
   "source": []
  }
 ],
 "metadata": {
  "kernelspec": {
   "display_name": "Python 3",
   "language": "python",
   "name": "python3"
  },
  "language_info": {
   "codemirror_mode": {
    "name": "ipython",
    "version": 3
   },
   "file_extension": ".py",
   "mimetype": "text/x-python",
   "name": "python",
   "nbconvert_exporter": "python",
   "pygments_lexer": "ipython3",
   "version": "3.7.6"
  }
 },
 "nbformat": 4,
 "nbformat_minor": 4
}
