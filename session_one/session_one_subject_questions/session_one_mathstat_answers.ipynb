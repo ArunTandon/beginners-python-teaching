{
 "cells": [
  {
   "cell_type": "raw",
   "metadata": {},
   "source": [
    "<a href=\\\"https://colab.research.google.com/github/warwickdatascience/beginners-python/blob/master/session_one/session_one_subject_questions/session_one_mathstat_answers.ipynb\\\" target=\\\"_parent\\\"><img src=\\\"https://colab.research.google.com/assets/colab-badge.svg\\\" alt=\\\"Open In Colab\\\"/></a>"
   ]
  },
  {
   "cell_type": "markdown",
   "metadata": {},
   "source": [
    "# Beginner's Python—Session One Mathematics/Statisics Answers"
   ]
  },
  {
   "cell_type": "markdown",
   "metadata": {},
   "source": [
    "## Annular Areas"
   ]
  },
  {
   "cell_type": "markdown",
   "metadata": {},
   "source": [
    "Create a variable, `pi` storing the value of $\\pi$ to 5 decimal places."
   ]
  },
  {
   "cell_type": "code",
   "execution_count": 13,
   "metadata": {},
   "outputs": [],
   "source": [
    "pi = 3.14159"
   ]
  },
  {
   "cell_type": "markdown",
   "metadata": {},
   "source": [
    "The equation for the area of an annulus is given by\n",
    "\n",
    "$$A = \\pi(R^2-r^2)$$\n",
    "\n",
    "Create variables `R` and `r` with values $4.2$ and $1.7$ respectively. Create a variable `A` storing the corresponding annulus area."
   ]
  },
  {
   "cell_type": "code",
   "execution_count": 14,
   "metadata": {},
   "outputs": [],
   "source": [
    "R = 4.2\n",
    "r = 1.7\n",
    "A = pi * (R**2 - r**2)"
   ]
  },
  {
   "cell_type": "markdown",
   "metadata": {},
   "source": [
    "Print the type of the variable `A`?"
   ]
  },
  {
   "cell_type": "code",
   "execution_count": 15,
   "metadata": {},
   "outputs": [
    {
     "name": "stdout",
     "output_type": "stream",
     "text": [
      "<class 'float'>\n"
     ]
    }
   ],
   "source": [
    "print(type(A))"
   ]
  },
  {
   "cell_type": "markdown",
   "metadata": {},
   "source": [
    "Print the value of `A` as an integer (hint: use the `int()` function)"
   ]
  },
  {
   "cell_type": "code",
   "execution_count": 16,
   "metadata": {},
   "outputs": [
    {
     "name": "stdout",
     "output_type": "stream",
     "text": [
      "46\n"
     ]
    }
   ],
   "source": [
    "print(int(A))"
   ]
  },
  {
   "cell_type": "markdown",
   "metadata": {},
   "source": [
    "## Biased Coins"
   ]
  },
  {
   "cell_type": "markdown",
   "metadata": {},
   "source": [
    "Define variables `n` and `p` with values of your choice to represent a game in which `n` coins are tossed, each having a bias towards heads of `p`."
   ]
  },
  {
   "cell_type": "code",
   "execution_count": 17,
   "metadata": {},
   "outputs": [],
   "source": [
    "n = 10\n",
    "p = 0.6"
   ]
  },
  {
   "cell_type": "markdown",
   "metadata": {},
   "source": [
    "Most of Python's mathematical functionality is not loaded by default. Instead, we can _import_ functions from the maths _module_. In the example below, we import the `factorial()` function (you don't need to do this again) and print the value of $4!$."
   ]
  },
  {
   "cell_type": "code",
   "execution_count": 18,
   "metadata": {},
   "outputs": [
    {
     "name": "stdout",
     "output_type": "stream",
     "text": [
      "24\n"
     ]
    }
   ],
   "source": [
    "from math import factorial\n",
    "print(factorial(4))"
   ]
  },
  {
   "cell_type": "markdown",
   "metadata": {},
   "source": [
    "What is the value of $10!$?"
   ]
  },
  {
   "cell_type": "code",
   "execution_count": 19,
   "metadata": {},
   "outputs": [
    {
     "name": "stdout",
     "output_type": "stream",
     "text": [
      "3628800\n"
     ]
    }
   ],
   "source": [
    "print(factorial(10))"
   ]
  },
  {
   "cell_type": "markdown",
   "metadata": {},
   "source": [
    "The probability of tossing `k` heads in the scenario above is given by the binomial formula,\n",
    "\n",
    "$$\\mathbb{P}(k\\textrm{ heads}) = \\frac{n!}{k!(n-k)!}p^k \\left(1-p\\right)^{n-k}$$\n",
    "\n",
    "Create a variable `k` of your choosing and `p_k` giving the probability of tossing `k` heads."
   ]
  },
  {
   "cell_type": "code",
   "execution_count": 20,
   "metadata": {},
   "outputs": [],
   "source": [
    "k = 8\n",
    "p_k = factorial(n) / (factorial(k) * factorial(n - k)) * p**k * (1-p)**(n-k)"
   ]
  },
  {
   "cell_type": "markdown",
   "metadata": {},
   "source": [
    "Print the following sentence, replacing the '???'s with values:\n",
    "\n",
    "_\"When tossing a coin ??? times, that is biased towards heads with probability ???, the probability of obtaining ??? heads is ???.\"_\n",
    "\n",
    "**NOTE:** By default, `print` will place spaces between each input. If we wish to have the numbers output next to the full stops/commas without a space, we'll need to use string concatenation. For example `str(42) + \".\"` will give `42.`. Notice that we have to convert the number to a string first using `str` else we will recieve a type error."
   ]
  },
  {
   "cell_type": "code",
   "execution_count": 22,
   "metadata": {},
   "outputs": [
    {
     "name": "stdout",
     "output_type": "stream",
     "text": [
      "When tossing a coin 10 times, that is biased towards heads with probability 0.6, the probability of obtaining 8 heads is 0.12093235199999998.\n"
     ]
    }
   ],
   "source": [
    "print(\"When tossing a coin\", n, \"times, that is biased towards heads with probability\",\n",
    "      str(p) + \",\", \"the probability of obtaining\", k, \"heads is\", str(p_k) + \".\")"
   ]
  },
  {
   "cell_type": "markdown",
   "metadata": {},
   "source": [
    "## It's All Downhill From Here"
   ]
  },
  {
   "cell_type": "markdown",
   "metadata": {},
   "source": [
    "The Newton-Raphson method is a numerical method used for finding the root of a function by moving down the tangent line of the curve. We start with an initial guess `x` and then update this using the map,\n",
    "\n",
    "$$\n",
    "x \\rightarrow x - \\frac{f(x)}{f'(x)}\n",
    "$$\n",
    "\n",
    "where $f$ is the function in question and $f'$ its derivative."
   ]
  },
  {
   "cell_type": "markdown",
   "metadata": {},
   "source": [
    "Create a variable `x` with initial value $2.3$."
   ]
  },
  {
   "cell_type": "code",
   "execution_count": 23,
   "metadata": {},
   "outputs": [],
   "source": [
    "x = 2.3"
   ]
  },
  {
   "cell_type": "markdown",
   "metadata": {},
   "source": [
    "Write code to run one step of the Newton-Raphson method for $f(x) = (x-2)(x+1)$, overwriting `x` and printing the new value. Run this cell repeatedly until the solution coverges."
   ]
  },
  {
   "cell_type": "code",
   "execution_count": 76,
   "metadata": {},
   "outputs": [
    {
     "name": "stdout",
     "output_type": "stream",
     "text": [
      "2.0\n"
     ]
    }
   ],
   "source": [
    "x = x - (x - 2) * (x + 1) / (2*x - x)\n",
    "print(x)"
   ]
  }
 ],
 "metadata": {
  "kernelspec": {
   "display_name": "Python 3",
   "language": "python",
   "name": "python3"
  },
  "language_info": {
   "codemirror_mode": {
    "name": "ipython",
    "version": 3
   },
   "file_extension": ".py",
   "mimetype": "text/x-python",
   "name": "python",
   "nbconvert_exporter": "python",
   "pygments_lexer": "ipython3",
   "version": "3.7.6"
  }
 },
 "nbformat": 4,
 "nbformat_minor": 4
}
