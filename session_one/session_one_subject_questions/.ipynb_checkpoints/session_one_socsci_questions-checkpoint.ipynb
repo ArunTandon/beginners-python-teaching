{
 "cells": [
  {
   "cell_type": "raw",
   "metadata": {},
   "source": [
    "<a href=\\\"https://colab.research.google.com/github/warwickdatascience/beginners-python/blob/master/session_one/session_one_subject_questions/session_one_socsci_questions.ipynb\\\" target=\\\"_parent\\\"><img src=\\\"https://colab.research.google.com/assets/colab-badge.svg\\\" alt=\\\"Open In Colab\\\"/></a>"
   ]
  },
  {
   "cell_type": "markdown",
   "metadata": {},
   "source": [
    "# Beginner's Python—Session One Politics/Social Sciences Questions"
   ]
  },
  {
   "cell_type": "markdown",
   "metadata": {},
   "source": [
    "## Should I Stay or Should I Go?"
   ]
  },
  {
   "cell_type": "markdown",
   "metadata": {},
   "source": [
    "Go to https://bit.ly/3lKk2wV. By using the 2016 UK Referendum data found on the Wikipedia page answer the following questions."
   ]
  },
  {
   "cell_type": "markdown",
   "metadata": {},
   "source": [
    "Assign the number of votes for leave, remain and invalid votes to variables called `leave`, `remain` and `invalid`, respectively."
   ]
  },
  {
   "cell_type": "code",
   "execution_count": null,
   "metadata": {},
   "outputs": [],
   "source": []
  },
  {
   "cell_type": "markdown",
   "metadata": {},
   "source": [
    "Calculate the total number of votes by adding up the three variables you just created and assign the result to a variable called `total`. Calculate the total number of valid votes by adding up the `leave` and `remain` variables and assign the result to a variable called `total_valid`."
   ]
  },
  {
   "cell_type": "code",
   "execution_count": null,
   "metadata": {},
   "outputs": [],
   "source": []
  },
  {
   "cell_type": "markdown",
   "metadata": {},
   "source": [
    "Calculate the percentage of total votes to leave and remain and assign the results to variables called `leave_pct` and `remain_pct`. Use these to print the following statement with the values filled in. Do not worry about rounding your answers at this point.\n",
    "\n",
    "`\"Leave Vote: ???%\" | Remain Vote: ???%\"`\n",
    "\n",
    "(Hint: to add a percent symbol to a number, you'll first have to convert it to a string. I.e. `str(leave_pct) + '%'`)"
   ]
  },
  {
   "cell_type": "code",
   "execution_count": null,
   "metadata": {},
   "outputs": [],
   "source": []
  },
  {
   "cell_type": "markdown",
   "metadata": {},
   "source": [
    "Calculate the margin of victory (that is the difference between the number of votes to leave and remain) in number of votes and as the percentage of the total number of valid votes. Assign the result to the variable called `margin` and `margin_pct`, respectively."
   ]
  },
  {
   "cell_type": "code",
   "execution_count": null,
   "metadata": {},
   "outputs": [],
   "source": []
  },
  {
   "cell_type": "markdown",
   "metadata": {},
   "source": [
    "Print out one of the variables that represents a percentage. Of which type it should be? Check if you are correct by printing out its type. "
   ]
  },
  {
   "cell_type": "markdown",
   "metadata": {},
   "source": []
  },
  {
   "cell_type": "code",
   "execution_count": null,
   "metadata": {},
   "outputs": [],
   "source": []
  },
  {
   "cell_type": "markdown",
   "metadata": {},
   "source": [
    "Print out the following text with the summary of results of 2016 UK Referendum using the variables created before.\n",
    "\n",
    "_\"On 23 June 2016, the recorded result was that the UK voted to leave the European Union by ???% for Leave to ???% for Remain, a margin of ???%. This corresponded to ??? votes to leave and ??? to remain, a margin of ??? votes.\"_\n",
    "\n",
    "To make the numbers nicer to display, we can round them using the function `round()`. This takes two inputs, the first being the number to round, and the second the number of decimal places to round to. For example `round(x, 2)` will round the variable `x` to 2dp."
   ]
  },
  {
   "cell_type": "code",
   "execution_count": null,
   "metadata": {},
   "outputs": [],
   "source": []
  },
  {
   "cell_type": "markdown",
   "metadata": {},
   "source": [
    "Run the code below. If you did the previous questions correctly it should output a bar plot for the results of 2016 Referendum."
   ]
  },
  {
   "cell_type": "code",
   "execution_count": null,
   "metadata": {},
   "outputs": [],
   "source": [
    "import matplotlib.pyplot as plt\n",
    "\n",
    "plt.bar(x=['Leave', 'Remain'],\n",
    "        height=[leave_pct, remain_pct],\n",
    "        color=[\"C0\", \"C1\"])\n",
    "\n",
    "plt.title(\"2016 National Referendum results\")\n",
    "plt.ylabel(\"Percentage of votes\")\n",
    "\n",
    "plt.show()"
   ]
  },
  {
   "cell_type": "markdown",
   "metadata": {},
   "source": [
    "### Data Standardisation"
   ]
  },
  {
   "cell_type": "markdown",
   "metadata": {},
   "source": [
    "Suppose in an experiment involving 5 participants, you obtain the measurements $3.1, 5.2, 4.7, 1.9, 2.4$. You would like to standardise these results so they have mean zero and variance of one."
   ]
  },
  {
   "cell_type": "markdown",
   "metadata": {},
   "source": [
    "First, create variables `x_1`, ..., `x_5` to store these values. "
   ]
  },
  {
   "cell_type": "code",
   "execution_count": null,
   "metadata": {},
   "outputs": [],
   "source": []
  },
  {
   "cell_type": "markdown",
   "metadata": {},
   "source": [
    "Calculate the mean of this data by adding the measurements and dividing by 5. Store this in the variable `mu`."
   ]
  },
  {
   "cell_type": "code",
   "execution_count": null,
   "metadata": {},
   "outputs": [],
   "source": []
  },
  {
   "cell_type": "markdown",
   "metadata": {},
   "source": [
    "Run the following code to calculate the standard deviation of the data."
   ]
  },
  {
   "cell_type": "code",
   "execution_count": null,
   "metadata": {},
   "outputs": [],
   "source": [
    "sigma = ((x_1 - mu)**2 + (x_2 - mu)**2 + (x_3 - mu)**2 + (x_4 - mu)**2 + (x_5 - mu)**2) / 5"
   ]
  },
  {
   "cell_type": "markdown",
   "metadata": {},
   "source": [
    "Create variables `z_1`, ..., `z_5` by taking each `x_{i}`, subtracting `mu` and dividing by `sigma`. These samples will now be standardised."
   ]
  },
  {
   "cell_type": "code",
   "execution_count": null,
   "metadata": {},
   "outputs": [],
   "source": []
  }
 ],
 "metadata": {
  "kernelspec": {
   "display_name": "Python 3",
   "language": "python",
   "name": "python3"
  },
  "language_info": {
   "codemirror_mode": {
    "name": "ipython",
    "version": 3
   },
   "file_extension": ".py",
   "mimetype": "text/x-python",
   "name": "python",
   "nbconvert_exporter": "python",
   "pygments_lexer": "ipython3",
   "version": "3.7.6"
  }
 },
 "nbformat": 4,
 "nbformat_minor": 4
}
