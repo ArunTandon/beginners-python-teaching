{
 "cells": [
  {
   "cell_type": "raw",
   "metadata": {},
   "source": [
    "<a href=\\\"https://colab.research.google.com/github/warwickdatascience/beginners-python/blob/master/session_one/session_one_subject_questions/session_one_biochem_answers.ipynb\\\" target=\\\"_parent\\\"><img src=\\\"https://colab.research.google.com/assets/colab-badge.svg\\\" alt=\\\"Open In Colab\\\"/></a>"
   ]
  },
  {
   "cell_type": "markdown",
   "metadata": {},
   "source": [
    "# Beginner's Python—Session One Biochemistry Answers"
   ]
  },
  {
   "cell_type": "markdown",
   "metadata": {},
   "source": [
    "## DBE calculator"
   ]
  },
  {
   "cell_type": "markdown",
   "metadata": {},
   "source": [
    "A **double bond equivalent (DBE)** is equal to the number of unsaturations present in a organic molecule. In this context it includes the total number of double bonds or ring systems within a molecule. The equation to calculate this value is shown below."
   ]
  },
  {
   "cell_type": "markdown",
   "metadata": {},
   "source": [
    "$$\\text{DBE} = c + 1 - \\frac{h}{2} - \\frac{x}{2} + \\frac{n}{2}     $$"
   ]
  },
  {
   "cell_type": "markdown",
   "metadata": {},
   "source": [
    "$$ c = \\text{no. of carbon atoms in the molecule}  \\\\\n",
    "h = \\text{no. of hydrogen atoms in the molecule}  \\\\\n",
    "x = \\text{no. of halogen (Cl, Br, I or F) atoms in the molecule} \\\\\n",
    "n = \\text{no. of nitrogen atoms in the molecule}$$"
   ]
  },
  {
   "cell_type": "markdown",
   "metadata": {},
   "source": [
    "For the molecule below, create variables `c`, `h`, `x` and `n` containing the values corresponding to the formula above. \n",
    "\n"
   ]
  },
  {
   "cell_type": "markdown",
   "metadata": {},
   "source": [
    "<center><img src=\"https://raw.githubusercontent.com/warwickdatascience/beginners-python/master/session_one/session_one_subject_questions/resources/molecule.png\" width=\"200\" align=\"center\"/> "
   ]
  },
  {
   "cell_type": "code",
   "execution_count": 2,
   "metadata": {},
   "outputs": [],
   "source": [
    "c = 10\n",
    "h = 9\n",
    "x = 1\n",
    "n = 0"
   ]
  },
  {
   "cell_type": "markdown",
   "metadata": {},
   "source": [
    "Use the variables defined above to create a new variable, `dbe`, using the formula above. Compare this result with one obtained by counting the double bonds and rings within the molecule. "
   ]
  },
  {
   "cell_type": "code",
   "execution_count": 4,
   "metadata": {},
   "outputs": [
    {
     "name": "stdout",
     "output_type": "stream",
     "text": [
      "There are 6.0 DBE equivalents\n"
     ]
    }
   ],
   "source": [
    "dbe = c + 1 - (h/2) - (x/2) + (n/2)\n",
    "print(\"There are\", dbe, \"DBE equivalents\")"
   ]
  },
  {
   "cell_type": "markdown",
   "metadata": {},
   "source": [
    "Convert the value of `dbe` into an integer using the `int()` function."
   ]
  },
  {
   "cell_type": "code",
   "execution_count": 5,
   "metadata": {},
   "outputs": [
    {
     "name": "stdout",
     "output_type": "stream",
     "text": [
      "6\n"
     ]
    }
   ],
   "source": [
    "print(int(dbe))"
   ]
  },
  {
   "cell_type": "markdown",
   "metadata": {},
   "source": [
    "## Determining Protein Composition of Enzymes"
   ]
  },
  {
   "cell_type": "markdown",
   "metadata": {},
   "source": [
    "Proteins are crucial for the existence of life as we know it, and the most important of these are **enzymes**. Amino acids bind together side-by-side, forming the basis of all proteins.\n",
    "\n",
    "Below is an example of a simple protein, each <span style=\"color:#FF200F\">**c**</span><span style=\"color:#FF820F\">**o**</span><span style=\"color:#FFC80F\">**l**</span><span style=\"color:#A2F80F\">**o**</span><span style=\"color:#4682E2\">**u**</span><span style=\"color:#3B2FCE\">**r**</span> representing a different amino acid."
   ]
  },
  {
   "cell_type": "markdown",
   "metadata": {},
   "source": [
    "<center><img src=\"https://raw.githubusercontent.com/warwickdatascience/beginners-python/master/session_one/session_one_subject_questions/resources/aa_chain_edited.png\" width=\"600\" align=\"center\"/> "
   ]
  },
  {
   "cell_type": "markdown",
   "metadata": {},
   "source": [
    "The enzyme **CrmG** is a transaminase with an amino acid length of **523 amino acids.** Its sequence is below."
   ]
  },
  {
   "cell_type": "markdown",
   "metadata": {},
   "source": [
    "```MTHPSGEPVYADAVLNGWLTSMGLGVEYVRAEGNTVYYLDDEGREVPVLDHACGFGSLIFGHNHP\n",
    "EIIAHAKAALDAGTVVHAQLSRQPRANQISRILNDIMRRETGRDDRYNAIFANSGAEANEICMKH\n",
    "AELERQERITALFAEIDAELDTAREALTTGTATLDTASLPLVGGGAGDVDGVIADIHRHNDERRA\n",
    "ERPLFLTLDGSFHGKLVGSIQLTQNEPWRTPFTALSSPARFLPADEPELIGKIVEDERRSVLTLS\n",
    "LDKDTVRVVERDFPVVAAIFVEPVRGGSGMKTVTPELAEELHRLRDTLGCPLVVDEVQTGIGRTG\n",
    "AFFGSALLGIRGDYYTLAKAIGGGIVKNSVALIRQDRFLPAMEVIHSSTFAKDGLSASIALKVLE\n",
    "MVEADGGRVYQRVRERGQRLEAMLESVRADHSDVVSAVWGTGLMLALELRDQSNATSQAIREKAA\n",
    "HGFLGYVLAGFLLREHHIRVLPAGPRSGFLRFSPSLYITDEEIDRTETALRSLFTALRDQDGDRLVLS```"
   ]
  },
  {
   "cell_type": "markdown",
   "metadata": {},
   "source": [
    "Each amino acid is represented by a unique single letter code (e.g. **M** represents the amino acid Methionine)."
   ]
  },
  {
   "cell_type": "markdown",
   "metadata": {},
   "source": [
    "When assigning a string to a variable, the `.count('')` method (we'll learn more about methods later) can be used to numerate the total number of a specific character in the string. An example is shown below."
   ]
  },
  {
   "cell_type": "code",
   "execution_count": 6,
   "metadata": {},
   "outputs": [
    {
     "name": "stdout",
     "output_type": "stream",
     "text": [
      "There are 45 arginines, 3 cysteines and 47 glycines\n"
     ]
    }
   ],
   "source": [
    "# Input crmg's amino acid sequence as a string\n",
    "crmg = \"MTHPSGEPVYADAVLNGWLTSMGLGVEYVRAEGNTVYYLDDEGREVPVLDHACGFGSLIFGHNHPEIIAHAKAALDAGTVVHAQLSRQPRANQISRILNDIMRRETGRDDRYNAIFANSGAEANEICMKHAELERQERITALFAEIDAELDTAREALTTGTATLDTASLPLVGGGAGDVDGVIADIHRHNDERRAERPLFLTLDGSFHGKLVGSIQLTQNEPWRTPFTALSSPARFLPADEPELIGKIVEDERRSVLTLSLDKDTVRVVERDFPVVAAIFVEPVRGGSGMKTVTPELAEELHRLRDTLGCPLVVDEVQTGIGRTGAFFGSALLGIRGDYYTLAKAIGGGIVKNSVALIRQDRFLPAMEVIHSSTFAKDGLSASIALKVLEMVEADGGRVYQRVRERGQRLEAMLESVRADHSDVVSAVWGTGLMLALELRDQSNATSQAIREKAAHGFLGYVLAGFLLREHHIRVLPAGPRSGFLRFSPSLYITDEEIDRTETALRSLFTALRDQDGDRLVLS\"\n",
    "\n",
    "# Count the occurences of three amino acids\n",
    "arginine_count = crmg.count('R')\n",
    "cysteine_count = crmg.count('C')\n",
    "glycine_count = crmg.count('G')\n",
    "\n",
    "# Print the results\n",
    "print(\"There are\", arginine_count, \"arginines,\",\n",
    "      cysteine_count, \"cysteines and\",\n",
    "      glycine_count, \"glycines\" )"
   ]
  },
  {
   "cell_type": "markdown",
   "metadata": {},
   "source": [
    "Calculate the total number of lysine's **(K)**, serine's **(S)** and alanine's **(A)** in the enzyme CrmG using the `.count` method, as shown above. Once the above code cell has been run, it will be possible to use the already defined variable `crmg` in your code without re-entering it."
   ]
  },
  {
   "cell_type": "code",
   "execution_count": 7,
   "metadata": {},
   "outputs": [
    {
     "name": "stdout",
     "output_type": "stream",
     "text": [
      "There are 11 lysines, 30 serines and 54 alanines\n"
     ]
    }
   ],
   "source": [
    "lysine_count = crmg.count('K')\n",
    "serine_count = crmg.count('S')\n",
    "alanine_count = crmg.count('A')\n",
    "\n",
    "print(\"There are\", lysine_count, \"lysines,\",\n",
    "      serine_count, \"serines and\",\n",
    "      alanine_count, \"alanines\" )"
   ]
  },
  {
   "cell_type": "markdown",
   "metadata": {},
   "source": [
    " Remember, case matters in Python. Does the counter work the same counting `.count('k')` as it does with `.count('K')`?"
   ]
  },
  {
   "cell_type": "code",
   "execution_count": 8,
   "metadata": {},
   "outputs": [
    {
     "name": "stdout",
     "output_type": "stream",
     "text": [
      "0\n"
     ]
    }
   ],
   "source": [
    "print(crmg.count('k'))"
   ]
  },
  {
   "cell_type": "markdown",
   "metadata": {},
   "source": [
    "We obtain a count of zero since there aren't any 'k's, just 'K's."
   ]
  },
  {
   "cell_type": "markdown",
   "metadata": {},
   "source": [
    "What type of variable is produced when `.count('')` is used? Check using  `type()`"
   ]
  },
  {
   "cell_type": "code",
   "execution_count": 9,
   "metadata": {},
   "outputs": [
    {
     "name": "stdout",
     "output_type": "stream",
     "text": [
      "<class 'int'>\n"
     ]
    }
   ],
   "source": [
    "print(type(lysine_count))"
   ]
  },
  {
   "cell_type": "markdown",
   "metadata": {},
   "source": [
    "## Percentage Make-up"
   ]
  },
  {
   "cell_type": "markdown",
   "metadata": {},
   "source": [
    "Convert the amino acid totals for Lysine **(K)**, Serine **(S)** and Alanine **(A)** into a percentage make-up of the CrmG protein and print the results."
   ]
  },
  {
   "cell_type": "markdown",
   "metadata": {},
   "source": [
    "**NOTE:** There are **523** amino acids in CrmG"
   ]
  },
  {
   "cell_type": "code",
   "execution_count": 10,
   "metadata": {},
   "outputs": [
    {
     "name": "stdout",
     "output_type": "stream",
     "text": [
      "Lysine Percentage: 2.1032504780114722\n",
      "Serine Percentage: 5.736137667304015\n",
      "Alanine Percentage: 10.325047801147228\n"
     ]
    }
   ],
   "source": [
    "k_percent = (lysine_count / 523) * 100\n",
    "s_percent = (serine_count / 523) * 100\n",
    "a_percent = (alanine_count / 523) * 100\n",
    "\n",
    "print(\"Lysine Percentage:\", k_percent)\n",
    "print(\"Serine Percentage:\", s_percent)\n",
    "print(\"Alanine Percentage:\", a_percent)"
   ]
  },
  {
   "cell_type": "markdown",
   "metadata": {},
   "source": [
    "## What Does the CrmG Enzyme Look Like?"
   ]
  },
  {
   "cell_type": "markdown",
   "metadata": {},
   "source": [
    "We can visualisae the structure of the CrmG protein using a tool called PyMOL, which was in turn developed using Python. The amino acid chain is depicted in <span style=\"color:#3B2FCE\">**purple**</span>, and the water molecules that surround it in <span style=\"color:#FFA41B\">**yellow**</span>. The small compund in <span style=\"color:#1FED2C\">**green**</span> (centre) is the coezyme PLP."
   ]
  },
  {
   "cell_type": "markdown",
   "metadata": {},
   "source": [
    "<center><img src=\"https://raw.githubusercontent.com/warwickdatascience/beginners-python/master/session_one/session_one_subject_questions/resources/crmg_qual.png\" width=\"800\" align=\"center\"/> "
   ]
  }
 ],
 "metadata": {
  "kernelspec": {
   "display_name": "Python 3",
   "language": "python",
   "name": "python3"
  },
  "language_info": {
   "codemirror_mode": {
    "name": "ipython",
    "version": 3
   },
   "file_extension": ".py",
   "mimetype": "text/x-python",
   "name": "python",
   "nbconvert_exporter": "python",
   "pygments_lexer": "ipython3",
   "version": "3.7.6"
  }
 },
 "nbformat": 4,
 "nbformat_minor": 4
}
