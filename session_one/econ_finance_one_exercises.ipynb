{
 "cells": [
  {
   "cell_type": "markdown",
   "metadata": {},
   "source": [
    "# Session 1: Economics and Finance solutions\n",
    "---"
   ]
  },
  {
   "cell_type": "markdown",
   "metadata": {},
   "source": [
    "## Question 1:"
   ]
  },
  {
   "cell_type": "markdown",
   "metadata": {},
   "source": [
    "The market for Pop! tickets features the following linear demand function:   $Q_D= 500-25P$\n",
    "\n",
    "Where $Q_D$ is the quantity of Pop! tickets demanded by Warwick students at price $P$"
   ]
  },
  {
   "cell_type": "markdown",
   "metadata": {},
   "source": [
    "1.- At $P=£5$ what is the quantity of Pop! tickets demanded? Assign the result to variable `q_1` and 5 to variable `p_1`."
   ]
  },
  {
   "cell_type": "code",
   "execution_count": null,
   "metadata": {},
   "outputs": [],
   "source": []
  },
  {
   "cell_type": "markdown",
   "metadata": {},
   "source": [
    "2.- Since Disco Dave will be playing tonight, the SU has decided to increase the price of tickets to $P=£10$. What is the new quantity demanded? Assign the result to variable `q_2` and 10 to variable `p_2`."
   ]
  },
  {
   "cell_type": "code",
   "execution_count": null,
   "metadata": {},
   "outputs": [],
   "source": []
  },
  {
   "cell_type": "markdown",
   "metadata": {},
   "source": [
    "3.- What was the percentage change in price as the ticket price increased from $P=£5$ to $P=£10$? Assign the result to variable `per_delta_p`."
   ]
  },
  {
   "cell_type": "code",
   "execution_count": null,
   "metadata": {},
   "outputs": [],
   "source": []
  },
  {
   "cell_type": "markdown",
   "metadata": {},
   "source": [
    "4.- What was the percentage change in quantity demanded as the ticket price increased from $P=£5$ to $P=£10$? Assign the result to variable `per_delta_q`."
   ]
  },
  {
   "cell_type": "code",
   "execution_count": null,
   "metadata": {},
   "outputs": [],
   "source": []
  },
  {
   "cell_type": "markdown",
   "metadata": {},
   "source": [
    "5.- Calculate the point price elasticity of demand for Pop! tickets as their price increases from $P=£5$ to $P=£10$. You may want to use the following formula (but feel free to use another equivalent method):\n",
    "\n",
    "$$\\varepsilon_P=\\frac{\\Delta Q_D}{\\Delta P}\\times\\frac{P_1}{Q_{1}}$$\n",
    "\n",
    "Where $\\varepsilon_P$ is the price elasticity of demand for Pop! tickets, $\\Delta Q_D$ is the change in quantity demanded, and $\\Delta P$ is the change in price. Assign the result to variable `price_elasticity`."
   ]
  },
  {
   "cell_type": "code",
   "execution_count": null,
   "metadata": {},
   "outputs": [],
   "source": []
  },
  {
   "cell_type": "markdown",
   "metadata": {},
   "source": [
    "6.- Since the price elasticity of demand is usually negative, we tend to interpret its absolute value. Change the variable `price_elasticity` by making it positive and rounding it to 2 decimal places. Print the following message, replacing [...] with your new value for the price elasticity of demand: \n",
    "\n",
    "*'The point elasticity of demand for Pop! tickets following an increase in price from £5 to £10 is [...]'*"
   ]
  },
  {
   "cell_type": "code",
   "execution_count": null,
   "metadata": {},
   "outputs": [],
   "source": []
  },
  {
   "cell_type": "markdown",
   "metadata": {},
   "source": [
    "7.- Calculate the arc price elasticity of demand for Pop! tickets between prices $P=£5$ and $P=£10$ using the following formula:\n",
    "\n",
    "$$\\varepsilon_{Arc}=\\frac{\\Delta Q_D}{\\Delta P}\\times\\frac{P_1+P_2}{Q_1+Q_2}$$\n",
    "\n",
    "Where $\\varepsilon_{Arc}$ is the price elasticity of demand for Pop! tickets, $\\Delta Q_D$ is the change in quantity demanded, and $\\Delta P$ is the change in price. Assign the result to variable `arc_elasticity`. "
   ]
  },
  {
   "cell_type": "code",
   "execution_count": null,
   "metadata": {},
   "outputs": [],
   "source": []
  },
  {
   "cell_type": "markdown",
   "metadata": {},
   "source": [
    "8.- Change the variable `arc_elasticity` by taking its absolute value and rounding it to 2 decimal places. Print the following message, replacing [...] with your new value for the arc price elasticity of demand: \n",
    "\n",
    "*'The arc elasticity of demand for Pop! tickets following an increase in price from £5 to £10 is [...]'*"
   ]
  },
  {
   "cell_type": "code",
   "execution_count": null,
   "metadata": {},
   "outputs": [],
   "source": []
  },
  {
   "cell_type": "markdown",
   "metadata": {},
   "source": [
    "9.- Are Pop! tickets price elastic or inelastic in denand? Why/why not?"
   ]
  }
 ],
 "metadata": {
  "kernelspec": {
   "display_name": "Python 3",
   "language": "python",
   "name": "python3"
  },
  "language_info": {
   "codemirror_mode": {
    "name": "ipython",
    "version": 3
   },
   "file_extension": ".py",
   "mimetype": "text/x-python",
   "name": "python",
   "nbconvert_exporter": "python",
   "pygments_lexer": "ipython3",
   "version": "3.7.6"
  }
 },
 "nbformat": 4,
 "nbformat_minor": 4
}
