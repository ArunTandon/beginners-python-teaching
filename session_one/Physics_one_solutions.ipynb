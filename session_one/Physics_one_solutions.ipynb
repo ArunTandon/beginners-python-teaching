{
  "nbformat": 4,
  "nbformat_minor": 0,
  "metadata": {
    "colab": {
      "name": "Physics_one_solutions.ipynb",
      "provenance": [],
      "collapsed_sections": []
    },
    "kernelspec": {
      "name": "python3",
      "display_name": "Python 3"
    }
  },
  "cells": [
    {
      "cell_type": "markdown",
      "metadata": {
        "id": "5_EaE0RJ-O5d"
      },
      "source": [
        "## Physics"
      ]
    },
    {
      "cell_type": "markdown",
      "metadata": {
        "id": "HVB6MaUlAa-C"
      },
      "source": [
        "The Planck units are units defined in terms of 4 universal constants, namely the gravitational constant $G$, the (reduced) Planck constant $\\hbar$, the speed of light $c$, and the Boltzmann constant $k_B$. \n",
        "\n",
        "\n",
        "\n",
        "Go to https://bit.ly/3k0m3EK. Create three variables called ```G```, ```h_bar```, and ```c``` using the corresponding values given in Table 1 of the Wikipedia page, to *one* significant figure. \n",
        "\n",
        "\n",
        "**NOTES:** \n",
        "*   You should write a number such as $3 \\times 10^{-25}$ as ```3e-25``` here.\n",
        "*   The square root of a variable $a$ can be written ```a**0.5```.\n"
      ]
    },
    {
      "cell_type": "code",
      "metadata": {
        "id": "RPWfJGIuEcYZ"
      },
      "source": [
        "G = 7e-11\n",
        "h_bar = 1e-34\n",
        "c = 3e8"
      ],
      "execution_count": 2,
      "outputs": []
    },
    {
      "cell_type": "markdown",
      "metadata": {
        "id": "nDmqumiFEf3t"
      },
      "source": [
        "The derived Planck unit of area is given by $A = \\frac{\\hbar G}{c^3}$. \n",
        "\n",
        "*   Calculate the Planck area using the above formula and the 3 variables you defined, and assign it to a\n",
        "variable called ```area```.\n",
        "*   The Planck length is the square root of the Planck area. Calculate it using ```area```, and assign it to a variable called ```length```.\n",
        "\n"
      ]
    },
    {
      "cell_type": "code",
      "metadata": {
        "id": "0TSnVermGVUC"
      },
      "source": [
        "area = h_bar*G / c**3\n",
        "length = area**0.5"
      ],
      "execution_count": 3,
      "outputs": []
    },
    {
      "cell_type": "markdown",
      "metadata": {
        "id": "o5k_oWYbGeXT"
      },
      "source": [
        "Running the below cell will assign the variable ```length_precise``` to a more precise value of the Planck length."
      ]
    },
    {
      "cell_type": "code",
      "metadata": {
        "id": "5em3SiFCHB0s"
      },
      "source": [
        "length_precise = 1.616255e-35"
      ],
      "execution_count": 4,
      "outputs": []
    },
    {
      "cell_type": "markdown",
      "metadata": {
        "id": "-EJRKU4OHWcq"
      },
      "source": [
        "*   Calculate the difference between ```length_precise``` and ```length```, and assign it to the variable ```diff```.\n",
        "*   Calculate the ratio between ```diff``` and ```length_precise```. Assign this value to a variable called ```frac_diff```.\n",
        "*   Print ```frac_diff``` to five decimal places.\n",
        "\n",
        "**NOTE:** You can use the function ```round()``` to round a float to a given number of decimal places. For example, ```round(x,3)``` will return the float ```x``` rounded to three decimal places. More about other useful functions will be in later sessions.\n",
        "\n",
        "\n",
        "\n"
      ]
    },
    {
      "cell_type": "code",
      "metadata": {
        "id": "JiEjY6A8Hoza",
        "outputId": "22e4f632-05b7-4fc2-be0d-19e2c7b78806",
        "colab": {
          "base_uri": "https://localhost:8080/",
          "height": 34
        }
      },
      "source": [
        "diff=length_precise-length\n",
        "frac_diff = diff / length_precise\n",
        "print(round(frac_diff,5))"
      ],
      "execution_count": 5,
      "outputs": [
        {
          "output_type": "stream",
          "text": [
            "0.00378\n"
          ],
          "name": "stdout"
        }
      ]
    },
    {
      "cell_type": "markdown",
      "metadata": {
        "id": "3zaN4J6tAM-j"
      },
      "source": [
        "Print the following phrase, replacing the ??? with the correct value using the variables you've defined above: \"The fractional difference, to 5 decimal places, between the calculated Planck constant and the given one is ???. The value of G, to one significant figure, is ???.\"\n",
        "\n",
        "**NOTE:** You can set the ```sep``` parameter in ```print()``` to an empty string, so that Python doesn't add in extra spaces after the number values."
      ]
    },
    {
      "cell_type": "code",
      "metadata": {
        "id": "PBnRl1ukB08s",
        "outputId": "c7bd2a9a-ab06-4e56-802d-771ee01dfe39",
        "colab": {
          "base_uri": "https://localhost:8080/",
          "height": 54
        }
      },
      "source": [
        "print(\"The fractional difference, to 5 decimal places, between the calculated Planck constant and the given one is \", frac_diff, \". The value of G, to one significant figure, is \", G, \".\", sep=\"\")"
      ],
      "execution_count": 6,
      "outputs": [
        {
          "output_type": "stream",
          "text": [
            "The fractional difference, to 5 decimal places, between the calculated Planck constant and the given one is 0.0037754118014630654. The value of G, to one significant figure, is 7e-11.\n"
          ],
          "name": "stdout"
        }
      ]
    },
    {
      "cell_type": "markdown",
      "metadata": {
        "id": "C0QZ5OEqJsLb"
      },
      "source": [
        "What are the variable types of ```c``` and ```area```? Print both below to check."
      ]
    },
    {
      "cell_type": "code",
      "metadata": {
        "id": "W6zUU_3hJ-9k",
        "outputId": "4d9db6fa-0b15-402c-e3fa-5f8827b9111c",
        "colab": {
          "base_uri": "https://localhost:8080/",
          "height": 51
        }
      },
      "source": [
        "print(type(c))\n",
        "print(type(area))"
      ],
      "execution_count": null,
      "outputs": [
        {
          "output_type": "stream",
          "text": [
            "<class 'float'>\n",
            "<class 'float'>\n"
          ],
          "name": "stdout"
        }
      ]
    },
    {
      "cell_type": "markdown",
      "metadata": {
        "id": "uVAIWxhXK0bQ"
      },
      "source": [
        "*   Print the two variables below.\n",
        "\n",
        "What happens when you try to convert them to a different variable type? \n",
        "\n",
        "*   Try to convert both to ```int``` and print their new values. Is there any loss of information? Think about what has happened here.\n",
        "\n",
        "**REMINDER:** To convert a data type to ```int```, use the ```int()``` function.\n",
        "\n"
      ]
    },
    {
      "cell_type": "code",
      "metadata": {
        "id": "s9Wrr86YLdkq",
        "outputId": "e3ccf95e-2b39-4370-e761-e415c6ad9220",
        "colab": {
          "base_uri": "https://localhost:8080/",
          "height": 85
        }
      },
      "source": [
        "print(c)\n",
        "print(area)\n",
        "print(int(c))\n",
        "print(int(area))"
      ],
      "execution_count": null,
      "outputs": [
        {
          "output_type": "stream",
          "text": [
            "300000000.0\n",
            "2.5925925925925925e-70\n",
            "300000000\n",
            "0\n"
          ],
          "name": "stdout"
        }
      ]
    },
    {
      "cell_type": "code",
      "metadata": {
        "id": "8b_EuDtnX5s3"
      },
      "source": [
        ""
      ],
      "execution_count": null,
      "outputs": []
    }
  ]
}