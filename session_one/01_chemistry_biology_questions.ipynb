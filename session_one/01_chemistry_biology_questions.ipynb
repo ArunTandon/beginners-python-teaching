{
 "cells": [
  {
   "cell_type": "markdown",
   "metadata": {},
   "source": [
    "# [01] Chemistry/Biology in Python (Beginner's) "
   ]
  },
  {
   "cell_type": "markdown",
   "metadata": {},
   "source": [
    "## **Basic** - DBE calculator"
   ]
  },
  {
   "cell_type": "markdown",
   "metadata": {},
   "source": [
    "A **double bond equivalent (DBE)** is equal to the number of unsaturations present in a organic molecule. In this context it includes the total number of double bonds or ring systems within a molecule. The equation to calculate this value is shown below."
   ]
  },
  {
   "cell_type": "markdown",
   "metadata": {},
   "source": [
    "$$DBE = c + 1 - \\frac{h}{2} - \\frac{x}{2} + \\frac{n}{2}     $$"
   ]
  },
  {
   "cell_type": "markdown",
   "metadata": {},
   "source": [
    "$$ c = no.\\, of \\,carbon \\,atoms\\, in\\, the\\, molecule  \\\\\n",
    "h = no.\\, of \\,hydrogen \\,atoms\\, in\\, the\\, molecule  \\\\\n",
    "x = no.\\, of \\,halogen\\,(Cl,\\, Br,\\,I\\, or\\, F) \\,atoms\\, in\\, the\\, molecule  \\\\\n",
    "n = no.\\, of \\,nitrogen \\,atoms\\, in\\, the\\, molecule$$"
   ]
  },
  {
   "cell_type": "markdown",
   "metadata": {},
   "source": [
    " ### **Task 1**"
   ]
  },
  {
   "cell_type": "markdown",
   "metadata": {},
   "source": [
    "For the molecule below assign and calculate values for the variables `c`, `h`, `x` and `n`. \n",
    "\n"
   ]
  },
  {
   "cell_type": "markdown",
   "metadata": {},
   "source": [
    "<center><img src=\"./STUFF/molecule1.png\" width=\"200\" align=\"center\"/> "
   ]
  },
  {
   "cell_type": "markdown",
   "metadata": {},
   "source": [
    "**NOTE:** Variables are case sensitive, for equations to work **maintain the case.**"
   ]
  },
  {
   "cell_type": "code",
   "execution_count": null,
   "metadata": {},
   "outputs": [],
   "source": [
    "#Your variables (c, h, x and n) and their values go here\n",
    "\n",
    "\n",
    "\n"
   ]
  },
  {
   "cell_type": "markdown",
   "metadata": {},
   "source": [
    "Once you have assigned values to all 4 variables create an equation to calculate `dbe`. Compare this result with one obtained by counting the double bonds and rings within the molecule. "
   ]
  },
  {
   "cell_type": "code",
   "execution_count": null,
   "metadata": {},
   "outputs": [],
   "source": [
    "#Create an equation that calculates DBE and print the result\n"
   ]
  },
  {
   "cell_type": "markdown",
   "metadata": {},
   "source": [
    "## **Intermediate** - Determining protein composition of Enzymes"
   ]
  },
  {
   "cell_type": "markdown",
   "metadata": {},
   "source": [
    "### Background"
   ]
  },
  {
   "cell_type": "markdown",
   "metadata": {},
   "source": [
    "Proteins are the crucial for the existence of life as we know it and the most important of them are **enzymes**. Amino acids bind together side by side forming the basis of all proteins.\n",
    "\n",
    "Below is an example of a simple protein; each <span style=\"color:#FF200F\">**c**</span><span style=\"color:#FF820F\">**o**</span><span style=\"color:#FFC80F\">**l**</span><span style=\"color:#A2F80F\">**o**</span><span style=\"color:#4682E2\">**u**</span><span style=\"color:#3B2FCE\">**r**</span> representing a different amino acid."
   ]
  },
  {
   "cell_type": "markdown",
   "metadata": {},
   "source": [
    "<center><img src=\"./STUFF/aa_chain_edited.png\" width=\"600\" align=\"center\"/> "
   ]
  },
  {
   "cell_type": "markdown",
   "metadata": {},
   "source": [
    "The enzyme **CrmG** is a transaminase with an amino acid length of **523 amino acids.** Its sequence is below."
   ]
  },
  {
   "cell_type": "markdown",
   "metadata": {},
   "source": [
    "*MTHPSGEPVYADAVLNGWLTSMGLGVEYVRAEGNTVYYLDDEGREVPVLDHACGFGSLIFGHNHP\n",
    "EIIAHAKAALDAGTVVHAQLSRQPRANQISRILNDIMRRETGRDDRYNAIFANSGAEANEICMKH\n",
    "AELERQERITALFAEIDAELDTAREALTTGTATLDTASLPLVGGGAGDVDGVIADIHRHNDERRA\n",
    "ERPLFLTLDGSFHGKLVGSIQLTQNEPWRTPFTALSSPARFLPADEPELIGKIVEDERRSVLTLS\n",
    "LDKDTVRVVERDFPVVAAIFVEPVRGGSGMKTVTPELAEELHRLRDTLGCPLVVDEVQTGIGRTG\n",
    "AFFGSALLGIRGDYYTLAKAIGGGIVKNSVALIRQDRFLPAMEVIHSSTFAKDGLSASIALKVLE\n",
    "MVEADGGRVYQRVRERGQRLEAMLESVRADHSDVVSAVWGTGLMLALELRDQSNATSQAIREKAA\n",
    "HGFLGYVLAGFLLREHHIRVLPAGPRSGFLRFSPSLYITDEEIDRTETALRSLFTALRDQDGDRLVLS*"
   ]
  },
  {
   "cell_type": "markdown",
   "metadata": {},
   "source": [
    "*Each amino acid is represented by a unique single letter code (e.g **M** represents the amino acid Methionine).*"
   ]
  },
  {
   "cell_type": "markdown",
   "metadata": {},
   "source": [
    "### Example"
   ]
  },
  {
   "cell_type": "markdown",
   "metadata": {},
   "source": [
    "When assigning a string to a variable the `.count('')` function can be used to numerate the total number of each character in the string."
   ]
  },
  {
   "cell_type": "code",
   "execution_count": 16,
   "metadata": {},
   "outputs": [
    {
     "name": "stdout",
     "output_type": "stream",
     "text": [
      "\n",
      "There are 45 arginines, 3 cysteines and 47 glycines.\n"
     ]
    }
   ],
   "source": [
    "#Run this cell\n",
    "#inputing crmg's amino acid sequence as a string\n",
    "crmg = \"MTHPSGEPVYADAVLNGWLTSMGLGVEYVRAEGNTVYYLDDEGREVPVLDHACGFGSLIFGHNHPEIIAHAKAALDAGTVVHAQLSRQPRANQISRILNDIMRRETGRDDRYNAIFANSGAEANEICMKHAELERQERITALFAEIDAELDTAREALTTGTATLDTASLPLVGGGAGDVDGVIADIHRHNDERRAERPLFLTLDGSFHGKLVGSIQLTQNEPWRTPFTALSSPARFLPADEPELIGKIVEDERRSVLTLSLDKDTVRVVERDFPVVAAIFVEPVRGGSGMKTVTPELAEELHRLRDTLGCPLVVDEVQTGIGRTGAFFGSALLGIRGDYYTLAKAIGGGIVKNSVALIRQDRFLPAMEVIHSSTFAKDGLSASIALKVLEMVEADGGRVYQRVRERGQRLEAMLESVRADHSDVVSAVWGTGLMLALELRDQSNATSQAIREKAAHGFLGYVLAGFLLREHHIRVLPAGPRSGFLRFSPSLYITDEEIDRTETALRSLFTALRDQDGDRLVLS\"\n",
    "\n",
    "#Defining the amino acid count variable and using the .count function to tally the total numbers of each amino acid\n",
    "arginine_count = crmg.count('R')\n",
    "cysteine_count = crmg.count('C')\n",
    "glycine_count = crmg.count('G')\n",
    "\n",
    "#Printing the results (\"\\n\" within a string creates a new line)\n",
    "print(\"\\nThere are\", arginine_count, \"arginines,\", cysteine_count, \"cysteines and\", glycine_count, \"glycines.\" )"
   ]
  },
  {
   "cell_type": "markdown",
   "metadata": {},
   "source": [
    "### **Task 2**"
   ]
  },
  {
   "cell_type": "markdown",
   "metadata": {},
   "source": [
    "Calculate the total number of Lysine's **(K)**, Serine's **(S)** and Alanine's **(A)** in the enzyme CrmG using the `.count` fucntion as shown above. Once the above code cell has been run, it will be possible to use the already defined variable `crmg` in your code without re-entering it.\n",
    "\n",
    "*Amino acid codes are shown in brackets and bold font*"
   ]
  },
  {
   "cell_type": "markdown",
   "metadata": {},
   "source": [
    "**TIP:** Remember! Case matters in python. Does the counter work the same counting `.count('k')` as it does with `.count('K')`? If not, why?"
   ]
  },
  {
   "cell_type": "markdown",
   "metadata": {},
   "source": []
  },
  {
   "cell_type": "markdown",
   "metadata": {},
   "source": [
    "What type of variable is produced when `.count('')` is used? Check using  `type()`"
   ]
  },
  {
   "cell_type": "code",
   "execution_count": null,
   "metadata": {},
   "outputs": [],
   "source": []
  },
  {
   "cell_type": "markdown",
   "metadata": {},
   "source": [
    "### Further calculation"
   ]
  },
  {
   "cell_type": "markdown",
   "metadata": {},
   "source": [
    "Convert the amino acid totals for Lysine **(K)**, Serine **(S)** and Alanine **(A)** into a percentage make-up of the CrmG protein and print the results."
   ]
  },
  {
   "cell_type": "markdown",
   "metadata": {},
   "source": [
    "**NOTE:** There are **523** amino acids in CrmG"
   ]
  },
  {
   "cell_type": "code",
   "execution_count": null,
   "metadata": {},
   "outputs": [],
   "source": []
  },
  {
   "cell_type": "markdown",
   "metadata": {},
   "source": [
    "### What the CrmG enzyme looks like, visualized in PyMOL"
   ]
  },
  {
   "cell_type": "markdown",
   "metadata": {},
   "source": [
    "The amino acid chain is depicted in <span style=\"color:#3B2FCE\">**purple**</span>, and the water molecules that surround it in <span style=\"color:#FFA41B\">**yellow**</span>. The small compund in <span style=\"color:#1FED2C\">**green**</span> (center) is the coezyme PLP."
   ]
  },
  {
   "cell_type": "markdown",
   "metadata": {},
   "source": [
    "<center><img src=\"./STUFF/crmg_qual.png\" width=\"800\" align=\"center\"/> "
   ]
  },
  {
   "cell_type": "markdown",
   "metadata": {},
   "source": [
    "If you have any questions/issues regarding these excercises do not hesitate to get in touch: r.cvek@warwick.ac.uk"
   ]
  }
 ],
 "metadata": {
  "kernelspec": {
   "display_name": "Python 3",
   "language": "python",
   "name": "python3"
  },
  "language_info": {
   "codemirror_mode": {
    "name": "ipython",
    "version": 3
   },
   "file_extension": ".py",
   "mimetype": "text/x-python",
   "name": "python",
   "nbconvert_exporter": "python",
   "pygments_lexer": "ipython3",
   "version": "3.8.2"
  }
 },
 "nbformat": 4,
 "nbformat_minor": 4
}
