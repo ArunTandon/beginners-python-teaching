{
 "cells": [
  {
   "cell_type": "markdown",
   "metadata": {},
   "source": [
    "<a href=\"https://colab.research.google.com/github/THargreaves/beginners-python/blob/master/session_five/session_five_filled_template.ipynb\" target=\"_parent\"><img src=\"https://colab.research.google.com/assets/colab-badge.svg\" alt=\"Open In Colab\"/></a>"
   ]
  },
  {
   "cell_type": "markdown",
   "metadata": {},
   "source": [
    "<center>Spotted a mistake? Report it <a href=\"https://github.com/THargreaves/beginners-python/issues/new\">here</a></center>"
   ]
  },
  {
   "cell_type": "markdown",
   "metadata": {},
   "source": [
    "# Beginner's Python—Session Five Template"
   ]
  },
  {
   "cell_type": "markdown",
   "metadata": {
    "colab_type": "text",
    "id": "-Ceh1HnZIsVO"
   },
   "source": [
    "## Looping Through a Range"
   ]
  },
  {
   "cell_type": "markdown",
   "metadata": {
    "colab_type": "text",
    "id": "6AZ6H-6jKoSt"
   },
   "source": [
    "### Introduction\n"
   ]
  },
  {
   "cell_type": "markdown",
   "metadata": {},
   "source": [
    "Use a for loop to print the numbers zero to four"
   ]
  },
  {
   "cell_type": "code",
   "execution_count": 1,
   "metadata": {
    "colab": {
     "base_uri": "https://localhost:8080/",
     "height": 35
    },
    "colab_type": "code",
    "id": "D4l_2DsZIlgB",
    "outputId": "e63ad5b1-2062-4d8c-9ee7-b03a25d72001"
   },
   "outputs": [
    {
     "name": "stdout",
     "output_type": "stream",
     "text": [
      "0\n",
      "1\n",
      "2\n",
      "3\n",
      "4\n"
     ]
    }
   ],
   "source": [
    "for counter_variable in range(5):\n",
    "    print(counter_variable)"
   ]
  },
  {
   "cell_type": "markdown",
   "metadata": {
    "colab": {
     "base_uri": "https://localhost:8080/",
     "height": 35
    },
    "colab_type": "code",
    "id": "9lLW387eKgNN",
    "outputId": "860dcf3b-f3e5-402d-f58f-4d28fb69a6b1"
   },
   "source": [
    "Use a for loop to print the numbers two to five"
   ]
  },
  {
   "cell_type": "code",
   "execution_count": 9,
   "metadata": {
    "colab": {
     "base_uri": "https://localhost:8080/",
     "height": 35
    },
    "colab_type": "code",
    "id": "bIr0l5kJI_VV",
    "outputId": "c7891804-4acf-4856-e51a-271914a8dc60"
   },
   "outputs": [
    {
     "name": "stdout",
     "output_type": "stream",
     "text": [
      "2\n",
      "3\n",
      "4\n",
      "5\n"
     ]
    }
   ],
   "source": [
    "for i in range(2, 6):\n",
    "    print(i)"
   ]
  },
  {
   "cell_type": "markdown",
   "metadata": {},
   "source": [
    "### Standard Puzzles"
   ]
  },
  {
   "cell_type": "markdown",
   "metadata": {},
   "source": [
    "Use a for loop to print the number -5 to 5, inclusive"
   ]
  },
  {
   "cell_type": "code",
   "execution_count": 14,
   "metadata": {},
   "outputs": [
    {
     "name": "stdout",
     "output_type": "stream",
     "text": [
      "-5\n",
      "-4\n",
      "-3\n",
      "-2\n",
      "-1\n",
      "0\n",
      "1\n",
      "2\n",
      "3\n",
      "4\n",
      "5\n"
     ]
    }
   ],
   "source": [
    "for i in range(-5, 6):\n",
    "    print(i)"
   ]
  },
  {
   "cell_type": "markdown",
   "metadata": {},
   "source": [
    "Print the first ten square numbers"
   ]
  },
  {
   "cell_type": "code",
   "execution_count": 15,
   "metadata": {},
   "outputs": [
    {
     "name": "stdout",
     "output_type": "stream",
     "text": [
      "1 squared is 1\n",
      "2 squared is 4\n",
      "3 squared is 9\n",
      "4 squared is 16\n",
      "5 squared is 25\n",
      "6 squared is 36\n",
      "7 squared is 49\n",
      "8 squared is 64\n",
      "9 squared is 81\n",
      "10 squared is 100\n"
     ]
    }
   ],
   "source": [
    "for x in range(1, 11):\n",
    "    print(x, \"squared is\", x ** 2)"
   ]
  },
  {
   "cell_type": "markdown",
   "metadata": {},
   "source": [
    "### Bonus Puzzles"
   ]
  },
  {
   "cell_type": "markdown",
   "metadata": {},
   "source": [
    "Experiment with passing a third argument into `range(...)`. What does it do?"
   ]
  },
  {
   "cell_type": "code",
   "execution_count": 16,
   "metadata": {},
   "outputs": [
    {
     "name": "stdout",
     "output_type": "stream",
     "text": [
      "1\n",
      "3\n",
      "5\n",
      "7\n",
      "9\n"
     ]
    }
   ],
   "source": [
    "for i in range(1, 11, 2):\n",
    "    print(i)"
   ]
  },
  {
   "cell_type": "markdown",
   "metadata": {},
   "source": [
    "The third argument controls what step size to increase by, defaulting to one. Note, that we still don't include the second argument of `range()` in the output."
   ]
  },
  {
   "cell_type": "markdown",
   "metadata": {},
   "source": [
    "Use this technique to count down from ten to zero"
   ]
  },
  {
   "cell_type": "code",
   "execution_count": 19,
   "metadata": {},
   "outputs": [
    {
     "name": "stdout",
     "output_type": "stream",
     "text": [
      "10\n",
      "9\n",
      "8\n",
      "7\n",
      "6\n",
      "5\n",
      "4\n",
      "3\n",
      "2\n",
      "1\n",
      "0\n"
     ]
    }
   ],
   "source": [
    "# from 10 (inclusive) to -1 (exclusive), increasing by -1 each time\n",
    "for n in range(10, -1, -1):\n",
    "    print(n)"
   ]
  },
  {
   "cell_type": "markdown",
   "metadata": {},
   "source": [
    "## Looping Through a List"
   ]
  },
  {
   "cell_type": "markdown",
   "metadata": {},
   "source": [
    "### Introduction"
   ]
  },
  {
   "cell_type": "markdown",
   "metadata": {},
   "source": [
    "Create a shopping list and print out each item in a sentence"
   ]
  },
  {
   "cell_type": "code",
   "execution_count": 20,
   "metadata": {},
   "outputs": [
    {
     "name": "stdout",
     "output_type": "stream",
     "text": [
      "Don't forget to buy eggs\n",
      "Don't forget to buy bacon\n",
      "Don't forget to buy sausages\n",
      "Don't forget to buy spam\n"
     ]
    }
   ],
   "source": [
    "shopping_list = ['eggs', 'bacon', 'sausages', 'spam']\n",
    "for item in shopping_list:\n",
    "    print(\"Don't forget to buy\", item)"
   ]
  },
  {
   "cell_type": "markdown",
   "metadata": {},
   "source": [
    "### Standard Puzzles"
   ]
  },
  {
   "cell_type": "markdown",
   "metadata": {},
   "source": [
    "Calculate the product of the elements in a list (see the presentation for a similar example)"
   ]
  },
  {
   "cell_type": "code",
   "execution_count": 21,
   "metadata": {},
   "outputs": [
    {
     "name": "stdout",
     "output_type": "stream",
     "text": [
      "Product of items is 80\n"
     ]
    }
   ],
   "source": [
    "numbers = [2, 4, 2, 5]\n",
    "running_total = 1\n",
    "for n in numbers:\n",
    "    running_total *= n\n",
    "print(\"Product of items is\", running_total)"
   ]
  },
  {
   "cell_type": "markdown",
   "metadata": {},
   "source": [
    "Use a for loop to count how many positive elements a numeric list contains"
   ]
  },
  {
   "cell_type": "code",
   "execution_count": 22,
   "metadata": {},
   "outputs": [
    {
     "name": "stdout",
     "output_type": "stream",
     "text": [
      "There are 2 positive elements\n"
     ]
    }
   ],
   "source": [
    "numbers = [3, -1, 3, -4, 0]\n",
    "count = 0\n",
    "for n in numbers:\n",
    "    if n > 0:\n",
    "        count += 1\n",
    "print(\"There are\", count, \"positive elements\")"
   ]
  },
  {
   "cell_type": "markdown",
   "metadata": {},
   "source": [
    "## Early-stopping"
   ]
  },
  {
   "cell_type": "markdown",
   "metadata": {},
   "source": [
    "### Introduction"
   ]
  },
  {
   "cell_type": "markdown",
   "metadata": {},
   "source": [
    "Print the elements of a list until a negative number is encountered, at which point you should stop"
   ]
  },
  {
   "cell_type": "code",
   "execution_count": 25,
   "metadata": {},
   "outputs": [
    {
     "name": "stdout",
     "output_type": "stream",
     "text": [
      "4\n",
      "3\n",
      "Negative number found...stopping\n"
     ]
    }
   ],
   "source": [
    "numbers = [4, 3, -1, 2, 7]\n",
    "for n in numbers:\n",
    "    if n < 0:\n",
    "        print(\"Negative number found...stopping\")\n",
    "        break\n",
    "    print(n)"
   ]
  },
  {
   "cell_type": "markdown",
   "metadata": {},
   "source": [
    "Print the elements of a list, skipping any negative values"
   ]
  },
  {
   "cell_type": "code",
   "execution_count": 26,
   "metadata": {},
   "outputs": [
    {
     "name": "stdout",
     "output_type": "stream",
     "text": [
      "4\n",
      "3\n",
      "Negative number found...skipping\n",
      "2\n",
      "7\n"
     ]
    }
   ],
   "source": [
    "numbers = [4, 3, -1, 2, 7]\n",
    "for n in numbers:\n",
    "    if n < 0:\n",
    "        print(\"Negative number found...skipping\")\n",
    "        continue\n",
    "    print(n)"
   ]
  },
  {
   "cell_type": "markdown",
   "metadata": {},
   "source": [
    "### Standard Puzzles"
   ]
  },
  {
   "cell_type": "markdown",
   "metadata": {},
   "source": [
    "Create a list as specified in the presentation"
   ]
  },
  {
   "cell_type": "code",
   "execution_count": 27,
   "metadata": {},
   "outputs": [],
   "source": [
    "my_list = [4, 3, 0, 2, -1, 4]"
   ]
  },
  {
   "cell_type": "markdown",
   "metadata": {},
   "source": [
    "Loop through the list, printing only positive elements and halting when a negative entry is encountered"
   ]
  },
  {
   "cell_type": "code",
   "execution_count": 28,
   "metadata": {},
   "outputs": [
    {
     "name": "stdout",
     "output_type": "stream",
     "text": [
      "4\n",
      "3\n",
      "2\n"
     ]
    }
   ],
   "source": [
    "for item in my_list:\n",
    "    if item == 0:\n",
    "        continue\n",
    "    if item < 0:\n",
    "        break\n",
    "    print(item)"
   ]
  },
  {
   "cell_type": "markdown",
   "metadata": {},
   "source": [
    "### Bonus Puzzles"
   ]
  },
  {
   "cell_type": "markdown",
   "metadata": {},
   "source": [
    "Setup up a nested for loop and attempt to break when a condition is met in the inner loop"
   ]
  },
  {
   "cell_type": "code",
   "execution_count": 31,
   "metadata": {},
   "outputs": [
    {
     "name": "stdout",
     "output_type": "stream",
     "text": [
      "x = 1 | y = 1 | x + y = 2\n",
      "x = 1 | y = 2 | x + y = 3\n",
      "x = 1 | y = 3 | x + y = 4\n",
      "x = 1 | y = 4 | x + y = 5\n",
      "x = 1 | y = 5 | x + y = 6\n",
      "x = 2 | y = 1 | x + y = 3\n",
      "x = 2 | y = 2 | x + y = 4\n",
      "x = 2 | y = 3 | x + y = 5\n",
      "x = 2 | y = 4 | x + y = 6\n",
      "x = 2 | y = 5 | x + y = 7\n",
      "x = 3 | y = 1 | x + y = 4\n",
      "x = 3 | y = 2 | x + y = 5\n",
      "x = 3 | y = 3 | x + y = 6\n",
      "x = 3 | y = 4 | x + y = 7\n",
      "x = 3 | y = 5 | x + y = 8\n"
     ]
    }
   ],
   "source": [
    "stop = False\n",
    "for x in range(1, 6):\n",
    "    for y in range(1, 6):\n",
    "        print(\"x =\", x, \"| y =\", y,\n",
    "              \"| x + y =\", x + y)\n",
    "        if x + y > 7:\n",
    "            stop = True\n",
    "            break\n",
    "    if stop:\n",
    "        break"
   ]
  },
  {
   "cell_type": "markdown",
   "metadata": {},
   "source": [
    "## Enumeration"
   ]
  },
  {
   "cell_type": "markdown",
   "metadata": {},
   "source": [
    "### Introduction"
   ]
  },
  {
   "cell_type": "markdown",
   "metadata": {},
   "source": [
    "Use enumeration to print out the elements of a list alongside their ordinal indices"
   ]
  },
  {
   "cell_type": "code",
   "execution_count": 32,
   "metadata": {},
   "outputs": [
    {
     "name": "stdout",
     "output_type": "stream",
     "text": [
      "Today's schedule:\n",
      "1) meeting\n",
      "2) one-on-one\n",
      "3) lunch\n",
      "4) research\n"
     ]
    }
   ],
   "source": [
    "agendum = ['meeting', 'one-on-one',\n",
    "           'lunch', 'research']\n",
    "print(\"Today's schedule:\")\n",
    "for index, item in enumerate(agendum):\n",
    "    print(str(index + 1) + ')', item)"
   ]
  },
  {
   "cell_type": "markdown",
   "metadata": {},
   "source": [
    "### Standard Puzzles"
   ]
  },
  {
   "cell_type": "markdown",
   "metadata": {},
   "source": [
    "Define the list shown in the presentation"
   ]
  },
  {
   "cell_type": "code",
   "execution_count": 33,
   "metadata": {},
   "outputs": [],
   "source": [
    "numbers = [1, -2, 2, 5]"
   ]
  },
  {
   "cell_type": "markdown",
   "metadata": {},
   "source": [
    "Print whether each element is greater than, equal to, or less than its index"
   ]
  },
  {
   "cell_type": "code",
   "execution_count": 34,
   "metadata": {},
   "outputs": [
    {
     "name": "stdout",
     "output_type": "stream",
     "text": [
      "Index less than element\n",
      "Index greater than element\n",
      "Index equal to element\n",
      "Index less than element\n"
     ]
    }
   ],
   "source": [
    "for i, n in enumerate(numbers):\n",
    "    if i < n:\n",
    "        print(\"Index less than element\")\n",
    "    elif i == n:\n",
    "        print(\"Index equal to element\")\n",
    "    else:\n",
    "        print(\"Index greater than element\")"
   ]
  },
  {
   "cell_type": "markdown",
   "metadata": {},
   "source": [
    "Use enumeration to print every other element of a list"
   ]
  },
  {
   "cell_type": "code",
   "execution_count": 35,
   "metadata": {},
   "outputs": [
    {
     "name": "stdout",
     "output_type": "stream",
     "text": [
      "5\n",
      "9\n",
      "3\n"
     ]
    }
   ],
   "source": [
    "numbers = [5, 2, 9, 7, 3, 4]\n",
    "for i, n in enumerate(numbers):\n",
    "    if i % 2 == 0:\n",
    "        print(n)"
   ]
  }
 ],
 "metadata": {
  "colab": {
   "name": "Code Club Session 1",
   "provenance": []
  },
  "kernelspec": {
   "display_name": "Python 3",
   "language": "python",
   "name": "python3"
  },
  "language_info": {
   "codemirror_mode": {
    "name": "ipython",
    "version": 3
   },
   "file_extension": ".py",
   "mimetype": "text/x-python",
   "name": "python",
   "nbconvert_exporter": "python",
   "pygments_lexer": "ipython3",
   "version": "3.7.3"
  }
 },
 "nbformat": 4,
 "nbformat_minor": 1
}
