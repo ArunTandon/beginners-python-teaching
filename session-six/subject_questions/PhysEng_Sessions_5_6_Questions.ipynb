{
  "nbformat": 4,
  "nbformat_minor": 0,
  "metadata": {
    "colab": {
      "name": "PhysEng_Sessions_5_6_Questions.ipynb",
      "provenance": [],
      "collapsed_sections": []
    },
    "kernelspec": {
      "name": "python3",
      "display_name": "Python 3"
    }
  },
  "cells": [
    {
      "cell_type": "markdown",
      "metadata": {
        "id": "2jnY7rAn4qYO"
      },
      "source": [
        "# **Physics and Engineering Questions**\n",
        "\n",
        "### **1 - Fluid Dynamics**\n",
        "\n",
        "The flow velocity $u$ of a fluid with viscosity coefficient $\\mu$ travelling through a pipe of circular cross section with radius $a$, under a constant pressure gradient $P$, is given by \n",
        "\n",
        "$$u(r) = \\frac{P}{4\\mu}(a^2 - r^2)$$\n",
        "\n",
        "where $r$ is the distance from the centreline.\n",
        "\n",
        "Define a function which will return the flow rate through a cross section, with inputs $r$, $P$, $\\mu$, and $a$. \n",
        "\n",
        "**HINTS:**\n",
        "\n",
        "1.   The flow rate is given by $$2\\pi\\int_0^a u(r) r \\text{d}r$$.\n",
        "2.   After importing scipy, by running the below cell, you can calculate integrals over one variable using the in-built function ```quad``` as follows. Given a function of four variables (which you will have to define), say $u(r,P,\\mu,a)$, ```integrate.quad(u(r,3,1,4))``` will return the value of the integral of $u$ over $r$ from a to b, with $P=3$, $\\mu=1$, $a=4$.\n",
        "3.   Don't forget the $r$ factor!\n",
        "4.   Define ```flow_rate(P,mu,a)```, which returns the integral of ```u(r)``` over $r$, with the correct other parameters. You may need to define a local function, inside of the first one.\n",
        "5.   ```integrate.quad``` returns a tuple with two elements. The first element is the value of the integral, and the second is an uncertainty estimate. Select only the first entry to print.\n"
      ]
    },
    {
      "cell_type": "code",
      "metadata": {
        "id": "fGeZn0_rUj01"
      },
      "source": [
        "import scipy\n",
        "import scipy.integrate as integrate\n",
        "import numpy as np"
      ],
      "execution_count": null,
      "outputs": []
    },
    {
      "cell_type": "code",
      "metadata": {
        "id": "XAs1YlPWWnej"
      },
      "source": [
        ""
      ],
      "execution_count": 29,
      "outputs": []
    },
    {
      "cell_type": "markdown",
      "metadata": {
        "id": "y4sVfHevUgR1"
      },
      "source": [
        "Use a nested for loop to calculate the flow rate when both $\\mu$ and $a$ take values between 1 and 10 inclusive, with $P=7.5$. Add this value to a list called ```flow rates```.\n",
        "\n",
        "Also, print how many rates out of 100 are less than 1, and the average flow rate.\n",
        "\n"
      ]
    },
    {
      "cell_type": "code",
      "metadata": {
        "id": "gio4dbNNdGDg"
      },
      "source": [
        ""
      ],
      "execution_count": 29,
      "outputs": []
    },
    {
      "cell_type": "markdown",
      "metadata": {
        "id": "UAlyA1pygmWy"
      },
      "source": [
        "### **2 - Hydrogen Emission Lines**\n",
        "\n",
        "For a given $n=1,2,3,...$ and $m>n$, the wavelengths of radiation from Hydrogen atoms due to electron energy level transitions is given by the Rydberg formula\n",
        "\n",
        "$$\\frac{1}{\\lambda} = R\\left( \\frac{1}{n^2} - \\frac{1}{m^2}\\right)$$\n",
        "\n",
        "where $R \\approx 1.097 \\times 10^{-2}$ and $\\lambda$ is in nm.\n",
        "\n",
        "*  Write some code, using for loops, which prints the value of $n$, followed by the corresponding first 5 emission wavelengths, for $n=1,2,3$. Print each on a new line.\n",
        "*  The next cell defines three lists - one for each $n$ value. Incorporate into the code some if statements which append the wavelength to the correct list, depending on the $n$ value."
      ]
    },
    {
      "cell_type": "code",
      "metadata": {
        "id": "lz3bXlI0MEtr"
      },
      "source": [
        "R = 1.097e-2\n",
        "\n",
        "one = []\n",
        "two = []\n",
        "three = []"
      ],
      "execution_count": 14,
      "outputs": []
    },
    {
      "cell_type": "code",
      "metadata": {
        "id": "xpNvh_WfJOWc"
      },
      "source": [
        ""
      ],
      "execution_count": 29,
      "outputs": []
    },
    {
      "cell_type": "markdown",
      "metadata": {
        "id": "sdmdN95aOq2V"
      },
      "source": [
        "Run the final cell to see the data visualised. It should look familiar to you if you have computed the wavelengths correctly!"
      ]
    },
    {
      "cell_type": "code",
      "metadata": {
        "colab": {
          "base_uri": "https://localhost:8080/",
          "height": 279
        },
        "id": "RaIHpLmRJUsM",
        "outputId": "d80696f3-2d3b-48e0-bc97-f03ae7d988fe"
      },
      "source": [
        "import matplotlib.pyplot as plt\n",
        "\n",
        "plt.xlabel(\"n\")\n",
        "plt.ylabel(\"$\\lambda$ / nm\")\n",
        "plt.plot([1,2,3],[one,two,three])\n",
        "plt.xticks((1,2,3))\n",
        "plt.show()"
      ],
      "execution_count": 29,
      "outputs": [
        {
          "output_type": "display_data",
          "data": {
            "image/png": "[encoded data removed]",
            "text/plain": [
              "<Figure size 432x288 with 1 Axes>"
            ]
          },
          "metadata": {
            "tags": [],
            "needs_background": "light"
          }
        }
      ]
    }
  ]
}