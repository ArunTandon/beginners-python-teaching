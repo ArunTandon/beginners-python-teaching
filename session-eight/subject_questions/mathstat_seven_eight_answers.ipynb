{
 "cells": [
  {
   "cell_type": "markdown",
   "metadata": {},
   "source": [
    "# Mathematics and Statistics"
   ]
  },
  {
   "cell_type": "markdown",
   "metadata": {},
   "source": [
    "## Gradient Descent"
   ]
  },
  {
   "cell_type": "markdown",
   "metadata": {},
   "source": [
    "Implement the Gradient Descent algorithm for finding a local minimum of a function $f(x)$, shown below:\n",
    "\n",
    "* Choose an initial point, $x_0$,\n",
    "* Choose a learning rate $\\alpha$ (the meaning of which is shown below),\n",
    "* Calculate the next point $x_n = x_{n-1} - \\alpha * f'(x_{n-1})$, ...\n",
    "* ... until a maximum number of iterations, $N$, is reached, or...\n",
    "* ... a required precision, $|x_n-x_{n-1}| < \\varepsilon$ is reached.\n",
    "\n",
    "Save each iteration of the algorithm in a dictionary with key as the iteration number, e.g. 1, 2, 3, ..."
   ]
  },
  {
   "cell_type": "markdown",
   "metadata": {},
   "source": [
    "Use the function f and its derivative df defined below"
   ]
  },
  {
   "cell_type": "code",
   "execution_count": 1,
   "metadata": {},
   "outputs": [],
   "source": [
    "def f(x):\n",
    "    return x*2 + 3*x - 10"
   ]
  },
  {
   "cell_type": "code",
   "execution_count": 2,
   "metadata": {},
   "outputs": [],
   "source": [
    "def df(x):\n",
    "    return 2*x+3"
   ]
  },
  {
   "cell_type": "markdown",
   "metadata": {},
   "source": [
    "Now create a function implementing this algorithm, which returns the last value in the dictionary. \n",
    "\n",
    "Hint: try and use a while loop with conditions on the precision and maximum number of iterations."
   ]
  },
  {
   "cell_type": "code",
   "execution_count": 3,
   "metadata": {},
   "outputs": [],
   "source": [
    "def grad_descent(f, x, lr, precision, max_iters):\n",
    "\n",
    "    iters = 0 #iteration counter\n",
    "    previous_step_size = 0.1\n",
    "    \n",
    "    itr = {}\n",
    "\n",
    "    while previous_step_size > precision and iters < max_iters:\n",
    "        prev_x = x #Store current x value in prev_x\n",
    "        x = prev_x - lr * df(prev_x) #Grad descent\n",
    "        previous_step_size = abs(x - prev_x) #Change in x\n",
    "        itr[iters] = x\n",
    "        iters+=1 #iteration count\n",
    "\n",
    "    return list(itr.values())[-1]"
   ]
  },
  {
   "cell_type": "markdown",
   "metadata": {},
   "source": [
    "Now use this function to print the output of the Gradient Descent algorithm for the previously defined function f, with and initial point x0 = 0, a learning rate of 0.001, a precision of $\\varepsilon = 1e-08$ and number of iterations N = 10000.\n",
    "\n",
    "Round this output to four decimal places using round(output, 4)"
   ]
  },
  {
   "cell_type": "code",
   "execution_count": 4,
   "metadata": {},
   "outputs": [
    {
     "data": {
      "text/plain": [
       "-1.5"
      ]
     },
     "execution_count": 4,
     "metadata": {},
     "output_type": "execute_result"
    }
   ],
   "source": [
    "round(grad_descent(f,0,0.001,1e-8,10000),4)"
   ]
  },
  {
   "cell_type": "markdown",
   "metadata": {},
   "source": [
    "Note its easy to find the minimum of our function, and therefore easy to check your answer!"
   ]
  },
  {
   "cell_type": "markdown",
   "metadata": {},
   "source": [
    "## Bisection Method"
   ]
  },
  {
   "cell_type": "markdown",
   "metadata": {},
   "source": [
    "Implement the Bisection Method Algorithm for finding a root of a function on $f(x)=x^3-4x+4$ (defined in a function below) :\n",
    "\n",
    "The procedure is:\n",
    "\n",
    "* Choose a starting interval $[a_0,b_0]$ such that $f(a_0)f(b_0)<0$.\n",
    "* Compute $f(m_0)$ for $m_0 = \\frac{a_0+b_0}{2}$\n",
    "* Determine the next subinterval $[a_1,b_1]$:\n",
    "\n",
    "    * If $f(a_0)f(m_0) < 0$ then set $a_1 = a_0$ and $b_1 = m_0$\n",
    "    * Otherwise $a_1 = m_0$ and $b_1 = b_0$\n",
    "* Repeat the last two steps until our interval $[a_n,b_n]$ has length less than a predetermined tolerance\n",
    "* Return $m_n = \\frac{a_n+b_n}{2}$\n"
   ]
  },
  {
   "cell_type": "code",
   "execution_count": 5,
   "metadata": {},
   "outputs": [],
   "source": [
    "def f(x):\n",
    "    return x**3 + x**2 - 120*x"
   ]
  },
  {
   "cell_type": "markdown",
   "metadata": {},
   "source": [
    "Now create a function which implements this algorithm, which raises an error if $f(a_0)f(b_0)>=0$ and if $a_0 \\geq b_0$.\n",
    "Set the default tolerance value to $1e-5$"
   ]
  },
  {
   "cell_type": "code",
   "execution_count": 6,
   "metadata": {},
   "outputs": [],
   "source": [
    "def bisection(f,a,b,tol=1e-5):\n",
    "    # raising errors\n",
    "    if b-a <= 0:\n",
    "        raise ValueError('b-a must be positive')\n",
    "    if f(a)*f(b) > 0:\n",
    "        raise ValueError('f(a)*f(b) must be non-positive')\n",
    "    # checking to see if either of the starting points are solutions\n",
    "    if f(a) == 0: \n",
    "        return a\n",
    "    if f(b) == 0:\n",
    "        return b\n",
    "    # implementing the algorithm\n",
    "    while abs(b-a) > tol:\n",
    "        m = 0.5*(a+b)\n",
    "        if f(a)*f(m) < 0:\n",
    "            b=m\n",
    "        else:\n",
    "            a=m\n",
    "    return 0.5*(a+b)"
   ]
  },
  {
   "cell_type": "markdown",
   "metadata": {},
   "source": [
    "Now implement this function with $a_0$ = 2, $b_0 = 1$, you should get a value error."
   ]
  },
  {
   "cell_type": "code",
   "execution_count": 7,
   "metadata": {},
   "outputs": [
    {
     "ename": "ValueError",
     "evalue": "b-a must be positive",
     "output_type": "error",
     "traceback": [
      "\u001b[0;31m---------------------------------------------------------------------------\u001b[0m",
      "\u001b[0;31mValueError\u001b[0m                                Traceback (most recent call last)",
      "\u001b[0;32m<ipython-input-7-e5bb854b521d>\u001b[0m in \u001b[0;36m<module>\u001b[0;34m\u001b[0m\n\u001b[0;32m----> 1\u001b[0;31m \u001b[0mbisection\u001b[0m\u001b[0;34m(\u001b[0m\u001b[0mf\u001b[0m\u001b[0;34m,\u001b[0m\u001b[0;36m2\u001b[0m\u001b[0;34m,\u001b[0m\u001b[0;36m1\u001b[0m\u001b[0;34m)\u001b[0m\u001b[0;34m\u001b[0m\u001b[0;34m\u001b[0m\u001b[0m\n\u001b[0m",
      "\u001b[0;32m<ipython-input-6-b90ea1f0d8a0>\u001b[0m in \u001b[0;36mbisection\u001b[0;34m(f, a, b, tol)\u001b[0m\n\u001b[1;32m      2\u001b[0m     \u001b[0;31m# raising errors\u001b[0m\u001b[0;34m\u001b[0m\u001b[0;34m\u001b[0m\u001b[0;34m\u001b[0m\u001b[0m\n\u001b[1;32m      3\u001b[0m     \u001b[0;32mif\u001b[0m \u001b[0mb\u001b[0m\u001b[0;34m-\u001b[0m\u001b[0ma\u001b[0m \u001b[0;34m<=\u001b[0m \u001b[0;36m0\u001b[0m\u001b[0;34m:\u001b[0m\u001b[0;34m\u001b[0m\u001b[0;34m\u001b[0m\u001b[0m\n\u001b[0;32m----> 4\u001b[0;31m         \u001b[0;32mraise\u001b[0m \u001b[0mValueError\u001b[0m\u001b[0;34m(\u001b[0m\u001b[0;34m'b-a must be positive'\u001b[0m\u001b[0;34m)\u001b[0m\u001b[0;34m\u001b[0m\u001b[0;34m\u001b[0m\u001b[0m\n\u001b[0m\u001b[1;32m      5\u001b[0m     \u001b[0;32mif\u001b[0m \u001b[0mf\u001b[0m\u001b[0;34m(\u001b[0m\u001b[0ma\u001b[0m\u001b[0;34m)\u001b[0m\u001b[0;34m*\u001b[0m\u001b[0mf\u001b[0m\u001b[0;34m(\u001b[0m\u001b[0mb\u001b[0m\u001b[0;34m)\u001b[0m \u001b[0;34m>\u001b[0m \u001b[0;36m0\u001b[0m\u001b[0;34m:\u001b[0m\u001b[0;34m\u001b[0m\u001b[0;34m\u001b[0m\u001b[0m\n\u001b[1;32m      6\u001b[0m         \u001b[0;32mraise\u001b[0m \u001b[0mValueError\u001b[0m\u001b[0;34m(\u001b[0m\u001b[0;34m'f(a)*f(b) must be non-positive'\u001b[0m\u001b[0;34m)\u001b[0m\u001b[0;34m\u001b[0m\u001b[0;34m\u001b[0m\u001b[0m\n",
      "\u001b[0;31mValueError\u001b[0m: b-a must be positive"
     ]
    }
   ],
   "source": [
    "bisection(f,2,1)"
   ]
  },
  {
   "cell_type": "markdown",
   "metadata": {},
   "source": [
    "Now implement this function with $a_0$ = 3, $b_0 = 7$, you should get a (different) value error."
   ]
  },
  {
   "cell_type": "code",
   "execution_count": 8,
   "metadata": {},
   "outputs": [
    {
     "ename": "ValueError",
     "evalue": "f(a)*f(b) must be non-positive",
     "output_type": "error",
     "traceback": [
      "\u001b[0;31m---------------------------------------------------------------------------\u001b[0m",
      "\u001b[0;31mValueError\u001b[0m                                Traceback (most recent call last)",
      "\u001b[0;32m<ipython-input-8-625184234a66>\u001b[0m in \u001b[0;36m<module>\u001b[0;34m\u001b[0m\n\u001b[0;32m----> 1\u001b[0;31m \u001b[0mbisection\u001b[0m\u001b[0;34m(\u001b[0m\u001b[0mf\u001b[0m\u001b[0;34m,\u001b[0m\u001b[0;36m3\u001b[0m\u001b[0;34m,\u001b[0m\u001b[0;36m7\u001b[0m\u001b[0;34m)\u001b[0m\u001b[0;34m\u001b[0m\u001b[0;34m\u001b[0m\u001b[0m\n\u001b[0m",
      "\u001b[0;32m<ipython-input-6-b90ea1f0d8a0>\u001b[0m in \u001b[0;36mbisection\u001b[0;34m(f, a, b, tol)\u001b[0m\n\u001b[1;32m      4\u001b[0m         \u001b[0;32mraise\u001b[0m \u001b[0mValueError\u001b[0m\u001b[0;34m(\u001b[0m\u001b[0;34m'b-a must be positive'\u001b[0m\u001b[0;34m)\u001b[0m\u001b[0;34m\u001b[0m\u001b[0;34m\u001b[0m\u001b[0m\n\u001b[1;32m      5\u001b[0m     \u001b[0;32mif\u001b[0m \u001b[0mf\u001b[0m\u001b[0;34m(\u001b[0m\u001b[0ma\u001b[0m\u001b[0;34m)\u001b[0m\u001b[0;34m*\u001b[0m\u001b[0mf\u001b[0m\u001b[0;34m(\u001b[0m\u001b[0mb\u001b[0m\u001b[0;34m)\u001b[0m \u001b[0;34m>\u001b[0m \u001b[0;36m0\u001b[0m\u001b[0;34m:\u001b[0m\u001b[0;34m\u001b[0m\u001b[0;34m\u001b[0m\u001b[0m\n\u001b[0;32m----> 6\u001b[0;31m         \u001b[0;32mraise\u001b[0m \u001b[0mValueError\u001b[0m\u001b[0;34m(\u001b[0m\u001b[0;34m'f(a)*f(b) must be non-positive'\u001b[0m\u001b[0;34m)\u001b[0m\u001b[0;34m\u001b[0m\u001b[0;34m\u001b[0m\u001b[0m\n\u001b[0m\u001b[1;32m      7\u001b[0m     \u001b[0;31m# checking to see if either of the starting points are solutions\u001b[0m\u001b[0;34m\u001b[0m\u001b[0;34m\u001b[0m\u001b[0;34m\u001b[0m\u001b[0m\n\u001b[1;32m      8\u001b[0m     \u001b[0;32mif\u001b[0m \u001b[0mf\u001b[0m\u001b[0;34m(\u001b[0m\u001b[0ma\u001b[0m\u001b[0;34m)\u001b[0m \u001b[0;34m==\u001b[0m \u001b[0;36m0\u001b[0m\u001b[0;34m:\u001b[0m\u001b[0;34m\u001b[0m\u001b[0;34m\u001b[0m\u001b[0m\n",
      "\u001b[0;31mValueError\u001b[0m: f(a)*f(b) must be non-positive"
     ]
    }
   ],
   "source": [
    "bisection(f,3,7)"
   ]
  },
  {
   "cell_type": "markdown",
   "metadata": {},
   "source": [
    "Now implement this function with $a_0$ = , $b_0 = $, you should find a (good approximation for a) root!"
   ]
  },
  {
   "cell_type": "code",
   "execution_count": 9,
   "metadata": {},
   "outputs": [
    {
     "data": {
      "text/plain": [
       "0.9999961853027344"
      ]
     },
     "execution_count": 9,
     "metadata": {},
     "output_type": "execute_result"
    }
   ],
   "source": [
    "bisection(f,-1,7)"
   ]
  },
  {
   "cell_type": "markdown",
   "metadata": {},
   "source": [
    "## Coin Flips"
   ]
  },
  {
   "cell_type": "markdown",
   "metadata": {},
   "source": [
    "What are the expected number of unbiased coin flips needed until you get the sequence HT?\n",
    "\n",
    "To generate coin flips we first need to import the following package"
   ]
  },
  {
   "cell_type": "code",
   "execution_count": 10,
   "metadata": {},
   "outputs": [],
   "source": [
    "from random import randint"
   ]
  },
  {
   "cell_type": "markdown",
   "metadata": {},
   "source": [
    "The following function simulates one unbiased coin toss, returning 'H' or 'T' with equal probability."
   ]
  },
  {
   "cell_type": "code",
   "execution_count": 11,
   "metadata": {},
   "outputs": [],
   "source": [
    "def coinToss():\n",
    "    if randint(0,1) == 0:\n",
    "        return 'H'\n",
    "    else: \n",
    "        return 'T'"
   ]
  },
  {
   "cell_type": "markdown",
   "metadata": {},
   "source": [
    "Now see if you can write a function which creates a list of coin tosses until a 'H', 'T' sequence occurs. Then outputs the length of the final list, i.e. the number of tosses until a 'H', 'T' sequence occurs."
   ]
  },
  {
   "cell_type": "code",
   "execution_count": 12,
   "metadata": {},
   "outputs": [],
   "source": [
    "def spotHT():\n",
    "    lst = [coinToss(), coinToss()]\n",
    "    while True:\n",
    "        if lst[-2] == 'H' and lst[-1] == 'T':\n",
    "            return len(lst)\n",
    "        lst.append(coinToss())"
   ]
  },
  {
   "cell_type": "markdown",
   "metadata": {},
   "source": [
    "Now finish the function below, which finds the mean number of coin flips needed over n repeats of the above function."
   ]
  },
  {
   "cell_type": "code",
   "execution_count": 13,
   "metadata": {},
   "outputs": [],
   "source": [
    "def createMeanHT(n):\n",
    "    results = []\n",
    "    for _ in range(n):\n",
    "        results.append(spotHT())\n",
    "    return sum(results)/n"
   ]
  },
  {
   "cell_type": "markdown",
   "metadata": {},
   "source": [
    "The following code shows the average over 100,000 repeats. Note the answer should be ~4, can you prove this?"
   ]
  },
  {
   "cell_type": "code",
   "execution_count": 14,
   "metadata": {},
   "outputs": [
    {
     "data": {
      "text/plain": [
       "4.00912"
      ]
     },
     "execution_count": 14,
     "metadata": {},
     "output_type": "execute_result"
    }
   ],
   "source": [
    "createMeanHT(100000)"
   ]
  }
 ],
 "metadata": {
  "kernelspec": {
   "display_name": "Python 3",
   "language": "python",
   "name": "python3"
  },
  "language_info": {
   "codemirror_mode": {
    "name": "ipython",
    "version": 3
   },
   "file_extension": ".py",
   "mimetype": "text/x-python",
   "name": "python",
   "nbconvert_exporter": "python",
   "pygments_lexer": "ipython3",
   "version": "3.7.4"
  }
 },
 "nbformat": 4,
 "nbformat_minor": 2
}
